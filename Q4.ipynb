{
 "cells": [
  {
   "cell_type": "code",
   "execution_count": 102,
   "metadata": {
    "collapsed": true
   },
   "outputs": [],
   "source": [
    "import numpy as np\n",
    "import pandas as pd\n",
    "import matplotlib.pyplot as plt\n",
    "import random as rnd\n",
    "# Additional tweaking\n",
    "import warnings\n",
    "warnings.filterwarnings('ignore') # Filter out warnings|"
   ]
  },
  {
   "cell_type": "code",
   "execution_count": 103,
   "metadata": {},
   "outputs": [],
   "source": [
    "df=pd.read_csv('NASDAQ_ITCH.csv')"
   ]
  },
  {
   "cell_type": "code",
   "execution_count": 104,
   "metadata": {},
   "outputs": [
    {
     "name": "stdout",
     "output_type": "stream",
     "text": [
      "There are 131182 rows and 14 columns originally, before any cleaning.\n"
     ]
    }
   ],
   "source": [
    "print(\"There are {} rows and {} columns originally, before any cleaning.\".format(df.shape[0],df.shape[1]))"
   ]
  },
  {
   "cell_type": "code",
   "execution_count": 105,
   "metadata": {},
   "outputs": [
    {
     "data": {
      "text/plain": [
       "['Index',\n",
       " 'Time',\n",
       " 'TVITCH_41::SINA.ORDER_ID',\n",
       " 'TVITCH_41::SINA.BUY_SELL_FLAG',\n",
       " 'TVITCH_41::SINA.RECORD_TYPE',\n",
       " 'TVITCH_41::SINA.MESSAGE_TYPE',\n",
       " 'TVITCH_41::SINA.DISPLAY_IND',\n",
       " 'TVITCH_41::SINA.MPID',\n",
       " 'TVITCH_41::SINA.DELETED_TIME',\n",
       " 'TVITCH_41::SINA.TICK_STATUS',\n",
       " 'TVITCH_41::SINA.PRICE',\n",
       " 'TVITCH_41::SINA.SIZE',\n",
       " 'TVITCH_41::SINA.PICOS',\n",
       " 'TVITCH_41::SINA.OMDSEQ']"
      ]
     },
     "execution_count": 105,
     "metadata": {},
     "output_type": "execute_result"
    }
   ],
   "source": [
    "col_list=df.columns.tolist()\n",
    "col_list"
   ]
  },
  {
   "cell_type": "code",
   "execution_count": 106,
   "metadata": {},
   "outputs": [],
   "source": [
    "# remove a redundan string in column namessazazQQQQQQQQQQQQQQQQQQQqqqqqqqqqqqqqqqqqqqqqqqqqqqqqqqqqqqqqqqqqqqqqqqqqqqqqqqqqqqqqqqqqqqqqqq\n",
    "remove_str='TVITCH_41::SINA.'\n",
    "for idx,item in enumerate(col_list):\n",
    "    if remove_str in item:\n",
    "        col_list[idx]=item.strip(remove_str) \n",
    "# insert new column names\n",
    "df.columns=col_list"
   ]
  },
  {
   "cell_type": "code",
   "execution_count": 107,
   "metadata": {},
   "outputs": [],
   "source": [
    "# remove NaN\n",
    "df=df.dropna(how='all')"
   ]
  },
  {
   "cell_type": "code",
   "execution_count": 108,
   "metadata": {},
   "outputs": [],
   "source": [
    "# to look at data whose Message_type == EA (Executed and Accepted Order)\n",
    "df['MESSAGE_TYPE'].unique()\n",
    "df=df.loc[df['MESSAGE_TYPE']=='EA']"
   ]
  },
  {
   "cell_type": "code",
   "execution_count": 114,
   "metadata": {},
   "outputs": [
    {
     "data": {
      "text/plain": [
       "7         30:00.1\n",
       "69        30:00.3\n",
       "73        30:00.3\n",
       "77        30:00.3\n",
       "101       30:01.0\n",
       "103       30:01.0\n",
       "183       30:01.5\n",
       "185       30:01.5\n",
       "201       30:02.8\n",
       "203       30:02.8\n",
       "219       30:02.8\n",
       "309       30:03.8\n",
       "311       30:03.8\n",
       "387       30:04.9\n",
       "389       30:04.9\n",
       "391       30:04.9\n",
       "397       30:05.3\n",
       "419       30:06.2\n",
       "431       30:06.2\n",
       "447       30:06.3\n",
       "449       30:06.3\n",
       "527       30:08.4\n",
       "537       30:08.7\n",
       "539       30:08.7\n",
       "607       30:09.7\n",
       "609       30:09.7\n",
       "619       30:09.7\n",
       "711       30:11.4\n",
       "803       30:12.9\n",
       "807       30:12.9\n",
       "           ...   \n",
       "128965    24:34.9\n",
       "129003    24:35.0\n",
       "129197    25:23.7\n",
       "129205    25:23.7\n",
       "129215    25:23.7\n",
       "129301    25:28.1\n",
       "129417    25:33.5\n",
       "129519    25:43.2\n",
       "129637    26:16.4\n",
       "129663    26:27.5\n",
       "129699    26:28.4\n",
       "129705    26:28.4\n",
       "129749    26:31.5\n",
       "129807    26:47.7\n",
       "129809    26:47.7\n",
       "130499    29:10.6\n",
       "130537    29:11.4\n",
       "130591    29:21.6\n",
       "130595    29:21.6\n",
       "130647    29:21.7\n",
       "130685    29:28.6\n",
       "130773    29:32.6\n",
       "130809    29:33.4\n",
       "130867    29:33.4\n",
       "130883    29:33.4\n",
       "131029    29:45.9\n",
       "131037    29:45.9\n",
       "131047    29:45.9\n",
       "131077    29:49.1\n",
       "131079    29:49.1\n",
       "Name: Time, Length: 2633, dtype: object"
      ]
     },
     "execution_count": 114,
     "metadata": {},
     "output_type": "execute_result"
    }
   ],
   "source": [
    "# tweaking the time\n",
    "# df['Time']=pd.to_datetime(df['Time'])\n",
    "df['Time']"
   ]
  },
  {
   "cell_type": "code",
   "execution_count": 110,
   "metadata": {},
   "outputs": [
    {
     "data": {
      "text/html": [
       "<div>\n",
       "<style scoped>\n",
       "    .dataframe tbody tr th:only-of-type {\n",
       "        vertical-align: middle;\n",
       "    }\n",
       "\n",
       "    .dataframe tbody tr th {\n",
       "        vertical-align: top;\n",
       "    }\n",
       "\n",
       "    .dataframe thead th {\n",
       "        text-align: right;\n",
       "    }\n",
       "</style>\n",
       "<table border=\"1\" class=\"dataframe\">\n",
       "  <thead>\n",
       "    <tr style=\"text-align: right;\">\n",
       "      <th></th>\n",
       "      <th>Index</th>\n",
       "      <th>Time</th>\n",
       "      <th>ORDER_ID</th>\n",
       "      <th>BUY_SELL_FLAG</th>\n",
       "      <th>RECORD_TYPE</th>\n",
       "      <th>MESSAGE_TYPE</th>\n",
       "      <th>DISPLAY_IND</th>\n",
       "      <th>MPID</th>\n",
       "      <th>DELETED_TIME</th>\n",
       "      <th>K_STATU</th>\n",
       "      <th>PRICE</th>\n",
       "      <th>ZE</th>\n",
       "      <th>PICO</th>\n",
       "      <th>OMDSEQ</th>\n",
       "    </tr>\n",
       "  </thead>\n",
       "  <tbody>\n",
       "    <tr>\n",
       "      <th>7</th>\n",
       "      <td>4.0</td>\n",
       "      <td>30:00.1</td>\n",
       "      <td>5333893.0</td>\n",
       "      <td>0.0</td>\n",
       "      <td>R</td>\n",
       "      <td>EA</td>\n",
       "      <td>NaN</td>\n",
       "      <td>NSDQ</td>\n",
       "      <td>NaN</td>\n",
       "      <td>0.0</td>\n",
       "      <td>84.49</td>\n",
       "      <td>38.0</td>\n",
       "      <td>770687000.0</td>\n",
       "      <td>335.0</td>\n",
       "    </tr>\n",
       "    <tr>\n",
       "      <th>69</th>\n",
       "      <td>35.0</td>\n",
       "      <td>30:00.3</td>\n",
       "      <td>2065600.0</td>\n",
       "      <td>0.0</td>\n",
       "      <td>R</td>\n",
       "      <td>EA</td>\n",
       "      <td>NaN</td>\n",
       "      <td>UBSS</td>\n",
       "      <td>NaN</td>\n",
       "      <td>0.0</td>\n",
       "      <td>84.76</td>\n",
       "      <td>1700.0</td>\n",
       "      <td>370159000.0</td>\n",
       "      <td>183.0</td>\n",
       "    </tr>\n",
       "    <tr>\n",
       "      <th>73</th>\n",
       "      <td>37.0</td>\n",
       "      <td>30:00.3</td>\n",
       "      <td>2065600.0</td>\n",
       "      <td>0.0</td>\n",
       "      <td>R</td>\n",
       "      <td>EA</td>\n",
       "      <td>NaN</td>\n",
       "      <td>UBSS</td>\n",
       "      <td>NaN</td>\n",
       "      <td>0.0</td>\n",
       "      <td>84.76</td>\n",
       "      <td>1630.0</td>\n",
       "      <td>563657000.0</td>\n",
       "      <td>323.0</td>\n",
       "    </tr>\n",
       "    <tr>\n",
       "      <th>77</th>\n",
       "      <td>39.0</td>\n",
       "      <td>30:00.3</td>\n",
       "      <td>2065600.0</td>\n",
       "      <td>0.0</td>\n",
       "      <td>R</td>\n",
       "      <td>EA</td>\n",
       "      <td>NaN</td>\n",
       "      <td>UBSS</td>\n",
       "      <td>NaN</td>\n",
       "      <td>0.0</td>\n",
       "      <td>84.76</td>\n",
       "      <td>1545.0</td>\n",
       "      <td>382791000.0</td>\n",
       "      <td>193.0</td>\n",
       "    </tr>\n",
       "  </tbody>\n",
       "</table>\n",
       "</div>"
      ],
      "text/plain": [
       "    Index     Time   ORDER_ID  BUY_SELL_FLAG RECORD_TYPE MESSAGE_TYPE  \\\n",
       "7     4.0  30:00.1  5333893.0            0.0           R           EA   \n",
       "69   35.0  30:00.3  2065600.0            0.0           R           EA   \n",
       "73   37.0  30:00.3  2065600.0            0.0           R           EA   \n",
       "77   39.0  30:00.3  2065600.0            0.0           R           EA   \n",
       "\n",
       "    DISPLAY_IND  MPID  DELETED_TIME  K_STATU  PRICE      ZE         PICO  \\\n",
       "7           NaN  NSDQ           NaN      0.0  84.49    38.0  770687000.0   \n",
       "69          NaN  UBSS           NaN      0.0  84.76  1700.0  370159000.0   \n",
       "73          NaN  UBSS           NaN      0.0  84.76  1630.0  563657000.0   \n",
       "77          NaN  UBSS           NaN      0.0  84.76  1545.0  382791000.0   \n",
       "\n",
       "    OMDSEQ  \n",
       "7    335.0  \n",
       "69   183.0  \n",
       "73   323.0  \n",
       "77   193.0  "
      ]
     },
     "execution_count": 110,
     "metadata": {},
     "output_type": "execute_result"
    }
   ],
   "source": [
    "df.head(4)"
   ]
  },
  {
   "cell_type": "code",
   "execution_count": null,
   "metadata": {},
   "outputs": [],
   "source": []
  },
  {
   "cell_type": "code",
   "execution_count": null,
   "metadata": {
    "collapsed": true
   },
   "outputs": [],
   "source": []
  }
 ],
 "metadata": {
  "kernelspec": {
   "display_name": "Python 3",
   "language": "python",
   "name": "python3"
  },
  "language_info": {
   "codemirror_mode": {
    "name": "ipython",
    "version": 3
   },
   "file_extension": ".py",
   "mimetype": "text/x-python",
   "name": "python",
   "nbconvert_exporter": "python",
   "pygments_lexer": "ipython3",
   "version": "3.6.3"
  }
 },
 "nbformat": 4,
 "nbformat_minor": 2
}

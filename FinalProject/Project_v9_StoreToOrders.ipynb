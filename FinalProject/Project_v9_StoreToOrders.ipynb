{
 "cells": [
  {
   "cell_type": "code",
   "execution_count": 83,
   "metadata": {
    "collapsed": true
   },
   "outputs": [],
   "source": [
    "import warnings\n",
    "warnings.filterwarnings('ignore') # Filter out warnings\n",
    "import numpy as np\n",
    "import pandas as pd\n",
    "import random as rnd\n",
    "import matplotlib.pyplot as plt\n",
    "%matplotlib inline\n",
    "from matplotlib.pylab import rcParams\n",
    "from scipy import stats\n",
    "import math\n",
    "from math import isnan\n",
    "import time\n",
    "from collections import Counter"
   ]
  },
  {
   "cell_type": "markdown",
   "metadata": {},
   "source": [
    "## Helper function"
   ]
  },
  {
   "cell_type": "code",
   "execution_count": 84,
   "metadata": {
    "collapsed": true
   },
   "outputs": [],
   "source": [
    "## SUBJECT TO CHANGE... COLUMNS ARE ADAPTIVE\n",
    "# Function of getting history for all orders\n",
    "def GetOrderHistory(df_original):\n",
    "    df = df_original.copy(deep=False) \n",
    "    t = time.time()\n",
    "    table = {}\n",
    "    for index, row in df.iterrows():\n",
    "        if (row['OrderID']!=0):   # don't need records where orderID==0; remove row['Type'], row['Dir'] is okay?\n",
    "            d = {row['Time_stamp']: [ row['V'],row['P'],row['Label'],row['Level'],\\\n",
    "                                      row['Volts'],row['N_OrderSubmit'],row['bid-ask spread 1'],\\\n",
    "                                      row['Submit_rate'],row['Cancel_rate'],row['Execute_rate'] \n",
    "                                    ]}\n",
    "            if (row['OrderID'] not in table.keys()):\n",
    "                li = []\n",
    "                li.append(d)\n",
    "                table[row['OrderID']] = li\n",
    "            else:\n",
    "                table[row['OrderID']].append(d)\n",
    "    print(\"Completed. It takes about {0:.2f} minutes.\".format((time.time()-t)/60))        \n",
    "    return table"
   ]
  },
  {
   "cell_type": "code",
   "execution_count": 85,
   "metadata": {
    "collapsed": true
   },
   "outputs": [],
   "source": [
    "def ReturnTwoStates_orders(df_original,type_list,orderhistory):\n",
    "    df = df_original.copy(deep=False)\n",
    "    t = time.time()\n",
    "    TwoStates = {}\n",
    "    # only want records that are of those types, and OrderID != 0\n",
    "    df = df.loc[df['Type'].isin(type_list)]\n",
    "    Ids = set(df['OrderID'].tolist())\n",
    "    Ids.discard(0)\n",
    "    # look through all order ids in the dictionary\n",
    "    for k, v in orderhistory.items():\n",
    "        if k in Ids:\n",
    "            temp_v = orderhistory[k]\n",
    "            # avoid cases where there is only one event happened to a single order\n",
    "            if (len(temp_v)>=2):\n",
    "                # get first event and the very last event\n",
    "                st_ed = temp_v[::len(temp_v)-1]\n",
    "                TwoStates[k] = st_ed\n",
    "    print(\"Completed. It takes about {0:.2f} minutes.\".format((time.time()-t)/60))  \n",
    "    return TwoStates"
   ]
  },
  {
   "cell_type": "code",
   "execution_count": 86,
   "metadata": {
    "collapsed": true
   },
   "outputs": [],
   "source": [
    "def HistoryToDF_2(history_dict):\n",
    "    t = time.time()\n",
    "    colnames = ['OrderID','Time','V','P','Label','Level',\\\n",
    "                'Volts','N_OrderSubmit','Spread','Submit_rate','Cancel_rate','Execute_rate']\n",
    "    twoStatesName = ['_st','_ed']\n",
    "    cols = [colnames[0]]\n",
    "    for i in range(len(twoStatesName)):\n",
    "        for j in range(1,len(colnames)):\n",
    "            cols.append(colnames[j]+twoStatesName[i])\n",
    "    df = pd.DataFrame(columns=cols)\n",
    "    # traverse through every single orderID\n",
    "    ct = 0 \n",
    "    totalItems = len(history_dict.keys())\n",
    "    steps = int(totalItems/10)\n",
    "    for k, v in history_dict.items():\n",
    "        new_row = []\n",
    "        new_row.append(k)\n",
    "        new_row.append(list(v[0].keys())[0])\n",
    "        new_row.extend(list(v[0].values())[0])\n",
    "        new_row.append(list(v[-1].keys())[0])\n",
    "        new_row.extend(list(v[-1].values())[0])\n",
    "        # appending to the dataframe\n",
    "        df.loc[ct] = new_row\n",
    "        ct += 1\n",
    "        if (ct%steps==0):\n",
    "            print(\"{0:.2f}%...\".format(ct*100/totalItems))\n",
    "    print(\"Completed. It takes about {0:.2f} minutes.\".format((time.time()-t)/60))\n",
    "    return df"
   ]
  },
  {
   "cell_type": "code",
   "execution_count": 87,
   "metadata": {
    "collapsed": true
   },
   "outputs": [],
   "source": [
    "def HistoryToCSV(history_dict,file_name):\n",
    "    t = time.time()\n",
    "    import csv\n",
    "    colnames = ['OrderID','Time','V','P','Label','Level',\\\n",
    "                'Volts','N_OrderSubmit','Spread','Submit_rate','Cancel_rate','Execute_rate']\n",
    "    twoStatesName = ['_st','_ed']\n",
    "    header = [colnames[0]]\n",
    "    for i in range(len(twoStatesName)):\n",
    "        for j in range(1,len(colnames)):\n",
    "            header.append(colnames[j]+twoStatesName[i])\n",
    "    # initialize a writer\n",
    "    with open(file_name,'w',newline=\"\") as f:\n",
    "        writer = csv.writer(f)\n",
    "        # write heeder row first\n",
    "        #writer.writerows(header)\n",
    "        writer.writerows([header])\n",
    "        # traverse through every single orderID\n",
    "        ct = 0 \n",
    "        totalItems = len(history_dict.keys())\n",
    "        steps = int(totalItems/10)\n",
    "        for k, v in history_dict.items():\n",
    "            new_row =[]\n",
    "            new_row.append(k)\n",
    "            new_row.append(list(v[0].keys())[0])\n",
    "            new_row.extend(list(v[0].values())[0])\n",
    "            new_row.append(list(v[-1].keys())[0])\n",
    "            new_row.extend(list(v[-1].values())[0])\n",
    "            # write the new row to csv\n",
    "            writer.writerows([new_row])\n",
    "            ct += 1\n",
    "            if (ct%steps==0):\n",
    "                print(\"{0:.2f}%\".format(ct*100/totalItems))\n",
    "    print(\"Completed. It takes about {0:.2f} minutes.\".format((time.time()-t)/60))\n",
    "    return "
   ]
  },
  {
   "cell_type": "markdown",
   "metadata": {},
   "source": [
    "### Processing starts from here"
   ]
  },
  {
   "cell_type": "markdown",
   "metadata": {},
   "source": [
    "## READ THE BIG CSV, CONTINUE..."
   ]
  },
  {
   "cell_type": "code",
   "execution_count": 88,
   "metadata": {},
   "outputs": [
    {
     "data": {
      "text/html": [
       "<div>\n",
       "<style scoped>\n",
       "    .dataframe tbody tr th:only-of-type {\n",
       "        vertical-align: middle;\n",
       "    }\n",
       "\n",
       "    .dataframe tbody tr th {\n",
       "        vertical-align: top;\n",
       "    }\n",
       "\n",
       "    .dataframe thead th {\n",
       "        text-align: right;\n",
       "    }\n",
       "</style>\n",
       "<table border=\"1\" class=\"dataframe\">\n",
       "  <thead>\n",
       "    <tr style=\"text-align: right;\">\n",
       "      <th></th>\n",
       "      <th>Unnamed: 0</th>\n",
       "      <th>Time_stamp</th>\n",
       "      <th>Type</th>\n",
       "      <th>OrderID</th>\n",
       "      <th>V</th>\n",
       "      <th>P</th>\n",
       "      <th>Dir</th>\n",
       "      <th>Time</th>\n",
       "      <th>P_ask_1</th>\n",
       "      <th>V_ask_1</th>\n",
       "      <th>...</th>\n",
       "      <th>mid-price 2</th>\n",
       "      <th>bid-ask spread 3</th>\n",
       "      <th>mid-price 3</th>\n",
       "      <th>bid-ask spread 4</th>\n",
       "      <th>mid-price 4</th>\n",
       "      <th>bid-ask spread 5</th>\n",
       "      <th>mid-price 5</th>\n",
       "      <th>Submit_rate</th>\n",
       "      <th>Cancel_rate</th>\n",
       "      <th>Execute_rate</th>\n",
       "    </tr>\n",
       "  </thead>\n",
       "  <tbody>\n",
       "    <tr>\n",
       "      <th>0</th>\n",
       "      <td>2832</td>\n",
       "      <td>34800.286545</td>\n",
       "      <td>3</td>\n",
       "      <td>28801911</td>\n",
       "      <td>100</td>\n",
       "      <td>2241600</td>\n",
       "      <td>-1</td>\n",
       "      <td>2012-06-21 09:40:00.286545000</td>\n",
       "      <td>2241700</td>\n",
       "      <td>100</td>\n",
       "      <td>...</td>\n",
       "      <td>2239750.0</td>\n",
       "      <td>6100</td>\n",
       "      <td>2239750.0</td>\n",
       "      <td>6300</td>\n",
       "      <td>2239750.0</td>\n",
       "      <td>6600</td>\n",
       "      <td>2239700.0</td>\n",
       "      <td>45.42</td>\n",
       "      <td>38.89</td>\n",
       "      <td>15.70</td>\n",
       "    </tr>\n",
       "    <tr>\n",
       "      <th>1</th>\n",
       "      <td>2833</td>\n",
       "      <td>34800.502893</td>\n",
       "      <td>1</td>\n",
       "      <td>28876384</td>\n",
       "      <td>114</td>\n",
       "      <td>2237000</td>\n",
       "      <td>1</td>\n",
       "      <td>2012-06-21 09:40:00.502893000</td>\n",
       "      <td>2241700</td>\n",
       "      <td>100</td>\n",
       "      <td>...</td>\n",
       "      <td>2239850.0</td>\n",
       "      <td>6000</td>\n",
       "      <td>2239800.0</td>\n",
       "      <td>6200</td>\n",
       "      <td>2239800.0</td>\n",
       "      <td>6400</td>\n",
       "      <td>2239800.0</td>\n",
       "      <td>46.03</td>\n",
       "      <td>39.54</td>\n",
       "      <td>14.44</td>\n",
       "    </tr>\n",
       "    <tr>\n",
       "      <th>2</th>\n",
       "      <td>2834</td>\n",
       "      <td>34800.602869</td>\n",
       "      <td>3</td>\n",
       "      <td>28850629</td>\n",
       "      <td>100</td>\n",
       "      <td>2242700</td>\n",
       "      <td>-1</td>\n",
       "      <td>2012-06-21 09:40:00.602869000</td>\n",
       "      <td>2241700</td>\n",
       "      <td>100</td>\n",
       "      <td>...</td>\n",
       "      <td>2239900.0</td>\n",
       "      <td>6100</td>\n",
       "      <td>2239850.0</td>\n",
       "      <td>6300</td>\n",
       "      <td>2239850.0</td>\n",
       "      <td>6700</td>\n",
       "      <td>2239950.0</td>\n",
       "      <td>46.12</td>\n",
       "      <td>39.68</td>\n",
       "      <td>14.20</td>\n",
       "    </tr>\n",
       "    <tr>\n",
       "      <th>3</th>\n",
       "      <td>2835</td>\n",
       "      <td>34801.121654</td>\n",
       "      <td>3</td>\n",
       "      <td>28578184</td>\n",
       "      <td>100</td>\n",
       "      <td>2241700</td>\n",
       "      <td>-1</td>\n",
       "      <td>2012-06-21 09:40:01.121654000</td>\n",
       "      <td>2242800</td>\n",
       "      <td>100</td>\n",
       "      <td>...</td>\n",
       "      <td>2239950.0</td>\n",
       "      <td>6200</td>\n",
       "      <td>2239900.0</td>\n",
       "      <td>6600</td>\n",
       "      <td>2240000.0</td>\n",
       "      <td>6900</td>\n",
       "      <td>2240050.0</td>\n",
       "      <td>46.07</td>\n",
       "      <td>39.79</td>\n",
       "      <td>14.13</td>\n",
       "    </tr>\n",
       "    <tr>\n",
       "      <th>4</th>\n",
       "      <td>2836</td>\n",
       "      <td>34801.121793</td>\n",
       "      <td>1</td>\n",
       "      <td>28889055</td>\n",
       "      <td>114</td>\n",
       "      <td>2237300</td>\n",
       "      <td>1</td>\n",
       "      <td>2012-06-21 09:40:01.121793000</td>\n",
       "      <td>2242800</td>\n",
       "      <td>100</td>\n",
       "      <td>...</td>\n",
       "      <td>2240100.0</td>\n",
       "      <td>6000</td>\n",
       "      <td>2240000.0</td>\n",
       "      <td>6500</td>\n",
       "      <td>2240050.0</td>\n",
       "      <td>6800</td>\n",
       "      <td>2240100.0</td>\n",
       "      <td>46.09</td>\n",
       "      <td>39.78</td>\n",
       "      <td>14.13</td>\n",
       "    </tr>\n",
       "  </tbody>\n",
       "</table>\n",
       "<p>5 rows × 61 columns</p>\n",
       "</div>"
      ],
      "text/plain": [
       "   Unnamed: 0    Time_stamp  Type   OrderID    V        P  Dir  \\\n",
       "0        2832  34800.286545     3  28801911  100  2241600   -1   \n",
       "1        2833  34800.502893     1  28876384  114  2237000    1   \n",
       "2        2834  34800.602869     3  28850629  100  2242700   -1   \n",
       "3        2835  34801.121654     3  28578184  100  2241700   -1   \n",
       "4        2836  34801.121793     1  28889055  114  2237300    1   \n",
       "\n",
       "                            Time  P_ask_1  V_ask_1      ...       mid-price 2  \\\n",
       "0  2012-06-21 09:40:00.286545000  2241700      100      ...         2239750.0   \n",
       "1  2012-06-21 09:40:00.502893000  2241700      100      ...         2239850.0   \n",
       "2  2012-06-21 09:40:00.602869000  2241700      100      ...         2239900.0   \n",
       "3  2012-06-21 09:40:01.121654000  2242800      100      ...         2239950.0   \n",
       "4  2012-06-21 09:40:01.121793000  2242800      100      ...         2240100.0   \n",
       "\n",
       "   bid-ask spread 3  mid-price 3  bid-ask spread 4  mid-price 4  \\\n",
       "0              6100    2239750.0              6300    2239750.0   \n",
       "1              6000    2239800.0              6200    2239800.0   \n",
       "2              6100    2239850.0              6300    2239850.0   \n",
       "3              6200    2239900.0              6600    2240000.0   \n",
       "4              6000    2240000.0              6500    2240050.0   \n",
       "\n",
       "   bid-ask spread 5  mid-price 5  Submit_rate  Cancel_rate  Execute_rate  \n",
       "0              6600    2239700.0        45.42        38.89         15.70  \n",
       "1              6400    2239800.0        46.03        39.54         14.44  \n",
       "2              6700    2239950.0        46.12        39.68         14.20  \n",
       "3              6900    2240050.0        46.07        39.79         14.13  \n",
       "4              6800    2240100.0        46.09        39.78         14.13  \n",
       "\n",
       "[5 rows x 61 columns]"
      ]
     },
     "execution_count": 88,
     "metadata": {},
     "output_type": "execute_result"
    }
   ],
   "source": [
    "df = pd.read_csv(\"MsgAndOrders_withNewColumns_noFirst10Mins.csv\")\n",
    "df.head(5)"
   ]
  },
  {
   "cell_type": "code",
   "execution_count": 89,
   "metadata": {},
   "outputs": [
    {
     "name": "stdout",
     "output_type": "stream",
     "text": [
      "total column number:  61\n"
     ]
    },
    {
     "data": {
      "text/plain": [
       "Index(['Unnamed: 0', 'Time_stamp', 'Type', 'OrderID', 'V', 'P', 'Dir', 'Time',\n",
       "       'P_ask_1', 'V_ask_1', 'P_bid_1', 'V_bid_1', 'P_ask_2', 'V_ask_2',\n",
       "       'P_bid_2', 'V_bid_2', 'P_ask_3', 'V_ask_3', 'P_bid_3', 'V_bid_3',\n",
       "       'P_ask_4', 'V_ask_4', 'P_bid_4', 'V_bid_4', 'P_ask_5', 'V_ask_5',\n",
       "       'P_bid_5', 'V_bid_5', 'Label', 'Level', 'Volts', 'N_OrderSubmit',\n",
       "       'bid-ask spread 1', 'mid-price 1', 'd_P_ask_51', 'd_P_bid_51',\n",
       "       'd_P_ask_21', 'd_P_bid_21', 'd_P_ask_32', 'd_P_bid_32', 'd_P_ask_43',\n",
       "       'd_P_bid_43', 'd_P_ask_54', 'd_P_bid_54', 'Mean_P_ask', 'Mean_P_bid',\n",
       "       'Mean_V_ask', 'Mean_V_bid', 'P_accu', 'V_accu', 'bid-ask spread 2',\n",
       "       'mid-price 2', 'bid-ask spread 3', 'mid-price 3', 'bid-ask spread 4',\n",
       "       'mid-price 4', 'bid-ask spread 5', 'mid-price 5', 'Submit_rate',\n",
       "       'Cancel_rate', 'Execute_rate'],\n",
       "      dtype='object')"
      ]
     },
     "execution_count": 89,
     "metadata": {},
     "output_type": "execute_result"
    }
   ],
   "source": [
    "print('total column number: ',len(df.columns))\n",
    "df.columns"
   ]
  },
  {
   "cell_type": "markdown",
   "metadata": {},
   "source": [
    "#### 1) GROUPING ALL MESSAGES BY ORDER IDS"
   ]
  },
  {
   "cell_type": "code",
   "execution_count": 90,
   "metadata": {},
   "outputs": [
    {
     "name": "stdout",
     "output_type": "stream",
     "text": [
      "Completed. It takes about 0.55 minutes.\n"
     ]
    }
   ],
   "source": [
    "OrderHistory = GetOrderHistory(df)"
   ]
  },
  {
   "cell_type": "code",
   "execution_count": 91,
   "metadata": {},
   "outputs": [
    {
     "data": {
      "text/plain": [
       "{28801911: [{34800.286544761: [100,\n",
       "    2241600,\n",
       "    'c',\n",
       "    1.0,\n",
       "    2550.5179322294466,\n",
       "    1273,\n",
       "    4000,\n",
       "    45.42,\n",
       "    38.89,\n",
       "    15.7]}]}"
      ]
     },
     "execution_count": 91,
     "metadata": {},
     "output_type": "execute_result"
    }
   ],
   "source": [
    "# take a look at first 1 item of OrderHistory\n",
    "from itertools import islice\n",
    "def take(n, iterable):\n",
    "    \"Return first n items of the iterable as a dictionary\"\n",
    "    return dict(islice(iterable, n))\n",
    "n_items = take(1, OrderHistory.items())\n",
    "n_items   \n",
    "# OrderID: [{Time_stamp:[V,P,Label,level,Volts,N_OrderSubmit,bid-ask spread 1,Submit_rate,Cancel_rate,Execute_rate]}]"
   ]
  },
  {
   "cell_type": "code",
   "execution_count": 92,
   "metadata": {},
   "outputs": [
    {
     "name": "stdout",
     "output_type": "stream",
     "text": [
      "total number of orders is 84070\n",
      "orders with 2 events is about 74.36%.\n"
     ]
    }
   ],
   "source": [
    "his_list = []\n",
    "ct_items = 0\n",
    "for k,v in OrderHistory.items():\n",
    "    ct_items += 1\n",
    "    his_list.append(len(v))\n",
    "\n",
    "print(\"total number of orders is\",int(ct_items))    \n",
    "print(\"orders with 2 events is about {0:.2f}%.\".format(62518*100/84070))"
   ]
  },
  {
   "cell_type": "code",
   "execution_count": 93,
   "metadata": {},
   "outputs": [
    {
     "data": {
      "text/plain": [
       "Counter({1: 19770,\n",
       "         2: 62518,\n",
       "         3: 1436,\n",
       "         4: 205,\n",
       "         5: 81,\n",
       "         6: 24,\n",
       "         7: 12,\n",
       "         8: 6,\n",
       "         9: 4,\n",
       "         10: 3,\n",
       "         11: 4,\n",
       "         13: 1,\n",
       "         14: 1,\n",
       "         15: 3,\n",
       "         16: 1,\n",
       "         18: 1})"
      ]
     },
     "execution_count": 93,
     "metadata": {},
     "output_type": "execute_result"
    }
   ],
   "source": [
    "counts_allHistories = Counter(his_list)\n",
    "counts_allHistories"
   ]
  },
  {
   "cell_type": "code",
   "execution_count": 94,
   "metadata": {},
   "outputs": [
    {
     "name": "stdout",
     "output_type": "stream",
     "text": [
      "average number of event for an order is 1.794\n"
     ]
    }
   ],
   "source": [
    "ct = 0\n",
    "for k, v in OrderHistory.items():\n",
    "    ct += len(v)\n",
    "print('average number of event for an order is {0:.3f}'.format(ct/len(OrderHistory.keys())))"
   ]
  },
  {
   "cell_type": "markdown",
   "metadata": {
    "collapsed": true
   },
   "source": [
    "#### 2) GETTING START AND END STATES FOR SELECTED ORDER TYPES, STORE IN DICTIONARIES"
   ]
  },
  {
   "cell_type": "code",
   "execution_count": 95,
   "metadata": {},
   "outputs": [
    {
     "name": "stdout",
     "output_type": "stream",
     "text": [
      "Completed. It takes about 0.00 minutes.\n"
     ]
    }
   ],
   "source": [
    "OE_history = ReturnTwoStates_orders(df_original=df,type_list=[4,5],orderhistory=OrderHistory)"
   ]
  },
  {
   "cell_type": "code",
   "execution_count": 96,
   "metadata": {},
   "outputs": [
    {
     "name": "stdout",
     "output_type": "stream",
     "text": [
      "Completed. It takes about 0.00 minutes.\n"
     ]
    }
   ],
   "source": [
    "OC_history = ReturnTwoStates_orders(df_original=df,type_list=[2,3],orderhistory=OrderHistory)"
   ]
  },
  {
   "cell_type": "code",
   "execution_count": 97,
   "metadata": {},
   "outputs": [
    {
     "name": "stdout",
     "output_type": "stream",
     "text": [
      "total number of execution orders and cancellation orders are 6293, 58459 respectively.\n"
     ]
    }
   ],
   "source": [
    "print(\"total number of execution orders and cancellation orders are {}, {} respectively.\"\n",
    "      .format(len(OE_history.keys()),len(OC_history.keys())))"
   ]
  },
  {
   "cell_type": "markdown",
   "metadata": {
    "collapsed": true
   },
   "source": [
    "#### deprecated: too slow ) FORMAT ORDER HISTORIES INTO DATAFRAMES"
   ]
  },
  {
   "cell_type": "code",
   "execution_count": 98,
   "metadata": {},
   "outputs": [],
   "source": [
    "# OE_df = HistoryToDF_2(OE_history)\n",
    "# OC_df = HistoryToDF_2(OC_history)\n",
    "# 4) TO CSV\n",
    "# OC_df.to_csv(\"OC_twoStates.csv\")\n",
    "# OE_df.to_csv(\"OE_twoStates.csv\")"
   ]
  },
  {
   "cell_type": "markdown",
   "metadata": {},
   "source": [
    "#### 3) DIRECTLY WRITE OC AND OE HISTORY INTO CSV"
   ]
  },
  {
   "cell_type": "code",
   "execution_count": 99,
   "metadata": {},
   "outputs": [
    {
     "name": "stdout",
     "output_type": "stream",
     "text": [
      "10.00%\n",
      "19.99%\n",
      "29.99%\n",
      "39.98%\n",
      "49.98%\n",
      "59.97%\n",
      "69.97%\n",
      "79.96%\n",
      "89.96%\n",
      "99.95%\n",
      "Completed. It takes about 0.00 minutes.\n"
     ]
    }
   ],
   "source": [
    "HistoryToCSV(OE_history,file_name=\"OE_twoStates.csv\")"
   ]
  },
  {
   "cell_type": "code",
   "execution_count": 100,
   "metadata": {},
   "outputs": [
    {
     "name": "stdout",
     "output_type": "stream",
     "text": [
      "10.00%\n",
      "20.00%\n",
      "30.00%\n",
      "39.99%\n",
      "49.99%\n",
      "59.99%\n",
      "69.99%\n",
      "79.99%\n",
      "89.99%\n",
      "99.98%\n",
      "Completed. It takes about 0.03 minutes.\n"
     ]
    }
   ],
   "source": [
    "HistoryToCSV(OC_history,file_name=\"OC_twoStates.csv\")"
   ]
  },
  {
   "cell_type": "code",
   "execution_count": null,
   "metadata": {
    "collapsed": true
   },
   "outputs": [],
   "source": []
  },
  {
   "cell_type": "markdown",
   "metadata": {},
   "source": [
    "## TESTING.... "
   ]
  },
  {
   "cell_type": "code",
   "execution_count": null,
   "metadata": {
    "collapsed": true
   },
   "outputs": [],
   "source": []
  }
 ],
 "metadata": {
  "kernelspec": {
   "display_name": "Python 3",
   "language": "python",
   "name": "python3"
  },
  "language_info": {
   "codemirror_mode": {
    "name": "ipython",
    "version": 3
   },
   "file_extension": ".py",
   "mimetype": "text/x-python",
   "name": "python",
   "nbconvert_exporter": "python",
   "pygments_lexer": "ipython3",
   "version": "3.6.3"
  }
 },
 "nbformat": 4,
 "nbformat_minor": 2
}

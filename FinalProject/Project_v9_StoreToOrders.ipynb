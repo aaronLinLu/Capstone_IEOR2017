{
 "cells": [
  {
   "cell_type": "code",
   "execution_count": 41,
   "metadata": {
    "collapsed": true
   },
   "outputs": [],
   "source": [
    "import warnings\n",
    "warnings.filterwarnings('ignore') # Filter out warnings\n",
    "import numpy as np\n",
    "import pandas as pd\n",
    "import random as rnd\n",
    "import matplotlib.pyplot as plt\n",
    "%matplotlib inline\n",
    "from matplotlib.pylab import rcParams\n",
    "from scipy import stats\n",
    "import math\n",
    "from math import isnan\n",
    "import time\n",
    "from collections import Counter"
   ]
  },
  {
   "cell_type": "markdown",
   "metadata": {},
   "source": [
    "## Helper function"
   ]
  },
  {
   "cell_type": "code",
   "execution_count": 42,
   "metadata": {
    "collapsed": true
   },
   "outputs": [],
   "source": [
    "## SUBJECT TO CHANGE... COLUMNS ARE ADAPTIVE\n",
    "# Function of getting history for all orders\n",
    "def GetOrderHistory(df_original):\n",
    "    df = df_original.copy(deep=False) \n",
    "    t = time.time()\n",
    "    table = {}\n",
    "    for index, row in df.iterrows():\n",
    "        if (row['OrderID']!=0):   # don't need records where orderID==0; remove row['Type'], row['Dir'] is okay?\n",
    "            d = {row['Time_stamp']: [ row['V'],row['P'],row['Label'],row['Level'],\\\n",
    "                                      row['Volts'],row['mid-price 1'],row['N_OrderSubmit'],row['bid-ask spread 1'],\\\n",
    "                                      row['Submit_rate'],row['Cancel_rate'],row['Execute_rate'] \n",
    "                                    ]}\n",
    "            if (row['OrderID'] not in table.keys()):\n",
    "                li = []\n",
    "                li.append(d)\n",
    "                table[row['OrderID']] = li\n",
    "            else:\n",
    "                table[row['OrderID']].append(d)\n",
    "    print(\"Completed. It takes about {0:.2f} minutes.\".format((time.time()-t)/60))        \n",
    "    return table"
   ]
  },
  {
   "cell_type": "code",
   "execution_count": 43,
   "metadata": {
    "collapsed": true
   },
   "outputs": [],
   "source": [
    "def ReturnTwoStates_orders(df_original,type_list,orderhistory):\n",
    "    df = df_original.copy(deep=False)\n",
    "    t = time.time()\n",
    "    TwoStates = {}\n",
    "    # only want records that are of those types, and OrderID != 0\n",
    "    df = df.loc[df['Type'].isin(type_list)]\n",
    "    Ids = set(df['OrderID'].tolist())\n",
    "    Ids.discard(0)\n",
    "    # look through all order ids in the dictionary\n",
    "    for k, v in orderhistory.items():\n",
    "        if k in Ids:\n",
    "            temp_v = orderhistory[k]\n",
    "            # avoid cases where there is only one event happened to a single order\n",
    "            if (len(temp_v)>=2):\n",
    "                # get first event and the very last event\n",
    "                st_ed = temp_v[::len(temp_v)-1]\n",
    "                TwoStates[k] = st_ed\n",
    "    print(\"Completed. It takes about {0:.2f} minutes.\".format((time.time()-t)/60))  \n",
    "    return TwoStates"
   ]
  },
  {
   "cell_type": "code",
   "execution_count": 44,
   "metadata": {
    "collapsed": true
   },
   "outputs": [],
   "source": [
    "def HistoryToDF_2(history_dict):\n",
    "    t = time.time()\n",
    "    colnames = ['OrderID','Time','V','P','Label','Level',\\\n",
    "                'Volts','mid-price 1','N_OrderSubmit','Spread','Submit_rate','Cancel_rate','Execute_rate']\n",
    "    twoStatesName = ['_st','_ed']\n",
    "    cols = [colnames[0]]\n",
    "    for i in range(len(twoStatesName)):\n",
    "        for j in range(1,len(colnames)):\n",
    "            cols.append(colnames[j]+twoStatesName[i])\n",
    "    df = pd.DataFrame(columns=cols)\n",
    "    # traverse through every single orderID\n",
    "    ct = 0 \n",
    "    totalItems = len(history_dict.keys())\n",
    "    steps = int(totalItems/10)\n",
    "    for k, v in history_dict.items():\n",
    "        new_row = []\n",
    "        new_row.append(k)\n",
    "        new_row.append(list(v[0].keys())[0])\n",
    "        new_row.extend(list(v[0].values())[0])\n",
    "        new_row.append(list(v[-1].keys())[0])\n",
    "        new_row.extend(list(v[-1].values())[0])\n",
    "        # appending to the dataframe\n",
    "        df.loc[ct] = new_row\n",
    "        ct += 1\n",
    "        if (ct%steps==0):\n",
    "            print(\"{0:.2f}%...\".format(ct*100/totalItems))\n",
    "    print(\"Completed. It takes about {0:.2f} minutes.\".format((time.time()-t)/60))\n",
    "    return df"
   ]
  },
  {
   "cell_type": "code",
   "execution_count": 45,
   "metadata": {
    "collapsed": true
   },
   "outputs": [],
   "source": [
    "def HistoryToCSV(history_dict,file_name):\n",
    "    t = time.time()\n",
    "    import csv\n",
    "    colnames = ['OrderID','Time','V','P','Label','Level',\\\n",
    "                'Volts','mid-price 1','N_OrderSubmit','Spread','Submit_rate','Cancel_rate','Execute_rate']\n",
    "    twoStatesName = ['_st','_ed']\n",
    "    header = [colnames[0]]\n",
    "    for i in range(len(twoStatesName)):\n",
    "        for j in range(1,len(colnames)):\n",
    "            header.append(colnames[j]+twoStatesName[i])\n",
    "    # initialize a writer\n",
    "    with open(file_name,'w',newline=\"\") as f:\n",
    "        writer = csv.writer(f)\n",
    "        # write heeder row first\n",
    "        #writer.writerows(header)\n",
    "        writer.writerows([header])\n",
    "        # traverse through every single orderID\n",
    "        ct = 0 \n",
    "        totalItems = len(history_dict.keys())\n",
    "        steps = int(totalItems/10)\n",
    "        for k, v in history_dict.items():\n",
    "            new_row =[]\n",
    "            new_row.append(k)\n",
    "            new_row.append(list(v[0].keys())[0])\n",
    "            new_row.extend(list(v[0].values())[0])\n",
    "            new_row.append(list(v[-1].keys())[0])\n",
    "            new_row.extend(list(v[-1].values())[0])\n",
    "            # write the new row to csv\n",
    "            writer.writerows([new_row])\n",
    "            ct += 1\n",
    "            if (ct%steps==0):\n",
    "                print(\"{0:.2f}%\".format(ct*100/totalItems))\n",
    "    print(\"Completed. It takes about {0:.2f} minutes.\".format((time.time()-t)/60))\n",
    "    return "
   ]
  },
  {
   "cell_type": "markdown",
   "metadata": {},
   "source": [
    "### Processing starts from here"
   ]
  },
  {
   "cell_type": "markdown",
   "metadata": {},
   "source": [
    "## READ THE BIG CSV, CONTINUE..."
   ]
  },
  {
   "cell_type": "code",
   "execution_count": 46,
   "metadata": {},
   "outputs": [
    {
     "data": {
      "text/html": [
       "<div>\n",
       "<style scoped>\n",
       "    .dataframe tbody tr th:only-of-type {\n",
       "        vertical-align: middle;\n",
       "    }\n",
       "\n",
       "    .dataframe tbody tr th {\n",
       "        vertical-align: top;\n",
       "    }\n",
       "\n",
       "    .dataframe thead th {\n",
       "        text-align: right;\n",
       "    }\n",
       "</style>\n",
       "<table border=\"1\" class=\"dataframe\">\n",
       "  <thead>\n",
       "    <tr style=\"text-align: right;\">\n",
       "      <th></th>\n",
       "      <th>Unnamed: 0</th>\n",
       "      <th>Time_stamp</th>\n",
       "      <th>Type</th>\n",
       "      <th>OrderID</th>\n",
       "      <th>V</th>\n",
       "      <th>P</th>\n",
       "      <th>Dir</th>\n",
       "      <th>Time</th>\n",
       "      <th>P_ask_1</th>\n",
       "      <th>V_ask_1</th>\n",
       "      <th>...</th>\n",
       "      <th>mid-price 3</th>\n",
       "      <th>bid-ask spread 4</th>\n",
       "      <th>mid-price 4</th>\n",
       "      <th>bid-ask spread 5</th>\n",
       "      <th>mid-price 5</th>\n",
       "      <th>Volts</th>\n",
       "      <th>N_OrderSubmit</th>\n",
       "      <th>Submit_rate</th>\n",
       "      <th>Cancel_rate</th>\n",
       "      <th>Execute_rate</th>\n",
       "    </tr>\n",
       "  </thead>\n",
       "  <tbody>\n",
       "    <tr>\n",
       "      <th>0</th>\n",
       "      <td>30619</td>\n",
       "      <td>36000.037423</td>\n",
       "      <td>3</td>\n",
       "      <td>46527525</td>\n",
       "      <td>17</td>\n",
       "      <td>5861500</td>\n",
       "      <td>-1</td>\n",
       "      <td>2012-06-21 10:00:00.037423000</td>\n",
       "      <td>5861300</td>\n",
       "      <td>18</td>\n",
       "      <td>...</td>\n",
       "      <td>5860150.0</td>\n",
       "      <td>4000</td>\n",
       "      <td>5860200.0</td>\n",
       "      <td>4900</td>\n",
       "      <td>5860150.0</td>\n",
       "      <td>4204.432889</td>\n",
       "      <td>4517</td>\n",
       "      <td>48.49</td>\n",
       "      <td>42.80</td>\n",
       "      <td>8.72</td>\n",
       "    </tr>\n",
       "    <tr>\n",
       "      <th>1</th>\n",
       "      <td>30620</td>\n",
       "      <td>36000.039994</td>\n",
       "      <td>3</td>\n",
       "      <td>46494513</td>\n",
       "      <td>20</td>\n",
       "      <td>5861400</td>\n",
       "      <td>-1</td>\n",
       "      <td>2012-06-21 10:00:00.039994000</td>\n",
       "      <td>5861300</td>\n",
       "      <td>18</td>\n",
       "      <td>...</td>\n",
       "      <td>5860150.0</td>\n",
       "      <td>4000</td>\n",
       "      <td>5860200.0</td>\n",
       "      <td>4900</td>\n",
       "      <td>5860150.0</td>\n",
       "      <td>4204.432889</td>\n",
       "      <td>4517</td>\n",
       "      <td>48.48</td>\n",
       "      <td>42.80</td>\n",
       "      <td>8.72</td>\n",
       "    </tr>\n",
       "    <tr>\n",
       "      <th>2</th>\n",
       "      <td>30621</td>\n",
       "      <td>36000.040067</td>\n",
       "      <td>1</td>\n",
       "      <td>46531040</td>\n",
       "      <td>20</td>\n",
       "      <td>5858100</td>\n",
       "      <td>1</td>\n",
       "      <td>2012-06-21 10:00:00.040067000</td>\n",
       "      <td>5861300</td>\n",
       "      <td>18</td>\n",
       "      <td>...</td>\n",
       "      <td>5860150.0</td>\n",
       "      <td>4000</td>\n",
       "      <td>5860200.0</td>\n",
       "      <td>4500</td>\n",
       "      <td>5860350.0</td>\n",
       "      <td>4204.432889</td>\n",
       "      <td>4518</td>\n",
       "      <td>48.49</td>\n",
       "      <td>42.80</td>\n",
       "      <td>8.71</td>\n",
       "    </tr>\n",
       "    <tr>\n",
       "      <th>3</th>\n",
       "      <td>30622</td>\n",
       "      <td>36000.063812</td>\n",
       "      <td>1</td>\n",
       "      <td>46533017</td>\n",
       "      <td>8</td>\n",
       "      <td>5858800</td>\n",
       "      <td>1</td>\n",
       "      <td>2012-06-21 10:00:00.063811999</td>\n",
       "      <td>5861300</td>\n",
       "      <td>18</td>\n",
       "      <td>...</td>\n",
       "      <td>5860350.0</td>\n",
       "      <td>3800</td>\n",
       "      <td>5860300.0</td>\n",
       "      <td>4400</td>\n",
       "      <td>5860400.0</td>\n",
       "      <td>4204.432889</td>\n",
       "      <td>4519</td>\n",
       "      <td>48.49</td>\n",
       "      <td>42.79</td>\n",
       "      <td>8.71</td>\n",
       "    </tr>\n",
       "    <tr>\n",
       "      <th>4</th>\n",
       "      <td>30623</td>\n",
       "      <td>36000.095645</td>\n",
       "      <td>1</td>\n",
       "      <td>46534282</td>\n",
       "      <td>18</td>\n",
       "      <td>5861000</td>\n",
       "      <td>-1</td>\n",
       "      <td>2012-06-21 10:00:00.095645000</td>\n",
       "      <td>5861000</td>\n",
       "      <td>18</td>\n",
       "      <td>...</td>\n",
       "      <td>5860100.0</td>\n",
       "      <td>3500</td>\n",
       "      <td>5860150.0</td>\n",
       "      <td>4000</td>\n",
       "      <td>5860200.0</td>\n",
       "      <td>4204.432889</td>\n",
       "      <td>4520</td>\n",
       "      <td>48.50</td>\n",
       "      <td>42.79</td>\n",
       "      <td>8.71</td>\n",
       "    </tr>\n",
       "  </tbody>\n",
       "</table>\n",
       "<p>5 rows × 61 columns</p>\n",
       "</div>"
      ],
      "text/plain": [
       "   Unnamed: 0    Time_stamp  Type   OrderID   V        P  Dir  \\\n",
       "0       30619  36000.037423     3  46527525  17  5861500   -1   \n",
       "1       30620  36000.039994     3  46494513  20  5861400   -1   \n",
       "2       30621  36000.040067     1  46531040  20  5858100    1   \n",
       "3       30622  36000.063812     1  46533017   8  5858800    1   \n",
       "4       30623  36000.095645     1  46534282  18  5861000   -1   \n",
       "\n",
       "                            Time  P_ask_1  V_ask_1      ...       mid-price 3  \\\n",
       "0  2012-06-21 10:00:00.037423000  5861300       18      ...         5860150.0   \n",
       "1  2012-06-21 10:00:00.039994000  5861300       18      ...         5860150.0   \n",
       "2  2012-06-21 10:00:00.040067000  5861300       18      ...         5860150.0   \n",
       "3  2012-06-21 10:00:00.063811999  5861300       18      ...         5860350.0   \n",
       "4  2012-06-21 10:00:00.095645000  5861000       18      ...         5860100.0   \n",
       "\n",
       "   bid-ask spread 4  mid-price 4  bid-ask spread 5  mid-price 5        Volts  \\\n",
       "0              4000    5860200.0              4900    5860150.0  4204.432889   \n",
       "1              4000    5860200.0              4900    5860150.0  4204.432889   \n",
       "2              4000    5860200.0              4500    5860350.0  4204.432889   \n",
       "3              3800    5860300.0              4400    5860400.0  4204.432889   \n",
       "4              3500    5860150.0              4000    5860200.0  4204.432889   \n",
       "\n",
       "   N_OrderSubmit  Submit_rate  Cancel_rate  Execute_rate  \n",
       "0           4517        48.49        42.80          8.72  \n",
       "1           4517        48.48        42.80          8.72  \n",
       "2           4518        48.49        42.80          8.71  \n",
       "3           4519        48.49        42.79          8.71  \n",
       "4           4520        48.50        42.79          8.71  \n",
       "\n",
       "[5 rows x 61 columns]"
      ]
     },
     "execution_count": 46,
     "metadata": {},
     "output_type": "execute_result"
    }
   ],
   "source": [
    "#df = pd.read_csv(\"Messages_10amTo4pm_GOOG.csv\")\n",
    "#df = pd.read_csv(\"Messages_10amTo4pm_AMZN.csv\")\n",
    "df = pd.read_csv(\"Messages_10amTo4pm_AAPL.csv\")\n",
    "df.head(5)"
   ]
  },
  {
   "cell_type": "code",
   "execution_count": 47,
   "metadata": {},
   "outputs": [
    {
     "name": "stdout",
     "output_type": "stream",
     "text": [
      "total column number:  61\n"
     ]
    },
    {
     "data": {
      "text/plain": [
       "Index(['Unnamed: 0', 'Time_stamp', 'Type', 'OrderID', 'V', 'P', 'Dir', 'Time',\n",
       "       'P_ask_1', 'V_ask_1', 'P_bid_1', 'V_bid_1', 'P_ask_2', 'V_ask_2',\n",
       "       'P_bid_2', 'V_bid_2', 'P_ask_3', 'V_ask_3', 'P_bid_3', 'V_bid_3',\n",
       "       'P_ask_4', 'V_ask_4', 'P_bid_4', 'V_bid_4', 'P_ask_5', 'V_ask_5',\n",
       "       'P_bid_5', 'V_bid_5', 'Label', 'Level', 'bid-ask spread 1',\n",
       "       'mid-price 1', 'd_P_ask_51', 'd_P_bid_51', 'd_P_ask_21', 'd_P_bid_21',\n",
       "       'd_P_ask_32', 'd_P_bid_32', 'd_P_ask_43', 'd_P_bid_43', 'd_P_ask_54',\n",
       "       'd_P_bid_54', 'Mean_P_ask', 'Mean_P_bid', 'Mean_V_ask', 'Mean_V_bid',\n",
       "       'P_accu', 'V_accu', 'bid-ask spread 2', 'mid-price 2',\n",
       "       'bid-ask spread 3', 'mid-price 3', 'bid-ask spread 4', 'mid-price 4',\n",
       "       'bid-ask spread 5', 'mid-price 5', 'Volts', 'N_OrderSubmit',\n",
       "       'Submit_rate', 'Cancel_rate', 'Execute_rate'],\n",
       "      dtype='object')"
      ]
     },
     "execution_count": 47,
     "metadata": {},
     "output_type": "execute_result"
    }
   ],
   "source": [
    "print('total column number: ',len(df.columns))\n",
    "df.columns"
   ]
  },
  {
   "cell_type": "markdown",
   "metadata": {},
   "source": [
    "#### 1) GROUPING ALL MESSAGES BY ORDER IDS"
   ]
  },
  {
   "cell_type": "code",
   "execution_count": 48,
   "metadata": {},
   "outputs": [
    {
     "name": "stdout",
     "output_type": "stream",
     "text": [
      "Completed. It takes about 0.67 minutes.\n"
     ]
    }
   ],
   "source": [
    "OrderHistory = GetOrderHistory(df)"
   ]
  },
  {
   "cell_type": "code",
   "execution_count": 49,
   "metadata": {},
   "outputs": [
    {
     "data": {
      "text/plain": [
       "{46527525: [{36000.037423252004: [17,\n",
       "    5861500,\n",
       "    'c',\n",
       "    3.0,\n",
       "    4204.432889258471,\n",
       "    5860150.0,\n",
       "    4517,\n",
       "    2300,\n",
       "    48.49,\n",
       "    42.8,\n",
       "    8.72]}]}"
      ]
     },
     "execution_count": 49,
     "metadata": {},
     "output_type": "execute_result"
    }
   ],
   "source": [
    "# take a look at first 1 item of OrderHistory\n",
    "from itertools import islice\n",
    "def take(n, iterable):\n",
    "    \"Return first n items of the iterable as a dictionary\"\n",
    "    return dict(islice(iterable, n))\n",
    "n_items = take(1, OrderHistory.items())\n",
    "n_items   \n",
    "# OrderID: [{Time_stamp:[V,P,Label,level,Volts,mid-price,N_OrderSubmit,bid-ask spread 1,Submit_rate,Cancel_rate,Execute_rate]}]"
   ]
  },
  {
   "cell_type": "code",
   "execution_count": 50,
   "metadata": {
    "collapsed": true
   },
   "outputs": [],
   "source": [
    "his_list = []\n",
    "ct_items = 0\n",
    "for k,v in OrderHistory.items():\n",
    "    ct_items += 1\n",
    "    his_list.append(len(v))"
   ]
  },
  {
   "cell_type": "code",
   "execution_count": 51,
   "metadata": {},
   "outputs": [
    {
     "data": {
      "text/plain": [
       "Counter({1: 25091,\n",
       "         2: 109112,\n",
       "         3: 4455,\n",
       "         4: 609,\n",
       "         5: 169,\n",
       "         6: 53,\n",
       "         7: 22,\n",
       "         8: 11,\n",
       "         9: 6,\n",
       "         10: 1,\n",
       "         11: 1,\n",
       "         12: 3,\n",
       "         13: 3,\n",
       "         14: 1,\n",
       "         15: 2,\n",
       "         18: 1,\n",
       "         26: 1})"
      ]
     },
     "execution_count": 51,
     "metadata": {},
     "output_type": "execute_result"
    }
   ],
   "source": [
    "counts_allHistories = Counter(his_list)\n",
    "counts_allHistories"
   ]
  },
  {
   "cell_type": "code",
   "execution_count": 52,
   "metadata": {},
   "outputs": [
    {
     "name": "stdout",
     "output_type": "stream",
     "text": [
      "total number of orders is 139541\n",
      "orders with 2 events is about 73.59%.\n"
     ]
    }
   ],
   "source": [
    "print(\"total number of orders is\",int(ct_items))    \n",
    "print(\"orders with 2 events is about {0:.2f}%.\".format(57673*100/78376))"
   ]
  },
  {
   "cell_type": "code",
   "execution_count": 53,
   "metadata": {},
   "outputs": [
    {
     "name": "stdout",
     "output_type": "stream",
     "text": [
      "average number of event for an order is 1.869\n"
     ]
    }
   ],
   "source": [
    "ct = 0\n",
    "for k, v in OrderHistory.items():\n",
    "    ct += len(v)\n",
    "print('average number of event for an order is {0:.3f}'.format(ct/len(OrderHistory.keys())))"
   ]
  },
  {
   "cell_type": "markdown",
   "metadata": {
    "collapsed": true
   },
   "source": [
    "#### 2) GETTING START AND END STATES FOR SELECTED ORDER TYPES, STORE IN DICTIONARIES"
   ]
  },
  {
   "cell_type": "code",
   "execution_count": 54,
   "metadata": {},
   "outputs": [
    {
     "name": "stdout",
     "output_type": "stream",
     "text": [
      "Completed. It takes about 0.00 minutes.\n"
     ]
    }
   ],
   "source": [
    "OE_history = ReturnTwoStates_orders(df_original=df,type_list=[4,5],orderhistory=OrderHistory)"
   ]
  },
  {
   "cell_type": "code",
   "execution_count": 55,
   "metadata": {},
   "outputs": [
    {
     "name": "stdout",
     "output_type": "stream",
     "text": [
      "Completed. It takes about 0.00 minutes.\n"
     ]
    }
   ],
   "source": [
    "OC_history = ReturnTwoStates_orders(df_original=df,type_list=[2,3],orderhistory=OrderHistory)"
   ]
  },
  {
   "cell_type": "code",
   "execution_count": 56,
   "metadata": {},
   "outputs": [
    {
     "name": "stdout",
     "output_type": "stream",
     "text": [
      "total number of execution orders and cancellation orders are 15095, 100183 respectively.\n"
     ]
    }
   ],
   "source": [
    "print(\"total number of execution orders and cancellation orders are {}, {} respectively.\"\n",
    "      .format(len(OE_history.keys()),len(OC_history.keys())))"
   ]
  },
  {
   "cell_type": "markdown",
   "metadata": {
    "collapsed": true
   },
   "source": [
    "#### deprecated: too slow. FORMAT ORDER HISTORIES INTO DATAFRAMES"
   ]
  },
  {
   "cell_type": "code",
   "execution_count": 57,
   "metadata": {
    "collapsed": true
   },
   "outputs": [],
   "source": [
    "# OE_df = HistoryToDF_2(OE_history)\n",
    "# OC_df = HistoryToDF_2(OC_history)\n",
    "# 4) TO CSV\n",
    "# OC_df.to_csv(\"OC_twoStates.csv\")\n",
    "# OE_df.to_csv(\"OE_twoStates.csv\")"
   ]
  },
  {
   "cell_type": "markdown",
   "metadata": {},
   "source": [
    "#### 3) DIRECTLY WRITE OC AND OE HISTORY INTO CSV"
   ]
  },
  {
   "cell_type": "code",
   "execution_count": 58,
   "metadata": {},
   "outputs": [
    {
     "name": "stdout",
     "output_type": "stream",
     "text": [
      "10.00%\n",
      "19.99%\n",
      "29.99%\n",
      "39.99%\n",
      "49.98%\n",
      "59.98%\n",
      "69.98%\n",
      "79.97%\n",
      "89.97%\n",
      "99.97%\n",
      "Completed. It takes about 0.00 minutes.\n"
     ]
    }
   ],
   "source": [
    "#HistoryToCSV(OE_history,file_name=\"Orders_execute_GOOG.csv\")\n",
    "#HistoryToCSV(OE_history,file_name=\"Orders_execute_AMZN.csv\")\n",
    "HistoryToCSV(OE_history,file_name=\"Orders_execute_AAPL.csv\")"
   ]
  },
  {
   "cell_type": "code",
   "execution_count": 59,
   "metadata": {},
   "outputs": [
    {
     "name": "stdout",
     "output_type": "stream",
     "text": [
      "10.00%\n",
      "20.00%\n",
      "30.00%\n",
      "40.00%\n",
      "50.00%\n",
      "60.00%\n",
      "70.00%\n",
      "80.00%\n",
      "90.00%\n",
      "100.00%\n",
      "Completed. It takes about 0.03 minutes.\n"
     ]
    }
   ],
   "source": [
    "#HistoryToCSV(OC_history,file_name=\"Orders_cancel_GOOG.csv\")\n",
    "#HistoryToCSV(OC_history,file_name=\"Orders_cancel_AMZN.csv\")\n",
    "HistoryToCSV(OC_history,file_name=\"Orders_cancel_AAPL.csv\")"
   ]
  },
  {
   "cell_type": "markdown",
   "metadata": {
    "collapsed": true
   },
   "source": [
    "#### 4) CLEANING START LEVEL AND END LEVEL"
   ]
  },
  {
   "cell_type": "code",
   "execution_count": 60,
   "metadata": {
    "collapsed": true
   },
   "outputs": [],
   "source": [
    "### do it manually in excel bro"
   ]
  },
  {
   "cell_type": "markdown",
   "metadata": {},
   "source": [
    "## TESTING.... "
   ]
  },
  {
   "cell_type": "code",
   "execution_count": null,
   "metadata": {
    "collapsed": true
   },
   "outputs": [],
   "source": []
  }
 ],
 "metadata": {
  "kernelspec": {
   "display_name": "Python 3",
   "language": "python",
   "name": "python3"
  },
  "language_info": {
   "codemirror_mode": {
    "name": "ipython",
    "version": 3
   },
   "file_extension": ".py",
   "mimetype": "text/x-python",
   "name": "python",
   "nbconvert_exporter": "python",
   "pygments_lexer": "ipython3",
   "version": "3.6.3"
  }
 },
 "nbformat": 4,
 "nbformat_minor": 2
}

{
 "cells": [
  {
   "cell_type": "code",
   "execution_count": 72,
   "metadata": {
    "collapsed": true
   },
   "outputs": [],
   "source": [
    "import warnings\n",
    "warnings.filterwarnings('ignore') # Filter out warnings\n",
    "import numpy as np\n",
    "import pandas as pd\n",
    "import random as rnd\n",
    "import matplotlib.pyplot as plt\n",
    "%matplotlib inline\n",
    "from matplotlib.pylab import rcParams\n",
    "from scipy import stats\n",
    "import math\n",
    "from math import isnan\n",
    "# loading machine learning required packages\n",
    "from sklearn import svm\n",
    "from sklearn.model_selection import train_test_split\n",
    "from sklearn.model_selection import GridSearchCV\n",
    "from sklearn.metrics import classification_report\n",
    "from sklearn.utils import shuffle\n",
    "import time\n",
    "# for multi-class logistic regression\n",
    "from sklearn.linear_model import LogisticRegression\n",
    "from sklearn.metrics import accuracy_score\n",
    "from sklearn.learning_curve import validation_curve"
   ]
  },
  {
   "cell_type": "code",
   "execution_count": 50,
   "metadata": {
    "collapsed": true
   },
   "outputs": [],
   "source": [
    "df = pd.read_csv(\"Messages_withY_AMZN.csv\")"
   ]
  },
  {
   "cell_type": "code",
   "execution_count": 51,
   "metadata": {},
   "outputs": [
    {
     "data": {
      "text/plain": [
       "Index(['Unnamed: 0', 'Time_stamp', 'Type', 'OrderID', 'V', 'P', 'Dir', 'Time',\n",
       "       'P_ask_1', 'V_ask_1', 'P_bid_1', 'V_bid_1', 'P_ask_2', 'V_ask_2',\n",
       "       'P_bid_2', 'V_bid_2', 'P_ask_3', 'V_ask_3', 'P_bid_3', 'V_bid_3',\n",
       "       'P_ask_4', 'V_ask_4', 'P_bid_4', 'V_bid_4', 'P_ask_5', 'V_ask_5',\n",
       "       'P_bid_5', 'V_bid_5', 'bid-ask spread 1', 'mid-price 1', 'd_P_ask_51',\n",
       "       'd_P_bid_51', 'd_P_ask_21', 'd_P_bid_21', 'd_P_ask_32', 'd_P_bid_32',\n",
       "       'd_P_ask_43', 'd_P_bid_43', 'd_P_ask_54', 'd_P_bid_54', 'Mean_P_ask',\n",
       "       'Mean_P_bid', 'Mean_V_ask', 'Mean_V_bid', 'P_accu', 'V_accu',\n",
       "       'bid-ask spread 2', 'mid-price 2', 'bid-ask spread 3', 'mid-price 3',\n",
       "       'bid-ask spread 4', 'mid-price 4', 'bid-ask spread 5', 'mid-price 5',\n",
       "       'Mid_price', 'MidPrice_Moves', 'SpdCros_Moves'],\n",
       "      dtype='object')"
      ]
     },
     "execution_count": 51,
     "metadata": {},
     "output_type": "execute_result"
    }
   ],
   "source": [
    "df.columns"
   ]
  },
  {
   "cell_type": "code",
   "execution_count": 52,
   "metadata": {},
   "outputs": [
    {
     "data": {
      "text/html": [
       "<div>\n",
       "<style scoped>\n",
       "    .dataframe tbody tr th:only-of-type {\n",
       "        vertical-align: middle;\n",
       "    }\n",
       "\n",
       "    .dataframe tbody tr th {\n",
       "        vertical-align: top;\n",
       "    }\n",
       "\n",
       "    .dataframe thead th {\n",
       "        text-align: right;\n",
       "    }\n",
       "</style>\n",
       "<table border=\"1\" class=\"dataframe\">\n",
       "  <thead>\n",
       "    <tr style=\"text-align: right;\">\n",
       "      <th></th>\n",
       "      <th>Unnamed: 0</th>\n",
       "      <th>Time_stamp</th>\n",
       "      <th>Type</th>\n",
       "      <th>OrderID</th>\n",
       "      <th>V</th>\n",
       "      <th>P</th>\n",
       "      <th>Dir</th>\n",
       "      <th>Time</th>\n",
       "      <th>P_ask_1</th>\n",
       "      <th>V_ask_1</th>\n",
       "      <th>...</th>\n",
       "      <th>mid-price 2</th>\n",
       "      <th>bid-ask spread 3</th>\n",
       "      <th>mid-price 3</th>\n",
       "      <th>bid-ask spread 4</th>\n",
       "      <th>mid-price 4</th>\n",
       "      <th>bid-ask spread 5</th>\n",
       "      <th>mid-price 5</th>\n",
       "      <th>Mid_price</th>\n",
       "      <th>MidPrice_Moves</th>\n",
       "      <th>SpdCros_Moves</th>\n",
       "    </tr>\n",
       "  </thead>\n",
       "  <tbody>\n",
       "    <tr>\n",
       "      <th>0</th>\n",
       "      <td>0</td>\n",
       "      <td>34200.017460</td>\n",
       "      <td>5</td>\n",
       "      <td>0</td>\n",
       "      <td>1</td>\n",
       "      <td>2238200</td>\n",
       "      <td>-1</td>\n",
       "      <td>2012-06-21 09:30:00.017460000</td>\n",
       "      <td>2239500</td>\n",
       "      <td>100</td>\n",
       "      <td>...</td>\n",
       "      <td>2235300.0</td>\n",
       "      <td>9600</td>\n",
       "      <td>2235200.0</td>\n",
       "      <td>12500</td>\n",
       "      <td>2236250.0</td>\n",
       "      <td>17800</td>\n",
       "      <td>2235100.0</td>\n",
       "      <td>2235650.0</td>\n",
       "      <td>2</td>\n",
       "      <td>2</td>\n",
       "    </tr>\n",
       "    <tr>\n",
       "      <th>1</th>\n",
       "      <td>1</td>\n",
       "      <td>34200.189608</td>\n",
       "      <td>1</td>\n",
       "      <td>11885113</td>\n",
       "      <td>21</td>\n",
       "      <td>2238100</td>\n",
       "      <td>1</td>\n",
       "      <td>2012-06-21 09:30:00.189608000</td>\n",
       "      <td>2239500</td>\n",
       "      <td>100</td>\n",
       "      <td>...</td>\n",
       "      <td>2235850.0</td>\n",
       "      <td>9300</td>\n",
       "      <td>2235350.0</td>\n",
       "      <td>12100</td>\n",
       "      <td>2236450.0</td>\n",
       "      <td>14000</td>\n",
       "      <td>2237000.0</td>\n",
       "      <td>2238800.0</td>\n",
       "      <td>0</td>\n",
       "      <td>2</td>\n",
       "    </tr>\n",
       "    <tr>\n",
       "      <th>2</th>\n",
       "      <td>2</td>\n",
       "      <td>34200.189608</td>\n",
       "      <td>1</td>\n",
       "      <td>3911376</td>\n",
       "      <td>20</td>\n",
       "      <td>2239600</td>\n",
       "      <td>-1</td>\n",
       "      <td>2012-06-21 09:30:00.189608000</td>\n",
       "      <td>2239500</td>\n",
       "      <td>100</td>\n",
       "      <td>...</td>\n",
       "      <td>2235700.0</td>\n",
       "      <td>9200</td>\n",
       "      <td>2235300.0</td>\n",
       "      <td>9600</td>\n",
       "      <td>2235200.0</td>\n",
       "      <td>12500</td>\n",
       "      <td>2236250.0</td>\n",
       "      <td>2238800.0</td>\n",
       "      <td>2</td>\n",
       "      <td>2</td>\n",
       "    </tr>\n",
       "    <tr>\n",
       "      <th>3</th>\n",
       "      <td>3</td>\n",
       "      <td>34200.189608</td>\n",
       "      <td>1</td>\n",
       "      <td>11534792</td>\n",
       "      <td>100</td>\n",
       "      <td>2237500</td>\n",
       "      <td>1</td>\n",
       "      <td>2012-06-21 09:30:00.189608000</td>\n",
       "      <td>2239500</td>\n",
       "      <td>100</td>\n",
       "      <td>...</td>\n",
       "      <td>2238550.0</td>\n",
       "      <td>8100</td>\n",
       "      <td>2235850.0</td>\n",
       "      <td>9300</td>\n",
       "      <td>2235350.0</td>\n",
       "      <td>12100</td>\n",
       "      <td>2236450.0</td>\n",
       "      <td>2238800.0</td>\n",
       "      <td>2</td>\n",
       "      <td>2</td>\n",
       "    </tr>\n",
       "    <tr>\n",
       "      <th>4</th>\n",
       "      <td>4</td>\n",
       "      <td>34200.189608</td>\n",
       "      <td>1</td>\n",
       "      <td>1365373</td>\n",
       "      <td>13</td>\n",
       "      <td>2240000</td>\n",
       "      <td>-1</td>\n",
       "      <td>2012-06-21 09:30:00.189608000</td>\n",
       "      <td>2239500</td>\n",
       "      <td>100</td>\n",
       "      <td>...</td>\n",
       "      <td>2238550.0</td>\n",
       "      <td>8100</td>\n",
       "      <td>2235850.0</td>\n",
       "      <td>9300</td>\n",
       "      <td>2235350.0</td>\n",
       "      <td>12100</td>\n",
       "      <td>2236450.0</td>\n",
       "      <td>2238800.0</td>\n",
       "      <td>2</td>\n",
       "      <td>2</td>\n",
       "    </tr>\n",
       "  </tbody>\n",
       "</table>\n",
       "<p>5 rows × 57 columns</p>\n",
       "</div>"
      ],
      "text/plain": [
       "   Unnamed: 0    Time_stamp  Type   OrderID    V        P  Dir  \\\n",
       "0           0  34200.017460     5         0    1  2238200   -1   \n",
       "1           1  34200.189608     1  11885113   21  2238100    1   \n",
       "2           2  34200.189608     1   3911376   20  2239600   -1   \n",
       "3           3  34200.189608     1  11534792  100  2237500    1   \n",
       "4           4  34200.189608     1   1365373   13  2240000   -1   \n",
       "\n",
       "                            Time  P_ask_1  V_ask_1      ...        \\\n",
       "0  2012-06-21 09:30:00.017460000  2239500      100      ...         \n",
       "1  2012-06-21 09:30:00.189608000  2239500      100      ...         \n",
       "2  2012-06-21 09:30:00.189608000  2239500      100      ...         \n",
       "3  2012-06-21 09:30:00.189608000  2239500      100      ...         \n",
       "4  2012-06-21 09:30:00.189608000  2239500      100      ...         \n",
       "\n",
       "   mid-price 2  bid-ask spread 3  mid-price 3  bid-ask spread 4  mid-price 4  \\\n",
       "0    2235300.0              9600    2235200.0             12500    2236250.0   \n",
       "1    2235850.0              9300    2235350.0             12100    2236450.0   \n",
       "2    2235700.0              9200    2235300.0              9600    2235200.0   \n",
       "3    2238550.0              8100    2235850.0              9300    2235350.0   \n",
       "4    2238550.0              8100    2235850.0              9300    2235350.0   \n",
       "\n",
       "   bid-ask spread 5  mid-price 5  Mid_price  MidPrice_Moves  SpdCros_Moves  \n",
       "0             17800    2235100.0  2235650.0               2              2  \n",
       "1             14000    2237000.0  2238800.0               0              2  \n",
       "2             12500    2236250.0  2238800.0               2              2  \n",
       "3             12100    2236450.0  2238800.0               2              2  \n",
       "4             12100    2236450.0  2238800.0               2              2  \n",
       "\n",
       "[5 rows x 57 columns]"
      ]
     },
     "execution_count": 52,
     "metadata": {},
     "output_type": "execute_result"
    }
   ],
   "source": [
    "df.head(5)"
   ]
  },
  {
   "cell_type": "markdown",
   "metadata": {},
   "source": [
    "### Experience with Logistic Regression"
   ]
  },
  {
   "cell_type": "code",
   "execution_count": 82,
   "metadata": {
    "collapsed": true
   },
   "outputs": [],
   "source": [
    "Xtrain = np.array(df[(df['Time_stamp']<=36000+60*30)]\\\n",
    "                  [df.columns.difference(['Time','Time_stamp', 'Unnamed: 0','MidPrice_Moves','SpdCros_Moves'])])"
   ]
  },
  {
   "cell_type": "code",
   "execution_count": 83,
   "metadata": {
    "collapsed": true
   },
   "outputs": [],
   "source": [
    "ytrain = np.array(df[(df['Time_stamp']<=36000+60*30)][['MidPrice_Moves']])"
   ]
  },
  {
   "cell_type": "code",
   "execution_count": 84,
   "metadata": {
    "collapsed": true
   },
   "outputs": [],
   "source": [
    "lr = LogisticRegression().fit(Xtrain, ytrain)"
   ]
  },
  {
   "cell_type": "code",
   "execution_count": 85,
   "metadata": {
    "collapsed": true
   },
   "outputs": [],
   "source": [
    "## on training data\n",
    "yhat = lr.predict(Xtrain)"
   ]
  },
  {
   "cell_type": "code",
   "execution_count": 86,
   "metadata": {},
   "outputs": [
    {
     "name": "stdout",
     "output_type": "stream",
     "text": [
      "training set accuracy is 0.81.\n"
     ]
    }
   ],
   "source": [
    "## calculate accuracy\n",
    "print(\"training set accuracy is {0:.2f}.\".format(accuracy_score(ytrain, yhat)))"
   ]
  },
  {
   "cell_type": "code",
   "execution_count": 87,
   "metadata": {
    "collapsed": true
   },
   "outputs": [],
   "source": [
    "Xtest = np.array(df[(df['Time_stamp']>36000+60*30) & (df['Time_stamp']<36600+60*30)]\\\n",
    "                 [df.columns.difference(['Time','Time_stamp', 'Unnamed: 0','MidPrice_Moves','SpdCros_Moves'])])"
   ]
  },
  {
   "cell_type": "code",
   "execution_count": 88,
   "metadata": {},
   "outputs": [
    {
     "name": "stdout",
     "output_type": "stream",
     "text": [
      "4961 4961\n"
     ]
    }
   ],
   "source": [
    "# on test set\n",
    "yhat_test = lr.predict(Xtest)\n",
    "ytest = np.array(df[(df['Time_stamp']>36000+60*30)&(df['Time_stamp']<36600+60*30)][['MidPrice_Moves']])\n",
    "print(len(ytest),len(yhat_test))"
   ]
  },
  {
   "cell_type": "code",
   "execution_count": 90,
   "metadata": {},
   "outputs": [
    {
     "name": "stdout",
     "output_type": "stream",
     "text": [
      "testing set accuracy is 0.83.\n"
     ]
    }
   ],
   "source": [
    "# on testing data\n",
    "print(\"testing set accuracy is {0:.2f}.\".format(accuracy_score(ytest, yhat_test)))"
   ]
  },
  {
   "cell_type": "markdown",
   "metadata": {},
   "source": [
    "### Tuning..."
   ]
  },
  {
   "cell_type": "code",
   "execution_count": 91,
   "metadata": {
    "collapsed": true
   },
   "outputs": [],
   "source": [
    "C_param_range = [0.001,0.01,0.1,1,10,100,200,1000]\n",
    "midPriceMoves_acc_table = pd.DataFrame(columns = ['C_parameter','Accuracy'])\n",
    "midPriceMoves_acc_table['C_parameter'] = C_param_range\n",
    "#plt.figure(figsize=(10, 10))"
   ]
  },
  {
   "cell_type": "code",
   "execution_count": 92,
   "metadata": {
    "collapsed": true
   },
   "outputs": [],
   "source": [
    "j = 0 \n",
    "for i in C_param_range:\n",
    "    # apply logistic regression model to traing data\n",
    "    lr = LogisticRegression(penalty='l2',C=i,random_state=0)\n",
    "    lr.fit(Xtrain,ytrain)\n",
    "    # predicting using the model\n",
    "    y_pred = lr.predict(Xtest)\n",
    "    # saving accuracy score in table\n",
    "    midPriceMoves_acc_table.iloc[j,1] = accuracy_score(ytest,y_pred)\n",
    "    j += 1"
   ]
  },
  {
   "cell_type": "code",
   "execution_count": 93,
   "metadata": {},
   "outputs": [
    {
     "data": {
      "text/html": [
       "<div>\n",
       "<style scoped>\n",
       "    .dataframe tbody tr th:only-of-type {\n",
       "        vertical-align: middle;\n",
       "    }\n",
       "\n",
       "    .dataframe tbody tr th {\n",
       "        vertical-align: top;\n",
       "    }\n",
       "\n",
       "    .dataframe thead th {\n",
       "        text-align: right;\n",
       "    }\n",
       "</style>\n",
       "<table border=\"1\" class=\"dataframe\">\n",
       "  <thead>\n",
       "    <tr style=\"text-align: right;\">\n",
       "      <th></th>\n",
       "      <th>C_parameter</th>\n",
       "      <th>Accuracy</th>\n",
       "    </tr>\n",
       "  </thead>\n",
       "  <tbody>\n",
       "    <tr>\n",
       "      <th>0</th>\n",
       "      <td>0.001</td>\n",
       "      <td>0.834106</td>\n",
       "    </tr>\n",
       "    <tr>\n",
       "      <th>1</th>\n",
       "      <td>0.010</td>\n",
       "      <td>0.834106</td>\n",
       "    </tr>\n",
       "    <tr>\n",
       "      <th>2</th>\n",
       "      <td>0.100</td>\n",
       "      <td>0.834106</td>\n",
       "    </tr>\n",
       "    <tr>\n",
       "      <th>3</th>\n",
       "      <td>1.000</td>\n",
       "      <td>0.834106</td>\n",
       "    </tr>\n",
       "    <tr>\n",
       "      <th>4</th>\n",
       "      <td>10.000</td>\n",
       "      <td>0.834106</td>\n",
       "    </tr>\n",
       "    <tr>\n",
       "      <th>5</th>\n",
       "      <td>100.000</td>\n",
       "      <td>0.834106</td>\n",
       "    </tr>\n",
       "    <tr>\n",
       "      <th>6</th>\n",
       "      <td>200.000</td>\n",
       "      <td>0.834106</td>\n",
       "    </tr>\n",
       "    <tr>\n",
       "      <th>7</th>\n",
       "      <td>1000.000</td>\n",
       "      <td>0.834106</td>\n",
       "    </tr>\n",
       "  </tbody>\n",
       "</table>\n",
       "</div>"
      ],
      "text/plain": [
       "   C_parameter  Accuracy\n",
       "0        0.001  0.834106\n",
       "1        0.010  0.834106\n",
       "2        0.100  0.834106\n",
       "3        1.000  0.834106\n",
       "4       10.000  0.834106\n",
       "5      100.000  0.834106\n",
       "6      200.000  0.834106\n",
       "7     1000.000  0.834106"
      ]
     },
     "execution_count": 93,
     "metadata": {},
     "output_type": "execute_result"
    }
   ],
   "source": [
    "midPriceMoves_acc_table"
   ]
  },
  {
   "cell_type": "markdown",
   "metadata": {},
   "source": [
    "### Testing. Putting things into a loop"
   ]
  },
  {
   "cell_type": "code",
   "execution_count": 108,
   "metadata": {
    "collapsed": true
   },
   "outputs": [],
   "source": [
    "def PredictY(tradingDay_df,trainingTime_mins,predictionTime_mins,target_Y,C_param):\n",
    "    ## return two things:\n",
    "    train_accs, test_accs = [], []\n",
    "    # make a copy of the dataframe\n",
    "    df = tradingDay_df.copy(deep=False)\n",
    "    st_time,ed_time  = int(list(df['Time_stamp'])[0]), int(list(df['Time_stamp'])[-1])  # in seconds\n",
    "    ## st and ed denote the start time and end time for each training session\n",
    "    st, ed = st_time, st_time + trainingTime_mins * 60 \n",
    "    # when last prediction time is not beyond the total trading time window\n",
    "    while (ed + predictionTime_mins*60 <= ed_time):\n",
    "        Xtrain = np.array(df[(df['Time_stamp']<=ed)]\\\n",
    "                  [df.columns.difference(['Time','Time_stamp', 'Unnamed: 0','MidPrice_Moves','SpdCros_Moves'])])\n",
    "        ytrain = np.array(df[(df['Time_stamp']<=ed)][[target_Y]])\n",
    "        # train a model\n",
    "        lr = LogisticRegression(penalty='l1',C=C_param,random_state=0)\n",
    "        lr.fit(Xtrain,ytrain)\n",
    "        # on training data\n",
    "        yhat = lr.predict(Xtrain)\n",
    "        train_accs.append(\"%.2f\" % accuracy_score(ytrain,yhat))\n",
    "        # move on to test set\n",
    "        Xtest = np.array(df[(df['Time_stamp']>ed) & (df['Time_stamp']<ed + predictionTime_mins*60)]\\\n",
    "                 [df.columns.difference(['Time','Time_stamp', 'Unnamed: 0','MidPrice_Moves','SpdCros_Moves'])])\n",
    "        # on test set\n",
    "        yhat_test = lr.predict(Xtest)\n",
    "        ytest = np.array(df[(df['Time_stamp']>ed)&(df['Time_stamp']<ed + predictionTime_mins*60)][[target_Y]])\n",
    "        test_accs.append(\"%.2f\" % accuracy_score(ytest,yhat_test))\n",
    "        ### moving the training session forward\n",
    "        st += trainingTime_mins * 60\n",
    "        ed += trainingTime_mins * 60\n",
    "    return train_accs, test_accs"
   ]
  },
  {
   "cell_type": "code",
   "execution_count": null,
   "metadata": {
    "collapsed": true
   },
   "outputs": [],
   "source": [
    "train_accs, test_accs = PredictY(tradingDay_df=df, trainingTime_mins=30,predictionTime_mins=10,\n",
    "                                 target_Y='MidPrice_Moves',C_param=0.1)"
   ]
  },
  {
   "cell_type": "code",
   "execution_count": null,
   "metadata": {
    "collapsed": true
   },
   "outputs": [],
   "source": []
  },
  {
   "cell_type": "code",
   "execution_count": 106,
   "metadata": {
    "collapsed": true
   },
   "outputs": [],
   "source": [
    "All_test_accs = []\n",
    "for i in C_param_range:\n",
    "    l1,l2 = PredictY(tradingDay_df=df, trainingTime_mins=30,predictionTime_mins=10,\n",
    "                                 target_Y='MidPrice_Moves',C_param=i)\n",
    "    All_test_accs.append(l2)"
   ]
  },
  {
   "cell_type": "code",
   "execution_count": 107,
   "metadata": {
    "scrolled": true
   },
   "outputs": [
    {
     "name": "stdout",
     "output_type": "stream",
     "text": [
      "['0.83', '0.83', '0.88', '0.87', '0.81', '0.84', '0.76', '0.82', '0.85', '0.86', '0.79', '0.81']\n",
      "['0.83', '0.83', '0.88', '0.87', '0.81', '0.84', '0.76', '0.82', '0.85', '0.86', '0.79', '0.81']\n",
      "['0.83', '0.83', '0.88', '0.87', '0.81', '0.84', '0.76', '0.82', '0.85', '0.86', '0.79', '0.81']\n",
      "['0.83', '0.83', '0.88', '0.87', '0.81', '0.84', '0.76', '0.82', '0.85', '0.86', '0.79', '0.81']\n",
      "['0.83', '0.83', '0.88', '0.87', '0.81', '0.84', '0.76', '0.82', '0.85', '0.86', '0.79', '0.81']\n",
      "['0.83', '0.83', '0.88', '0.87', '0.81', '0.84', '0.76', '0.82', '0.85', '0.86', '0.79', '0.81']\n",
      "['0.83', '0.83', '0.88', '0.87', '0.81', '0.84', '0.76', '0.82', '0.85', '0.86', '0.79', '0.81']\n",
      "['0.83', '0.83', '0.88', '0.87', '0.81', '0.84', '0.76', '0.82', '0.85', '0.86', '0.79', '0.81']\n"
     ]
    }
   ],
   "source": [
    "for item in All_test_accs:\n",
    "    print(item)"
   ]
  },
  {
   "cell_type": "code",
   "execution_count": null,
   "metadata": {
    "collapsed": true
   },
   "outputs": [],
   "source": []
  }
 ],
 "metadata": {
  "kernelspec": {
   "display_name": "Python 3",
   "language": "python",
   "name": "python3"
  },
  "language_info": {
   "codemirror_mode": {
    "name": "ipython",
    "version": 3
   },
   "file_extension": ".py",
   "mimetype": "text/x-python",
   "name": "python",
   "nbconvert_exporter": "python",
   "pygments_lexer": "ipython3",
   "version": "3.6.3"
  }
 },
 "nbformat": 4,
 "nbformat_minor": 2
}

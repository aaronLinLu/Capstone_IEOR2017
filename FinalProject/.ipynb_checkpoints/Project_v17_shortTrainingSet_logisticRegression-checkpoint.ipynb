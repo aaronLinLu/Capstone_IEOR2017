{
 "cells": [
  {
   "cell_type": "code",
   "execution_count": 1,
   "metadata": {},
   "outputs": [
    {
     "name": "stderr",
     "output_type": "stream",
     "text": [
      "C:\\Users\\Aaron\\Anaconda3\\envs\\data-x\\lib\\site-packages\\sklearn\\cross_validation.py:41: DeprecationWarning: This module was deprecated in version 0.18 in favor of the model_selection module into which all the refactored classes and functions are moved. Also note that the interface of the new CV iterators are different from that of this module. This module will be removed in 0.20.\n",
      "  \"This module will be removed in 0.20.\", DeprecationWarning)\n",
      "C:\\Users\\Aaron\\Anaconda3\\envs\\data-x\\lib\\site-packages\\sklearn\\learning_curve.py:22: DeprecationWarning: This module was deprecated in version 0.18 in favor of the model_selection module into which all the functions are moved. This module will be removed in 0.20\n",
      "  DeprecationWarning)\n"
     ]
    }
   ],
   "source": [
    "import warnings\n",
    "warnings.filterwarnings('ignore') # Filter out warnings\n",
    "import numpy as np\n",
    "import pandas as pd\n",
    "import random as rnd\n",
    "import matplotlib.pyplot as plt\n",
    "%matplotlib inline\n",
    "from matplotlib.pylab import rcParams\n",
    "from scipy import stats\n",
    "import math\n",
    "from math import isnan\n",
    "# loading machine learning required packages\n",
    "from sklearn import svm\n",
    "from sklearn.model_selection import train_test_split\n",
    "from sklearn.model_selection import GridSearchCV\n",
    "from sklearn.metrics import classification_report\n",
    "from sklearn.utils import shuffle\n",
    "import time\n",
    "# for multi-class logistic regression\n",
    "from sklearn.linear_model import LogisticRegression\n",
    "from sklearn.metrics import accuracy_score\n",
    "from sklearn.learning_curve import validation_curve\n",
    "from sklearn import linear_model\n",
    "from sklearn.metrics import confusion_matrix\n",
    "from sklearn.model_selection import StratifiedKFold\n",
    "## counter\n",
    "from collections import Counter"
   ]
  },
  {
   "cell_type": "code",
   "execution_count": 2,
   "metadata": {
    "collapsed": true
   },
   "outputs": [],
   "source": [
    "file_path_1 = \"Messages_allDay_AMZN_withY.csv\"\n",
    "file_path_2 = \"Messages_allDay_GOOG_withY.csv\"\n",
    "file_path_3 = \"Messages_allDay_AAPL_withY.csv\"\n",
    "df_AMZN = pd.read_csv(file_path_1)\n",
    "df_GOOG = pd.read_csv(file_path_2)\n",
    "df_AAPL = pd.read_csv(file_path_3)\n",
    "# drop useless columns\n",
    "df_AMZN = df_AMZN.drop(columns=['Unnamed: 0'])\n",
    "df_GOOG = df_GOOG.drop(columns=['Unnamed: 0'])\n",
    "df_AAPL = df_AAPL.drop(columns=['Unnamed: 0'])\n",
    "# stack them to a dictionary\n",
    "Stocks = {'AMZN':df_AMZN,'GOOG':df_GOOG,'AAPL':df_AAPL}"
   ]
  },
  {
   "cell_type": "code",
   "execution_count": 3,
   "metadata": {},
   "outputs": [
    {
     "data": {
      "text/html": [
       "<div>\n",
       "<style scoped>\n",
       "    .dataframe tbody tr th:only-of-type {\n",
       "        vertical-align: middle;\n",
       "    }\n",
       "\n",
       "    .dataframe tbody tr th {\n",
       "        vertical-align: top;\n",
       "    }\n",
       "\n",
       "    .dataframe thead th {\n",
       "        text-align: right;\n",
       "    }\n",
       "</style>\n",
       "<table border=\"1\" class=\"dataframe\">\n",
       "  <thead>\n",
       "    <tr style=\"text-align: right;\">\n",
       "      <th></th>\n",
       "      <th>Time_stamp</th>\n",
       "      <th>Type</th>\n",
       "      <th>OrderID</th>\n",
       "      <th>V</th>\n",
       "      <th>Dir</th>\n",
       "      <th>Time</th>\n",
       "      <th>V_ask_1</th>\n",
       "      <th>V_bid_1</th>\n",
       "      <th>V_ask_2</th>\n",
       "      <th>V_bid_2</th>\n",
       "      <th>...</th>\n",
       "      <th>mid-price 2_</th>\n",
       "      <th>bid-ask spread 3_</th>\n",
       "      <th>mid-price 3_</th>\n",
       "      <th>bid-ask spread 4_</th>\n",
       "      <th>mid-price 4_</th>\n",
       "      <th>bid-ask spread 5_</th>\n",
       "      <th>mid-price 5_</th>\n",
       "      <th>Mid_price</th>\n",
       "      <th>MidPrice_Moves</th>\n",
       "      <th>SpdCros_Moves</th>\n",
       "    </tr>\n",
       "  </thead>\n",
       "  <tbody>\n",
       "    <tr>\n",
       "      <th>0</th>\n",
       "      <td>34200.18961</td>\n",
       "      <td>1</td>\n",
       "      <td>11885113</td>\n",
       "      <td>21</td>\n",
       "      <td>1</td>\n",
       "      <td>30:00.2</td>\n",
       "      <td>100</td>\n",
       "      <td>21</td>\n",
       "      <td>100</td>\n",
       "      <td>100</td>\n",
       "      <td>...</td>\n",
       "      <td>223.585</td>\n",
       "      <td>0.93</td>\n",
       "      <td>223.535</td>\n",
       "      <td>1.21</td>\n",
       "      <td>223.645</td>\n",
       "      <td>1.40</td>\n",
       "      <td>223.700</td>\n",
       "      <td>223.88</td>\n",
       "      <td>2</td>\n",
       "      <td>2</td>\n",
       "    </tr>\n",
       "    <tr>\n",
       "      <th>1</th>\n",
       "      <td>34200.18961</td>\n",
       "      <td>1</td>\n",
       "      <td>3911376</td>\n",
       "      <td>20</td>\n",
       "      <td>-1</td>\n",
       "      <td>30:00.2</td>\n",
       "      <td>100</td>\n",
       "      <td>21</td>\n",
       "      <td>20</td>\n",
       "      <td>100</td>\n",
       "      <td>...</td>\n",
       "      <td>223.570</td>\n",
       "      <td>0.92</td>\n",
       "      <td>223.530</td>\n",
       "      <td>0.96</td>\n",
       "      <td>223.520</td>\n",
       "      <td>1.25</td>\n",
       "      <td>223.625</td>\n",
       "      <td>223.88</td>\n",
       "      <td>2</td>\n",
       "      <td>2</td>\n",
       "    </tr>\n",
       "    <tr>\n",
       "      <th>2</th>\n",
       "      <td>34200.18961</td>\n",
       "      <td>1</td>\n",
       "      <td>11534792</td>\n",
       "      <td>100</td>\n",
       "      <td>1</td>\n",
       "      <td>30:00.2</td>\n",
       "      <td>100</td>\n",
       "      <td>21</td>\n",
       "      <td>20</td>\n",
       "      <td>100</td>\n",
       "      <td>...</td>\n",
       "      <td>223.855</td>\n",
       "      <td>0.81</td>\n",
       "      <td>223.585</td>\n",
       "      <td>0.93</td>\n",
       "      <td>223.535</td>\n",
       "      <td>1.21</td>\n",
       "      <td>223.645</td>\n",
       "      <td>223.88</td>\n",
       "      <td>2</td>\n",
       "      <td>2</td>\n",
       "    </tr>\n",
       "    <tr>\n",
       "      <th>3</th>\n",
       "      <td>34200.18961</td>\n",
       "      <td>1</td>\n",
       "      <td>1365373</td>\n",
       "      <td>13</td>\n",
       "      <td>-1</td>\n",
       "      <td>30:00.2</td>\n",
       "      <td>100</td>\n",
       "      <td>21</td>\n",
       "      <td>20</td>\n",
       "      <td>100</td>\n",
       "      <td>...</td>\n",
       "      <td>223.855</td>\n",
       "      <td>0.81</td>\n",
       "      <td>223.585</td>\n",
       "      <td>0.93</td>\n",
       "      <td>223.535</td>\n",
       "      <td>1.21</td>\n",
       "      <td>223.645</td>\n",
       "      <td>223.88</td>\n",
       "      <td>2</td>\n",
       "      <td>2</td>\n",
       "    </tr>\n",
       "    <tr>\n",
       "      <th>4</th>\n",
       "      <td>34200.18961</td>\n",
       "      <td>1</td>\n",
       "      <td>11474176</td>\n",
       "      <td>2</td>\n",
       "      <td>1</td>\n",
       "      <td>30:00.2</td>\n",
       "      <td>100</td>\n",
       "      <td>21</td>\n",
       "      <td>20</td>\n",
       "      <td>100</td>\n",
       "      <td>...</td>\n",
       "      <td>223.855</td>\n",
       "      <td>0.34</td>\n",
       "      <td>223.820</td>\n",
       "      <td>0.82</td>\n",
       "      <td>223.590</td>\n",
       "      <td>1.18</td>\n",
       "      <td>223.660</td>\n",
       "      <td>223.88</td>\n",
       "      <td>2</td>\n",
       "      <td>2</td>\n",
       "    </tr>\n",
       "  </tbody>\n",
       "</table>\n",
       "<p>5 rows × 58 columns</p>\n",
       "</div>"
      ],
      "text/plain": [
       "    Time_stamp  Type   OrderID    V  Dir     Time  V_ask_1  V_bid_1  V_ask_2  \\\n",
       "0  34200.18961     1  11885113   21    1  30:00.2      100       21      100   \n",
       "1  34200.18961     1   3911376   20   -1  30:00.2      100       21       20   \n",
       "2  34200.18961     1  11534792  100    1  30:00.2      100       21       20   \n",
       "3  34200.18961     1   1365373   13   -1  30:00.2      100       21       20   \n",
       "4  34200.18961     1  11474176    2    1  30:00.2      100       21       20   \n",
       "\n",
       "   V_bid_2      ...        mid-price 2_  bid-ask spread 3_  mid-price 3_  \\\n",
       "0      100      ...             223.585               0.93       223.535   \n",
       "1      100      ...             223.570               0.92       223.530   \n",
       "2      100      ...             223.855               0.81       223.585   \n",
       "3      100      ...             223.855               0.81       223.585   \n",
       "4      100      ...             223.855               0.34       223.820   \n",
       "\n",
       "   bid-ask spread 4_  mid-price 4_  bid-ask spread 5_ mid-price 5_  Mid_price  \\\n",
       "0               1.21       223.645               1.40      223.700     223.88   \n",
       "1               0.96       223.520               1.25      223.625     223.88   \n",
       "2               0.93       223.535               1.21      223.645     223.88   \n",
       "3               0.93       223.535               1.21      223.645     223.88   \n",
       "4               0.82       223.590               1.18      223.660     223.88   \n",
       "\n",
       "   MidPrice_Moves  SpdCros_Moves  \n",
       "0               2              2  \n",
       "1               2              2  \n",
       "2               2              2  \n",
       "3               2              2  \n",
       "4               2              2  \n",
       "\n",
       "[5 rows x 58 columns]"
      ]
     },
     "execution_count": 3,
     "metadata": {},
     "output_type": "execute_result"
    }
   ],
   "source": [
    "df_AMZN.head(5)"
   ]
  },
  {
   "cell_type": "code",
   "execution_count": 4,
   "metadata": {},
   "outputs": [
    {
     "data": {
      "text/plain": [
       "Index(['Time_stamp', 'Type', 'OrderID', 'V', 'Dir', 'Time', 'V_ask_1',\n",
       "       'V_bid_1', 'V_ask_2', 'V_bid_2', 'V_ask_3', 'V_bid_3', 'V_ask_4',\n",
       "       'V_bid_4', 'V_ask_5', 'V_bid_5', 'Label', 'Level', 'Mean_V_ask',\n",
       "       'Mean_V_bid', 'V_accu', 'P_', 'P_ask_1_', 'P_bid_1_', 'P_ask_2_',\n",
       "       'P_bid_2_', 'P_ask_3_', 'P_bid_3_', 'P_ask_4_', 'P_bid_4_', 'P_ask_5_',\n",
       "       'P_bid_5_', 'bid-ask spread 1_', 'mid-price 1_', 'd_P_ask_51_',\n",
       "       'd_P_bid_51_', 'd_P_ask_21_', 'd_P_bid_21_', 'd_P_ask_32_',\n",
       "       'd_P_bid_32_', 'd_P_ask_43_', 'd_P_bid_43_', 'd_P_ask_54_',\n",
       "       'd_P_bid_54_', 'Mean_P_ask_', 'Mean_P_bid_', 'P_accu_',\n",
       "       'bid-ask spread 2_', 'mid-price 2_', 'bid-ask spread 3_',\n",
       "       'mid-price 3_', 'bid-ask spread 4_', 'mid-price 4_',\n",
       "       'bid-ask spread 5_', 'mid-price 5_', 'Mid_price', 'MidPrice_Moves',\n",
       "       'SpdCros_Moves'],\n",
       "      dtype='object')"
      ]
     },
     "execution_count": 4,
     "metadata": {},
     "output_type": "execute_result"
    }
   ],
   "source": [
    "df_AMZN.columns"
   ]
  },
  {
   "cell_type": "markdown",
   "metadata": {},
   "source": [
    "### loop through all hours in the trading day, plot accuracy, with a lot shortened training set."
   ]
  },
  {
   "cell_type": "code",
   "execution_count": 39,
   "metadata": {
    "collapsed": true
   },
   "outputs": [],
   "source": [
    "def PredictY_balancedTrainingSet(tradingDay_df,trainingTime_mins,nEvents,target_Y,C_param):\n",
    "     ## return two things:\n",
    "    train_accs, test_accs = [], []\n",
    "    # make a copy of the dataframe\n",
    "    df = tradingDay_df.copy(deep=False)\n",
    "    st_time,ed_time  = int(list(df['Time_stamp'])[0]), int(list(df['Time_stamp'])[-1])  # in seconds\n",
    "    ## st: denote the start time of each training session; lag: how much time allowed to fetch from the future\n",
    "    lag = 5\n",
    "    st, ed = st_time, st_time + trainingTime_mins*60\n",
    "    # when last prediction time is not beyond the total trading time window\n",
    "    while (ed+lag*60<=ed_time):\n",
    "        # 1) original training set\n",
    "        train = df[(df['Time_stamp']>=st)&(df['Time_stamp']<ed)]\n",
    "        # extract observations in training set, where y = 0/1/2\n",
    "        train_y0 = train[(train[target_Y]==0)]\n",
    "        train_y1 = train[(train[target_Y]==1)]\n",
    "        train_y2 = train[(train[target_Y]==2)]\n",
    "        # want to keep y0:y1:y2 = 1:1:2\n",
    "        avg_y0y1 = int(float(train_y0.shape[0] + train_y1.shape[1])/2)\n",
    "        train_y2_new = train_y2.sample(avg_y0y1*2)\n",
    "        # concat the dataframe to make a new training set\n",
    "        train_new = pd.concat([train_y0,train_y1,train_y2_new])\n",
    "        # 2) use next nEvents to define testing set\n",
    "        idx = int(df[(df['Time_stamp']>=ed)].head(1).index.values)\n",
    "        test = df.iloc[idx+train.shape[0]:idx+train.shape[0]+nEvents]\n",
    "        if idx+train.shape[0]+nEvents >= int(len(df.index)):\n",
    "            break\n",
    "        # 3) extract x and y variables in training set and testing set\n",
    "        Xtrain = np.array(train_new[train_new.columns.difference\n",
    "                                    (['OrderID','Time','Time_stamp','MidPrice_Moves','SpdCros_Moves','Label'])])\n",
    "        ytrain = np.array(train_new[[target_Y]])\n",
    "        Xtest = np.array(test[test.columns.difference\n",
    "                                    (['OrderID','Time','Time_stamp','MidPrice_Moves','SpdCros_Moves','Label'])])\n",
    "        ytest = np.array(test[[target_Y]])\n",
    "        # train a model\n",
    "        lr = LogisticRegression(penalty='l2',C=C_param,random_state=0)\n",
    "        lr.fit(Xtrain,ytrain)\n",
    "        # Report training accuracy, testing accuracy \n",
    "        training_accuracy = lr.score(Xtrain,ytrain)\n",
    "        testing_accuracy = lr.score(Xtest,ytest)\n",
    "        test_accs.append(testing_accuracy)\n",
    "        ### moving the training session forward\n",
    "        st += trainingTime_mins * 60\n",
    "        ed += trainingTime_mins * 60\n",
    "    return test_accs"
   ]
  },
  {
   "cell_type": "code",
   "execution_count": 40,
   "metadata": {
    "collapsed": true
   },
   "outputs": [],
   "source": [
    "times_st = ['9:30','9:50','10:10','10:30','10:50','11:10','11:30','11:50','12:10','12:30','12:50',\n",
    "        '1:10','1:30','1:50','2:10','2:30','2:50','3:10','3:30']\n",
    "times = []\n",
    "for i in range(len(times_st)):\n",
    "    if i != len(times_st)-1:\n",
    "        times.append(times_st[i]+'-'+times_st[i+1])\n",
    "    else:\n",
    "        times.append(times_st[i]+'-'+'3:50')"
   ]
  },
  {
   "cell_type": "code",
   "execution_count": 41,
   "metadata": {},
   "outputs": [
    {
     "name": "stdout",
     "output_type": "stream",
     "text": [
      "processing time is 6.24 seconds.\n"
     ]
    }
   ],
   "source": [
    "### Multiclass Logistic Regression \n",
    "t = time.time()\n",
    "# check and drop nan values if necessary\n",
    "if df_AMZN.isnull().values.any():\n",
    "    df_AMZN = df_AMZN.dropna()\n",
    "##### testing 1st one, with cancellation information\n",
    "test_accs_AMZN = PredictY_balancedTrainingSet(df_AMZN,20,nEvents=50,target_Y='MidPrice_Moves',C_param=0.1)\n",
    "print('processing time is {0:.2f} seconds.'.format(time.time()-t))"
   ]
  },
  {
   "cell_type": "code",
   "execution_count": 42,
   "metadata": {},
   "outputs": [
    {
     "name": "stdout",
     "output_type": "stream",
     "text": [
      "processing time is 6.49 seconds.\n"
     ]
    }
   ],
   "source": [
    "t = time.time()\n",
    "# check and drop nan values if necessary\n",
    "if df_GOOG.isnull().values.any():\n",
    "    df_GOOG = df_GOOG.dropna()\n",
    "##### testing 1st one, with cancellation information\n",
    "test_accs_GOOG = PredictY_balancedTrainingSet(df_GOOG,20,nEvents=50,target_Y='MidPrice_Moves',C_param=0.1)\n",
    "print('processing time is {0:.2f} seconds.'.format(time.time()-t))"
   ]
  },
  {
   "cell_type": "code",
   "execution_count": 43,
   "metadata": {},
   "outputs": [
    {
     "name": "stdout",
     "output_type": "stream",
     "text": [
      "processing time is 21.98 seconds.\n"
     ]
    }
   ],
   "source": [
    "t = time.time()\n",
    "# check and drop nan values if necessary\n",
    "if df_AAPL.isnull().values.any():\n",
    "    df_AAPL = df_AAPL.dropna()\n",
    "##### testing 1st one, with cancellation information\n",
    "test_accs_AAPL = PredictY_balancedTrainingSet(df_AAPL,20,nEvents=50,target_Y='MidPrice_Moves',C_param=0.1)\n",
    "print('processing time is {0:.2f} seconds.'.format(time.time()-t))"
   ]
  },
  {
   "cell_type": "code",
   "execution_count": 46,
   "metadata": {},
   "outputs": [
    {
     "data": {
      "image/png": "[encoded data removed]",
      "text/plain": [
       "<matplotlib.figure.Figure at 0x229254bd0f0>"
      ]
     },
     "metadata": {},
     "output_type": "display_data"
    }
   ],
   "source": [
    "### Make plots for visualization\n",
    "fig,ax = plt.subplots(1,1,figsize=(8,6))\n",
    "\n",
    "x = np.arange(len(times)-1)\n",
    "ax.plot(x,test_accs_AMZN,marker='o',color='darkblue',label='Amazon')\n",
    "ax.plot(x,test_accs_GOOG,marker='o',color='gold',label='Google')\n",
    "ax.plot(x,test_accs_AAPL,marker='o',color='green',label='Apple')\n",
    "\n",
    "ax.legend(frameon=True)\n",
    "ax.set_ylabel('Prediction Accuracy')\n",
    "ax.set_xlabel('Time')\n",
    "plt.title('Prediction Accuracy for Mid-Price Movement,nEvents=50')\n",
    "\n",
    "labels = times\n",
    "plt.xticks(x,labels,rotation=60)\n",
    "\n",
    "plt.ylim([0,1])\n",
    "plt.show()"
   ]
  },
  {
   "cell_type": "code",
   "execution_count": 47,
   "metadata": {
    "collapsed": true
   },
   "outputs": [],
   "source": [
    "### find relations between nEvents and average prediction accuracies\n",
    "nEvents_list = [5,10,15,20,50,100]\n",
    "AMZNs, GOOGs, AAPLs = [], [], []\n",
    "\n",
    "for e in nEvents_list:\n",
    "    # make prediciton\n",
    "    test_accs_AMZN = PredictY_balancedTrainingSet(df_AMZN,20,nEvents=e,target_Y='MidPrice_Moves',C_param=0.1)\n",
    "    test_accs_GOOG = PredictY_balancedTrainingSet(df_GOOG,20,nEvents=e,target_Y='MidPrice_Moves',C_param=0.1)\n",
    "    test_accs_AAPL = PredictY_balancedTrainingSet(df_AAPL,20,nEvents=e,target_Y='MidPrice_Moves',C_param=0.1)\n",
    "    # store average accuracies\n",
    "    AMZNs.append(sum(test_accs_AMZN)/len(test_accs_AMZN))\n",
    "    GOOGs.append(sum(test_accs_GOOG)/len(test_accs_GOOG))\n",
    "    AAPLs.append(sum(test_accs_AAPL)/len(test_accs_AAPL))"
   ]
  },
  {
   "cell_type": "code",
   "execution_count": 48,
   "metadata": {},
   "outputs": [
    {
     "data": {
      "image/png": "[encoded data removed]",
      "text/plain": [
       "<matplotlib.figure.Figure at 0x229251273c8>"
      ]
     },
     "metadata": {},
     "output_type": "display_data"
    }
   ],
   "source": [
    "fig,ax = plt.subplots(1,1,figsize=(8,6))\n",
    "x = np.arange(len(nEvents_list))\n",
    "ax.plot(x,AMZNs,marker='o',color='darkblue',label='Amazon')\n",
    "ax.plot(x,GOOGs,marker='o',color='gold',label='Google')\n",
    "ax.plot(x,AAPLs,marker='o',color='green',label='Apple')\n",
    "ax.legend(frameon=True)\n",
    "ax.set_ylabel('Average Prediction Accuracy')\n",
    "ax.set_xlabel('nEvents')\n",
    "plt.title('Average Prediction Accuracy for Mid-Price Movement VS nEvents')\n",
    "labels = nEvents_list\n",
    "plt.xticks(x,labels,rotation=0)\n",
    "plt.ylim([0,1])\n",
    "plt.show()"
   ]
  },
  {
   "cell_type": "markdown",
   "metadata": {},
   "source": [
    "### Implement a Trading Strategy"
   ]
  },
  {
   "cell_type": "code",
   "execution_count": null,
   "metadata": {
    "collapsed": true
   },
   "outputs": [],
   "source": [
    "def PredictY_buyStocks(tradingDay_df,trainingTime_mins,nEvents,target_Y,C_param,startMoney,startShares,threshold):\n",
    "    # make a copy of the dataframe\n",
    "    df = tradingDay_df.copy(deep=False)\n",
    "    # use some indices to keep track\n",
    "    money= float(startMoney)\n",
    "    shares = float(startShares)\n",
    "    start_worth = money + shares*float(df.head(1).P_bid_1_.values)\n",
    "    NetWorths = [start_worth]\n",
    "    Times = [float(df.head(1).Time_stamp.values)]\n",
    "    ###\n",
    "    print('Hey, happy trading with ${} and {} shares.'.format(money,shares))\n",
    "    print('You have ${} much of money to begin.\\n'.format(start_worth,4))\n",
    "    # specify start time and end time of each training session\n",
    "    st_time,ed_time  = int(list(df['Time_stamp'])[0]), int(list(df['Time_stamp'])[-1])  # in seconds\n",
    "    ## st: denote the start time of each training session; lag: how much time allowed to fetch from the future\n",
    "    lag = 5\n",
    "    st, ed = st_time, st_time + trainingTime_mins*60\n",
    "    # when last prediction time is not beyond the total trading time window\n",
    "    while (ed+lag*60<=ed_time):\n",
    "        # 1) original training set\n",
    "        train = df[(df['Time_stamp']>=st)&(df['Time_stamp']<ed)]\n",
    "        # extract observations in training set, where y = 0/1/2\n",
    "        train_y0 = train[(train[target_Y]==0)]\n",
    "        train_y1 = train[(train[target_Y]==1)]\n",
    "        train_y2 = train[(train[target_Y]==2)]\n",
    "        # want to keep y0:y1:y2 = 1:1:2\n",
    "        avg_y0y1 = int(float(train_y0.shape[0] + train_y1.shape[1])/2)\n",
    "        train_y2_new = train_y2.sample(avg_y0y1*2)\n",
    "        # concat the dataframe to make a new training set\n",
    "        train_new = pd.concat([train_y0,train_y1,train_y2_new])\n",
    "        # 2) use next nEvents to define testing set\n",
    "        idx = int(df[(df['Time_stamp']>=ed)].head(1).index.values)\n",
    "        test = df.iloc[idx+train.shape[0]:idx+train.shape[0]+nEvents]\n",
    "        if idx+train.shape[0]+nEvents >= int(len(df.index)):\n",
    "            break\n",
    "        # 3) extract x and y variables in training set and testing set\n",
    "        Xtrain = np.array(train_new[train_new.columns.difference\n",
    "                                    (['OrderID','Time','Time_stamp','MidPrice_Moves','SpdCros_Moves','Label'])])\n",
    "        ytrain = np.array(train_new[[target_Y]])\n",
    "        Xtest = np.array(test[test.columns.difference\n",
    "                                    (['OrderID','Time','Time_stamp','MidPrice_Moves','SpdCros_Moves','Label'])])\n",
    "        ytest = np.array(test[[target_Y]])\n",
    "        # train a model\n",
    "        lr = LogisticRegression(penalty='l2',C=C_param,random_state=0)\n",
    "        lr.fit(Xtrain,ytrain)\n",
    "        # Report testing accuracy \n",
    "        testing_accuracy = lr.score(Xtest,ytest)\n",
    "        #---------------------------------------#\n",
    "        ## execute our buy or sell iff prediction accuracy > threshold\n",
    "        if testing_accuracy > threshold:\n",
    "            currentBid = float(train.tail(1).P_bid_1_.values)\n",
    "            currentAsk = float(train.tail(1).P_ask_1_.values)\n",
    "            # check, if we predict more ups / more downs\n",
    "            y_true, y_pred = ytest,lr.predict(Xtest)\n",
    "            cMatrix = pd.DataFrame(confusion_matrix(y_true,y_pred))\n",
    "            if cMatrix.shape == (3,3):\n",
    "                # case 1: predict more ups\n",
    "                if sum(cMatrix[0].tolist()) > sum(cMatrix[1].tolist()):  # 0: upward; 1: downward\n",
    "                    # use half of the money at hands to buy max shares\n",
    "                    if money > 0:\n",
    "                        shares += (float(money)/2)/currentAsk\n",
    "                        money = float(money)/2\n",
    "                        # update our 'account'\n",
    "                        NetWorths.append(money+shares*float(test.tail(1).P_bid_1_.values))\n",
    "                        Times.append(float(test.tail(1).Time_stamp.values))\n",
    "                        print(float(test.tail(1).Time_stamp.values))\n",
    "                        print('after buying, we have ${} and {} shares, worth ${}.'\n",
    "                             .format(np.round(money,2),np.round(shares,2),\n",
    "                                     np.round(money+shares*float(test.tail(1).P_bid_1_.values)),2))\n",
    "                        print('current best bid:$',currentBid,'\\n')\n",
    "                # case 2: predict more downs    \n",
    "                if sum(cMatrix[0].tolist()) < sum(cMatrix[1].tolist()):\n",
    "                    # sell half shares at hand\n",
    "                    if shares > 0:\n",
    "                        money += float(shares/2)*currentBid\n",
    "                        shares = float(shares)/2\n",
    "                        # update our 'account'\n",
    "                        NetWorths.append(money+shares*float(test.tail(1).P_bid_1_.values))\n",
    "                        Times.append(float(test.tail(1).Time_stamp.values))\n",
    "                        print(float(test.tail(1).Time_stamp.values))\n",
    "                        print('after selling, we have ${} and {} shares, worth ${}.'\n",
    "                             .format(np.round(money,2),np.round(shares,2),\n",
    "                                     np.round(money+shares*float(test.tail(1).P_bid_1_.values)),2))\n",
    "                        print('current best bid:$',currentBid,'\\n')\n",
    "\n",
    "        ### moving the training session forward\n",
    "        st += trainingTime_mins * 60\n",
    "        ed += trainingTime_mins * 60\n",
    "        \n",
    "    ## calculate net-gains and return that value    \n",
    "    Now_worth = money + shares*float(df.iloc[ed:ed+1].P_bid_1_.values)\n",
    "    #NetWorths.append(Now_worth)\n",
    "    #Times.append(float(df.iloc[ed:ed+1].Time_stamp.values))\n",
    "    \n",
    "    print('End worth and stock price: ',np.round(Now_worth,2),np.round(float(df.iloc[ed:ed+1].P_bid_1_.values),2))\n",
    "    print('You end with ${} and {} shares.'.format(np.round(money,2),np.round(shares,2)))\n",
    "    print('\\nWow, you\\'ve earned ${} by today; growth by {}%.'\n",
    "          .format(np.round(NetWorths[-1]-NetWorths[0],2),np.round((NetWorths[-1]-NetWorths[0])*100/NetWorths[0],2)))\n",
    "    #---------------------------------------#\n",
    "    return money,shares,Now_worth-start_worth,NetWorths,Times"
   ]
  },
  {
   "cell_type": "code",
   "execution_count": null,
   "metadata": {},
   "outputs": [
    {
     "name": "stdout",
     "output_type": "stream",
     "text": [
      "Hey, happy trading with $5000.0 and 200.0 shares.\n",
      "You have $49762.0 much of money to begin.\n",
      "\n"
     ]
    }
   ],
   "source": [
    "m,s,gains,trade_hist,times = PredictY_buyStocks(df_AMZN,20,nEvents=50,target_Y='MidPrice_Moves',C_param=0.1,\n",
    "                        startMoney=5000,startShares=200,threshold=0.90)"
   ]
  },
  {
   "cell_type": "code",
   "execution_count": 73,
   "metadata": {},
   "outputs": [
    {
     "name": "stdout",
     "output_type": "stream",
     "text": [
      "natural growth is -0.09%.\n"
     ]
    }
   ],
   "source": [
    "endPrice = float(df_AMZN[(df_AMZN['Time_stamp']==times[-1])].P_bid_1_.values)\n",
    "startP = float(df_AMZN.head(1).P_bid_1_.values)\n",
    "print('natural growth is {0:.2f}%.'.format((endPrice-startP)*100/startP))"
   ]
  },
  {
   "cell_type": "code",
   "execution_count": 70,
   "metadata": {},
   "outputs": [
    {
     "data": {
      "image/png": "[encoded data removed]",
      "text/plain": [
       "<matplotlib.figure.Figure at 0x2292cce61d0>"
      ]
     },
     "metadata": {},
     "output_type": "display_data"
    }
   ],
   "source": [
    "fig,ax = plt.subplots(1,1,figsize=(8,6))\n",
    "x = np.arange(len(times))\n",
    "ax.plot(x,trade_hist,marker='o',color='darkblue',label='Amazon')\n",
    "ax.legend(frameon=True)\n",
    "ax.set_ylabel('Net Worth')\n",
    "ax.set_xlabel('Time Stamp')\n",
    "plt.title('Net Worth VS Time')\n",
    "labels = times\n",
    "plt.xticks(x,labels,rotation=60)\n",
    "plt.show()"
   ]
  },
  {
   "cell_type": "code",
   "execution_count": null,
   "metadata": {
    "collapsed": true
   },
   "outputs": [],
   "source": []
  }
 ],
 "metadata": {
  "kernelspec": {
   "display_name": "Python 3",
   "language": "python",
   "name": "python3"
  },
  "language_info": {
   "codemirror_mode": {
    "name": "ipython",
    "version": 3
   },
   "file_extension": ".py",
   "mimetype": "text/x-python",
   "name": "python",
   "nbconvert_exporter": "python",
   "pygments_lexer": "ipython3",
   "version": "3.6.3"
  }
 },
 "nbformat": 4,
 "nbformat_minor": 2
}

{
 "cells": [
  {
   "cell_type": "code",
   "execution_count": 78,
   "metadata": {},
   "outputs": [],
   "source": [
    "import warnings\n",
    "warnings.filterwarnings('ignore') # Filter out warnings\n",
    "import numpy as np\n",
    "import pandas as pd\n",
    "import random as rnd\n",
    "import matplotlib.pyplot as plt\n",
    "%matplotlib inline\n",
    "from matplotlib.pylab import rcParams\n",
    "from scipy import stats\n",
    "import math\n",
    "from math import isnan\n",
    "# loading machine learning required packages\n",
    "from sklearn import svm\n",
    "from sklearn.model_selection import train_test_split\n",
    "from sklearn.model_selection import GridSearchCV\n",
    "from sklearn.metrics import classification_report\n",
    "from sklearn.utils import shuffle\n",
    "import time\n",
    "# for multi-class logistic regression\n",
    "from sklearn.linear_model import LogisticRegression\n",
    "from sklearn.metrics import accuracy_score\n",
    "from sklearn.learning_curve import validation_curve\n",
    "from sklearn import linear_model\n",
    "from sklearn.metrics import confusion_matrix\n",
    "from sklearn.model_selection import StratifiedKFold"
   ]
  },
  {
   "cell_type": "code",
   "execution_count": 79,
   "metadata": {
    "collapsed": true
   },
   "outputs": [],
   "source": [
    "# Add Two Extra Columns: signs of mid-price and signs of spread crossing \n",
    "def AddMidPriceAndSpreadCrossing(df):   \n",
    "    df2 = df.copy(deep=False)\n",
    "    \n",
    "    # 1) add mid-price movement column first    # criterion: [0: upward;  1: downward;  2: stationary] \n",
    "    midprices = []\n",
    "    for index, row in df2.iterrows():\n",
    "        midprices.append((row['P_ask_1'] + row['P_bid_1'])/2)\n",
    "    df2['Mid_price'] = midprices\n",
    "    # decide if mid-price moves up or down, or stays stationary\n",
    "    midpriceMoves = [2]\n",
    "    for i in range(1,len(midprices)):\n",
    "        if (midprices[i] > midprices[i-1]):\n",
    "            midpriceMoves.append(0)\n",
    "        elif (midprices[i] < midprices[i-1]):\n",
    "            midpriceMoves.append(1)\n",
    "        else: \n",
    "            midpriceMoves.append(2)\n",
    "    # checking \n",
    "    if (len(midpriceMoves)!=len(df2.index)):\n",
    "        print('error! Lengths do not match.')\n",
    "        return\n",
    "    # good to go\n",
    "    df2['MidPrice_Moves'] = midpriceMoves\n",
    "    \n",
    "    \n",
    "    # 2) decide spread crossing movements   # criterion: [0: upward;  1: downward;  2: no spread crossing] \n",
    "    sprCros = [2]\n",
    "    bestBids = df2['P_bid_1']\n",
    "    bestAsks = df2['P_ask_1']\n",
    "    for i in range(1,len(bestBids)):\n",
    "        if (bestBids[i] > bestAsks[i-1]):\n",
    "            sprCros.append(0)\n",
    "        elif (bestAsks[i] < bestBids[i-1]):\n",
    "            sprCros.append(1)\n",
    "        elif ((bestAsks[i]>=bestBids[i-1])&(bestBids[i]<=bestAsks[i-1])):\n",
    "            sprCros.append(2)\n",
    "        else: \n",
    "            print(i,'error!')\n",
    "    # checking \n",
    "    if (len(midpriceMoves)!=len(df2.index)):\n",
    "        print('error! Lengths do not match.')\n",
    "        return   \n",
    "    # good to go\n",
    "    df2['SpdCros_Moves'] = sprCros\n",
    "    \n",
    "    return df2"
   ]
  },
  {
   "cell_type": "code",
   "execution_count": 80,
   "metadata": {
    "collapsed": true
   },
   "outputs": [],
   "source": [
    "def PredictY(tradingDay_df,trainingTime_mins,predictionTime_mins,target_Y,C_param,NoCancel):\n",
    "    ## return two things:\n",
    "    train_accs, test_accs = [], []\n",
    "    # make a copy of the dataframe\n",
    "    df = tradingDay_df.copy(deep=False)\n",
    "    st_time,ed_time  = int(list(df['Time_stamp'])[0]), int(list(df['Time_stamp'])[-1])  # in seconds\n",
    "    ## st and ed denote the start time and end time for each training session\n",
    "    st, ed = st_time, st_time + trainingTime_mins * 60 \n",
    "    # when last prediction time is not beyond the total trading time window\n",
    "    while (ed + predictionTime_mins*60 <= ed_time):\n",
    "        if NoCancel:\n",
    "            Xtrain = np.array(df[(df['Time_stamp']<=ed)&(df['Type']!=2)&(df['Type']!=3)]\\\n",
    "                  [df.columns.difference(['Time','Time_stamp', 'Unnamed: 0','MidPrice_Moves','SpdCros_Moves'])])\n",
    "            ytrain = np.array(df[(df['Time_stamp']<=ed)&(df['Type']!=2)&(df['Type']!=3)][[target_Y]])\n",
    "        else:\n",
    "            Xtrain = np.array(df[(df['Time_stamp']<=ed)]\\\n",
    "                  [df.columns.difference(['Time','Time_stamp', 'Unnamed: 0','MidPrice_Moves','SpdCros_Moves'])])\n",
    "            ytrain = np.array(df[(df['Time_stamp']<=ed)][[target_Y]])\n",
    "        # train a model\n",
    "        lr = LogisticRegression(penalty='l2',C=C_param,random_state=0)\n",
    "        lr.fit(Xtrain,ytrain)\n",
    "        # on training data\n",
    "        yhat = lr.predict(Xtrain)\n",
    "        train_accs.append(\"%.2f\" % accuracy_score(ytrain,yhat))\n",
    "        # move on to test set\n",
    "        if NoCancel:\n",
    "            Xtest = np.array(df[(df['Time_stamp']>ed)&(df['Time_stamp']<ed+predictionTime_mins*60)&(df['Type']!=2)&(df['Type']!=3)]\\\n",
    "                 [df.columns.difference(['Time','Time_stamp', 'Unnamed: 0','MidPrice_Moves','SpdCros_Moves'])])\n",
    "        else: \n",
    "            Xtest = np.array(df[(df['Time_stamp']>ed)&(df['Time_stamp']<ed+predictionTime_mins*60)]\\\n",
    "                 [df.columns.difference(['Time','Time_stamp', 'Unnamed: 0','MidPrice_Moves','SpdCros_Moves'])])\n",
    "        # on test set\n",
    "        yhat_test = lr.predict(Xtest)\n",
    "        if NoCancel:\n",
    "            ytest = np.array(df[(df['Time_stamp']>ed)&(df['Time_stamp']<ed+predictionTime_mins*60)\\\n",
    "                               &(df['Type']!=2)&(df['Type']!=3)][[target_Y]])\n",
    "        else:\n",
    "            ytest = np.array(df[(df['Time_stamp']>ed)&(df['Time_stamp']<ed + predictionTime_mins*60)][[target_Y]])\n",
    "        test_accs.append(\"%.2f\" % accuracy_score(ytest,yhat_test))\n",
    "        ### moving the training session forward\n",
    "        st += trainingTime_mins * 60\n",
    "        ed += trainingTime_mins * 60\n",
    "    ### changing the type\n",
    "    for index, item in enumerate(test_accs):\n",
    "        test_accs[index] = float(item)\n",
    "    for index, item in enumerate(train_accs):\n",
    "        train_accs[index] = float(item)\n",
    "    return test_accs"
   ]
  },
  {
   "cell_type": "code",
   "execution_count": null,
   "metadata": {},
   "outputs": [],
   "source": [
    "file_path = \"Messages_10amTo4pm_GOOG.csv\"\n",
    "df = pd.read_csv(file_path)"
   ]
  },
  {
   "cell_type": "code",
   "execution_count": 82,
   "metadata": {},
   "outputs": [
    {
     "data": {
      "text/html": [
       "<div>\n",
       "<style scoped>\n",
       "    .dataframe tbody tr th:only-of-type {\n",
       "        vertical-align: middle;\n",
       "    }\n",
       "\n",
       "    .dataframe tbody tr th {\n",
       "        vertical-align: top;\n",
       "    }\n",
       "\n",
       "    .dataframe thead th {\n",
       "        text-align: right;\n",
       "    }\n",
       "</style>\n",
       "<table border=\"1\" class=\"dataframe\">\n",
       "  <thead>\n",
       "    <tr style=\"text-align: right;\">\n",
       "      <th></th>\n",
       "      <th>Unnamed: 0</th>\n",
       "      <th>Time_stamp</th>\n",
       "      <th>Type</th>\n",
       "      <th>OrderID</th>\n",
       "      <th>V</th>\n",
       "      <th>P</th>\n",
       "      <th>Dir</th>\n",
       "      <th>Time</th>\n",
       "      <th>P_ask_1</th>\n",
       "      <th>V_ask_1</th>\n",
       "      <th>...</th>\n",
       "      <th>mid-price 3</th>\n",
       "      <th>bid-ask spread 4</th>\n",
       "      <th>mid-price 4</th>\n",
       "      <th>bid-ask spread 5</th>\n",
       "      <th>mid-price 5</th>\n",
       "      <th>Volts</th>\n",
       "      <th>N_OrderSubmit</th>\n",
       "      <th>Submit_rate</th>\n",
       "      <th>Cancel_rate</th>\n",
       "      <th>Execute_rate</th>\n",
       "    </tr>\n",
       "  </thead>\n",
       "  <tbody>\n",
       "    <tr>\n",
       "      <th>0</th>\n",
       "      <td>13689</td>\n",
       "      <td>36000.04092</td>\n",
       "      <td>3</td>\n",
       "      <td>46494609</td>\n",
       "      <td>19</td>\n",
       "      <td>2243500</td>\n",
       "      <td>-1</td>\n",
       "      <td>00:00.0</td>\n",
       "      <td>2243500</td>\n",
       "      <td>100</td>\n",
       "      <td>...</td>\n",
       "      <td>2242650</td>\n",
       "      <td>3300</td>\n",
       "      <td>2242750</td>\n",
       "      <td>3500</td>\n",
       "      <td>2242750</td>\n",
       "      <td>2082.61304</td>\n",
       "      <td>2830</td>\n",
       "      <td>50.56</td>\n",
       "      <td>43.99</td>\n",
       "      <td>5.45</td>\n",
       "    </tr>\n",
       "    <tr>\n",
       "      <th>1</th>\n",
       "      <td>13690</td>\n",
       "      <td>36000.04098</td>\n",
       "      <td>1</td>\n",
       "      <td>46531222</td>\n",
       "      <td>19</td>\n",
       "      <td>2241500</td>\n",
       "      <td>1</td>\n",
       "      <td>00:00.0</td>\n",
       "      <td>2243500</td>\n",
       "      <td>100</td>\n",
       "      <td>...</td>\n",
       "      <td>2242650</td>\n",
       "      <td>3300</td>\n",
       "      <td>2242750</td>\n",
       "      <td>3500</td>\n",
       "      <td>2242750</td>\n",
       "      <td>2082.61304</td>\n",
       "      <td>2831</td>\n",
       "      <td>50.57</td>\n",
       "      <td>43.98</td>\n",
       "      <td>5.45</td>\n",
       "    </tr>\n",
       "    <tr>\n",
       "      <th>2</th>\n",
       "      <td>13691</td>\n",
       "      <td>36000.04231</td>\n",
       "      <td>3</td>\n",
       "      <td>46520399</td>\n",
       "      <td>100</td>\n",
       "      <td>2244400</td>\n",
       "      <td>-1</td>\n",
       "      <td>00:00.0</td>\n",
       "      <td>2243500</td>\n",
       "      <td>100</td>\n",
       "      <td>...</td>\n",
       "      <td>2242650</td>\n",
       "      <td>3300</td>\n",
       "      <td>2242750</td>\n",
       "      <td>3500</td>\n",
       "      <td>2242750</td>\n",
       "      <td>2082.61304</td>\n",
       "      <td>2831</td>\n",
       "      <td>50.56</td>\n",
       "      <td>43.99</td>\n",
       "      <td>5.45</td>\n",
       "    </tr>\n",
       "    <tr>\n",
       "      <th>3</th>\n",
       "      <td>13692</td>\n",
       "      <td>36000.21432</td>\n",
       "      <td>3</td>\n",
       "      <td>46531222</td>\n",
       "      <td>19</td>\n",
       "      <td>2241500</td>\n",
       "      <td>1</td>\n",
       "      <td>00:00.2</td>\n",
       "      <td>2243500</td>\n",
       "      <td>100</td>\n",
       "      <td>...</td>\n",
       "      <td>2242650</td>\n",
       "      <td>3300</td>\n",
       "      <td>2242750</td>\n",
       "      <td>3500</td>\n",
       "      <td>2242750</td>\n",
       "      <td>2082.61304</td>\n",
       "      <td>2831</td>\n",
       "      <td>50.55</td>\n",
       "      <td>44.00</td>\n",
       "      <td>5.45</td>\n",
       "    </tr>\n",
       "    <tr>\n",
       "      <th>4</th>\n",
       "      <td>13693</td>\n",
       "      <td>36000.21440</td>\n",
       "      <td>1</td>\n",
       "      <td>46542025</td>\n",
       "      <td>19</td>\n",
       "      <td>2243500</td>\n",
       "      <td>-1</td>\n",
       "      <td>00:00.2</td>\n",
       "      <td>2243500</td>\n",
       "      <td>119</td>\n",
       "      <td>...</td>\n",
       "      <td>2242650</td>\n",
       "      <td>3300</td>\n",
       "      <td>2242750</td>\n",
       "      <td>3500</td>\n",
       "      <td>2242750</td>\n",
       "      <td>2082.61304</td>\n",
       "      <td>2832</td>\n",
       "      <td>50.56</td>\n",
       "      <td>43.99</td>\n",
       "      <td>5.45</td>\n",
       "    </tr>\n",
       "  </tbody>\n",
       "</table>\n",
       "<p>5 rows × 61 columns</p>\n",
       "</div>"
      ],
      "text/plain": [
       "   Unnamed: 0   Time_stamp  Type   OrderID    V        P  Dir     Time  \\\n",
       "0       13689  36000.04092     3  46494609   19  2243500   -1  00:00.0   \n",
       "1       13690  36000.04098     1  46531222   19  2241500    1  00:00.0   \n",
       "2       13691  36000.04231     3  46520399  100  2244400   -1  00:00.0   \n",
       "3       13692  36000.21432     3  46531222   19  2241500    1  00:00.2   \n",
       "4       13693  36000.21440     1  46542025   19  2243500   -1  00:00.2   \n",
       "\n",
       "   P_ask_1  V_ask_1      ...       mid-price 3  bid-ask spread 4  mid-price 4  \\\n",
       "0  2243500      100      ...           2242650              3300      2242750   \n",
       "1  2243500      100      ...           2242650              3300      2242750   \n",
       "2  2243500      100      ...           2242650              3300      2242750   \n",
       "3  2243500      100      ...           2242650              3300      2242750   \n",
       "4  2243500      119      ...           2242650              3300      2242750   \n",
       "\n",
       "   bid-ask spread 5  mid-price 5       Volts  N_OrderSubmit  Submit_rate  \\\n",
       "0              3500      2242750  2082.61304           2830        50.56   \n",
       "1              3500      2242750  2082.61304           2831        50.57   \n",
       "2              3500      2242750  2082.61304           2831        50.56   \n",
       "3              3500      2242750  2082.61304           2831        50.55   \n",
       "4              3500      2242750  2082.61304           2832        50.56   \n",
       "\n",
       "   Cancel_rate  Execute_rate  \n",
       "0        43.99          5.45  \n",
       "1        43.98          5.45  \n",
       "2        43.99          5.45  \n",
       "3        44.00          5.45  \n",
       "4        43.99          5.45  \n",
       "\n",
       "[5 rows x 61 columns]"
      ]
     },
     "execution_count": 82,
     "metadata": {},
     "output_type": "execute_result"
    }
   ],
   "source": [
    "df.head(5)"
   ]
  },
  {
   "cell_type": "code",
   "execution_count": 83,
   "metadata": {},
   "outputs": [
    {
     "data": {
      "text/plain": [
       "Index(['Unnamed: 0', 'Time_stamp', 'Type', 'OrderID', 'V', 'P', 'Dir', 'Time',\n",
       "       'P_ask_1', 'V_ask_1', 'P_bid_1', 'V_bid_1', 'P_ask_2', 'V_ask_2',\n",
       "       'P_bid_2', 'V_bid_2', 'P_ask_3', 'V_ask_3', 'P_bid_3', 'V_bid_3',\n",
       "       'P_ask_4', 'V_ask_4', 'P_bid_4', 'V_bid_4', 'P_ask_5', 'V_ask_5',\n",
       "       'P_bid_5', 'V_bid_5', 'Label', 'Level', 'bid-ask spread 1',\n",
       "       'mid-price 1', 'd_P_ask_51', 'd_P_bid_51', 'd_P_ask_21', 'd_P_bid_21',\n",
       "       'd_P_ask_32', 'd_P_bid_32', 'd_P_ask_43', 'd_P_bid_43', 'd_P_ask_54',\n",
       "       'd_P_bid_54', 'Mean_P_ask', 'Mean_P_bid', 'Mean_V_ask', 'Mean_V_bid',\n",
       "       'P_accu', 'V_accu', 'bid-ask spread 2', 'mid-price 2',\n",
       "       'bid-ask spread 3', 'mid-price 3', 'bid-ask spread 4', 'mid-price 4',\n",
       "       'bid-ask spread 5', 'mid-price 5', 'Volts', 'N_OrderSubmit',\n",
       "       'Submit_rate', 'Cancel_rate', 'Execute_rate'],\n",
       "      dtype='object')"
      ]
     },
     "execution_count": 83,
     "metadata": {},
     "output_type": "execute_result"
    }
   ],
   "source": [
    "df.columns"
   ]
  },
  {
   "cell_type": "code",
   "execution_count": 84,
   "metadata": {
    "collapsed": true
   },
   "outputs": [],
   "source": [
    "# adding price movement column\n",
    "df_withY = AddMidPriceAndSpreadCrossing(df)"
   ]
  },
  {
   "cell_type": "code",
   "execution_count": 85,
   "metadata": {},
   "outputs": [
    {
     "data": {
      "text/plain": [
       "Index(['Unnamed: 0', 'Time_stamp', 'Type', 'OrderID', 'V', 'P', 'Dir', 'Time',\n",
       "       'P_ask_1', 'V_ask_1', 'P_bid_1', 'V_bid_1', 'P_ask_2', 'V_ask_2',\n",
       "       'P_bid_2', 'V_bid_2', 'P_ask_3', 'V_ask_3', 'P_bid_3', 'V_bid_3',\n",
       "       'P_ask_4', 'V_ask_4', 'P_bid_4', 'V_bid_4', 'P_ask_5', 'V_ask_5',\n",
       "       'P_bid_5', 'V_bid_5', 'Label', 'Level', 'bid-ask spread 1',\n",
       "       'mid-price 1', 'd_P_ask_51', 'd_P_bid_51', 'd_P_ask_21', 'd_P_bid_21',\n",
       "       'd_P_ask_32', 'd_P_bid_32', 'd_P_ask_43', 'd_P_bid_43', 'd_P_ask_54',\n",
       "       'd_P_bid_54', 'Mean_P_ask', 'Mean_P_bid', 'Mean_V_ask', 'Mean_V_bid',\n",
       "       'P_accu', 'V_accu', 'bid-ask spread 2', 'mid-price 2',\n",
       "       'bid-ask spread 3', 'mid-price 3', 'bid-ask spread 4', 'mid-price 4',\n",
       "       'bid-ask spread 5', 'mid-price 5', 'Volts', 'N_OrderSubmit',\n",
       "       'Submit_rate', 'Cancel_rate', 'Execute_rate', 'Mid_price',\n",
       "       'MidPrice_Moves', 'SpdCros_Moves'],\n",
       "      dtype='object')"
      ]
     },
     "execution_count": 85,
     "metadata": {},
     "output_type": "execute_result"
    }
   ],
   "source": [
    "df_withY.columns"
   ]
  },
  {
   "cell_type": "markdown",
   "metadata": {},
   "source": [
    "### Testing the model for two different dataframes (i.e. different features included)"
   ]
  },
  {
   "cell_type": "code",
   "execution_count": 86,
   "metadata": {},
   "outputs": [
    {
     "name": "stdout",
     "output_type": "stream",
     "text": [
      "simple df and complicated df have 57, 64 number of features respectively.\n"
     ]
    }
   ],
   "source": [
    "df_withY_simple = df_withY.drop(columns=['Label', 'Level',\n",
    "                                         'Volts', 'N_OrderSubmit',\n",
    "                                         'Submit_rate', 'Cancel_rate', 'Execute_rate'])\n",
    "print(\"simple df and complicated df have {}, {} number of features respectively.\"\n",
    "      .format(len(df_withY_simple.columns),len(df_withY.columns)))"
   ]
  },
  {
   "cell_type": "code",
   "execution_count": 87,
   "metadata": {},
   "outputs": [
    {
     "name": "stdout",
     "output_type": "stream",
     "text": [
      "processing time is 34.78928589820862 seconds.\n"
     ]
    }
   ],
   "source": [
    "t = time.time()\n",
    "##### testing two prediction models: testing 1st one, without cancellation information\n",
    "test_accs_simple = PredictY(df_withY_simple,20,5,target_Y='MidPrice_Moves',C_param=0.1,NoCancel=False)\n",
    "\n",
    "accs_table_simple = pd.DataFrame(columns = ['Training Session','Accuracy'])\n",
    "accs_table_simple['Accuracy'] = test_accs_simple\n",
    "times_st = ['10:00','10:20','10:40','11:00','11:20','11:40','12:00','12:20','12:40','1:00',\n",
    "        '1:20','1:40','2:00','2:20','2:40','3:00','3:20']\n",
    "times = []\n",
    "for i in range(len(times_st)):\n",
    "    if i != len(times_st)-1:\n",
    "        times.append(times_st[i]+'-'+times_st[i+1])\n",
    "    else:\n",
    "        times.append(times_st[i]+'-'+'3:40')\n",
    "        \n",
    "accs_table_simple['Training Session'] = times\n",
    "accs_table_simple\n",
    "print('processing time is {} seconds.'.format(time.time()-t))"
   ]
  },
  {
   "cell_type": "code",
   "execution_count": 88,
   "metadata": {},
   "outputs": [
    {
     "data": {
      "image/png": "[encoded data removed]",
      "text/plain": [
       "<matplotlib.figure.Figure at 0x18d000c8a90>"
      ]
     },
     "metadata": {},
     "output_type": "display_data"
    }
   ],
   "source": [
    "fig, ax = plt.subplots(1, 1, figsize=(12, 8))\n",
    "\n",
    "y = accs_table_simple[\"Accuracy\"]\n",
    "x = np.arange(len(y))\n",
    "ax.plot(x, y)\n",
    "\n",
    "labels = accs_table_simple[\"Training Session\"]\n",
    "plt.xticks(x, labels, rotation=60)\n",
    "plt.title('Prediction Accuarcy of Mid-Price Movement, No Cancellation Information')\n",
    "plt.ylim([0,1])\n",
    "plt.show()"
   ]
  },
  {
   "cell_type": "code",
   "execution_count": 89,
   "metadata": {},
   "outputs": [],
   "source": [
    "# ##### testing two prediction models: testing 2nd one, with cancellation features\n",
    "# Labels_rep = []\n",
    "# # Change the old Label column into numerical representations\n",
    "# for index, row in df_withY.iterrows():\n",
    "#     if row['Label'] == 'la' or row['Label'] == 'lb':\n",
    "#         Labels_rep.append(0)\n",
    "#     elif row['Label'] == 'ma' or row['Label'] == 'mb':\n",
    "#         Labels_rep.append(1)\n",
    "#     elif row['Label'] == 'c' or row['Label'] == 'pc':\n",
    "#         Labels_rep.append(2)\n",
    "#     else:\n",
    "#         Labels_rep.append(3)\n",
    "# df_withY['Labels_rep'] = Labels_rep\n",
    "# df_withY = df_withY.drop(columns=['Label'])\n",
    "# test_accs = PredictY(df_withY,20,5,target_Y='MidPrice_Moves',C_param=0.1,NoCancel=False)"
   ]
  },
  {
   "cell_type": "code",
   "execution_count": 90,
   "metadata": {},
   "outputs": [],
   "source": [
    "# accs_table = pd.DataFrame(columns = ['Training Session','Accuracy'])\n",
    "# accs_table['Accuracy'] = test_accs\n",
    "# times_st = ['10:00','10:20','10:40','11:00','11:20','11:40','12:00','12:20','12:40','1:00',\n",
    "#         '1:20','1:40','2:00','2:20','2:40','3:00','3:20']        \n",
    "# accs_table['Training Session'] = times\n",
    "# accs_table"
   ]
  },
  {
   "cell_type": "code",
   "execution_count": 91,
   "metadata": {},
   "outputs": [],
   "source": [
    "# for i in range(len(test_accs)):\n",
    "#     F = True\n",
    "#     if test_accs[i] != test_accs_simple[i]:\n",
    "#         F = False\n",
    "# if F:\n",
    "#     print('all accuracies are equal!')"
   ]
  },
  {
   "cell_type": "markdown",
   "metadata": {},
   "source": [
    "### Try alternating Training set, such that: it uses all messages, or only uses execution and submission msgs"
   ]
  },
  {
   "cell_type": "code",
   "execution_count": 92,
   "metadata": {},
   "outputs": [
    {
     "name": "stdout",
     "output_type": "stream",
     "text": [
      "processing time is 30.978988647460938 seconds.\n"
     ]
    }
   ],
   "source": [
    "t = time.time()\n",
    "##### testing testing 3rd one, without cancellation messages\n",
    "test_accs_simple_NoCancel = PredictY(df_withY_simple,20,5,target_Y='MidPrice_Moves',C_param=0.1,NoCancel=True)\n",
    "# make plot\n",
    "accs_table_simple_NoCancel = pd.DataFrame(columns = ['Training Session','Accuracy'])\n",
    "accs_table_simple_NoCancel['Accuracy'] = test_accs_simple_NoCancel\n",
    "\n",
    "accs_table_simple_NoCancel['Training Session'] = times\n",
    "accs_table_simple_NoCancel\n",
    "print('processing time is {} seconds.'.format(time.time()-t))"
   ]
  },
  {
   "cell_type": "code",
   "execution_count": 93,
   "metadata": {},
   "outputs": [
    {
     "name": "stdout",
     "output_type": "stream",
     "text": [
      "0.7929\n",
      "0.8182\n"
     ]
    }
   ],
   "source": [
    "print(np.round(sum(test_accs_simple_NoCancel)/len(test_accs_simple_NoCancel),4))\n",
    "print(np.round(sum(test_accs_simple)/len(test_accs_simple),4))"
   ]
  },
  {
   "cell_type": "code",
   "execution_count": 96,
   "metadata": {},
   "outputs": [
    {
     "data": {
      "image/png": "[encoded data removed]",
      "text/plain": [
       "<matplotlib.figure.Figure at 0x18d0e3d9978>"
      ]
     },
     "metadata": {},
     "output_type": "display_data"
    }
   ],
   "source": [
    "fig, ax = plt.subplots(1, 1, figsize=(12, 8))\n",
    "\n",
    "y = accs_table_simple[\"Accuracy\"]\n",
    "x = np.arange(len(y))\n",
    "ax.plot(x, y)\n",
    "y = test_accs_simple_NoCancel\n",
    "x = np.arange(len(y))\n",
    "ax.plot(x, y, ls=\"--\")\n",
    "\n",
    "labels = accs_table_simple[\"Training Session\"]\n",
    "plt.xticks(x, labels, rotation=60)\n",
    "# grab stock name\n",
    "stock = file_path.split(\".\")[0].split(\"_\")[-1]\n",
    "titleName = 'Prediction Accuarcy of Mid-Price Movement for ' + stock\n",
    "plt.title(titleName)\n",
    "# show the plot\n",
    "plt.ylim([0,1])\n",
    "plt.show()"
   ]
  },
  {
   "cell_type": "code",
   "execution_count": null,
   "metadata": {
    "collapsed": true
   },
   "outputs": [],
   "source": []
  }
 ],
 "metadata": {
  "kernelspec": {
   "display_name": "Python 3",
   "language": "python",
   "name": "python3"
  },
  "language_info": {
   "codemirror_mode": {
    "name": "ipython",
    "version": 3
   },
   "file_extension": ".py",
   "mimetype": "text/x-python",
   "name": "python",
   "nbconvert_exporter": "python",
   "pygments_lexer": "ipython3",
   "version": "3.6.3"
  }
 },
 "nbformat": 4,
 "nbformat_minor": 2
}

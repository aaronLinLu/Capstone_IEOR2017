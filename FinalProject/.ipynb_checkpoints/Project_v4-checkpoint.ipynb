{
 "cells": [
  {
   "cell_type": "code",
   "execution_count": 2,
   "metadata": {
    "collapsed": true
   },
   "outputs": [],
   "source": [
    "import warnings\n",
    "warnings.filterwarnings('ignore') # Filter out warnings\n",
    "import numpy as np\n",
    "import pandas as pd\n",
    "import random as rnd\n",
    "import matplotlib.pyplot as plt\n",
    "%matplotlib inline\n",
    "from matplotlib.pylab import rcParams\n",
    "from scipy import stats\n",
    "import math\n",
    "from math import isnan"
   ]
  },
  {
   "cell_type": "code",
   "execution_count": 3,
   "metadata": {
    "collapsed": true
   },
   "outputs": [],
   "source": [
    "# Create a Combined Dataframe from message csv and orderbook csv\n",
    "def Merge_MsgAndOrdb(msg_path,ordb_path):\n",
    "    # get the level of the LOBSTER dataset\n",
    "    level = int(msg_path.split(\".\")[0][-1])\n",
    "    # get the date \n",
    "    date = msg_path.split(\".\")[0].split(\"_\")[1]\n",
    "    \n",
    "    # add header row for message csv\n",
    "    msg_names = [\"Time_stamp\", \"Type\", \"OrderID\", \"Size\",\"Price\",\"Direction\"]\n",
    "    df_msg = pd.read_csv(msg_path,names=msg_names)\n",
    "    # add header row for orderbook csv\n",
    "    default_ordb_names = ['Ask Price','Ask Size','Bid Price','Bid Size']\n",
    "    ordb_names = []\n",
    "    for i in range(level):\n",
    "        for item in default_ordb_names:\n",
    "            ordb_names.append(str(item)+str(\" \")+str(i+1))\n",
    "    df_ordb = pd.read_csv(ordb_path,names=ordb_names)\n",
    "    \n",
    "    # adding a meaningful time column\n",
    "    df_msg['Time'] = pd.to_datetime(df_msg['Time_stamp'],unit=\"s\",origin=pd.Timestamp(date))\n",
    "    \n",
    "    # combine two dataframes and return it\n",
    "    df = pd.concat([df_msg,df_ordb],axis=1)\n",
    "    return df"
   ]
  },
  {
   "cell_type": "code",
   "execution_count": 4,
   "metadata": {},
   "outputs": [
    {
     "data": {
      "text/html": [
       "<div>\n",
       "<style scoped>\n",
       "    .dataframe tbody tr th:only-of-type {\n",
       "        vertical-align: middle;\n",
       "    }\n",
       "\n",
       "    .dataframe tbody tr th {\n",
       "        vertical-align: top;\n",
       "    }\n",
       "\n",
       "    .dataframe thead th {\n",
       "        text-align: right;\n",
       "    }\n",
       "</style>\n",
       "<table border=\"1\" class=\"dataframe\">\n",
       "  <thead>\n",
       "    <tr style=\"text-align: right;\">\n",
       "      <th></th>\n",
       "      <th>Time_stamp</th>\n",
       "      <th>Type</th>\n",
       "      <th>OrderID</th>\n",
       "      <th>Size</th>\n",
       "      <th>Price</th>\n",
       "      <th>Direction</th>\n",
       "      <th>Time</th>\n",
       "      <th>Ask Price 1</th>\n",
       "      <th>Ask Size 1</th>\n",
       "      <th>Bid Price 1</th>\n",
       "      <th>...</th>\n",
       "      <th>Bid Price 3</th>\n",
       "      <th>Bid Size 3</th>\n",
       "      <th>Ask Price 4</th>\n",
       "      <th>Ask Size 4</th>\n",
       "      <th>Bid Price 4</th>\n",
       "      <th>Bid Size 4</th>\n",
       "      <th>Ask Price 5</th>\n",
       "      <th>Ask Size 5</th>\n",
       "      <th>Bid Price 5</th>\n",
       "      <th>Bid Size 5</th>\n",
       "    </tr>\n",
       "  </thead>\n",
       "  <tbody>\n",
       "    <tr>\n",
       "      <th>0</th>\n",
       "      <td>34200.017460</td>\n",
       "      <td>5</td>\n",
       "      <td>0</td>\n",
       "      <td>1</td>\n",
       "      <td>2238200</td>\n",
       "      <td>-1</td>\n",
       "      <td>2012-06-21 09:30:00.017460</td>\n",
       "      <td>2239500</td>\n",
       "      <td>100</td>\n",
       "      <td>2231800</td>\n",
       "      <td>...</td>\n",
       "      <td>2230400</td>\n",
       "      <td>100</td>\n",
       "      <td>2242500</td>\n",
       "      <td>100</td>\n",
       "      <td>2230000</td>\n",
       "      <td>10</td>\n",
       "      <td>2244000</td>\n",
       "      <td>547</td>\n",
       "      <td>2226200</td>\n",
       "      <td>100</td>\n",
       "    </tr>\n",
       "    <tr>\n",
       "      <th>1</th>\n",
       "      <td>34200.189608</td>\n",
       "      <td>1</td>\n",
       "      <td>11885113</td>\n",
       "      <td>21</td>\n",
       "      <td>2238100</td>\n",
       "      <td>1</td>\n",
       "      <td>2012-06-21 09:30:00.189608</td>\n",
       "      <td>2239500</td>\n",
       "      <td>100</td>\n",
       "      <td>2238100</td>\n",
       "      <td>...</td>\n",
       "      <td>2230700</td>\n",
       "      <td>200</td>\n",
       "      <td>2242500</td>\n",
       "      <td>100</td>\n",
       "      <td>2230400</td>\n",
       "      <td>100</td>\n",
       "      <td>2244000</td>\n",
       "      <td>547</td>\n",
       "      <td>2230000</td>\n",
       "      <td>10</td>\n",
       "    </tr>\n",
       "    <tr>\n",
       "      <th>2</th>\n",
       "      <td>34200.189608</td>\n",
       "      <td>1</td>\n",
       "      <td>3911376</td>\n",
       "      <td>20</td>\n",
       "      <td>2239600</td>\n",
       "      <td>-1</td>\n",
       "      <td>2012-06-21 09:30:00.189608</td>\n",
       "      <td>2239500</td>\n",
       "      <td>100</td>\n",
       "      <td>2238100</td>\n",
       "      <td>...</td>\n",
       "      <td>2230700</td>\n",
       "      <td>200</td>\n",
       "      <td>2240000</td>\n",
       "      <td>220</td>\n",
       "      <td>2230400</td>\n",
       "      <td>100</td>\n",
       "      <td>2242500</td>\n",
       "      <td>100</td>\n",
       "      <td>2230000</td>\n",
       "      <td>10</td>\n",
       "    </tr>\n",
       "    <tr>\n",
       "      <th>3</th>\n",
       "      <td>34200.189608</td>\n",
       "      <td>1</td>\n",
       "      <td>11534792</td>\n",
       "      <td>100</td>\n",
       "      <td>2237500</td>\n",
       "      <td>1</td>\n",
       "      <td>2012-06-21 09:30:00.189608</td>\n",
       "      <td>2239500</td>\n",
       "      <td>100</td>\n",
       "      <td>2238100</td>\n",
       "      <td>...</td>\n",
       "      <td>2231800</td>\n",
       "      <td>100</td>\n",
       "      <td>2240000</td>\n",
       "      <td>220</td>\n",
       "      <td>2230700</td>\n",
       "      <td>200</td>\n",
       "      <td>2242500</td>\n",
       "      <td>100</td>\n",
       "      <td>2230400</td>\n",
       "      <td>100</td>\n",
       "    </tr>\n",
       "    <tr>\n",
       "      <th>4</th>\n",
       "      <td>34200.189608</td>\n",
       "      <td>1</td>\n",
       "      <td>1365373</td>\n",
       "      <td>13</td>\n",
       "      <td>2240000</td>\n",
       "      <td>-1</td>\n",
       "      <td>2012-06-21 09:30:00.189608</td>\n",
       "      <td>2239500</td>\n",
       "      <td>100</td>\n",
       "      <td>2238100</td>\n",
       "      <td>...</td>\n",
       "      <td>2231800</td>\n",
       "      <td>100</td>\n",
       "      <td>2240000</td>\n",
       "      <td>233</td>\n",
       "      <td>2230700</td>\n",
       "      <td>200</td>\n",
       "      <td>2242500</td>\n",
       "      <td>100</td>\n",
       "      <td>2230400</td>\n",
       "      <td>100</td>\n",
       "    </tr>\n",
       "  </tbody>\n",
       "</table>\n",
       "<p>5 rows × 27 columns</p>\n",
       "</div>"
      ],
      "text/plain": [
       "     Time_stamp  Type   OrderID  Size    Price  Direction  \\\n",
       "0  34200.017460     5         0     1  2238200         -1   \n",
       "1  34200.189608     1  11885113    21  2238100          1   \n",
       "2  34200.189608     1   3911376    20  2239600         -1   \n",
       "3  34200.189608     1  11534792   100  2237500          1   \n",
       "4  34200.189608     1   1365373    13  2240000         -1   \n",
       "\n",
       "                        Time  Ask Price 1  Ask Size 1  Bid Price 1  \\\n",
       "0 2012-06-21 09:30:00.017460      2239500         100      2231800   \n",
       "1 2012-06-21 09:30:00.189608      2239500         100      2238100   \n",
       "2 2012-06-21 09:30:00.189608      2239500         100      2238100   \n",
       "3 2012-06-21 09:30:00.189608      2239500         100      2238100   \n",
       "4 2012-06-21 09:30:00.189608      2239500         100      2238100   \n",
       "\n",
       "      ...      Bid Price 3  Bid Size 3  Ask Price 4  Ask Size 4  Bid Price 4  \\\n",
       "0     ...          2230400         100      2242500         100      2230000   \n",
       "1     ...          2230700         200      2242500         100      2230400   \n",
       "2     ...          2230700         200      2240000         220      2230400   \n",
       "3     ...          2231800         100      2240000         220      2230700   \n",
       "4     ...          2231800         100      2240000         233      2230700   \n",
       "\n",
       "   Bid Size 4  Ask Price 5  Ask Size 5  Bid Price 5  Bid Size 5  \n",
       "0          10      2244000         547      2226200         100  \n",
       "1         100      2244000         547      2230000          10  \n",
       "2         100      2242500         100      2230000          10  \n",
       "3         200      2242500         100      2230400         100  \n",
       "4         200      2242500         100      2230400         100  \n",
       "\n",
       "[5 rows x 27 columns]"
      ]
     },
     "execution_count": 4,
     "metadata": {},
     "output_type": "execute_result"
    }
   ],
   "source": [
    "df = Merge_MsgAndOrdb(msg_path='AMZN_2012-06-21_34200000_57600000_message_5.csv',\n",
    "                     ordb_path='AMZN_2012-06-21_34200000_57600000_orderbook_5.csv')\n",
    "df.head(5)"
   ]
  },
  {
   "cell_type": "code",
   "execution_count": 5,
   "metadata": {
    "collapsed": true
   },
   "outputs": [],
   "source": [
    "cancelledOrderID = set(df[(df['Type']==2)].OrderID.tolist())\n",
    "#len(cancelledOrderID)\n",
    "lookup = {1:'Submission', 2:'Cancellation', 3:'Deletion', 4:'Execution Visible',5:'Execution Hidden',7:'Trading Halt'}"
   ]
  },
  {
   "cell_type": "code",
   "execution_count": 6,
   "metadata": {
    "collapsed": true
   },
   "outputs": [],
   "source": [
    "def RenameColumn(df,state_type):\n",
    "    old_col = df.columns.tolist()\n",
    "    new_col = []\n",
    "    for col in old_col:\n",
    "        if ( (\"Bid\" in col) | (\"Ask\" in col) ):\n",
    "            new_col.append(col+str(\" \")+state_type)\n",
    "        elif ((col == 'Size') | (col == 'Price')):\n",
    "            new_col.append(col+str(\" \")+state_type)  \n",
    "        elif (col=='Time'):\n",
    "            new_col.append(col+str(\" \")+state_type)\n",
    "        else:\n",
    "            new_col.append(col)\n",
    "    columns = dict(zip(old_col,new_col))\n",
    "    df.rename(columns=columns,inplace=True)\n",
    "    return "
   ]
  },
  {
   "cell_type": "code",
   "execution_count": 7,
   "metadata": {
    "collapsed": true
   },
   "outputs": [],
   "source": [
    "def GroupByOrderType(df,typeID):                        # for now, typeID should only be 2 or 3 or 4 or 5\n",
    "    # lookup dictionary\n",
    "    lookup = {1:'Submission', 2:'Cancellation', 3:'Deletion', 4:'Execution Visible',5:'Execution Hidden',7:'Trading Halt'}\n",
    "    # getting all the orders of type typeID\n",
    "    orderID_set = set(df[(df['Type']==typeID)].OrderID.tolist())\n",
    "    df_subset = df.loc[df['OrderID'].isin(orderID_set)]\n",
    "    \n",
    "    # get initial states when orders of this type is submitted\n",
    "    df_init = df_subset[(df_subset['Type']==1)]\n",
    "    RenameColumn(df_init,state_type=lookup[1])\n",
    "    \n",
    "    # get the end states of type typeID\n",
    "    df_end = df_subset[(df_subset['Type']==typeID)]\n",
    "    RenameColumn(df_end,state_type=lookup[typeID])\n",
    "    \n",
    "    # merge these two dataframes\n",
    "    df = df_init.merge(df_end, left_on='OrderID', right_on='OrderID', how='outer')\n",
    "\n",
    "    return df"
   ]
  },
  {
   "cell_type": "code",
   "execution_count": 8,
   "metadata": {},
   "outputs": [
    {
     "name": "stdout",
     "output_type": "stream",
     "text": [
      "450\n",
      "8974\n"
     ]
    }
   ],
   "source": [
    "df_OC = GroupByOrderType(df,typeID=2)\n",
    "df_Executed = GroupByOrderType(df,typeID=4)\n",
    "print(len(df_OC.index))\n",
    "print(len(df_Executed.index))"
   ]
  },
  {
   "cell_type": "code",
   "execution_count": 9,
   "metadata": {},
   "outputs": [
    {
     "name": "stdout",
     "output_type": "stream",
     "text": [
      "450\n",
      "8974\n"
     ]
    }
   ],
   "source": [
    "print(len(df[(df['Type']==2)].index))\n",
    "print(len(df[(df['Type']==4)].index))"
   ]
  },
  {
   "cell_type": "code",
   "execution_count": 10,
   "metadata": {
    "collapsed": true,
    "scrolled": true
   },
   "outputs": [],
   "source": [
    "#df_OC.columns"
   ]
  },
  {
   "cell_type": "code",
   "execution_count": 11,
   "metadata": {
    "collapsed": true,
    "scrolled": true
   },
   "outputs": [],
   "source": [
    "#df_OC[[\"Time_stamp_x\",\"Time_stamp_y\"]].head(10)"
   ]
  },
  {
   "cell_type": "code",
   "execution_count": 12,
   "metadata": {
    "collapsed": true,
    "scrolled": false
   },
   "outputs": [],
   "source": [
    "def AddLifetime(df):\n",
    "    df_new = df.copy(deep=False)\n",
    "    lifetime = []\n",
    "    for index, row in df_new.iterrows():\n",
    "        # check if the keys exist\n",
    "        try:\n",
    "            dummy = row['Time_stamp_y'] - row['Time_stamp_x']\n",
    "        except KeyError:\n",
    "            print(\"columns not exist.\")\n",
    "        lifetime.append(dummy)\n",
    "    df_new['lifetime'] = lifetime\n",
    "    df_new = df_new.dropna(how='any')\n",
    "    return df_new"
   ]
  },
  {
   "cell_type": "code",
   "execution_count": 13,
   "metadata": {
    "collapsed": true
   },
   "outputs": [],
   "source": [
    "df_OC = AddLifetime(df_OC)\n",
    "df_Executed = AddLifetime(df_Executed)\n",
    "#df_OC.head(5)"
   ]
  },
  {
   "cell_type": "code",
   "execution_count": 14,
   "metadata": {
    "collapsed": true,
    "scrolled": false
   },
   "outputs": [],
   "source": [
    "def AddVoltsAndNumberOfSumbittedOrders(df,dt_mins,df_original):\n",
    "    # make a copy \n",
    "    df_new = df.copy(deep=False)\n",
    "    # obtain a df of executed visible orders and \n",
    "    #        a df of submitted orders\n",
    "    df_submitted = GroupByOrderType(df_original,typeID=1).dropna(how='any')\n",
    "    df_visExecute = GroupByOrderType(df_original,typeID=4).dropna(how='any')\n",
    "    # convert delta t to seconds\n",
    "    dt = dt_mins * 60\n",
    "    # get submission times of all orders in the df\n",
    "    try:\n",
    "        submission_times = df_new[['OrderID','Time_stamp_x']]\n",
    "    except KeyError:\n",
    "        print(\"columns not exist.\")    \n",
    "    # now, gather all executed order prices between\n",
    "    # the above times and (times-dt)\n",
    "    norders,volts = [],[]\n",
    "    # iterate through each row\n",
    "    for index, row in submission_times.iterrows():\n",
    "        t = row['Time_stamp_x']\n",
    "        submitted_order = df_submitted[(df_submitted[\"Time_stamp_x\"] > t-dt) & (df_submitted[\"Time_stamp_x\"] < t)]\n",
    "        executed_order = df_visExecute[(df_visExecute[\"Time_stamp_y\"] > t-dt) & (df_visExecute[\"Time_stamp_y\"] < t)]\n",
    "        # computing...\n",
    "        norder = len(submitted_order['OrderID'])\n",
    "        volt = np.std(executed_order['Price Submission'])\n",
    "        # appending to corresponding lists\n",
    "        norders.append(norder)\n",
    "        volts.append(volt)\n",
    "    # appending the results \n",
    "    df_new['Volatility'] = volts\n",
    "    df_new['Number of Orders Submitted'] = norders\n",
    "    return df_new"
   ]
  },
  {
   "cell_type": "code",
   "execution_count": 15,
   "metadata": {
    "collapsed": true
   },
   "outputs": [],
   "source": [
    "df_OC = AddVoltsAndNumberOfSumbittedOrders(df_OC,dt_mins=15,df_original=df)\n",
    "df_Executed = AddVoltsAndNumberOfSumbittedOrders(df_Executed,dt_mins=15,df_original=df)\n",
    "#df_Executed.tail(5)"
   ]
  },
  {
   "cell_type": "code",
   "execution_count": 16,
   "metadata": {
    "collapsed": true
   },
   "outputs": [],
   "source": [
    "def AddSpreadTwoStates(df):\n",
    "    # make a copy\n",
    "    df_new = df.copy(deep=False)\n",
    "    # lookup dictionary\n",
    "    lookup = {1:'Submission', 2:'Cancellation', 3:'Deletion', 4:'Execution Visible',5:'Execution Hidden',7:'Trading Halt'}\n",
    "    # gather the order type\n",
    "    for col in df_new.columns.tolist():\n",
    "        if 'Cancellation' in col:\n",
    "            orderType = 'Cancellation'\n",
    "            break\n",
    "        elif 'Execution Visible' in col:\n",
    "            orderType = 'Execution Visible'\n",
    "            break\n",
    "    \n",
    "    # define designated columns at end state\n",
    "    ask_end = 'Ask Price 1 ' + orderType\n",
    "    bid_end = 'Bid Price 1 ' + orderType\n",
    "    # adding spreads at start and end states\n",
    "    spreads_start,spreads_end = [],[]\n",
    "    for index, row in df_new.iterrows():\n",
    "        try:\n",
    "            spread_start = row['Ask Price 1 Submission'] - row['Bid Price 1 Submission']\n",
    "            spread_end = row[ask_end] - row[bid_end]\n",
    "        except KeyError:\n",
    "            print('Columns not exist.')\n",
    "        spreads_start.append(spread_start)\n",
    "        spreads_end.append(spread_end)\n",
    "    # append them to the dataframe\n",
    "    df_new['Effective Spread Start'] = spreads_start\n",
    "    df_new['Effective Spread End'] = spreads_end\n",
    "    # return\n",
    "    return df_new"
   ]
  },
  {
   "cell_type": "code",
   "execution_count": 17,
   "metadata": {
    "collapsed": true
   },
   "outputs": [],
   "source": [
    "df_OC = AddSpreadTwoStates(df_OC)\n",
    "df_Executed = AddSpreadTwoStates(df_Executed)"
   ]
  },
  {
   "cell_type": "code",
   "execution_count": 18,
   "metadata": {
    "collapsed": true
   },
   "outputs": [],
   "source": [
    "# of all EXECUTION ORDERS\n",
    "#df_Executed.head(5)"
   ]
  },
  {
   "cell_type": "code",
   "execution_count": 19,
   "metadata": {
    "collapsed": true
   },
   "outputs": [],
   "source": [
    "# of all CANCELLED ORDERS\n",
    "#df_OC.head(5)"
   ]
  },
  {
   "cell_type": "markdown",
   "metadata": {},
   "source": [
    "## Stuff below: referenced from paper 462"
   ]
  },
  {
   "cell_type": "code",
   "execution_count": 20,
   "metadata": {},
   "outputs": [
    {
     "name": "stdout",
     "output_type": "stream",
     "text": [
      "['Time_stamp' 'Type' 'OrderID' 'Size' 'Price' 'Direction' 'Time'\n",
      " 'Ask Price 1' 'Ask Size 1' 'Bid Price 1' 'Bid Size 1' 'Ask Price 2'\n",
      " 'Ask Size 2' 'Bid Price 2' 'Bid Size 2' 'Ask Price 3' 'Ask Size 3'\n",
      " 'Bid Price 3' 'Bid Size 3' 'Ask Price 4' 'Ask Size 4' 'Bid Price 4'\n",
      " 'Bid Size 4' 'Ask Price 5' 'Ask Size 5' 'Bid Price 5' 'Bid Size 5']\n"
     ]
    }
   ],
   "source": [
    "print(df.columns.values)"
   ]
  },
  {
   "cell_type": "code",
   "execution_count": 21,
   "metadata": {
    "collapsed": true
   },
   "outputs": [],
   "source": [
    "def ComputeTimeInsenstiveSet(df_original, levels=5):\n",
    "    df = df_original.copy(deep=False)\n",
    "    for i in range(1,levels+1):\n",
    "        # compute bid-ask spreads and mid-prices (v2)\n",
    "        df[\"bid-ask spread {}\".format(i)] = df[\"Ask Price {}\".format(i)] - df[\"Bid Price {}\".format(i)]\n",
    "        df[\"mid-price {}\".format(i)] = (df[\"Ask Price {}\".format(i)] + df[\"Bid Price {}\".format(i)])/2\n",
    "        # compute price differences (v3)\n",
    "        df[\"d_P_ask_{}{}\".format(levels,1)] = df[\"Ask Price {}\".format(levels)] - df[\"Ask Price 1\"]\n",
    "        df[\"d_P_bid_{}{}\".format(levels,1)] = df[\"Bid Price {}\".format(levels)] - df[\"Bid Price 1\"]\n",
    "        for j in range(1,levels):\n",
    "            df[\"d_P_ask_{}{}\".format(j+1,j)] = np.abs(df[\"Ask Price {}\".format(j+1)] - df[\"Ask Price {}\".format(j)])\n",
    "            df[\"d_P_bid_{}{}\".format(j+1,j)] = np.abs(df[\"Bid Price {}\".format(j+1)] - df[\"Bid Price {}\".format(j)])\n",
    "        # compute mean prices and volumes (v4)\n",
    "        df[\"Mean_P_ask\"] = df[[\"Ask Price {}\".format(i) for i in range(1,levels+1)]].mean(axis=1)\n",
    "        df[\"Mean_P_bid\"] = df[[\"Bid Price {}\".format(i) for i in range(1,levels+1)]].mean(axis=1)\n",
    "        df[\"Mean_V_ask\"] = df[[\"Ask Size {}\".format(i) for i in range(1,levels+1)]].mean(axis=1)\n",
    "        df[\"Mean_V_bid\"] = df[[\"Bid Size {}\".format(i) for i in range(1,levels+1)]].mean(axis=1)\n",
    "        # compute accumulated differences (v5)\n",
    "        df[\"P_accumulated\"] = df[[\"Ask Price {}\".format(i) for i in range(1,levels+1)]].sum(axis=1) \\\n",
    "            - df[[\"Bid Price {}\".format(i) for i in range(1,levels+1)]].sum(axis=1)\n",
    "        df[\"V_accumulated\"] = df[[\"Ask Size {}\".format(i) for i in range(1,levels+1)]].sum(axis=1) \\\n",
    "            - df[[\"Bid Size {}\".format(i) for i in range(1,levels+1)]].sum(axis=1)\n",
    "    # returning...\n",
    "    return df"
   ]
  },
  {
   "cell_type": "code",
   "execution_count": 22,
   "metadata": {},
   "outputs": [
    {
     "name": "stdout",
     "output_type": "stream",
     "text": [
      "(155935, 53)\n",
      "0.06157573312520981\n"
     ]
    }
   ],
   "source": [
    "df = ComputeTimeInsenstiveSet(df)\n",
    "#df[[\"Ask Price 1\", \"Bid Price 1\", \"bid-ask spread 1\", \"mid-price 1\", \"d_P_ask_32\", \"Mean_P_ask\"]].head(10)\n",
    "#df[[\"Ask Price 1\", \"Ask Price 2\", \"Ask Price 3\", \"Ask Price 4\", \"Ask Price 5\", \"Mean_P_ask\"]].head(10)\n",
    "#df.head(10)\n",
    "print(df.shape)\n",
    "print(df.shape[0] * df.shape[1] * 8 / (1024**3))"
   ]
  },
  {
   "cell_type": "code",
   "execution_count": 60,
   "metadata": {
    "collapsed": true
   },
   "outputs": [],
   "source": [
    "def ComputeTimeSensitiveSet(df_original,levels=5,dt_secs=1): \n",
    "    df = df_original.copy(deep=False)\n",
    "    # \n",
    "    for index, row in df.iterrows():\n",
    "        t = row['Time_stamp']\n",
    "        temp = df.loc[(df['Time_stamp']>t-dt_secs)&(df['Time_stamp']<=t)]\n",
    "        for i in range(1,levels+1):\n",
    "            # compute price and volume derivatives (v6)\n",
    "            df.set_value(index,'der_P_ask_{}'.format(i),\n",
    "                         (temp['Ask Price {}'.format(i)].iloc[-1]-temp['Ask Price {}'.format(i)].iloc[0])/dt_secs) \n",
    "            df.set_value(index,'der_P_bid_{}'.format(i),\n",
    "                         (temp['Bid Price {}'.format(i)].iloc[-1]-temp['Bid Price {}'.format(i)].iloc[0])/dt_secs) \n",
    "            df.set_value(index,'der_V_ask_{}'.format(i),\n",
    "                         (temp['Ask Size {}'.format(i)].iloc[-1]-temp['Ask Size {}'.format(i)].iloc[0])/dt_secs) \n",
    "            df.set_value(index,'der_V_bid_{}'.format(i),\n",
    "                         (temp['Bid Size {}'.format(i)].iloc[-1]-temp['Bid Size {}'.format(i)].iloc[0])/dt_secs) \n",
    "            # compute average intensity of each type (v7)\n",
    "\n",
    "    return df"
   ]
  },
  {
   "cell_type": "code",
   "execution_count": 61,
   "metadata": {},
   "outputs": [],
   "source": [
    "df_test = ComputeTimeSensitiveSet(df_original=df.head(5))"
   ]
  },
  {
   "cell_type": "code",
   "execution_count": 62,
   "metadata": {},
   "outputs": [
    {
     "data": {
      "text/plain": [
       "Index(['Time_stamp', 'Type', 'OrderID', 'Size', 'Price', 'Direction', 'Time',\n",
       "       'Ask Price 1', 'Ask Size 1', 'Bid Price 1', 'Bid Size 1', 'Ask Price 2',\n",
       "       'Ask Size 2', 'Bid Price 2', 'Bid Size 2', 'Ask Price 3', 'Ask Size 3',\n",
       "       'Bid Price 3', 'Bid Size 3', 'Ask Price 4', 'Ask Size 4', 'Bid Price 4',\n",
       "       'Bid Size 4', 'Ask Price 5', 'Ask Size 5', 'Bid Price 5', 'Bid Size 5',\n",
       "       'bid-ask spread 1', 'mid-price 1', 'd_P_ask_51', 'd_P_bid_51',\n",
       "       'd_P_ask_21', 'd_P_bid_21', 'd_P_ask_32', 'd_P_bid_32', 'd_P_ask_43',\n",
       "       'd_P_bid_43', 'd_P_ask_54', 'd_P_bid_54', 'Mean_P_ask', 'Mean_P_bid',\n",
       "       'Mean_V_ask', 'Mean_V_bid', 'P_accumulated', 'V_accumulated',\n",
       "       'bid-ask spread 2', 'mid-price 2', 'bid-ask spread 3', 'mid-price 3',\n",
       "       'bid-ask spread 4', 'mid-price 4', 'bid-ask spread 5', 'mid-price 5',\n",
       "       'der_P_ask_1', 'der_P_bid_1', 'der_V_ask_1', 'der_V_bid_1',\n",
       "       'der_P_ask_2', 'der_P_bid_2', 'der_V_ask_2', 'der_V_bid_2',\n",
       "       'der_P_ask_3', 'der_P_bid_3', 'der_V_ask_3', 'der_V_bid_3',\n",
       "       'der_P_ask_4', 'der_P_bid_4', 'der_V_ask_4', 'der_V_bid_4',\n",
       "       'der_P_ask_5', 'der_P_bid_5', 'der_V_ask_5', 'der_V_bid_5'],\n",
       "      dtype='object')"
      ]
     },
     "execution_count": 62,
     "metadata": {},
     "output_type": "execute_result"
    }
   ],
   "source": [
    "#df_test.columns"
   ]
  },
  {
   "cell_type": "code",
   "execution_count": 49,
   "metadata": {
    "collapsed": true
   },
   "outputs": [],
   "source": [
    "def AddLabels(df_original, levels=5):  # based on page 16 of paper 462\n",
    "    df = df_original.copy(deep=False)\n",
    "    for index, row in df.iterrows():\n",
    "        df[\"bid-ask spread label\"]"
   ]
  },
  {
   "cell_type": "code",
   "execution_count": 24,
   "metadata": {
    "collapsed": true
   },
   "outputs": [],
   "source": [
    "#df.head(5)"
   ]
  },
  {
   "cell_type": "code",
   "execution_count": null,
   "metadata": {
    "collapsed": true
   },
   "outputs": [],
   "source": []
  },
  {
   "cell_type": "code",
   "execution_count": null,
   "metadata": {
    "collapsed": true
   },
   "outputs": [],
   "source": []
  },
  {
   "cell_type": "markdown",
   "metadata": {},
   "source": [
    "## Everything below seems to be your codes of making plots... if you wanna clean them up feel free to do that"
   ]
  },
  {
   "cell_type": "code",
   "execution_count": 25,
   "metadata": {},
   "outputs": [
    {
     "ename": "NameError",
     "evalue": "name 'df_test' is not defined",
     "output_type": "error",
     "traceback": [
      "\u001b[1;31m---------------------------------------------------------------------------\u001b[0m",
      "\u001b[1;31mNameError\u001b[0m                                 Traceback (most recent call last)",
      "\u001b[1;32m<ipython-input-25-e73df69af4ee>\u001b[0m in \u001b[0;36m<module>\u001b[1;34m()\u001b[0m\n\u001b[0;32m      1\u001b[0m \u001b[1;31m### Determine the cancellation rate during dt\u001b[0m\u001b[1;33m\u001b[0m\u001b[1;33m\u001b[0m\u001b[0m\n\u001b[1;32m----> 2\u001b[1;33m \u001b[0mplt\u001b[0m\u001b[1;33m.\u001b[0m\u001b[0mhist\u001b[0m\u001b[1;33m(\u001b[0m\u001b[0mdf_test\u001b[0m\u001b[1;33m[\u001b[0m\u001b[1;34m\"Time_stamp_y\"\u001b[0m\u001b[1;33m]\u001b[0m\u001b[1;33m,\u001b[0m \u001b[0mbins\u001b[0m\u001b[1;33m=\u001b[0m\u001b[1;36m25\u001b[0m\u001b[1;33m)\u001b[0m\u001b[1;33m\u001b[0m\u001b[0m\n\u001b[0m\u001b[0;32m      3\u001b[0m \u001b[0mstart\u001b[0m \u001b[1;33m=\u001b[0m \u001b[0mdf_test\u001b[0m\u001b[1;33m[\u001b[0m\u001b[1;34m\"Time_stamp_y\"\u001b[0m\u001b[1;33m]\u001b[0m\u001b[1;33m.\u001b[0m\u001b[0mmin\u001b[0m\u001b[1;33m(\u001b[0m\u001b[1;33m)\u001b[0m\u001b[1;33m\u001b[0m\u001b[0m\n\u001b[0;32m      4\u001b[0m \u001b[0mend\u001b[0m \u001b[1;33m=\u001b[0m \u001b[0mdf_test\u001b[0m\u001b[1;33m[\u001b[0m\u001b[1;34m\"Time_stamp_y\"\u001b[0m\u001b[1;33m]\u001b[0m\u001b[1;33m.\u001b[0m\u001b[0mmax\u001b[0m\u001b[1;33m(\u001b[0m\u001b[1;33m)\u001b[0m\u001b[1;33m\u001b[0m\u001b[0m\n\u001b[0;32m      5\u001b[0m \u001b[0mprint\u001b[0m\u001b[1;33m(\u001b[0m\u001b[0mstart\u001b[0m\u001b[1;33m,\u001b[0m \u001b[0mend\u001b[0m\u001b[1;33m)\u001b[0m\u001b[1;33m\u001b[0m\u001b[0m\n",
      "\u001b[1;31mNameError\u001b[0m: name 'df_test' is not defined"
     ]
    }
   ],
   "source": [
    "### Determine the cancellation rate during dt\n",
    "plt.hist(df_test[\"Time_stamp_y\"], bins=25)\n",
    "start = df_test[\"Time_stamp_y\"].min()\n",
    "end = df_test[\"Time_stamp_y\"].max()\n",
    "print(start, end)\n",
    "n = (end-start)/dt\n",
    "Dt = np.linspace(start,end,n)\n",
    "for i in Dt:\n",
    "    plt.axvline(i, ls=\":\", color=\"k\", alpha=0.5)\n",
    "plt.title(\"Visual of approximate cancellation rate discretization\")\n",
    "plt.show()"
   ]
  },
  {
   "cell_type": "code",
   "execution_count": null,
   "metadata": {
    "collapsed": true,
    "scrolled": false
   },
   "outputs": [],
   "source": [
    "start_of_day = 9.5*3600 # 9:30 AM\n",
    "end_of_day = 16*3600 # 4 PM\n",
    "dt = 6.5*3600\n",
    "n = (end_of_day - start_of_day)/dt\n",
    "bins = np.linspace(start_of_day, end_of_day, n+1)\n",
    "#print(dt)\n",
    "#print(bins)\n",
    "cancelled = plt.hist(df_test[\"Time_stamp_y\"], bins=bins, alpha=0.5, histtype=\"step\")\n",
    "submitted = plt.hist(df_submitted[\"Time_stamp_x\"], bins=bins, alpha=0.5, histtype=\"step\")\n",
    "\n",
    "print(\"Cancellation Ratio during dt:\")\n",
    "cancellation_ratio_during_dt = cancelled[0]/submitted[0]\n",
    "print(cancellation_ratio_during_dt)\n",
    "\n",
    "print(\"Cancellation Rate:\")\n",
    "cancellation_rate = cancelled[0]/dt\n",
    "print(cancellation_rate)"
   ]
  },
  {
   "cell_type": "code",
   "execution_count": null,
   "metadata": {
    "collapsed": true
   },
   "outputs": [],
   "source": [
    "len(set(df[(df['Type']==2)]['OrderID'].tolist()))"
   ]
  },
  {
   "cell_type": "code",
   "execution_count": null,
   "metadata": {
    "collapsed": true
   },
   "outputs": [],
   "source": [
    "ks = [1,2,3,4,5,7]\n",
    "for k in ks:\n",
    "    print(len(set(df[(df['Type']==k)]['OrderID'].tolist())))"
   ]
  },
  {
   "cell_type": "code",
   "execution_count": null,
   "metadata": {
    "collapsed": true
   },
   "outputs": [],
   "source": [
    "df_test.columns"
   ]
  },
  {
   "cell_type": "code",
   "execution_count": null,
   "metadata": {
    "collapsed": true
   },
   "outputs": [],
   "source": [
    "data = df_test[[\"OrderID\",\"Time Submission\",\"Direction_x\",\"Price Submission\",\"Size Submission\",\n",
    "                \"Time Cancellation\",\"lifetime\",\"Size Cancellation\",\n",
    "                \"Ask Price 1 Submission\",\"Bid Price 1 Submission\",\"Ask Price 1 Cancellation\",\"Bid Price 1 Cancellation\"]]\n",
    "data[\"Effective Spread Submission\"] = data['Ask Price 1 Submission'] - data['Bid Price 1 Submission']\n",
    "data[\"Effective Spread Cancellation\"] = data['Ask Price 1 Cancellation'] - data['Bid Price 1 Cancellation']\n",
    "data[\"Volatility\"] = volts\n",
    "data[\"Number of Orders Submitted\"] = norders\n",
    "#len(data.index)\n",
    "data.head(10)"
   ]
  },
  {
   "cell_type": "code",
   "execution_count": null,
   "metadata": {
    "collapsed": true
   },
   "outputs": [],
   "source": [
    "data.to_csv(\"AMZN_cancelledOrders.csv\")"
   ]
  },
  {
   "cell_type": "code",
   "execution_count": null,
   "metadata": {
    "collapsed": true
   },
   "outputs": [],
   "source": []
  },
  {
   "cell_type": "code",
   "execution_count": null,
   "metadata": {
    "collapsed": true
   },
   "outputs": [],
   "source": [
    "## plotting...\n",
    "x = data['Time Submission']\n",
    "y = data['Price Submission']\n",
    "plt.plot(x,y)\n",
    "plt.xlabel(\"Time Submission\")\n",
    "plt.ylabel(\"\")"
   ]
  },
  {
   "cell_type": "code",
   "execution_count": null,
   "metadata": {
    "collapsed": true
   },
   "outputs": [],
   "source": [
    "lookup = {1:'Submission', 2:'Cancellation', 3:'Deletion', 4:'Execution Visible',5:'Execution Hidden',7:'Trading Halt'}\n",
    "for values in lookup.values():\n",
    "    print(values)"
   ]
  },
  {
   "cell_type": "code",
   "execution_count": null,
   "metadata": {
    "collapsed": true
   },
   "outputs": [],
   "source": [
    "df1 = pd.DataFrame({'a':range(1,5), 'b':['a','b','c','d']})\n",
    "df1"
   ]
  },
  {
   "cell_type": "code",
   "execution_count": null,
   "metadata": {
    "collapsed": true
   },
   "outputs": [],
   "source": [
    "df1[\"a\"].iloc[-1] "
   ]
  },
  {
   "cell_type": "code",
   "execution_count": null,
   "metadata": {
    "collapsed": true
   },
   "outputs": [],
   "source": []
  }
 ],
 "metadata": {
  "kernelspec": {
   "display_name": "Python 3",
   "language": "python",
   "name": "python3"
  },
  "language_info": {
   "codemirror_mode": {
    "name": "ipython",
    "version": 3
   },
   "file_extension": ".py",
   "mimetype": "text/x-python",
   "name": "python",
   "nbconvert_exporter": "python",
   "pygments_lexer": "ipython3",
   "version": "3.6.3"
  }
 },
 "nbformat": 4,
 "nbformat_minor": 2
}

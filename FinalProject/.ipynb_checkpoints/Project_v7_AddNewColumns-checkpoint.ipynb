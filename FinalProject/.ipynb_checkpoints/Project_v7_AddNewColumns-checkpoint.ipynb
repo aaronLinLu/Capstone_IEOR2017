{
 "cells": [
  {
   "cell_type": "code",
   "execution_count": 44,
   "metadata": {
    "collapsed": true
   },
   "outputs": [],
   "source": [
    "import warnings\n",
    "warnings.filterwarnings('ignore') # Filter out warnings\n",
    "import numpy as np\n",
    "import pandas as pd\n",
    "import random as rnd\n",
    "import matplotlib.pyplot as plt\n",
    "%matplotlib inline\n",
    "from matplotlib.pylab import rcParams\n",
    "from scipy import stats\n",
    "import math\n",
    "from math import isnan\n",
    "import time\n",
    "from collections import Counter"
   ]
  },
  {
   "cell_type": "markdown",
   "metadata": {},
   "source": [
    "## Helper function"
   ]
  },
  {
   "cell_type": "code",
   "execution_count": 45,
   "metadata": {
    "collapsed": true
   },
   "outputs": [],
   "source": [
    "## FOR STATISTICAL ANALYSIS\n",
    "# Create a Combined Dataframe from message csv and orderbook csv\n",
    "def Merge_MsgAndOrdb(msg_path, ordb_path):\n",
    "    t = time.time()\n",
    "    # get the level of the LOBSTER dataset\n",
    "    level = int(msg_path.split(\".\")[0][-1])\n",
    "    # get the date\n",
    "    date = msg_path.split(\".\")[0].split(\"_\")[1]\n",
    "    # add header row for message csv\n",
    "    msg_names = [\"Time_stamp\", \"Type\", \"OrderID\", \"V\", \"P\", \"Dir\"]  # V: size; P: price; Dir: direction\n",
    "    df_msg = pd.read_csv(msg_path, names=msg_names)\n",
    "    # add header row for orderbook csv\n",
    "    default_ordb_names = ['P_ask', 'V_ask', 'P_bid', 'V_bid']\n",
    "    ordb_names = []\n",
    "    for i in range(level):\n",
    "        for item in default_ordb_names:\n",
    "            ordb_names.append(str(item) + str(\"_\") + str(i + 1))\n",
    "    df_ordb = pd.read_csv(ordb_path, names=ordb_names)\n",
    "    # adding a meaningful time column\n",
    "    df_msg['Time'] = pd.to_datetime(df_msg['Time_stamp'], unit=\"s\", origin=pd.Timestamp(date))\n",
    "    # combine two dataframes and return it\n",
    "    df = pd.concat([df_msg, df_ordb], axis=1)\n",
    "    print(\"Completed. It takes about {0:.2f} minutes.\".format((time.time()-t)/60))\n",
    "    return df\n",
    "\n",
    "# Renaming columns as to strip out redundnat words\n",
    "def RenameColumn(df,state_type):\n",
    "    old_col = df.columns.tolist()\n",
    "    new_col = []\n",
    "    for col in old_col:\n",
    "        if ( (\"bid\" in col) | (\"ask\" in col) ):\n",
    "            new_col.append(col+str(\" \")+state_type)\n",
    "        elif ((col == 'V') | (col == 'P')):\n",
    "            new_col.append(col+str(\" \")+state_type)\n",
    "        elif (col=='Time'):\n",
    "            new_col.append(col+str(\" \")+state_type)\n",
    "        else:\n",
    "            new_col.append(col)\n",
    "    columns = dict(zip(old_col,new_col))\n",
    "    df.rename(columns=columns,inplace=True)\n",
    "    return\n",
    "\n",
    "def GroupByOrderType(df,typeID):                        # for now, typeID should only be 2 or 3 or 4 or 5\n",
    "    t = time.time()\n",
    "    # lookup dictionary\n",
    "    lookup = {1:'Sub', 2:'Can', 3:'Del', 4:'ExVis',5:'ExHid',7:'Halt'}\n",
    "    # getting all the orders of type typeID\n",
    "    orderID_set = set(df[(df['Type']==typeID)].OrderID.tolist())\n",
    "    df_subset = df.loc[df['OrderID'].isin(orderID_set)]\n",
    "    \n",
    "    # get initial states when orders of this type is submitted\n",
    "    df_init = df_subset[(df_subset['Type']==1)]\n",
    "    RenameColumn(df_init,state_type=lookup[1])\n",
    "    \n",
    "    # get the end states of type typeID\n",
    "    df_end = df_subset[(df_subset['Type']==typeID)]\n",
    "    RenameColumn(df_end,state_type=lookup[typeID])\n",
    "    \n",
    "    # merge these two dataframes\n",
    "    df = df_init.merge(df_end, left_on='OrderID', right_on='OrderID', how='outer')\n",
    "    print(\"Completed. It takes about {0:.2f} minutes.\".format((time.time()-t)/60))\n",
    "    return df"
   ]
  },
  {
   "cell_type": "code",
   "execution_count": 46,
   "metadata": {
    "collapsed": true
   },
   "outputs": [],
   "source": [
    "## FOR PAPER 462\n",
    "# Compute Time-insensitive variables\n",
    "def ComputeTimeInsenstiveSet(df_original, levels=5):\n",
    "    df = df_original.copy(deep=False)\n",
    "    t = time.time()\n",
    "    for i in range(1,levels+1):\n",
    "        # compute bid-ask spreads and mid-prices (v2)\n",
    "        df[\"bid-ask spread {}\".format(i)] = df[\"P_ask_{}\".format(i)] - df[\"P_bid_{}\".format(i)]\n",
    "        df[\"mid-price {}\".format(i)] = (df[\"P_ask_{}\".format(i)] + df[\"P_bid_{}\".format(i)])/2\n",
    "        # compute price differences (v3)\n",
    "        df[\"d_P_ask_{}{}\".format(levels,1)] = df[\"P_ask_{}\".format(levels)] - df[\"P_ask_1\"]\n",
    "        df[\"d_P_bid_{}{}\".format(levels,1)] = df[\"P_bid_{}\".format(levels)] - df[\"P_bid_1\"]\n",
    "        for j in range(1,levels):\n",
    "            df[\"d_P_ask_{}{}\".format(j+1,j)] = np.abs(df[\"P_ask_{}\".format(j+1)] - df[\"P_ask_{}\".format(j)])\n",
    "            df[\"d_P_bid_{}{}\".format(j+1,j)] = np.abs(df[\"P_bid_{}\".format(j+1)] - df[\"P_bid_{}\".format(j)])\n",
    "        # compute mean prices and volumes (v4)\n",
    "        df[\"Mean_P_ask\"] = df[[\"P_ask_{}\".format(i) for i in range(1,levels+1)]].mean(axis=1)\n",
    "        df[\"Mean_P_bid\"] = df[[\"P_bid_{}\".format(i) for i in range(1,levels+1)]].mean(axis=1)\n",
    "        df[\"Mean_V_ask\"] = df[[\"V_ask_{}\".format(i) for i in range(1,levels+1)]].mean(axis=1)\n",
    "        df[\"Mean_V_bid\"] = df[[\"V_bid_{}\".format(i) for i in range(1,levels+1)]].mean(axis=1)\n",
    "        # compute accumulated differences (v5)\n",
    "        df[\"P_accu\"] = df[[\"P_ask_{}\".format(i) for i in range(1,levels+1)]].sum(axis=1) \\\n",
    "            - df[[\"P_bid_{}\".format(i) for i in range(1,levels+1)]].sum(axis=1)\n",
    "        df[\"V_accu\"] = df[[\"V_ask_{}\".format(i) for i in range(1,levels+1)]].sum(axis=1) \\\n",
    "            - df[[\"V_bid_{}\".format(i) for i in range(1,levels+1)]].sum(axis=1)\n",
    "    # returning...\n",
    "    print(\"Completed. It takes about {0:.2f} minutes.\".format((time.time()-t)/60))\n",
    "    return df\n",
    "\n",
    "# Compute Time-sensitive variables\n",
    "def ComputeTimeSensitiveSet(df_original,levels=5,dt_secs=1):\n",
    "    df = df_original.copy(deep=False)\n",
    "    t = time.time()\n",
    "    for index, row in df.iterrows():\n",
    "        t = row['Time_stamp']\n",
    "        temp = df.loc[(df['Time_stamp']>t-dt_secs)&(df['Time_stamp']<=t)] # for v6\n",
    "        # Note: direction = 1 <--> buy/bid order;   direction = -1 <--> sell/ask order\n",
    "        temp_la = df.loc[(df['Time_stamp']>t-dt_secs)&(df['Time_stamp']<=t)&(df['Dir']==-1)] # limit ask order\n",
    "        temp_lb = df.loc[(df['Time_stamp']>t-dt_secs)&(df['Time_stamp']<=t)&(df['Dir']==1)]  # limit bid order\n",
    "        temp_ca = df.loc[(df['Time_stamp']>t-dt_secs)&(df['Time_stamp']<=t)\n",
    "                         &(df['Dir']==-1)&(df['Type']==2)] # cancelled limit ask order\n",
    "        temp_cb = df.loc[(df['Time_stamp']>t-dt_secs)&(df['Time_stamp']<=t)\n",
    "                         &(df['Dir']==1)&(df['Type']==2)]  # cancelled limit buy order\n",
    "        for i in range(1,levels+1):\n",
    "            # compute price and volume derivatives (v6)\n",
    "            df.set_value(index,'der_P_ask_{}'.format(i),\n",
    "                         (temp['P_ask_{}'.format(i)].iloc[-1]-temp['P_ask_{}'.format(i)].iloc[0])/dt_secs)\n",
    "            df.set_value(index,'der_P_bid_{}'.format(i),\n",
    "                         (temp['P_bid_{}'.format(i)].iloc[-1]-temp['P_bid_{}'.format(i)].iloc[0])/dt_secs)\n",
    "            df.set_value(index,'der_V_ask_{}'.format(i),\n",
    "                         (temp['V_ask_{}'.format(i)].iloc[-1]-temp['V_ask_{}'.format(i)].iloc[0])/dt_secs)\n",
    "            df.set_value(index,'der_V_bid_{}'.format(i),\n",
    "                         (temp['V_bid_{}'.format(i)].iloc[-1]-temp['V_bid_{}'.format(i)].iloc[0])/dt_secs)\n",
    "            # compute average intensity of each type (v7)\n",
    "            df.set_value(index,'lam_la',int(len(temp_la.index)/dt_secs))\n",
    "            df.set_value(index,'lam_lb',int(len(temp_lb.index)/dt_secs))\n",
    "            df.set_value(index,'lam_ca',int(len(temp_ca.index)/dt_secs))\n",
    "            df.set_value(index,'lam_cb',int(len(temp_cb.index)/dt_secs))\n",
    "            # compute relative intensity indicators (v8) ???\n",
    "            # compute accelerations (market/limit)  (v9) ???\n",
    "    print(\"Completed. It takes about {0:.2f} minutes.\".format((time.time()-t)/60))\n",
    "    return df"
   ]
  },
  {
   "cell_type": "code",
   "execution_count": 47,
   "metadata": {
    "collapsed": true
   },
   "outputs": [],
   "source": [
    "# Function of Adding the labels (lb, la, mb, ma) to classify all of the order\n",
    "def AddLabels(df_original):\n",
    "    df = df_original.copy(deep=False)\n",
    "    t = time.time()\n",
    "    labels = []\n",
    "    for index, row in df.iterrows():\n",
    "        if (row['Type']==1):\n",
    "            if (row['Dir']==-1):\n",
    "                labels.append('la')\n",
    "            elif (row['Dir']==1):\n",
    "                labels.append('lb')\n",
    "        elif (row['Type'] in [4,5]):  # -1: sell limit order; 1: buy limit order; \n",
    "            if (row['Dir']==-1):      # But execution of buy/sell is initiated by a market sell/buy trade                    \n",
    "                labels.append('mb')\n",
    "            elif (row['Dir']==1):\n",
    "                labels.append('ma')\n",
    "        elif (row['Type']==2):\n",
    "            labels.append('pc')\n",
    "        elif (row['Type']==3):\n",
    "            labels.append('c')\n",
    "        else:\n",
    "            labels.append(None)\n",
    "            print('error! index {} has unknown order type.'.format(index))\n",
    "    ## \n",
    "    df['Label'] = labels\n",
    "    print(\"Completed. It takes about {0:.2f} minutes.\".format((time.time()-t)/60))\n",
    "    return df"
   ]
  },
  {
   "cell_type": "code",
   "execution_count": 48,
   "metadata": {
    "collapsed": true
   },
   "outputs": [],
   "source": [
    "# Function of Classifying the level where action takes\n",
    "def AddPriceLevels(df_original):\n",
    "    df = df_original.copy(deep=False)  \n",
    "    t = time.time()\n",
    "    if ('Label' not in df.columns):\n",
    "        print(\"You haven't appended labels to messages.\")\n",
    "        return\n",
    "    nlevels = 5\n",
    "    levels = [None]\n",
    "    for index, row in df.iterrows():   # 1: buy   -1: sell\n",
    "        if (index > 0):\n",
    "            bid_levels = np.array(df.iloc[index-1][[\"P_bid_{}\".format(i) for i in range(1,nlevels+1)]])\n",
    "            ask_levels = np.array(df.iloc[index-1][[\"P_ask_{}\".format(i) for i in range(1,nlevels+1)]])\n",
    "            price = row['P']\n",
    "            # for label 'la', 'lb'\n",
    "            if (row[\"Label\"] in ['la','lb']):\n",
    "                if (row['Dir']==-1):\n",
    "                    if (price > max(ask_levels)):\n",
    "                        i = \"out-of-bounds\"\n",
    "                    else:\n",
    "                        i = np.argmax(price<=ask_levels)\n",
    "                    levels.append(int(i+1))\n",
    "                elif (row['Dir']==1):\n",
    "                    if (price < min(bid_levels)):\n",
    "                        i = \"out-of_bounds\"\n",
    "                    else:\n",
    "                        i = np.argmax(price>=bid_levels)\n",
    "                    levels.append(int(i+1))\n",
    "            # for 'c', 'pc'\n",
    "            elif (row[\"Label\"] in ['c','pc']):\n",
    "                if (row['Dir']==-1):\n",
    "                    i = np.where(price==ask_levels)[0]\n",
    "                    levels.append(int(i+1))\n",
    "                elif (row['Dir']==1):\n",
    "                    i = np.where(price==bid_levels)[0]\n",
    "                    levels.append(int(i+1))\n",
    "            # for 'mb', 'ma', always happen at the best level\n",
    "            elif (row[\"Label\"] in ['mb','ma']):\n",
    "                levels.append(int(1))\n",
    "            else:\n",
    "                levels.append(None)     \n",
    "    if (len(df.index)!=len(levels)):\n",
    "        print('Error. Lengths don\\'t match.')\n",
    "        return\n",
    "    df['Level'] = levels\n",
    "    print(\"Completed. It takes about {0:.2f} minutes.\".format((time.time()-t)/60))\n",
    "    return df"
   ]
  },
  {
   "cell_type": "code",
   "execution_count": 54,
   "metadata": {
    "collapsed": true
   },
   "outputs": [],
   "source": [
    "def AddVolatilityAndNOB(df_original,dt_mins):\n",
    "    df = df_original.copy(deep=False)\n",
    "    t2 = time.time()\n",
    "    dt = dt_mins * 60 # convert minutes to seconds\n",
    "    norders, volts = [],[]\n",
    "    steps = int(len(df.index)/10)\n",
    "    for index, row in df.iterrows():\n",
    "        t = row['Time_stamp']\n",
    "        subset = df[(df['Time_stamp']>t-dt)&(df['Time_stamp']<=t)]\n",
    "        # computing...\n",
    "        norder = len(subset[(subset['Type']==1)].index) # type 1: limit order submitted\n",
    "        volt = np.std(subset[(subset['Type']==4)|(subset['Type']==5)]['P']) # type 4 and 5: execution\n",
    "        # appending\n",
    "        norders.append(norder)\n",
    "        volts.append(volt)\n",
    "        if (len(volts)% steps == 0):\n",
    "            print(\"{0:.2f}%..\".format(len(volts)*100/len(df.index)))\n",
    "    df['Volts'] = volts\n",
    "    df['N_OrderSubmit'] = norders\n",
    "    print(\"Completed. It takes about {0:.2f} minutes.\".format((time.time()-t2)/60))\n",
    "    return df"
   ]
  },
  {
   "cell_type": "markdown",
   "metadata": {},
   "source": [
    "### Processing starts from here"
   ]
  },
  {
   "cell_type": "markdown",
   "metadata": {},
   "source": [
    "#### 1) MERGING MESSAGE FILE AND ORDERBOOK FILE"
   ]
  },
  {
   "cell_type": "code",
   "execution_count": 49,
   "metadata": {},
   "outputs": [
    {
     "name": "stdout",
     "output_type": "stream",
     "text": [
      "Completed. It takes about 0.03 minutes.\n"
     ]
    }
   ],
   "source": [
    "df = Merge_MsgAndOrdb(msg_path='AMZN_2012-06-21_34200000_57600000_message_5.csv',\n",
    "                     ordb_path='AMZN_2012-06-21_34200000_57600000_orderbook_5.csv')\n",
    "#df.head(5)"
   ]
  },
  {
   "cell_type": "markdown",
   "metadata": {},
   "source": [
    "#### 2) ADDING LABELS"
   ]
  },
  {
   "cell_type": "code",
   "execution_count": 50,
   "metadata": {},
   "outputs": [
    {
     "name": "stdout",
     "output_type": "stream",
     "text": [
      "Completed. It takes about 0.32 minutes.\n"
     ]
    }
   ],
   "source": [
    "df = AddLabels(df)"
   ]
  },
  {
   "cell_type": "code",
   "execution_count": 51,
   "metadata": {
    "collapsed": true
   },
   "outputs": [],
   "source": [
    "#df.columns"
   ]
  },
  {
   "cell_type": "markdown",
   "metadata": {},
   "source": [
    "#### 3) ADDING PRICE LEVEL INFORMATION"
   ]
  },
  {
   "cell_type": "code",
   "execution_count": 52,
   "metadata": {},
   "outputs": [
    {
     "name": "stdout",
     "output_type": "stream",
     "text": [
      "Completed. It takes about 6.75 minutes.\n"
     ]
    }
   ],
   "source": [
    "df = AddPriceLevels(df)"
   ]
  },
  {
   "cell_type": "code",
   "execution_count": 53,
   "metadata": {},
   "outputs": [
    {
     "name": "stdout",
     "output_type": "stream",
     "text": [
      "after adding labels and price levels, dataset looks like: \n"
     ]
    },
    {
     "data": {
      "text/html": [
       "<div>\n",
       "<style scoped>\n",
       "    .dataframe tbody tr th:only-of-type {\n",
       "        vertical-align: middle;\n",
       "    }\n",
       "\n",
       "    .dataframe tbody tr th {\n",
       "        vertical-align: top;\n",
       "    }\n",
       "\n",
       "    .dataframe thead th {\n",
       "        text-align: right;\n",
       "    }\n",
       "</style>\n",
       "<table border=\"1\" class=\"dataframe\">\n",
       "  <thead>\n",
       "    <tr style=\"text-align: right;\">\n",
       "      <th></th>\n",
       "      <th>Time_stamp</th>\n",
       "      <th>Type</th>\n",
       "      <th>OrderID</th>\n",
       "      <th>V</th>\n",
       "      <th>P</th>\n",
       "      <th>Dir</th>\n",
       "      <th>Time</th>\n",
       "      <th>P_ask_1</th>\n",
       "      <th>V_ask_1</th>\n",
       "      <th>P_bid_1</th>\n",
       "      <th>...</th>\n",
       "      <th>P_ask_4</th>\n",
       "      <th>V_ask_4</th>\n",
       "      <th>P_bid_4</th>\n",
       "      <th>V_bid_4</th>\n",
       "      <th>P_ask_5</th>\n",
       "      <th>V_ask_5</th>\n",
       "      <th>P_bid_5</th>\n",
       "      <th>V_bid_5</th>\n",
       "      <th>Label</th>\n",
       "      <th>Level</th>\n",
       "    </tr>\n",
       "  </thead>\n",
       "  <tbody>\n",
       "    <tr>\n",
       "      <th>0</th>\n",
       "      <td>34200.017460</td>\n",
       "      <td>5</td>\n",
       "      <td>0</td>\n",
       "      <td>1</td>\n",
       "      <td>2238200</td>\n",
       "      <td>-1</td>\n",
       "      <td>2012-06-21 09:30:00.017460</td>\n",
       "      <td>2239500</td>\n",
       "      <td>100</td>\n",
       "      <td>2231800</td>\n",
       "      <td>...</td>\n",
       "      <td>2242500</td>\n",
       "      <td>100</td>\n",
       "      <td>2230000</td>\n",
       "      <td>10</td>\n",
       "      <td>2244000</td>\n",
       "      <td>547</td>\n",
       "      <td>2226200</td>\n",
       "      <td>100</td>\n",
       "      <td>mb</td>\n",
       "      <td>NaN</td>\n",
       "    </tr>\n",
       "    <tr>\n",
       "      <th>1</th>\n",
       "      <td>34200.189608</td>\n",
       "      <td>1</td>\n",
       "      <td>11885113</td>\n",
       "      <td>21</td>\n",
       "      <td>2238100</td>\n",
       "      <td>1</td>\n",
       "      <td>2012-06-21 09:30:00.189608</td>\n",
       "      <td>2239500</td>\n",
       "      <td>100</td>\n",
       "      <td>2238100</td>\n",
       "      <td>...</td>\n",
       "      <td>2242500</td>\n",
       "      <td>100</td>\n",
       "      <td>2230400</td>\n",
       "      <td>100</td>\n",
       "      <td>2244000</td>\n",
       "      <td>547</td>\n",
       "      <td>2230000</td>\n",
       "      <td>10</td>\n",
       "      <td>lb</td>\n",
       "      <td>1.0</td>\n",
       "    </tr>\n",
       "    <tr>\n",
       "      <th>2</th>\n",
       "      <td>34200.189608</td>\n",
       "      <td>1</td>\n",
       "      <td>3911376</td>\n",
       "      <td>20</td>\n",
       "      <td>2239600</td>\n",
       "      <td>-1</td>\n",
       "      <td>2012-06-21 09:30:00.189608</td>\n",
       "      <td>2239500</td>\n",
       "      <td>100</td>\n",
       "      <td>2238100</td>\n",
       "      <td>...</td>\n",
       "      <td>2240000</td>\n",
       "      <td>220</td>\n",
       "      <td>2230400</td>\n",
       "      <td>100</td>\n",
       "      <td>2242500</td>\n",
       "      <td>100</td>\n",
       "      <td>2230000</td>\n",
       "      <td>10</td>\n",
       "      <td>la</td>\n",
       "      <td>2.0</td>\n",
       "    </tr>\n",
       "  </tbody>\n",
       "</table>\n",
       "<p>3 rows × 29 columns</p>\n",
       "</div>"
      ],
      "text/plain": [
       "     Time_stamp  Type   OrderID   V        P  Dir                       Time  \\\n",
       "0  34200.017460     5         0   1  2238200   -1 2012-06-21 09:30:00.017460   \n",
       "1  34200.189608     1  11885113  21  2238100    1 2012-06-21 09:30:00.189608   \n",
       "2  34200.189608     1   3911376  20  2239600   -1 2012-06-21 09:30:00.189608   \n",
       "\n",
       "   P_ask_1  V_ask_1  P_bid_1  ...    P_ask_4  V_ask_4  P_bid_4  V_bid_4  \\\n",
       "0  2239500      100  2231800  ...    2242500      100  2230000       10   \n",
       "1  2239500      100  2238100  ...    2242500      100  2230400      100   \n",
       "2  2239500      100  2238100  ...    2240000      220  2230400      100   \n",
       "\n",
       "   P_ask_5  V_ask_5  P_bid_5  V_bid_5  Label  Level  \n",
       "0  2244000      547  2226200      100     mb    NaN  \n",
       "1  2244000      547  2230000       10     lb    1.0  \n",
       "2  2242500      100  2230000       10     la    2.0  \n",
       "\n",
       "[3 rows x 29 columns]"
      ]
     },
     "execution_count": 53,
     "metadata": {},
     "output_type": "execute_result"
    }
   ],
   "source": [
    "print('after adding labels and price levels, dataset looks like: ')\n",
    "df.head(3)"
   ]
  },
  {
   "cell_type": "markdown",
   "metadata": {},
   "source": [
    "#### 4) ADD VOLATILITY AND NUMBER OF LIMIT ORDERS SUBMITTED"
   ]
  },
  {
   "cell_type": "code",
   "execution_count": 55,
   "metadata": {},
   "outputs": [
    {
     "name": "stdout",
     "output_type": "stream",
     "text": [
      "7.70%..\n",
      "15.39%..\n",
      "23.09%..\n",
      "30.78%..\n",
      "38.48%..\n",
      "46.17%..\n",
      "53.87%..\n",
      "61.56%..\n",
      "69.26%..\n",
      "76.96%..\n",
      "84.65%..\n",
      "92.35%..\n",
      "Completed. It takes about 16.12 minutes.\n"
     ]
    }
   ],
   "source": [
    "df = AddVolatilityAndNOB(df_original=df,dt_mins=10)"
   ]
  },
  {
   "cell_type": "code",
   "execution_count": 56,
   "metadata": {},
   "outputs": [
    {
     "name": "stdout",
     "output_type": "stream",
     "text": [
      "after adding volatility and # of orders submitted: \n"
     ]
    },
    {
     "data": {
      "text/html": [
       "<div>\n",
       "<style scoped>\n",
       "    .dataframe tbody tr th:only-of-type {\n",
       "        vertical-align: middle;\n",
       "    }\n",
       "\n",
       "    .dataframe tbody tr th {\n",
       "        vertical-align: top;\n",
       "    }\n",
       "\n",
       "    .dataframe thead th {\n",
       "        text-align: right;\n",
       "    }\n",
       "</style>\n",
       "<table border=\"1\" class=\"dataframe\">\n",
       "  <thead>\n",
       "    <tr style=\"text-align: right;\">\n",
       "      <th></th>\n",
       "      <th>Time_stamp</th>\n",
       "      <th>Type</th>\n",
       "      <th>OrderID</th>\n",
       "      <th>V</th>\n",
       "      <th>P</th>\n",
       "      <th>Dir</th>\n",
       "      <th>Time</th>\n",
       "      <th>P_ask_1</th>\n",
       "      <th>V_ask_1</th>\n",
       "      <th>P_bid_1</th>\n",
       "      <th>...</th>\n",
       "      <th>P_bid_4</th>\n",
       "      <th>V_bid_4</th>\n",
       "      <th>P_ask_5</th>\n",
       "      <th>V_ask_5</th>\n",
       "      <th>P_bid_5</th>\n",
       "      <th>V_bid_5</th>\n",
       "      <th>Label</th>\n",
       "      <th>Level</th>\n",
       "      <th>Volts</th>\n",
       "      <th>N_OrderSubmit</th>\n",
       "    </tr>\n",
       "  </thead>\n",
       "  <tbody>\n",
       "    <tr>\n",
       "      <th>0</th>\n",
       "      <td>34200.017460</td>\n",
       "      <td>5</td>\n",
       "      <td>0</td>\n",
       "      <td>1</td>\n",
       "      <td>2238200</td>\n",
       "      <td>-1</td>\n",
       "      <td>2012-06-21 09:30:00.017460</td>\n",
       "      <td>2239500</td>\n",
       "      <td>100</td>\n",
       "      <td>2231800</td>\n",
       "      <td>...</td>\n",
       "      <td>2230000</td>\n",
       "      <td>10</td>\n",
       "      <td>2244000</td>\n",
       "      <td>547</td>\n",
       "      <td>2226200</td>\n",
       "      <td>100</td>\n",
       "      <td>mb</td>\n",
       "      <td>NaN</td>\n",
       "      <td>0.0</td>\n",
       "      <td>0</td>\n",
       "    </tr>\n",
       "    <tr>\n",
       "      <th>1</th>\n",
       "      <td>34200.189608</td>\n",
       "      <td>1</td>\n",
       "      <td>11885113</td>\n",
       "      <td>21</td>\n",
       "      <td>2238100</td>\n",
       "      <td>1</td>\n",
       "      <td>2012-06-21 09:30:00.189608</td>\n",
       "      <td>2239500</td>\n",
       "      <td>100</td>\n",
       "      <td>2238100</td>\n",
       "      <td>...</td>\n",
       "      <td>2230400</td>\n",
       "      <td>100</td>\n",
       "      <td>2244000</td>\n",
       "      <td>547</td>\n",
       "      <td>2230000</td>\n",
       "      <td>10</td>\n",
       "      <td>lb</td>\n",
       "      <td>1.0</td>\n",
       "      <td>0.0</td>\n",
       "      <td>27</td>\n",
       "    </tr>\n",
       "    <tr>\n",
       "      <th>2</th>\n",
       "      <td>34200.189608</td>\n",
       "      <td>1</td>\n",
       "      <td>3911376</td>\n",
       "      <td>20</td>\n",
       "      <td>2239600</td>\n",
       "      <td>-1</td>\n",
       "      <td>2012-06-21 09:30:00.189608</td>\n",
       "      <td>2239500</td>\n",
       "      <td>100</td>\n",
       "      <td>2238100</td>\n",
       "      <td>...</td>\n",
       "      <td>2230400</td>\n",
       "      <td>100</td>\n",
       "      <td>2242500</td>\n",
       "      <td>100</td>\n",
       "      <td>2230000</td>\n",
       "      <td>10</td>\n",
       "      <td>la</td>\n",
       "      <td>2.0</td>\n",
       "      <td>0.0</td>\n",
       "      <td>27</td>\n",
       "    </tr>\n",
       "  </tbody>\n",
       "</table>\n",
       "<p>3 rows × 31 columns</p>\n",
       "</div>"
      ],
      "text/plain": [
       "     Time_stamp  Type   OrderID   V        P  Dir                       Time  \\\n",
       "0  34200.017460     5         0   1  2238200   -1 2012-06-21 09:30:00.017460   \n",
       "1  34200.189608     1  11885113  21  2238100    1 2012-06-21 09:30:00.189608   \n",
       "2  34200.189608     1   3911376  20  2239600   -1 2012-06-21 09:30:00.189608   \n",
       "\n",
       "   P_ask_1  V_ask_1  P_bid_1      ...        P_bid_4  V_bid_4  P_ask_5  \\\n",
       "0  2239500      100  2231800      ...        2230000       10  2244000   \n",
       "1  2239500      100  2238100      ...        2230400      100  2244000   \n",
       "2  2239500      100  2238100      ...        2230400      100  2242500   \n",
       "\n",
       "   V_ask_5  P_bid_5  V_bid_5  Label  Level  Volts  N_OrderSubmit  \n",
       "0      547  2226200      100     mb    NaN    0.0              0  \n",
       "1      547  2230000       10     lb    1.0    0.0             27  \n",
       "2      100  2230000       10     la    2.0    0.0             27  \n",
       "\n",
       "[3 rows x 31 columns]"
      ]
     },
     "execution_count": 56,
     "metadata": {},
     "output_type": "execute_result"
    }
   ],
   "source": [
    "print('after adding volatility and # of orders submitted: ')\n",
    "df.head(3)"
   ]
  },
  {
   "cell_type": "markdown",
   "metadata": {},
   "source": [
    "#### 5) ADDING TIME-INSENSITIVE FEATURES"
   ]
  },
  {
   "cell_type": "code",
   "execution_count": 57,
   "metadata": {},
   "outputs": [
    {
     "name": "stdout",
     "output_type": "stream",
     "text": [
      "Completed. It takes about 0.03 minutes.\n"
     ]
    }
   ],
   "source": [
    "df = ComputeTimeInsenstiveSet(df)"
   ]
  },
  {
   "cell_type": "code",
   "execution_count": 58,
   "metadata": {},
   "outputs": [
    {
     "name": "stdout",
     "output_type": "stream",
     "text": [
      "after appending time-insensitive information:\n"
     ]
    },
    {
     "data": {
      "text/html": [
       "<div>\n",
       "<style scoped>\n",
       "    .dataframe tbody tr th:only-of-type {\n",
       "        vertical-align: middle;\n",
       "    }\n",
       "\n",
       "    .dataframe tbody tr th {\n",
       "        vertical-align: top;\n",
       "    }\n",
       "\n",
       "    .dataframe thead th {\n",
       "        text-align: right;\n",
       "    }\n",
       "</style>\n",
       "<table border=\"1\" class=\"dataframe\">\n",
       "  <thead>\n",
       "    <tr style=\"text-align: right;\">\n",
       "      <th></th>\n",
       "      <th>Time_stamp</th>\n",
       "      <th>Type</th>\n",
       "      <th>OrderID</th>\n",
       "      <th>V</th>\n",
       "      <th>P</th>\n",
       "      <th>Dir</th>\n",
       "      <th>Time</th>\n",
       "      <th>P_ask_1</th>\n",
       "      <th>V_ask_1</th>\n",
       "      <th>P_bid_1</th>\n",
       "      <th>...</th>\n",
       "      <th>P_accu</th>\n",
       "      <th>V_accu</th>\n",
       "      <th>bid-ask spread 2</th>\n",
       "      <th>mid-price 2</th>\n",
       "      <th>bid-ask spread 3</th>\n",
       "      <th>mid-price 3</th>\n",
       "      <th>bid-ask spread 4</th>\n",
       "      <th>mid-price 4</th>\n",
       "      <th>bid-ask spread 5</th>\n",
       "      <th>mid-price 5</th>\n",
       "    </tr>\n",
       "  </thead>\n",
       "  <tbody>\n",
       "    <tr>\n",
       "      <th>0</th>\n",
       "      <td>34200.017460</td>\n",
       "      <td>5</td>\n",
       "      <td>0</td>\n",
       "      <td>1</td>\n",
       "      <td>2238200</td>\n",
       "      <td>-1</td>\n",
       "      <td>2012-06-21 09:30:00.017460</td>\n",
       "      <td>2239500</td>\n",
       "      <td>100</td>\n",
       "      <td>2231800</td>\n",
       "      <td>...</td>\n",
       "      <td>56800</td>\n",
       "      <td>557</td>\n",
       "      <td>9200</td>\n",
       "      <td>2235300.0</td>\n",
       "      <td>9600</td>\n",
       "      <td>2235200.0</td>\n",
       "      <td>12500</td>\n",
       "      <td>2236250.0</td>\n",
       "      <td>17800</td>\n",
       "      <td>2235100.0</td>\n",
       "    </tr>\n",
       "    <tr>\n",
       "      <th>1</th>\n",
       "      <td>34200.189608</td>\n",
       "      <td>1</td>\n",
       "      <td>11885113</td>\n",
       "      <td>21</td>\n",
       "      <td>2238100</td>\n",
       "      <td>1</td>\n",
       "      <td>2012-06-21 09:30:00.189608</td>\n",
       "      <td>2239500</td>\n",
       "      <td>100</td>\n",
       "      <td>2238100</td>\n",
       "      <td>...</td>\n",
       "      <td>44900</td>\n",
       "      <td>636</td>\n",
       "      <td>8100</td>\n",
       "      <td>2235850.0</td>\n",
       "      <td>9300</td>\n",
       "      <td>2235350.0</td>\n",
       "      <td>12100</td>\n",
       "      <td>2236450.0</td>\n",
       "      <td>14000</td>\n",
       "      <td>2237000.0</td>\n",
       "    </tr>\n",
       "    <tr>\n",
       "      <th>2</th>\n",
       "      <td>34200.189608</td>\n",
       "      <td>1</td>\n",
       "      <td>3911376</td>\n",
       "      <td>20</td>\n",
       "      <td>2239600</td>\n",
       "      <td>-1</td>\n",
       "      <td>2012-06-21 09:30:00.189608</td>\n",
       "      <td>2239500</td>\n",
       "      <td>100</td>\n",
       "      <td>2238100</td>\n",
       "      <td>...</td>\n",
       "      <td>40500</td>\n",
       "      <td>109</td>\n",
       "      <td>7800</td>\n",
       "      <td>2235700.0</td>\n",
       "      <td>9200</td>\n",
       "      <td>2235300.0</td>\n",
       "      <td>9600</td>\n",
       "      <td>2235200.0</td>\n",
       "      <td>12500</td>\n",
       "      <td>2236250.0</td>\n",
       "    </tr>\n",
       "  </tbody>\n",
       "</table>\n",
       "<p>3 rows × 57 columns</p>\n",
       "</div>"
      ],
      "text/plain": [
       "     Time_stamp  Type   OrderID   V        P  Dir                       Time  \\\n",
       "0  34200.017460     5         0   1  2238200   -1 2012-06-21 09:30:00.017460   \n",
       "1  34200.189608     1  11885113  21  2238100    1 2012-06-21 09:30:00.189608   \n",
       "2  34200.189608     1   3911376  20  2239600   -1 2012-06-21 09:30:00.189608   \n",
       "\n",
       "   P_ask_1  V_ask_1  P_bid_1     ...       P_accu  V_accu  bid-ask spread 2  \\\n",
       "0  2239500      100  2231800     ...        56800     557              9200   \n",
       "1  2239500      100  2238100     ...        44900     636              8100   \n",
       "2  2239500      100  2238100     ...        40500     109              7800   \n",
       "\n",
       "   mid-price 2  bid-ask spread 3  mid-price 3  bid-ask spread 4  mid-price 4  \\\n",
       "0    2235300.0              9600    2235200.0             12500    2236250.0   \n",
       "1    2235850.0              9300    2235350.0             12100    2236450.0   \n",
       "2    2235700.0              9200    2235300.0              9600    2235200.0   \n",
       "\n",
       "   bid-ask spread 5  mid-price 5  \n",
       "0             17800    2235100.0  \n",
       "1             14000    2237000.0  \n",
       "2             12500    2236250.0  \n",
       "\n",
       "[3 rows x 57 columns]"
      ]
     },
     "execution_count": 58,
     "metadata": {},
     "output_type": "execute_result"
    }
   ],
   "source": [
    "print('after appending time-insensitive information:')\n",
    "df.head(3)"
   ]
  },
  {
   "cell_type": "code",
   "execution_count": 59,
   "metadata": {},
   "outputs": [
    {
     "data": {
      "text/plain": [
       "Index(['Time_stamp', 'Type', 'OrderID', 'V', 'P', 'Dir', 'Time', 'P_ask_1',\n",
       "       'V_ask_1', 'P_bid_1', 'V_bid_1', 'P_ask_2', 'V_ask_2', 'P_bid_2',\n",
       "       'V_bid_2', 'P_ask_3', 'V_ask_3', 'P_bid_3', 'V_bid_3', 'P_ask_4',\n",
       "       'V_ask_4', 'P_bid_4', 'V_bid_4', 'P_ask_5', 'V_ask_5', 'P_bid_5',\n",
       "       'V_bid_5', 'Label', 'Level', 'Volts', 'N_OrderSubmit',\n",
       "       'bid-ask spread 1', 'mid-price 1', 'd_P_ask_51', 'd_P_bid_51',\n",
       "       'd_P_ask_21', 'd_P_bid_21', 'd_P_ask_32', 'd_P_bid_32', 'd_P_ask_43',\n",
       "       'd_P_bid_43', 'd_P_ask_54', 'd_P_bid_54', 'Mean_P_ask', 'Mean_P_bid',\n",
       "       'Mean_V_ask', 'Mean_V_bid', 'P_accu', 'V_accu', 'bid-ask spread 2',\n",
       "       'mid-price 2', 'bid-ask spread 3', 'mid-price 3', 'bid-ask spread 4',\n",
       "       'mid-price 4', 'bid-ask spread 5', 'mid-price 5'],\n",
       "      dtype='object')"
      ]
     },
     "execution_count": 59,
     "metadata": {},
     "output_type": "execute_result"
    }
   ],
   "source": [
    "df.columns"
   ]
  },
  {
   "cell_type": "markdown",
   "metadata": {},
   "source": [
    "#### 6) AND MARKET  INFORMATION"
   ]
  },
  {
   "cell_type": "code",
   "execution_count": 65,
   "metadata": {
    "collapsed": true
   },
   "outputs": [],
   "source": [
    "def AddMarketInformation(df_original,dt_mins):\n",
    "    df = df_original.copy(deep=False)\n",
    "    t2 = time.time()\n",
    "    dt = dt_mins * 60 # convert minutes to seconds\n",
    "    submit_rates, cancel_rates, execute_rates = [],[],[]\n",
    "    steps = int(len(df.index)/10)\n",
    "    for index, row in df.iterrows():\n",
    "        t = row['Time_stamp']\n",
    "        subset = df[(df['Time_stamp']>t-dt)&(df['Time_stamp']<=t)]\n",
    "        # computing...\n",
    "        submit = subset[(subset['Label']=='la')|(subset['Label']=='lb')] # newly-added orders\n",
    "        cancel = subset[(subset['Label']=='c')|(subset['Label']=='pc')] # cancelled orders\n",
    "        execute = subset[(subset['Label']=='ma')|(subset['Label']=='mb')] # executed orders/ market orders come\n",
    "        # appending\n",
    "        submit_rates.append(np.round(len(submit.index)*100/len(subset.index),2))\n",
    "        cancel_rates.append(np.round(len(cancel.index)*100/len(subset.index),2))\n",
    "        execute_rates.append(np.round(len(execute.index)*100/len(subset.index),2))\n",
    "        \n",
    "        if (len(submit_rates)% steps == 0):\n",
    "            print(\"{0:.2f}%..\".format(len(submit_rates)*100/len(df.index)))\n",
    "    df['Submit_rate'] = submit_rates\n",
    "    df['Cancel_rate'] = cancel_rates\n",
    "    df['Execute_rate'] = execute_rates\n",
    "    print(\"Completed. It takes about {0:.2f} minutes.\".format((time.time()-t2)/60))\n",
    "    return df"
   ]
  },
  {
   "cell_type": "code",
   "execution_count": 66,
   "metadata": {},
   "outputs": [
    {
     "name": "stdout",
     "output_type": "stream",
     "text": [
      "7.70%..\n",
      "15.39%..\n",
      "23.09%..\n",
      "30.78%..\n",
      "38.48%..\n",
      "46.17%..\n",
      "53.87%..\n",
      "61.56%..\n",
      "69.26%..\n",
      "76.96%..\n",
      "84.65%..\n",
      "92.35%..\n",
      "Completed. It takes about 30.54 minutes.\n"
     ]
    }
   ],
   "source": [
    "df = AddMarketInformation(df_original=df,dt_mins=10)"
   ]
  },
  {
   "cell_type": "markdown",
   "metadata": {},
   "source": [
    "#### 7) CUT DOWN ROWS FOR THE FIRST TEN MINUTES"
   ]
  },
  {
   "cell_type": "code",
   "execution_count": 92,
   "metadata": {},
   "outputs": [
    {
     "name": "stdout",
     "output_type": "stream",
     "text": [
      "previous df length: 155935;\n",
      "length after removing first 10 mins: 153103\n"
     ]
    }
   ],
   "source": [
    "firstT = df['Time_stamp'].tolist()[0]\n",
    "T = firstT + 60 * 10\n",
    "df_noFirst10Mins = df[(df['Time_stamp'])>=T]\n",
    "print('previous df length: {};\\nlength after removing first 10 mins: {}'.format(len(df.index),len(df_noFirst10Mins.index)))"
   ]
  },
  {
   "cell_type": "markdown",
   "metadata": {},
   "source": [
    "#### 8) VERIFICATION"
   ]
  },
  {
   "cell_type": "code",
   "execution_count": 88,
   "metadata": {},
   "outputs": [
    {
     "data": {
      "text/plain": [
       "Index(['Time_stamp', 'Type', 'OrderID', 'V', 'P', 'Dir', 'Time', 'P_ask_1',\n",
       "       'V_ask_1', 'P_bid_1', 'V_bid_1', 'P_ask_2', 'V_ask_2', 'P_bid_2',\n",
       "       'V_bid_2', 'P_ask_3', 'V_ask_3', 'P_bid_3', 'V_bid_3', 'P_ask_4',\n",
       "       'V_ask_4', 'P_bid_4', 'V_bid_4', 'P_ask_5', 'V_ask_5', 'P_bid_5',\n",
       "       'V_bid_5', 'Label', 'Level', 'Volts', 'N_OrderSubmit',\n",
       "       'bid-ask spread 1', 'mid-price 1', 'd_P_ask_51', 'd_P_bid_51',\n",
       "       'd_P_ask_21', 'd_P_bid_21', 'd_P_ask_32', 'd_P_bid_32', 'd_P_ask_43',\n",
       "       'd_P_bid_43', 'd_P_ask_54', 'd_P_bid_54', 'Mean_P_ask', 'Mean_P_bid',\n",
       "       'Mean_V_ask', 'Mean_V_bid', 'P_accu', 'V_accu', 'bid-ask spread 2',\n",
       "       'mid-price 2', 'bid-ask spread 3', 'mid-price 3', 'bid-ask spread 4',\n",
       "       'mid-price 4', 'bid-ask spread 5', 'mid-price 5', 'Submit_rate',\n",
       "       'Cancel_rate', 'Execute_rate'],\n",
       "      dtype='object')"
      ]
     },
     "execution_count": 88,
     "metadata": {},
     "output_type": "execute_result"
    }
   ],
   "source": [
    "df_noFirst10Mins.columns"
   ]
  },
  {
   "cell_type": "markdown",
   "metadata": {},
   "source": [
    "####  9) OUTPUT IT TO A CSV"
   ]
  },
  {
   "cell_type": "code",
   "execution_count": 94,
   "metadata": {
    "collapsed": true
   },
   "outputs": [],
   "source": [
    "df_noFirst10Mins.to_csv(\"MsgAndOrders_withNewColumns_noFirst10Mins.csv\")\n",
    "df.to_csv(\"MsgAndOrders_withNewColumns.csv\")"
   ]
  },
  {
   "cell_type": "markdown",
   "metadata": {},
   "source": [
    "## TESTING.... "
   ]
  },
  {
   "cell_type": "code",
   "execution_count": null,
   "metadata": {
    "collapsed": true
   },
   "outputs": [],
   "source": []
  }
 ],
 "metadata": {
  "kernelspec": {
   "display_name": "Python 3",
   "language": "python",
   "name": "python3"
  },
  "language_info": {
   "codemirror_mode": {
    "name": "ipython",
    "version": 3
   },
   "file_extension": ".py",
   "mimetype": "text/x-python",
   "name": "python",
   "nbconvert_exporter": "python",
   "pygments_lexer": "ipython3",
   "version": "3.6.3"
  }
 },
 "nbformat": 4,
 "nbformat_minor": 2
}

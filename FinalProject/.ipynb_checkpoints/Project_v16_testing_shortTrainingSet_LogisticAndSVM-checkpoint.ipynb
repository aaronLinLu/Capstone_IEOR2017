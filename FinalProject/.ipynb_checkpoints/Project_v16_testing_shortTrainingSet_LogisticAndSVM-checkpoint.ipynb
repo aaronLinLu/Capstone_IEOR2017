{
 "cells": [
  {
   "cell_type": "code",
   "execution_count": 69,
   "metadata": {
    "collapsed": true
   },
   "outputs": [],
   "source": [
    "import numpy as np\n",
    "import pandas as pd\n",
    "from sklearn.metrics import precision_recall_curve, precision_score, recall_score, accuracy_score, roc_curve, roc_auc_score, f1_score\n",
    "from sklearn.model_selection import GridSearchCV"
   ]
  },
  {
   "cell_type": "code",
   "execution_count": 70,
   "metadata": {
    "collapsed": true
   },
   "outputs": [],
   "source": [
    "df = pd.read_csv('Messages_allDay_AMZN_withY.csv')"
   ]
  },
  {
   "cell_type": "code",
   "execution_count": 71,
   "metadata": {},
   "outputs": [
    {
     "data": {
      "text/html": [
       "<div>\n",
       "<style scoped>\n",
       "    .dataframe tbody tr th:only-of-type {\n",
       "        vertical-align: middle;\n",
       "    }\n",
       "\n",
       "    .dataframe tbody tr th {\n",
       "        vertical-align: top;\n",
       "    }\n",
       "\n",
       "    .dataframe thead th {\n",
       "        text-align: right;\n",
       "    }\n",
       "</style>\n",
       "<table border=\"1\" class=\"dataframe\">\n",
       "  <thead>\n",
       "    <tr style=\"text-align: right;\">\n",
       "      <th></th>\n",
       "      <th>Unnamed: 0</th>\n",
       "      <th>Time_stamp</th>\n",
       "      <th>Type</th>\n",
       "      <th>OrderID</th>\n",
       "      <th>V</th>\n",
       "      <th>Dir</th>\n",
       "      <th>Time</th>\n",
       "      <th>V_ask_1</th>\n",
       "      <th>V_bid_1</th>\n",
       "      <th>V_ask_2</th>\n",
       "      <th>...</th>\n",
       "      <th>mid-price 2_</th>\n",
       "      <th>bid-ask spread 3_</th>\n",
       "      <th>mid-price 3_</th>\n",
       "      <th>bid-ask spread 4_</th>\n",
       "      <th>mid-price 4_</th>\n",
       "      <th>bid-ask spread 5_</th>\n",
       "      <th>mid-price 5_</th>\n",
       "      <th>Mid_price</th>\n",
       "      <th>MidPrice_Moves</th>\n",
       "      <th>SpdCros_Moves</th>\n",
       "    </tr>\n",
       "  </thead>\n",
       "  <tbody>\n",
       "    <tr>\n",
       "      <th>0</th>\n",
       "      <td>0</td>\n",
       "      <td>34200.18961</td>\n",
       "      <td>1</td>\n",
       "      <td>11885113</td>\n",
       "      <td>21</td>\n",
       "      <td>1</td>\n",
       "      <td>30:00.2</td>\n",
       "      <td>100</td>\n",
       "      <td>21</td>\n",
       "      <td>100</td>\n",
       "      <td>...</td>\n",
       "      <td>223.585</td>\n",
       "      <td>0.93</td>\n",
       "      <td>223.535</td>\n",
       "      <td>1.21</td>\n",
       "      <td>223.645</td>\n",
       "      <td>1.40</td>\n",
       "      <td>223.700</td>\n",
       "      <td>223.88</td>\n",
       "      <td>2</td>\n",
       "      <td>2</td>\n",
       "    </tr>\n",
       "    <tr>\n",
       "      <th>1</th>\n",
       "      <td>1</td>\n",
       "      <td>34200.18961</td>\n",
       "      <td>1</td>\n",
       "      <td>3911376</td>\n",
       "      <td>20</td>\n",
       "      <td>-1</td>\n",
       "      <td>30:00.2</td>\n",
       "      <td>100</td>\n",
       "      <td>21</td>\n",
       "      <td>20</td>\n",
       "      <td>...</td>\n",
       "      <td>223.570</td>\n",
       "      <td>0.92</td>\n",
       "      <td>223.530</td>\n",
       "      <td>0.96</td>\n",
       "      <td>223.520</td>\n",
       "      <td>1.25</td>\n",
       "      <td>223.625</td>\n",
       "      <td>223.88</td>\n",
       "      <td>2</td>\n",
       "      <td>2</td>\n",
       "    </tr>\n",
       "    <tr>\n",
       "      <th>2</th>\n",
       "      <td>2</td>\n",
       "      <td>34200.18961</td>\n",
       "      <td>1</td>\n",
       "      <td>11534792</td>\n",
       "      <td>100</td>\n",
       "      <td>1</td>\n",
       "      <td>30:00.2</td>\n",
       "      <td>100</td>\n",
       "      <td>21</td>\n",
       "      <td>20</td>\n",
       "      <td>...</td>\n",
       "      <td>223.855</td>\n",
       "      <td>0.81</td>\n",
       "      <td>223.585</td>\n",
       "      <td>0.93</td>\n",
       "      <td>223.535</td>\n",
       "      <td>1.21</td>\n",
       "      <td>223.645</td>\n",
       "      <td>223.88</td>\n",
       "      <td>2</td>\n",
       "      <td>2</td>\n",
       "    </tr>\n",
       "    <tr>\n",
       "      <th>3</th>\n",
       "      <td>3</td>\n",
       "      <td>34200.18961</td>\n",
       "      <td>1</td>\n",
       "      <td>1365373</td>\n",
       "      <td>13</td>\n",
       "      <td>-1</td>\n",
       "      <td>30:00.2</td>\n",
       "      <td>100</td>\n",
       "      <td>21</td>\n",
       "      <td>20</td>\n",
       "      <td>...</td>\n",
       "      <td>223.855</td>\n",
       "      <td>0.81</td>\n",
       "      <td>223.585</td>\n",
       "      <td>0.93</td>\n",
       "      <td>223.535</td>\n",
       "      <td>1.21</td>\n",
       "      <td>223.645</td>\n",
       "      <td>223.88</td>\n",
       "      <td>2</td>\n",
       "      <td>2</td>\n",
       "    </tr>\n",
       "    <tr>\n",
       "      <th>4</th>\n",
       "      <td>4</td>\n",
       "      <td>34200.18961</td>\n",
       "      <td>1</td>\n",
       "      <td>11474176</td>\n",
       "      <td>2</td>\n",
       "      <td>1</td>\n",
       "      <td>30:00.2</td>\n",
       "      <td>100</td>\n",
       "      <td>21</td>\n",
       "      <td>20</td>\n",
       "      <td>...</td>\n",
       "      <td>223.855</td>\n",
       "      <td>0.34</td>\n",
       "      <td>223.820</td>\n",
       "      <td>0.82</td>\n",
       "      <td>223.590</td>\n",
       "      <td>1.18</td>\n",
       "      <td>223.660</td>\n",
       "      <td>223.88</td>\n",
       "      <td>2</td>\n",
       "      <td>2</td>\n",
       "    </tr>\n",
       "  </tbody>\n",
       "</table>\n",
       "<p>5 rows × 59 columns</p>\n",
       "</div>"
      ],
      "text/plain": [
       "   Unnamed: 0   Time_stamp  Type   OrderID    V  Dir     Time  V_ask_1  \\\n",
       "0           0  34200.18961     1  11885113   21    1  30:00.2      100   \n",
       "1           1  34200.18961     1   3911376   20   -1  30:00.2      100   \n",
       "2           2  34200.18961     1  11534792  100    1  30:00.2      100   \n",
       "3           3  34200.18961     1   1365373   13   -1  30:00.2      100   \n",
       "4           4  34200.18961     1  11474176    2    1  30:00.2      100   \n",
       "\n",
       "   V_bid_1  V_ask_2      ...        mid-price 2_  bid-ask spread 3_  \\\n",
       "0       21      100      ...             223.585               0.93   \n",
       "1       21       20      ...             223.570               0.92   \n",
       "2       21       20      ...             223.855               0.81   \n",
       "3       21       20      ...             223.855               0.81   \n",
       "4       21       20      ...             223.855               0.34   \n",
       "\n",
       "   mid-price 3_  bid-ask spread 4_  mid-price 4_  bid-ask spread 5_  \\\n",
       "0       223.535               1.21       223.645               1.40   \n",
       "1       223.530               0.96       223.520               1.25   \n",
       "2       223.585               0.93       223.535               1.21   \n",
       "3       223.585               0.93       223.535               1.21   \n",
       "4       223.820               0.82       223.590               1.18   \n",
       "\n",
       "   mid-price 5_ Mid_price  MidPrice_Moves  SpdCros_Moves  \n",
       "0       223.700    223.88               2              2  \n",
       "1       223.625    223.88               2              2  \n",
       "2       223.645    223.88               2              2  \n",
       "3       223.645    223.88               2              2  \n",
       "4       223.660    223.88               2              2  \n",
       "\n",
       "[5 rows x 59 columns]"
      ]
     },
     "execution_count": 71,
     "metadata": {},
     "output_type": "execute_result"
    }
   ],
   "source": [
    "df.head(5)"
   ]
  },
  {
   "cell_type": "code",
   "execution_count": 72,
   "metadata": {},
   "outputs": [
    {
     "data": {
      "text/plain": [
       "(153490, 59)"
      ]
     },
     "execution_count": 72,
     "metadata": {},
     "output_type": "execute_result"
    }
   ],
   "source": [
    "df.shape"
   ]
  },
  {
   "cell_type": "code",
   "execution_count": 73,
   "metadata": {},
   "outputs": [
    {
     "data": {
      "text/plain": [
       "Index(['Unnamed: 0', 'Time_stamp', 'Type', 'OrderID', 'V', 'Dir', 'Time',\n",
       "       'V_ask_1', 'V_bid_1', 'V_ask_2', 'V_bid_2', 'V_ask_3', 'V_bid_3',\n",
       "       'V_ask_4', 'V_bid_4', 'V_ask_5', 'V_bid_5', 'Label', 'Level',\n",
       "       'Mean_V_ask', 'Mean_V_bid', 'V_accu', 'P_', 'P_ask_1_', 'P_bid_1_',\n",
       "       'P_ask_2_', 'P_bid_2_', 'P_ask_3_', 'P_bid_3_', 'P_ask_4_', 'P_bid_4_',\n",
       "       'P_ask_5_', 'P_bid_5_', 'bid-ask spread 1_', 'mid-price 1_',\n",
       "       'd_P_ask_51_', 'd_P_bid_51_', 'd_P_ask_21_', 'd_P_bid_21_',\n",
       "       'd_P_ask_32_', 'd_P_bid_32_', 'd_P_ask_43_', 'd_P_bid_43_',\n",
       "       'd_P_ask_54_', 'd_P_bid_54_', 'Mean_P_ask_', 'Mean_P_bid_', 'P_accu_',\n",
       "       'bid-ask spread 2_', 'mid-price 2_', 'bid-ask spread 3_',\n",
       "       'mid-price 3_', 'bid-ask spread 4_', 'mid-price 4_',\n",
       "       'bid-ask spread 5_', 'mid-price 5_', 'Mid_price', 'MidPrice_Moves',\n",
       "       'SpdCros_Moves'],\n",
       "      dtype='object')"
      ]
     },
     "execution_count": 73,
     "metadata": {},
     "output_type": "execute_result"
    }
   ],
   "source": [
    "df.columns"
   ]
  },
  {
   "cell_type": "code",
   "execution_count": 74,
   "metadata": {
    "collapsed": true
   },
   "outputs": [],
   "source": [
    "# Extract observations between 10:30~10:55\n",
    "df_simplify = df[(df['Time_stamp']>=37800)&(df['Time_stamp']<=39300)]"
   ]
  },
  {
   "cell_type": "code",
   "execution_count": 75,
   "metadata": {},
   "outputs": [
    {
     "data": {
      "text/plain": [
       "(12274, 59)"
      ]
     },
     "execution_count": 75,
     "metadata": {},
     "output_type": "execute_result"
    }
   ],
   "source": [
    "df_simplify.shape"
   ]
  },
  {
   "cell_type": "code",
   "execution_count": 76,
   "metadata": {
    "collapsed": true
   },
   "outputs": [],
   "source": [
    "# Original training set: 10:30~10:50\n",
    "df_train = df_simplify[(df_simplify['Time_stamp']>=37800)&(df_simplify['Time_stamp']<=39000)]"
   ]
  },
  {
   "cell_type": "code",
   "execution_count": 77,
   "metadata": {},
   "outputs": [
    {
     "data": {
      "text/plain": [
       "(8749, 59)"
      ]
     },
     "execution_count": 77,
     "metadata": {},
     "output_type": "execute_result"
    }
   ],
   "source": [
    "df_train.shape"
   ]
  },
  {
   "cell_type": "code",
   "execution_count": 78,
   "metadata": {
    "collapsed": true
   },
   "outputs": [],
   "source": [
    "# Orginal testing set: first 10 rows after 10:50\n",
    "df_test = df_simplify.iloc[8749:8799]"
   ]
  },
  {
   "cell_type": "code",
   "execution_count": 79,
   "metadata": {},
   "outputs": [
    {
     "data": {
      "text/plain": [
       "(50, 59)"
      ]
     },
     "execution_count": 79,
     "metadata": {},
     "output_type": "execute_result"
    }
   ],
   "source": [
    "df_test.shape"
   ]
  },
  {
   "cell_type": "code",
   "execution_count": 80,
   "metadata": {
    "collapsed": true
   },
   "outputs": [],
   "source": [
    "# Extract observations in the training set where y=0/1/2\n",
    "df_train_y_0 = df_train[df_train['MidPrice_Moves'] == 0]\n",
    "df_train_y_1 = df_train[df_train['MidPrice_Moves'] == 1]\n",
    "df_train_y_2 = df_train[df_train['MidPrice_Moves'] == 2]"
   ]
  },
  {
   "cell_type": "code",
   "execution_count": 81,
   "metadata": {},
   "outputs": [
    {
     "data": {
      "text/plain": [
       "(778, 59)"
      ]
     },
     "execution_count": 81,
     "metadata": {},
     "output_type": "execute_result"
    }
   ],
   "source": [
    "df_train_y_0.shape"
   ]
  },
  {
   "cell_type": "code",
   "execution_count": 82,
   "metadata": {},
   "outputs": [
    {
     "data": {
      "text/plain": [
       "(776, 59)"
      ]
     },
     "execution_count": 82,
     "metadata": {},
     "output_type": "execute_result"
    }
   ],
   "source": [
    "df_train_y_1.shape"
   ]
  },
  {
   "cell_type": "code",
   "execution_count": 83,
   "metadata": {},
   "outputs": [
    {
     "data": {
      "text/plain": [
       "(7195, 59)"
      ]
     },
     "execution_count": 83,
     "metadata": {},
     "output_type": "execute_result"
    }
   ],
   "source": [
    "df_train_y_2.shape"
   ]
  },
  {
   "cell_type": "code",
   "execution_count": 84,
   "metadata": {
    "collapsed": true
   },
   "outputs": [],
   "source": [
    "# Keep y=0:y=1:y=2 = 1:1:2\n",
    "df_train_y_2_new = df_train_y_2.sample(777*2)"
   ]
  },
  {
   "cell_type": "code",
   "execution_count": 85,
   "metadata": {},
   "outputs": [
    {
     "data": {
      "text/plain": [
       "(1554, 59)"
      ]
     },
     "execution_count": 85,
     "metadata": {},
     "output_type": "execute_result"
    }
   ],
   "source": [
    "df_train_y_2_new.shape"
   ]
  },
  {
   "cell_type": "code",
   "execution_count": 86,
   "metadata": {
    "collapsed": true
   },
   "outputs": [],
   "source": [
    "# Concat the dataframe to make a new training set\n",
    "df_train_new = pd.concat([df_train_y_0,df_train_y_1,df_train_y_2_new])"
   ]
  },
  {
   "cell_type": "code",
   "execution_count": 87,
   "metadata": {},
   "outputs": [
    {
     "data": {
      "text/plain": [
       "(3108, 59)"
      ]
     },
     "execution_count": 87,
     "metadata": {},
     "output_type": "execute_result"
    }
   ],
   "source": [
    "df_train_new.shape"
   ]
  },
  {
   "cell_type": "code",
   "execution_count": 88,
   "metadata": {
    "collapsed": true
   },
   "outputs": [],
   "source": [
    "from sklearn import linear_model\n",
    "from sklearn.metrics import confusion_matrix\n",
    "import warnings\n",
    "warnings.filterwarnings('ignore')"
   ]
  },
  {
   "cell_type": "code",
   "execution_count": 89,
   "metadata": {
    "collapsed": true
   },
   "outputs": [],
   "source": [
    "# Extract x and y variable in the training set and testing set\n",
    "x_train = df_train_new.drop(['Unnamed: 0','Time_stamp','OrderID','Time','Label','MidPrice_Moves','SpdCros_Moves'],axis = 1)\n",
    "y_train = df_train_new['MidPrice_Moves']\n",
    "x_test = df_test.drop(['Unnamed: 0','Time_stamp','Time','OrderID','Label','MidPrice_Moves','SpdCros_Moves'],axis = 1)\n",
    "y_test = df_test['MidPrice_Moves']"
   ]
  },
  {
   "cell_type": "code",
   "execution_count": 90,
   "metadata": {},
   "outputs": [
    {
     "data": {
      "text/plain": [
       "(3108, 52)"
      ]
     },
     "execution_count": 90,
     "metadata": {},
     "output_type": "execute_result"
    }
   ],
   "source": [
    "x_train.shape"
   ]
  },
  {
   "cell_type": "code",
   "execution_count": 91,
   "metadata": {},
   "outputs": [
    {
     "data": {
      "text/plain": [
       "(3108,)"
      ]
     },
     "execution_count": 91,
     "metadata": {},
     "output_type": "execute_result"
    }
   ],
   "source": [
    "y_train.shape"
   ]
  },
  {
   "cell_type": "code",
   "execution_count": 92,
   "metadata": {},
   "outputs": [
    {
     "data": {
      "text/plain": [
       "(50, 52)"
      ]
     },
     "execution_count": 92,
     "metadata": {},
     "output_type": "execute_result"
    }
   ],
   "source": [
    "x_test.shape"
   ]
  },
  {
   "cell_type": "code",
   "execution_count": 93,
   "metadata": {},
   "outputs": [
    {
     "data": {
      "text/plain": [
       "(50,)"
      ]
     },
     "execution_count": 93,
     "metadata": {},
     "output_type": "execute_result"
    }
   ],
   "source": [
    "y_test.shape"
   ]
  },
  {
   "cell_type": "code",
   "execution_count": 94,
   "metadata": {},
   "outputs": [
    {
     "name": "stdout",
     "output_type": "stream",
     "text": [
      "The training accuracy is: 0.715572715573\n",
      "The testing accuracy is 0.82\n",
      "The testing set confusion matrix is:\n"
     ]
    },
    {
     "data": {
      "text/html": [
       "<div>\n",
       "<style scoped>\n",
       "    .dataframe tbody tr th:only-of-type {\n",
       "        vertical-align: middle;\n",
       "    }\n",
       "\n",
       "    .dataframe tbody tr th {\n",
       "        vertical-align: top;\n",
       "    }\n",
       "\n",
       "    .dataframe thead th {\n",
       "        text-align: right;\n",
       "    }\n",
       "</style>\n",
       "<table border=\"1\" class=\"dataframe\">\n",
       "  <thead>\n",
       "    <tr style=\"text-align: right;\">\n",
       "      <th></th>\n",
       "      <th>0</th>\n",
       "      <th>1</th>\n",
       "      <th>2</th>\n",
       "    </tr>\n",
       "  </thead>\n",
       "  <tbody>\n",
       "    <tr>\n",
       "      <th>0</th>\n",
       "      <td>1</td>\n",
       "      <td>1</td>\n",
       "      <td>0</td>\n",
       "    </tr>\n",
       "    <tr>\n",
       "      <th>1</th>\n",
       "      <td>1</td>\n",
       "      <td>7</td>\n",
       "      <td>0</td>\n",
       "    </tr>\n",
       "    <tr>\n",
       "      <th>2</th>\n",
       "      <td>1</td>\n",
       "      <td>6</td>\n",
       "      <td>33</td>\n",
       "    </tr>\n",
       "  </tbody>\n",
       "</table>\n",
       "</div>"
      ],
      "text/plain": [
       "   0  1   2\n",
       "0  1  1   0\n",
       "1  1  7   0\n",
       "2  1  6  33"
      ]
     },
     "execution_count": 94,
     "metadata": {},
     "output_type": "execute_result"
    }
   ],
   "source": [
    "# Train Logistic Regression Model\n",
    "LRM = linear_model.LogisticRegression(C=0.1, penalty='l2')\n",
    "LRM.fit(x_train, y_train)\n",
    "\n",
    "# Report training accuracy, testing accuracy\n",
    "training_accuracy=LRM.score(x_train,y_train)\n",
    "print('The training accuracy is:', training_accuracy)\n",
    "testing_accuracy=LRM.score(x_test,y_test)\n",
    "print('The testing accuracy is', testing_accuracy)\n",
    "\n",
    "# Report testing set confusion matrix\n",
    "y_true = y_test\n",
    "y_pred = LRM.predict(x_test)\n",
    "ConfusionMatrix = pd.DataFrame(confusion_matrix(y_true, y_pred)) \n",
    "print(\"The testing set confusion matrix is:\")\n",
    "ConfusionMatrix"
   ]
  },
  {
   "cell_type": "code",
   "execution_count": 95,
   "metadata": {
    "collapsed": true
   },
   "outputs": [],
   "source": [
    "def print_eval(model, x, y, threshold=None):\n",
    "    \"\"\"Prints some evaluation metrics\"\"\"\n",
    "    if threshold is not None:\n",
    "        y_pred = predict_threshold(model, x, threshold)\n",
    "    else:\n",
    "        y_pred = model.predict(x)\n",
    "    print('{:15} {:.5f}'.format('Accuracy:', accuracy_score(y, y_pred)))\n",
    "    print('{:15} {:.5f}'.format('Precision:', precision_score(y, y_pred,average='micro')))\n",
    "    print('{:15} {:.5f}'.format('Recall:', recall_score(y, y_pred,average='micro')))\n",
    "    # print('{:15} {:.5f}'.format('AUC:', roc_auc_score(y, y_pred)))\n",
    "    print('{:15} {:.5f}'.format('F1 score:', f1_score(y, y_pred,average='micro')))    \n",
    "    print('')\n",
    "    # print_confusions(model, x, y, y_pred)\n",
    "    \n",
    "def predict_threshold(model, x, threshold):\n",
    "    return (model.predict_proba(x)[:,1] > threshold).astype(int) \n",
    "\n",
    "def print_confusions(model, x, y, y_pred):\n",
    "    conf_train = pd.DataFrame(data=confusion_matrix(y, y_pred), \n",
    "                          columns=[0, 1],\n",
    "                          index=[0, 1]).iloc[::-1,::-1].T\n",
    "\n",
    "    print('Confusion (rows: pred, cols: actual)\\n{}'.format(conf_train))\n",
    "    \n",
    "# print recall curves vs threshold and precision\n",
    "\n",
    "def plot_precision_recall_curve(model, x, y):\n",
    "    precision, recall, thresholds = precision_recall_curve(y_true = y, probas_pred = model.predict_proba(x)[:,1])\n",
    "    fpr, tpr, threshold = roc_curve(y_test, model.predict_proba(x)[:,1])\n",
    "    \n",
    "    # ROC curve\n",
    "    fig, ax = plt.subplots(1,2,figsize = (10,5))\n",
    "    ax[0].plot(fpr, tpr)\n",
    "    ax[0].set_xlabel('FPR')\n",
    "    ax[0].set_ylabel('TPR')\n",
    "    ax[0].set_title('ROC Curve')\n",
    "    \n",
    "    # recall vs precision curve\n",
    "    ax[1].plot(precision, recall)\n",
    "    ax[1].set_xlabel('precision')\n",
    "    ax[1].set_ylabel('recall')\n",
    "    ax[1].set_title('Recall vs Precision')\n",
    "\n",
    "    return precision, recall, thresholds"
   ]
  },
  {
   "cell_type": "code",
   "execution_count": 96,
   "metadata": {},
   "outputs": [
    {
     "name": "stdout",
     "output_type": "stream",
     "text": [
      "Accuracy:       0.82000\n",
      "Precision:      0.82000\n",
      "Recall:         0.82000\n",
      "F1 score:       0.82000\n",
      "\n"
     ]
    }
   ],
   "source": [
    "print_eval(model=LRM, x=x_test,y=y_test)"
   ]
  },
  {
   "cell_type": "code",
   "execution_count": 97,
   "metadata": {},
   "outputs": [
    {
     "data": {
      "text/html": [
       "<div>\n",
       "<style scoped>\n",
       "    .dataframe tbody tr th:only-of-type {\n",
       "        vertical-align: middle;\n",
       "    }\n",
       "\n",
       "    .dataframe tbody tr th {\n",
       "        vertical-align: top;\n",
       "    }\n",
       "\n",
       "    .dataframe thead th {\n",
       "        text-align: right;\n",
       "    }\n",
       "</style>\n",
       "<table border=\"1\" class=\"dataframe\">\n",
       "  <thead>\n",
       "    <tr style=\"text-align: right;\">\n",
       "      <th></th>\n",
       "      <th>0</th>\n",
       "      <th>1</th>\n",
       "      <th>2</th>\n",
       "    </tr>\n",
       "  </thead>\n",
       "  <tbody>\n",
       "    <tr>\n",
       "      <th>0</th>\n",
       "      <td>485</td>\n",
       "      <td>284</td>\n",
       "      <td>9</td>\n",
       "    </tr>\n",
       "    <tr>\n",
       "      <th>1</th>\n",
       "      <td>321</td>\n",
       "      <td>451</td>\n",
       "      <td>4</td>\n",
       "    </tr>\n",
       "    <tr>\n",
       "      <th>2</th>\n",
       "      <td>123</td>\n",
       "      <td>143</td>\n",
       "      <td>1288</td>\n",
       "    </tr>\n",
       "  </tbody>\n",
       "</table>\n",
       "</div>"
      ],
      "text/plain": [
       "     0    1     2\n",
       "0  485  284     9\n",
       "1  321  451     4\n",
       "2  123  143  1288"
      ]
     },
     "execution_count": 97,
     "metadata": {},
     "output_type": "execute_result"
    }
   ],
   "source": [
    "# Report training set confusion matrix\n",
    "y_true = y_train\n",
    "y_pred = LRM.predict(x_train)\n",
    "ConfusionMatrix = pd.DataFrame(confusion_matrix(y_true, y_pred)) \n",
    "ConfusionMatrix"
   ]
  },
  {
   "cell_type": "code",
   "execution_count": 98,
   "metadata": {},
   "outputs": [
    {
     "name": "stdout",
     "output_type": "stream",
     "text": [
      "The training accuracy of SVM model is: 0.989703989704\n",
      "The test accuracy of SVM model is 0.8\n"
     ]
    }
   ],
   "source": [
    "# Train SVM Model\n",
    "from sklearn.svm import SVC\n",
    "\n",
    "SVM = SVC()\n",
    "SVM.fit(x_train, y_train)\n",
    "\n",
    "training_accuracy_SVM=SVM.score(x_train,y_train)\n",
    "print('The training accuracy of SVM model is:', training_accuracy_SVM)\n",
    "\n",
    "test_accuracy_SVM=SVM.score(x_test,y_test)\n",
    "print('The test accuracy of SVM model is', test_accuracy_SVM)"
   ]
  },
  {
   "cell_type": "code",
   "execution_count": 99,
   "metadata": {},
   "outputs": [
    {
     "name": "stdout",
     "output_type": "stream",
     "text": [
      "The testing set confusion matrix is:\n"
     ]
    },
    {
     "data": {
      "text/html": [
       "<div>\n",
       "<style scoped>\n",
       "    .dataframe tbody tr th:only-of-type {\n",
       "        vertical-align: middle;\n",
       "    }\n",
       "\n",
       "    .dataframe tbody tr th {\n",
       "        vertical-align: top;\n",
       "    }\n",
       "\n",
       "    .dataframe thead th {\n",
       "        text-align: right;\n",
       "    }\n",
       "</style>\n",
       "<table border=\"1\" class=\"dataframe\">\n",
       "  <thead>\n",
       "    <tr style=\"text-align: right;\">\n",
       "      <th></th>\n",
       "      <th>0</th>\n",
       "      <th>1</th>\n",
       "      <th>2</th>\n",
       "    </tr>\n",
       "  </thead>\n",
       "  <tbody>\n",
       "    <tr>\n",
       "      <th>0</th>\n",
       "      <td>0</td>\n",
       "      <td>0</td>\n",
       "      <td>2</td>\n",
       "    </tr>\n",
       "    <tr>\n",
       "      <th>1</th>\n",
       "      <td>0</td>\n",
       "      <td>0</td>\n",
       "      <td>8</td>\n",
       "    </tr>\n",
       "    <tr>\n",
       "      <th>2</th>\n",
       "      <td>0</td>\n",
       "      <td>0</td>\n",
       "      <td>40</td>\n",
       "    </tr>\n",
       "  </tbody>\n",
       "</table>\n",
       "</div>"
      ],
      "text/plain": [
       "   0  1   2\n",
       "0  0  0   2\n",
       "1  0  0   8\n",
       "2  0  0  40"
      ]
     },
     "execution_count": 99,
     "metadata": {},
     "output_type": "execute_result"
    }
   ],
   "source": [
    "# Report testing set confusion matrix\n",
    "y_true = y_test\n",
    "y_pred = SVM.predict(x_test)\n",
    "ConfusionMatrix = pd.DataFrame(confusion_matrix(y_true, y_pred)) \n",
    "print('The testing set confusion matrix is:')\n",
    "ConfusionMatrix"
   ]
  },
  {
   "cell_type": "code",
   "execution_count": 100,
   "metadata": {
    "scrolled": true
   },
   "outputs": [
    {
     "name": "stdout",
     "output_type": "stream",
     "text": [
      "The training set confusion matrix is:\n"
     ]
    },
    {
     "data": {
      "text/html": [
       "<div>\n",
       "<style scoped>\n",
       "    .dataframe tbody tr th:only-of-type {\n",
       "        vertical-align: middle;\n",
       "    }\n",
       "\n",
       "    .dataframe tbody tr th {\n",
       "        vertical-align: top;\n",
       "    }\n",
       "\n",
       "    .dataframe thead th {\n",
       "        text-align: right;\n",
       "    }\n",
       "</style>\n",
       "<table border=\"1\" class=\"dataframe\">\n",
       "  <thead>\n",
       "    <tr style=\"text-align: right;\">\n",
       "      <th></th>\n",
       "      <th>0</th>\n",
       "      <th>1</th>\n",
       "      <th>2</th>\n",
       "    </tr>\n",
       "  </thead>\n",
       "  <tbody>\n",
       "    <tr>\n",
       "      <th>0</th>\n",
       "      <td>766</td>\n",
       "      <td>0</td>\n",
       "      <td>12</td>\n",
       "    </tr>\n",
       "    <tr>\n",
       "      <th>1</th>\n",
       "      <td>1</td>\n",
       "      <td>761</td>\n",
       "      <td>14</td>\n",
       "    </tr>\n",
       "    <tr>\n",
       "      <th>2</th>\n",
       "      <td>3</td>\n",
       "      <td>2</td>\n",
       "      <td>1549</td>\n",
       "    </tr>\n",
       "  </tbody>\n",
       "</table>\n",
       "</div>"
      ],
      "text/plain": [
       "     0    1     2\n",
       "0  766    0    12\n",
       "1    1  761    14\n",
       "2    3    2  1549"
      ]
     },
     "execution_count": 100,
     "metadata": {},
     "output_type": "execute_result"
    }
   ],
   "source": [
    "# Report trainig set confusion matrix\n",
    "y_true = y_train\n",
    "y_pred = SVM.predict(x_train)\n",
    "ConfusionMatrix = pd.DataFrame(confusion_matrix(y_true, y_pred)) \n",
    "print('The training set confusion matrix is:')\n",
    "ConfusionMatrix"
   ]
  },
  {
   "cell_type": "code",
   "execution_count": null,
   "metadata": {},
   "outputs": [
    {
     "name": "stdout",
     "output_type": "stream",
     "text": [
      "# Tuning hyper-parameters\n",
      "\n"
     ]
    }
   ],
   "source": [
    "## try cross-validation on SVM\n",
    "import time\n",
    "from sklearn.utils import shuffle\n",
    "from sklearn import svm\n",
    "from sklearn.model_selection import train_test_split\n",
    "from sklearn.model_selection import GridSearchCV\n",
    "from sklearn.metrics import classification_report\n",
    "\n",
    "start_time = time.time()\n",
    "\n",
    "# shuffle the dataset\n",
    "x , y = x_train,y_train\n",
    "\n",
    "x, y = shuffle(x, y, random_state=0)\n",
    "# Split the dataset in two equal parts\n",
    "x_train_, x_test_, y_train_, y_test_ = train_test_split(x, y, test_size=0.25, random_state=0)\n",
    "\n",
    "# tuning set 2\n",
    "parameters = [{'kernel': ['rbf'],\n",
    "               'gamma': [1e-4, 0.01],\n",
    "                'C': [1, 10]},\n",
    "              {'kernel': ['linear'], 'C': [1, 10]}]\n",
    "print(\"# Tuning hyper-parameters\")\n",
    "print()\n",
    "clf = GridSearchCV(svm.SVC(decision_function_shape='ovr'), parameters, cv=5)\n",
    "clf.fit(x_train, y_train)\n",
    "\n",
    "time = time.time() - start_time\n",
    "print(\"Hyperparameter tuning took {} seconds\".format(time))"
   ]
  },
  {
   "cell_type": "code",
   "execution_count": null,
   "metadata": {
    "collapsed": true
   },
   "outputs": [],
   "source": []
  }
 ],
 "metadata": {
  "kernelspec": {
   "display_name": "Python 3",
   "language": "python",
   "name": "python3"
  },
  "language_info": {
   "codemirror_mode": {
    "name": "ipython",
    "version": 3
   },
   "file_extension": ".py",
   "mimetype": "text/x-python",
   "name": "python",
   "nbconvert_exporter": "python",
   "pygments_lexer": "ipython3",
   "version": "3.6.3"
  }
 },
 "nbformat": 4,
 "nbformat_minor": 2
}

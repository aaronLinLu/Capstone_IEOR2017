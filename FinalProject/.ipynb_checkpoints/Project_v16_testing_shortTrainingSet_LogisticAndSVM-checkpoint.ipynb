{
 "cells": [
  {
   "cell_type": "code",
   "execution_count": 32,
   "metadata": {
    "collapsed": true
   },
   "outputs": [],
   "source": [
    "import numpy as np\n",
    "import pandas as pd\n",
    "from sklearn.metrics import precision_recall_curve, precision_score, recall_score, accuracy_score, roc_curve, roc_auc_score, f1_score\n",
    "from sklearn.model_selection import GridSearchCV"
   ]
  },
  {
   "cell_type": "code",
   "execution_count": 4,
   "metadata": {
    "collapsed": true
   },
   "outputs": [],
   "source": [
    "df = pd.read_csv('Messages_allDay_AMZN_withY.csv')"
   ]
  },
  {
   "cell_type": "code",
   "execution_count": 5,
   "metadata": {},
   "outputs": [
    {
     "data": {
      "text/html": [
       "<div>\n",
       "<style scoped>\n",
       "    .dataframe tbody tr th:only-of-type {\n",
       "        vertical-align: middle;\n",
       "    }\n",
       "\n",
       "    .dataframe tbody tr th {\n",
       "        vertical-align: top;\n",
       "    }\n",
       "\n",
       "    .dataframe thead th {\n",
       "        text-align: right;\n",
       "    }\n",
       "</style>\n",
       "<table border=\"1\" class=\"dataframe\">\n",
       "  <thead>\n",
       "    <tr style=\"text-align: right;\">\n",
       "      <th></th>\n",
       "      <th>Unnamed: 0</th>\n",
       "      <th>Time_stamp</th>\n",
       "      <th>Type</th>\n",
       "      <th>OrderID</th>\n",
       "      <th>V</th>\n",
       "      <th>Dir</th>\n",
       "      <th>Time</th>\n",
       "      <th>V_ask_1</th>\n",
       "      <th>V_bid_1</th>\n",
       "      <th>V_ask_2</th>\n",
       "      <th>...</th>\n",
       "      <th>mid-price 2_</th>\n",
       "      <th>bid-ask spread 3_</th>\n",
       "      <th>mid-price 3_</th>\n",
       "      <th>bid-ask spread 4_</th>\n",
       "      <th>mid-price 4_</th>\n",
       "      <th>bid-ask spread 5_</th>\n",
       "      <th>mid-price 5_</th>\n",
       "      <th>Mid_price</th>\n",
       "      <th>MidPrice_Moves</th>\n",
       "      <th>SpdCros_Moves</th>\n",
       "    </tr>\n",
       "  </thead>\n",
       "  <tbody>\n",
       "    <tr>\n",
       "      <th>0</th>\n",
       "      <td>0</td>\n",
       "      <td>34200.18961</td>\n",
       "      <td>1</td>\n",
       "      <td>11885113</td>\n",
       "      <td>21</td>\n",
       "      <td>1</td>\n",
       "      <td>30:00.2</td>\n",
       "      <td>100</td>\n",
       "      <td>21</td>\n",
       "      <td>100</td>\n",
       "      <td>...</td>\n",
       "      <td>223.585</td>\n",
       "      <td>0.93</td>\n",
       "      <td>223.535</td>\n",
       "      <td>1.21</td>\n",
       "      <td>223.645</td>\n",
       "      <td>1.40</td>\n",
       "      <td>223.700</td>\n",
       "      <td>223.88</td>\n",
       "      <td>2</td>\n",
       "      <td>2</td>\n",
       "    </tr>\n",
       "    <tr>\n",
       "      <th>1</th>\n",
       "      <td>1</td>\n",
       "      <td>34200.18961</td>\n",
       "      <td>1</td>\n",
       "      <td>3911376</td>\n",
       "      <td>20</td>\n",
       "      <td>-1</td>\n",
       "      <td>30:00.2</td>\n",
       "      <td>100</td>\n",
       "      <td>21</td>\n",
       "      <td>20</td>\n",
       "      <td>...</td>\n",
       "      <td>223.570</td>\n",
       "      <td>0.92</td>\n",
       "      <td>223.530</td>\n",
       "      <td>0.96</td>\n",
       "      <td>223.520</td>\n",
       "      <td>1.25</td>\n",
       "      <td>223.625</td>\n",
       "      <td>223.88</td>\n",
       "      <td>2</td>\n",
       "      <td>2</td>\n",
       "    </tr>\n",
       "    <tr>\n",
       "      <th>2</th>\n",
       "      <td>2</td>\n",
       "      <td>34200.18961</td>\n",
       "      <td>1</td>\n",
       "      <td>11534792</td>\n",
       "      <td>100</td>\n",
       "      <td>1</td>\n",
       "      <td>30:00.2</td>\n",
       "      <td>100</td>\n",
       "      <td>21</td>\n",
       "      <td>20</td>\n",
       "      <td>...</td>\n",
       "      <td>223.855</td>\n",
       "      <td>0.81</td>\n",
       "      <td>223.585</td>\n",
       "      <td>0.93</td>\n",
       "      <td>223.535</td>\n",
       "      <td>1.21</td>\n",
       "      <td>223.645</td>\n",
       "      <td>223.88</td>\n",
       "      <td>2</td>\n",
       "      <td>2</td>\n",
       "    </tr>\n",
       "    <tr>\n",
       "      <th>3</th>\n",
       "      <td>3</td>\n",
       "      <td>34200.18961</td>\n",
       "      <td>1</td>\n",
       "      <td>1365373</td>\n",
       "      <td>13</td>\n",
       "      <td>-1</td>\n",
       "      <td>30:00.2</td>\n",
       "      <td>100</td>\n",
       "      <td>21</td>\n",
       "      <td>20</td>\n",
       "      <td>...</td>\n",
       "      <td>223.855</td>\n",
       "      <td>0.81</td>\n",
       "      <td>223.585</td>\n",
       "      <td>0.93</td>\n",
       "      <td>223.535</td>\n",
       "      <td>1.21</td>\n",
       "      <td>223.645</td>\n",
       "      <td>223.88</td>\n",
       "      <td>2</td>\n",
       "      <td>2</td>\n",
       "    </tr>\n",
       "    <tr>\n",
       "      <th>4</th>\n",
       "      <td>4</td>\n",
       "      <td>34200.18961</td>\n",
       "      <td>1</td>\n",
       "      <td>11474176</td>\n",
       "      <td>2</td>\n",
       "      <td>1</td>\n",
       "      <td>30:00.2</td>\n",
       "      <td>100</td>\n",
       "      <td>21</td>\n",
       "      <td>20</td>\n",
       "      <td>...</td>\n",
       "      <td>223.855</td>\n",
       "      <td>0.34</td>\n",
       "      <td>223.820</td>\n",
       "      <td>0.82</td>\n",
       "      <td>223.590</td>\n",
       "      <td>1.18</td>\n",
       "      <td>223.660</td>\n",
       "      <td>223.88</td>\n",
       "      <td>2</td>\n",
       "      <td>2</td>\n",
       "    </tr>\n",
       "  </tbody>\n",
       "</table>\n",
       "<p>5 rows × 59 columns</p>\n",
       "</div>"
      ],
      "text/plain": [
       "   Unnamed: 0   Time_stamp  Type   OrderID    V  Dir     Time  V_ask_1  \\\n",
       "0           0  34200.18961     1  11885113   21    1  30:00.2      100   \n",
       "1           1  34200.18961     1   3911376   20   -1  30:00.2      100   \n",
       "2           2  34200.18961     1  11534792  100    1  30:00.2      100   \n",
       "3           3  34200.18961     1   1365373   13   -1  30:00.2      100   \n",
       "4           4  34200.18961     1  11474176    2    1  30:00.2      100   \n",
       "\n",
       "   V_bid_1  V_ask_2      ...        mid-price 2_  bid-ask spread 3_  \\\n",
       "0       21      100      ...             223.585               0.93   \n",
       "1       21       20      ...             223.570               0.92   \n",
       "2       21       20      ...             223.855               0.81   \n",
       "3       21       20      ...             223.855               0.81   \n",
       "4       21       20      ...             223.855               0.34   \n",
       "\n",
       "   mid-price 3_  bid-ask spread 4_  mid-price 4_  bid-ask spread 5_  \\\n",
       "0       223.535               1.21       223.645               1.40   \n",
       "1       223.530               0.96       223.520               1.25   \n",
       "2       223.585               0.93       223.535               1.21   \n",
       "3       223.585               0.93       223.535               1.21   \n",
       "4       223.820               0.82       223.590               1.18   \n",
       "\n",
       "   mid-price 5_ Mid_price  MidPrice_Moves  SpdCros_Moves  \n",
       "0       223.700    223.88               2              2  \n",
       "1       223.625    223.88               2              2  \n",
       "2       223.645    223.88               2              2  \n",
       "3       223.645    223.88               2              2  \n",
       "4       223.660    223.88               2              2  \n",
       "\n",
       "[5 rows x 59 columns]"
      ]
     },
     "execution_count": 5,
     "metadata": {},
     "output_type": "execute_result"
    }
   ],
   "source": [
    "df.head(5)"
   ]
  },
  {
   "cell_type": "code",
   "execution_count": 6,
   "metadata": {},
   "outputs": [
    {
     "data": {
      "text/plain": [
       "(153490, 59)"
      ]
     },
     "execution_count": 6,
     "metadata": {},
     "output_type": "execute_result"
    }
   ],
   "source": [
    "df.shape"
   ]
  },
  {
   "cell_type": "code",
   "execution_count": 7,
   "metadata": {},
   "outputs": [
    {
     "data": {
      "text/plain": [
       "Index(['Unnamed: 0', 'Time_stamp', 'Type', 'OrderID', 'V', 'Dir', 'Time',\n",
       "       'V_ask_1', 'V_bid_1', 'V_ask_2', 'V_bid_2', 'V_ask_3', 'V_bid_3',\n",
       "       'V_ask_4', 'V_bid_4', 'V_ask_5', 'V_bid_5', 'Label', 'Level',\n",
       "       'Mean_V_ask', 'Mean_V_bid', 'V_accu', 'P_', 'P_ask_1_', 'P_bid_1_',\n",
       "       'P_ask_2_', 'P_bid_2_', 'P_ask_3_', 'P_bid_3_', 'P_ask_4_', 'P_bid_4_',\n",
       "       'P_ask_5_', 'P_bid_5_', 'bid-ask spread 1_', 'mid-price 1_',\n",
       "       'd_P_ask_51_', 'd_P_bid_51_', 'd_P_ask_21_', 'd_P_bid_21_',\n",
       "       'd_P_ask_32_', 'd_P_bid_32_', 'd_P_ask_43_', 'd_P_bid_43_',\n",
       "       'd_P_ask_54_', 'd_P_bid_54_', 'Mean_P_ask_', 'Mean_P_bid_', 'P_accu_',\n",
       "       'bid-ask spread 2_', 'mid-price 2_', 'bid-ask spread 3_',\n",
       "       'mid-price 3_', 'bid-ask spread 4_', 'mid-price 4_',\n",
       "       'bid-ask spread 5_', 'mid-price 5_', 'Mid_price', 'MidPrice_Moves',\n",
       "       'SpdCros_Moves'],\n",
       "      dtype='object')"
      ]
     },
     "execution_count": 7,
     "metadata": {},
     "output_type": "execute_result"
    }
   ],
   "source": [
    "df.columns"
   ]
  },
  {
   "cell_type": "code",
   "execution_count": 8,
   "metadata": {
    "collapsed": true
   },
   "outputs": [],
   "source": [
    "# Extract observations between 10:30~10:55\n",
    "df_simplify = df[(df['Time_stamp']>=37800)&(df['Time_stamp']<=39300)]"
   ]
  },
  {
   "cell_type": "code",
   "execution_count": 9,
   "metadata": {},
   "outputs": [
    {
     "data": {
      "text/plain": [
       "(12274, 59)"
      ]
     },
     "execution_count": 9,
     "metadata": {},
     "output_type": "execute_result"
    }
   ],
   "source": [
    "df_simplify.shape"
   ]
  },
  {
   "cell_type": "code",
   "execution_count": 10,
   "metadata": {
    "collapsed": true
   },
   "outputs": [],
   "source": [
    "# Original training set: 10:30~10:50\n",
    "df_train = df_simplify[(df_simplify['Time_stamp']>=37800)&(df_simplify['Time_stamp']<=39000)]"
   ]
  },
  {
   "cell_type": "code",
   "execution_count": 11,
   "metadata": {},
   "outputs": [
    {
     "data": {
      "text/plain": [
       "(8749, 59)"
      ]
     },
     "execution_count": 11,
     "metadata": {},
     "output_type": "execute_result"
    }
   ],
   "source": [
    "df_train.shape"
   ]
  },
  {
   "cell_type": "code",
   "execution_count": 12,
   "metadata": {
    "collapsed": true
   },
   "outputs": [],
   "source": [
    "# Orginal testing set: first 10 rows after 10:50\n",
    "df_test = df_simplify.iloc[8749:8799]"
   ]
  },
  {
   "cell_type": "code",
   "execution_count": 13,
   "metadata": {},
   "outputs": [
    {
     "data": {
      "text/plain": [
       "(50, 59)"
      ]
     },
     "execution_count": 13,
     "metadata": {},
     "output_type": "execute_result"
    }
   ],
   "source": [
    "df_test.shape"
   ]
  },
  {
   "cell_type": "code",
   "execution_count": 14,
   "metadata": {
    "collapsed": true
   },
   "outputs": [],
   "source": [
    "# Extract observations in the training set where y=0/1/2\n",
    "df_train_y_0 = df_train[df_train['MidPrice_Moves'] == 0]\n",
    "df_train_y_1 = df_train[df_train['MidPrice_Moves'] == 1]\n",
    "df_train_y_2 = df_train[df_train['MidPrice_Moves'] == 2]"
   ]
  },
  {
   "cell_type": "code",
   "execution_count": 15,
   "metadata": {},
   "outputs": [
    {
     "data": {
      "text/plain": [
       "(778, 59)"
      ]
     },
     "execution_count": 15,
     "metadata": {},
     "output_type": "execute_result"
    }
   ],
   "source": [
    "df_train_y_0.shape"
   ]
  },
  {
   "cell_type": "code",
   "execution_count": 16,
   "metadata": {},
   "outputs": [
    {
     "data": {
      "text/plain": [
       "(776, 59)"
      ]
     },
     "execution_count": 16,
     "metadata": {},
     "output_type": "execute_result"
    }
   ],
   "source": [
    "df_train_y_1.shape"
   ]
  },
  {
   "cell_type": "code",
   "execution_count": 17,
   "metadata": {},
   "outputs": [
    {
     "data": {
      "text/plain": [
       "(7195, 59)"
      ]
     },
     "execution_count": 17,
     "metadata": {},
     "output_type": "execute_result"
    }
   ],
   "source": [
    "df_train_y_2.shape"
   ]
  },
  {
   "cell_type": "code",
   "execution_count": 18,
   "metadata": {
    "collapsed": true
   },
   "outputs": [],
   "source": [
    "# Keep y=0:y=1:y=2 = 1:1:2\n",
    "df_train_y_2_new = df_train_y_2.sample(777*2)"
   ]
  },
  {
   "cell_type": "code",
   "execution_count": 19,
   "metadata": {},
   "outputs": [
    {
     "data": {
      "text/plain": [
       "(1554, 59)"
      ]
     },
     "execution_count": 19,
     "metadata": {},
     "output_type": "execute_result"
    }
   ],
   "source": [
    "df_train_y_2_new.shape"
   ]
  },
  {
   "cell_type": "code",
   "execution_count": 20,
   "metadata": {
    "collapsed": true
   },
   "outputs": [],
   "source": [
    "# Concat the dataframe to make a new training set\n",
    "df_train_new = pd.concat([df_train_y_0,df_train_y_1,df_train_y_2_new])"
   ]
  },
  {
   "cell_type": "code",
   "execution_count": 21,
   "metadata": {},
   "outputs": [
    {
     "data": {
      "text/plain": [
       "(3108, 59)"
      ]
     },
     "execution_count": 21,
     "metadata": {},
     "output_type": "execute_result"
    }
   ],
   "source": [
    "df_train_new.shape"
   ]
  },
  {
   "cell_type": "code",
   "execution_count": 22,
   "metadata": {
    "collapsed": true
   },
   "outputs": [],
   "source": [
    "from sklearn import linear_model\n",
    "from sklearn.metrics import confusion_matrix\n",
    "import warnings\n",
    "warnings.filterwarnings('ignore')"
   ]
  },
  {
   "cell_type": "code",
   "execution_count": 23,
   "metadata": {
    "collapsed": true
   },
   "outputs": [],
   "source": [
    "# Extract x and y variable in the training set and testing set\n",
    "x_train = df_train_new.drop(['Unnamed: 0','Time_stamp','OrderID','Time','Label','MidPrice_Moves','SpdCros_Moves'],axis = 1)\n",
    "y_train = df_train_new['MidPrice_Moves']\n",
    "x_test = df_test.drop(['Unnamed: 0','Time_stamp','Time','OrderID','Label','MidPrice_Moves','SpdCros_Moves'],axis = 1)\n",
    "y_test = df_test['MidPrice_Moves']"
   ]
  },
  {
   "cell_type": "code",
   "execution_count": 24,
   "metadata": {},
   "outputs": [
    {
     "data": {
      "text/plain": [
       "(3108, 52)"
      ]
     },
     "execution_count": 24,
     "metadata": {},
     "output_type": "execute_result"
    }
   ],
   "source": [
    "x_train.shape"
   ]
  },
  {
   "cell_type": "code",
   "execution_count": 25,
   "metadata": {},
   "outputs": [
    {
     "data": {
      "text/plain": [
       "(3108,)"
      ]
     },
     "execution_count": 25,
     "metadata": {},
     "output_type": "execute_result"
    }
   ],
   "source": [
    "y_train.shape"
   ]
  },
  {
   "cell_type": "code",
   "execution_count": 26,
   "metadata": {},
   "outputs": [
    {
     "data": {
      "text/plain": [
       "(50, 52)"
      ]
     },
     "execution_count": 26,
     "metadata": {},
     "output_type": "execute_result"
    }
   ],
   "source": [
    "x_test.shape"
   ]
  },
  {
   "cell_type": "code",
   "execution_count": 27,
   "metadata": {},
   "outputs": [
    {
     "data": {
      "text/plain": [
       "(50,)"
      ]
     },
     "execution_count": 27,
     "metadata": {},
     "output_type": "execute_result"
    }
   ],
   "source": [
    "y_test.shape"
   ]
  },
  {
   "cell_type": "code",
   "execution_count": 28,
   "metadata": {},
   "outputs": [
    {
     "name": "stdout",
     "output_type": "stream",
     "text": [
      "The training accuracy is: 0.706885456885\n",
      "The testing accuracy is 0.82\n",
      "The testing set confusion matrix is:\n"
     ]
    },
    {
     "data": {
      "text/html": [
       "<div>\n",
       "<style scoped>\n",
       "    .dataframe tbody tr th:only-of-type {\n",
       "        vertical-align: middle;\n",
       "    }\n",
       "\n",
       "    .dataframe tbody tr th {\n",
       "        vertical-align: top;\n",
       "    }\n",
       "\n",
       "    .dataframe thead th {\n",
       "        text-align: right;\n",
       "    }\n",
       "</style>\n",
       "<table border=\"1\" class=\"dataframe\">\n",
       "  <thead>\n",
       "    <tr style=\"text-align: right;\">\n",
       "      <th></th>\n",
       "      <th>0</th>\n",
       "      <th>1</th>\n",
       "      <th>2</th>\n",
       "    </tr>\n",
       "  </thead>\n",
       "  <tbody>\n",
       "    <tr>\n",
       "      <th>0</th>\n",
       "      <td>1</td>\n",
       "      <td>1</td>\n",
       "      <td>0</td>\n",
       "    </tr>\n",
       "    <tr>\n",
       "      <th>1</th>\n",
       "      <td>1</td>\n",
       "      <td>7</td>\n",
       "      <td>0</td>\n",
       "    </tr>\n",
       "    <tr>\n",
       "      <th>2</th>\n",
       "      <td>1</td>\n",
       "      <td>6</td>\n",
       "      <td>33</td>\n",
       "    </tr>\n",
       "  </tbody>\n",
       "</table>\n",
       "</div>"
      ],
      "text/plain": [
       "   0  1   2\n",
       "0  1  1   0\n",
       "1  1  7   0\n",
       "2  1  6  33"
      ]
     },
     "execution_count": 28,
     "metadata": {},
     "output_type": "execute_result"
    }
   ],
   "source": [
    "# Train Logistic Regression Model\n",
    "LRM = linear_model.LogisticRegression(C=0.1, penalty='l2')\n",
    "LRM.fit(x_train, y_train)\n",
    "\n",
    "# Report training accuracy, testing accuracy\n",
    "training_accuracy=LRM.score(x_train,y_train)\n",
    "print('The training accuracy is:', training_accuracy)\n",
    "testing_accuracy=LRM.score(x_test,y_test)\n",
    "print('The testing accuracy is', testing_accuracy)\n",
    "\n",
    "# Report testing set confusion matrix\n",
    "y_true = y_test\n",
    "y_pred = LRM.predict(x_test)\n",
    "ConfusionMatrix = pd.DataFrame(confusion_matrix(y_true, y_pred)) \n",
    "print(\"The testing set confusion matrix is:\")\n",
    "ConfusionMatrix"
   ]
  },
  {
   "cell_type": "code",
   "execution_count": 62,
   "metadata": {
    "collapsed": true
   },
   "outputs": [],
   "source": [
    "def print_eval(model, x, y, threshold=None):\n",
    "    \"\"\"Prints some evaluation metrics\"\"\"\n",
    "    if threshold is not None:\n",
    "        y_pred = predict_threshold(model, x, threshold)\n",
    "    else:\n",
    "        y_pred = model.predict(x)\n",
    "    print('{:15} {:.5f}'.format('Accuracy:', accuracy_score(y, y_pred)))\n",
    "    print('{:15} {:.5f}'.format('Precision:', precision_score(y, y_pred,average='micro')))\n",
    "    print('{:15} {:.5f}'.format('Recall:', recall_score(y, y_pred,average='micro')))\n",
    "    # print('{:15} {:.5f}'.format('AUC:', roc_auc_score(y, y_pred)))\n",
    "    print('{:15} {:.5f}'.format('F1 score:', f1_score(y, y_pred,average='micro')))    \n",
    "    print('')\n",
    "    # print_confusions(model, x, y, y_pred)\n",
    "    \n",
    "def predict_threshold(model, x, threshold):\n",
    "    return (model.predict_proba(x)[:,1] > threshold).astype(int) \n",
    "\n",
    "def print_confusions(model, x, y, y_pred):\n",
    "    conf_train = pd.DataFrame(data=confusion_matrix(y, y_pred), \n",
    "                          columns=[0, 1],\n",
    "                          index=[0, 1]).iloc[::-1,::-1].T\n",
    "\n",
    "    print('Confusion (rows: pred, cols: actual)\\n{}'.format(conf_train))\n",
    "    \n",
    "# print recall curves vs threshold and precision\n",
    "\n",
    "def plot_precision_recall_curve(model, x, y):\n",
    "    precision, recall, thresholds = precision_recall_curve(y_true = y, probas_pred = model.predict_proba(x)[:,1])\n",
    "    fpr, tpr, threshold = roc_curve(y_test, model.predict_proba(x)[:,1])\n",
    "    \n",
    "    # ROC curve\n",
    "    fig, ax = plt.subplots(1,2,figsize = (10,5))\n",
    "    ax[0].plot(fpr, tpr)\n",
    "    ax[0].set_xlabel('FPR')\n",
    "    ax[0].set_ylabel('TPR')\n",
    "    ax[0].set_title('ROC Curve')\n",
    "    \n",
    "    # recall vs precision curve\n",
    "    ax[1].plot(precision, recall)\n",
    "    ax[1].set_xlabel('precision')\n",
    "    ax[1].set_ylabel('recall')\n",
    "    ax[1].set_title('Recall vs Precision')\n",
    "\n",
    "    return precision, recall, thresholds"
   ]
  },
  {
   "cell_type": "code",
   "execution_count": 64,
   "metadata": {},
   "outputs": [
    {
     "name": "stdout",
     "output_type": "stream",
     "text": [
      "Accuracy:       0.82000\n",
      "Precision:      0.82000\n",
      "Recall:         0.82000\n",
      "F1 score:       0.82000\n",
      "\n"
     ]
    }
   ],
   "source": [
    "print_eval(model=LRM, x=x_test,y=y_test)"
   ]
  },
  {
   "cell_type": "code",
   "execution_count": 65,
   "metadata": {},
   "outputs": [
    {
     "data": {
      "text/html": [
       "<div>\n",
       "<style scoped>\n",
       "    .dataframe tbody tr th:only-of-type {\n",
       "        vertical-align: middle;\n",
       "    }\n",
       "\n",
       "    .dataframe tbody tr th {\n",
       "        vertical-align: top;\n",
       "    }\n",
       "\n",
       "    .dataframe thead th {\n",
       "        text-align: right;\n",
       "    }\n",
       "</style>\n",
       "<table border=\"1\" class=\"dataframe\">\n",
       "  <thead>\n",
       "    <tr style=\"text-align: right;\">\n",
       "      <th></th>\n",
       "      <th>0</th>\n",
       "      <th>1</th>\n",
       "      <th>2</th>\n",
       "    </tr>\n",
       "  </thead>\n",
       "  <tbody>\n",
       "    <tr>\n",
       "      <th>0</th>\n",
       "      <td>479</td>\n",
       "      <td>285</td>\n",
       "      <td>14</td>\n",
       "    </tr>\n",
       "    <tr>\n",
       "      <th>1</th>\n",
       "      <td>316</td>\n",
       "      <td>452</td>\n",
       "      <td>8</td>\n",
       "    </tr>\n",
       "    <tr>\n",
       "      <th>2</th>\n",
       "      <td>136</td>\n",
       "      <td>152</td>\n",
       "      <td>1266</td>\n",
       "    </tr>\n",
       "  </tbody>\n",
       "</table>\n",
       "</div>"
      ],
      "text/plain": [
       "     0    1     2\n",
       "0  479  285    14\n",
       "1  316  452     8\n",
       "2  136  152  1266"
      ]
     },
     "execution_count": 65,
     "metadata": {},
     "output_type": "execute_result"
    }
   ],
   "source": [
    "# Report training set confusion matrix\n",
    "y_true = y_train\n",
    "y_pred = LRM.predict(x_train)\n",
    "ConfusionMatrix = pd.DataFrame(confusion_matrix(y_true, y_pred)) \n",
    "ConfusionMatrix"
   ]
  },
  {
   "cell_type": "code",
   "execution_count": 66,
   "metadata": {},
   "outputs": [
    {
     "name": "stdout",
     "output_type": "stream",
     "text": [
      "The training accuracy of SVM model is: 0.987773487773\n",
      "The test accuracy of SVM model is 0.8\n"
     ]
    }
   ],
   "source": [
    "# Train SVM Model\n",
    "from sklearn.svm import SVC\n",
    "\n",
    "SVM = SVC()\n",
    "SVM.fit(x_train, y_train)\n",
    "\n",
    "training_accuracy_SVM=SVM.score(x_train,y_train)\n",
    "print('The training accuracy of SVM model is:', training_accuracy_SVM)\n",
    "\n",
    "test_accuracy_SVM=SVM.score(x_test,y_test)\n",
    "print('The test accuracy of SVM model is', test_accuracy_SVM)"
   ]
  },
  {
   "cell_type": "code",
   "execution_count": 67,
   "metadata": {},
   "outputs": [
    {
     "name": "stdout",
     "output_type": "stream",
     "text": [
      "The testing set confusion matrix is:\n"
     ]
    },
    {
     "data": {
      "text/html": [
       "<div>\n",
       "<style scoped>\n",
       "    .dataframe tbody tr th:only-of-type {\n",
       "        vertical-align: middle;\n",
       "    }\n",
       "\n",
       "    .dataframe tbody tr th {\n",
       "        vertical-align: top;\n",
       "    }\n",
       "\n",
       "    .dataframe thead th {\n",
       "        text-align: right;\n",
       "    }\n",
       "</style>\n",
       "<table border=\"1\" class=\"dataframe\">\n",
       "  <thead>\n",
       "    <tr style=\"text-align: right;\">\n",
       "      <th></th>\n",
       "      <th>0</th>\n",
       "      <th>1</th>\n",
       "      <th>2</th>\n",
       "    </tr>\n",
       "  </thead>\n",
       "  <tbody>\n",
       "    <tr>\n",
       "      <th>0</th>\n",
       "      <td>0</td>\n",
       "      <td>0</td>\n",
       "      <td>2</td>\n",
       "    </tr>\n",
       "    <tr>\n",
       "      <th>1</th>\n",
       "      <td>0</td>\n",
       "      <td>0</td>\n",
       "      <td>8</td>\n",
       "    </tr>\n",
       "    <tr>\n",
       "      <th>2</th>\n",
       "      <td>0</td>\n",
       "      <td>0</td>\n",
       "      <td>40</td>\n",
       "    </tr>\n",
       "  </tbody>\n",
       "</table>\n",
       "</div>"
      ],
      "text/plain": [
       "   0  1   2\n",
       "0  0  0   2\n",
       "1  0  0   8\n",
       "2  0  0  40"
      ]
     },
     "execution_count": 67,
     "metadata": {},
     "output_type": "execute_result"
    }
   ],
   "source": [
    "# Report testing set confusion matrix\n",
    "y_true = y_test\n",
    "y_pred = SVM.predict(x_test)\n",
    "ConfusionMatrix = pd.DataFrame(confusion_matrix(y_true, y_pred)) \n",
    "print('The testing set confusion matrix is:')\n",
    "ConfusionMatrix"
   ]
  },
  {
   "cell_type": "code",
   "execution_count": 68,
   "metadata": {
    "scrolled": true
   },
   "outputs": [
    {
     "name": "stdout",
     "output_type": "stream",
     "text": [
      "The training set confusion matrix is:\n"
     ]
    },
    {
     "data": {
      "text/html": [
       "<div>\n",
       "<style scoped>\n",
       "    .dataframe tbody tr th:only-of-type {\n",
       "        vertical-align: middle;\n",
       "    }\n",
       "\n",
       "    .dataframe tbody tr th {\n",
       "        vertical-align: top;\n",
       "    }\n",
       "\n",
       "    .dataframe thead th {\n",
       "        text-align: right;\n",
       "    }\n",
       "</style>\n",
       "<table border=\"1\" class=\"dataframe\">\n",
       "  <thead>\n",
       "    <tr style=\"text-align: right;\">\n",
       "      <th></th>\n",
       "      <th>0</th>\n",
       "      <th>1</th>\n",
       "      <th>2</th>\n",
       "    </tr>\n",
       "  </thead>\n",
       "  <tbody>\n",
       "    <tr>\n",
       "      <th>0</th>\n",
       "      <td>764</td>\n",
       "      <td>0</td>\n",
       "      <td>14</td>\n",
       "    </tr>\n",
       "    <tr>\n",
       "      <th>1</th>\n",
       "      <td>1</td>\n",
       "      <td>758</td>\n",
       "      <td>17</td>\n",
       "    </tr>\n",
       "    <tr>\n",
       "      <th>2</th>\n",
       "      <td>2</td>\n",
       "      <td>4</td>\n",
       "      <td>1548</td>\n",
       "    </tr>\n",
       "  </tbody>\n",
       "</table>\n",
       "</div>"
      ],
      "text/plain": [
       "     0    1     2\n",
       "0  764    0    14\n",
       "1    1  758    17\n",
       "2    2    4  1548"
      ]
     },
     "execution_count": 68,
     "metadata": {},
     "output_type": "execute_result"
    }
   ],
   "source": [
    "# Report trainig set confusion matrix\n",
    "y_true = y_train\n",
    "y_pred = SVM.predict(x_train)\n",
    "ConfusionMatrix = pd.DataFrame(confusion_matrix(y_true, y_pred)) \n",
    "print('The training set confusion matrix is:')\n",
    "ConfusionMatrix"
   ]
  },
  {
   "cell_type": "code",
   "execution_count": null,
   "metadata": {
    "collapsed": true
   },
   "outputs": [],
   "source": []
  },
  {
   "cell_type": "code",
   "execution_count": null,
   "metadata": {
    "collapsed": true
   },
   "outputs": [],
   "source": []
  }
 ],
 "metadata": {
  "kernelspec": {
   "display_name": "Python 3",
   "language": "python",
   "name": "python3"
  },
  "language_info": {
   "codemirror_mode": {
    "name": "ipython",
    "version": 3
   },
   "file_extension": ".py",
   "mimetype": "text/x-python",
   "name": "python",
   "nbconvert_exporter": "python",
   "pygments_lexer": "ipython3",
   "version": "3.6.3"
  }
 },
 "nbformat": 4,
 "nbformat_minor": 2
}

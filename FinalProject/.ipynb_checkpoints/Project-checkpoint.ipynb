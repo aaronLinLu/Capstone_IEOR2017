{
 "cells": [
  {
   "cell_type": "code",
   "execution_count": 443,
   "metadata": {
    "collapsed": true
   },
   "outputs": [],
   "source": [
    "import warnings\n",
    "warnings.filterwarnings('ignore') # Filter out warnings\n",
    "import numpy as np\n",
    "import pandas as pd\n",
    "import random as rnd\n",
    "import matplotlib.pyplot as plt\n",
    "%matplotlib inline\n",
    "from matplotlib.pylab import rcParams\n",
    "from scipy import stats\n",
    "import math"
   ]
  },
  {
   "cell_type": "code",
   "execution_count": 444,
   "metadata": {
    "collapsed": true
   },
   "outputs": [],
   "source": [
    "AMZN_msg_path = 'AMZN_2012-06-21_34200000_57600000_message_5.csv'\n",
    "AMZN_ordb_path = 'AMZN_2012-06-21_34200000_57600000_orderbook_5.csv'\n",
    "# add header rows\n",
    "df_msg = pd.read_csv(AMZN_msg_path,names = [\"Time_stamp\", \"Type\", \"OrderID\", \"Size\",\"Price\",\"Direction\"])\n",
    "df_ordb = pd.read_csv(AMZN_ordb_path,\n",
    "names=['Ask Price 1','Ask Size 1','Bid Price 1','Bid Size 1','Ask Price 2','Ask Size 2','Bid Price 2','Bid Size 2',\n",
    "       'Ask Price 3','Ask Size 3','Bid Price 3','Bid Size 3','Ask Price 4','Ask Size 4','Bid Price 4','Bid Size 4',\n",
    "       'Ask Price 5','Ask Size 5','Bid Price 5','Bid Size 5']) "
   ]
  },
  {
   "cell_type": "code",
   "execution_count": 445,
   "metadata": {},
   "outputs": [
    {
     "name": "stdout",
     "output_type": "stream",
     "text": [
      "Originally, message and orderbook csv each has 155935, 155935 rows.\n"
     ]
    }
   ],
   "source": [
    "print(\"Originally, message and orderbook csv each has {}, {} rows.\".format(len(df_msg.index),len(df_ordb.index)))"
   ]
  },
  {
   "cell_type": "code",
   "execution_count": 446,
   "metadata": {},
   "outputs": [
    {
     "name": "stdout",
     "output_type": "stream",
     "text": [
      "total unique orders today: 85403\n"
     ]
    }
   ],
   "source": [
    "print(\"total unique orders today: {}\".format(len(set(df_msg['OrderID'].tolist()))))"
   ]
  },
  {
   "cell_type": "code",
   "execution_count": 447,
   "metadata": {},
   "outputs": [
    {
     "name": "stdout",
     "output_type": "stream",
     "text": [
      "total number of cancelled order: 450\n"
     ]
    }
   ],
   "source": [
    "# cancelled orders are type 2\n",
    "cancelledOrder = df_msg[(df_msg['Type']==2)]\n",
    "print('total number of cancelled order: {}'.format(len(cancelledOrder)))"
   ]
  },
  {
   "cell_type": "code",
   "execution_count": 448,
   "metadata": {
    "collapsed": true
   },
   "outputs": [],
   "source": [
    "df_msg['Time'] = pd.to_datetime(df_msg['Time_stamp'], unit=\"s\", origin=pd.Timestamp('2012-06-21'))"
   ]
  },
  {
   "cell_type": "code",
   "execution_count": 449,
   "metadata": {
    "collapsed": true
   },
   "outputs": [],
   "source": [
    "# COMBINE TWO DATAFRAMES\n",
    "df = pd.concat([df_ordb,df_msg],axis=1)\n",
    "#df.drop(['Time_stamp'])"
   ]
  },
  {
   "cell_type": "code",
   "execution_count": 450,
   "metadata": {},
   "outputs": [
    {
     "data": {
      "text/html": [
       "<div>\n",
       "<style scoped>\n",
       "    .dataframe tbody tr th:only-of-type {\n",
       "        vertical-align: middle;\n",
       "    }\n",
       "\n",
       "    .dataframe tbody tr th {\n",
       "        vertical-align: top;\n",
       "    }\n",
       "\n",
       "    .dataframe thead th {\n",
       "        text-align: right;\n",
       "    }\n",
       "</style>\n",
       "<table border=\"1\" class=\"dataframe\">\n",
       "  <thead>\n",
       "    <tr style=\"text-align: right;\">\n",
       "      <th></th>\n",
       "      <th>Ask Price 1</th>\n",
       "      <th>Ask Size 1</th>\n",
       "      <th>Bid Price 1</th>\n",
       "      <th>Bid Size 1</th>\n",
       "      <th>Ask Price 2</th>\n",
       "      <th>Ask Size 2</th>\n",
       "      <th>Bid Price 2</th>\n",
       "      <th>Bid Size 2</th>\n",
       "      <th>Ask Price 3</th>\n",
       "      <th>Ask Size 3</th>\n",
       "      <th>...</th>\n",
       "      <th>Ask Size 5</th>\n",
       "      <th>Bid Price 5</th>\n",
       "      <th>Bid Size 5</th>\n",
       "      <th>Time_stamp</th>\n",
       "      <th>Type</th>\n",
       "      <th>OrderID</th>\n",
       "      <th>Size</th>\n",
       "      <th>Price</th>\n",
       "      <th>Direction</th>\n",
       "      <th>Time</th>\n",
       "    </tr>\n",
       "  </thead>\n",
       "  <tbody>\n",
       "    <tr>\n",
       "      <th>0</th>\n",
       "      <td>2239500</td>\n",
       "      <td>100</td>\n",
       "      <td>2231800</td>\n",
       "      <td>100</td>\n",
       "      <td>2239900</td>\n",
       "      <td>100</td>\n",
       "      <td>2230700</td>\n",
       "      <td>200</td>\n",
       "      <td>2240000</td>\n",
       "      <td>220</td>\n",
       "      <td>...</td>\n",
       "      <td>547</td>\n",
       "      <td>2226200</td>\n",
       "      <td>100</td>\n",
       "      <td>34200.017460</td>\n",
       "      <td>5</td>\n",
       "      <td>0</td>\n",
       "      <td>1</td>\n",
       "      <td>2238200</td>\n",
       "      <td>-1</td>\n",
       "      <td>2012-06-21 09:30:00.017460</td>\n",
       "    </tr>\n",
       "    <tr>\n",
       "      <th>1</th>\n",
       "      <td>2239500</td>\n",
       "      <td>100</td>\n",
       "      <td>2238100</td>\n",
       "      <td>21</td>\n",
       "      <td>2239900</td>\n",
       "      <td>100</td>\n",
       "      <td>2231800</td>\n",
       "      <td>100</td>\n",
       "      <td>2240000</td>\n",
       "      <td>220</td>\n",
       "      <td>...</td>\n",
       "      <td>547</td>\n",
       "      <td>2230000</td>\n",
       "      <td>10</td>\n",
       "      <td>34200.189608</td>\n",
       "      <td>1</td>\n",
       "      <td>11885113</td>\n",
       "      <td>21</td>\n",
       "      <td>2238100</td>\n",
       "      <td>1</td>\n",
       "      <td>2012-06-21 09:30:00.189608</td>\n",
       "    </tr>\n",
       "    <tr>\n",
       "      <th>2</th>\n",
       "      <td>2239500</td>\n",
       "      <td>100</td>\n",
       "      <td>2238100</td>\n",
       "      <td>21</td>\n",
       "      <td>2239600</td>\n",
       "      <td>20</td>\n",
       "      <td>2231800</td>\n",
       "      <td>100</td>\n",
       "      <td>2239900</td>\n",
       "      <td>100</td>\n",
       "      <td>...</td>\n",
       "      <td>100</td>\n",
       "      <td>2230000</td>\n",
       "      <td>10</td>\n",
       "      <td>34200.189608</td>\n",
       "      <td>1</td>\n",
       "      <td>3911376</td>\n",
       "      <td>20</td>\n",
       "      <td>2239600</td>\n",
       "      <td>-1</td>\n",
       "      <td>2012-06-21 09:30:00.189608</td>\n",
       "    </tr>\n",
       "    <tr>\n",
       "      <th>3</th>\n",
       "      <td>2239500</td>\n",
       "      <td>100</td>\n",
       "      <td>2238100</td>\n",
       "      <td>21</td>\n",
       "      <td>2239600</td>\n",
       "      <td>20</td>\n",
       "      <td>2237500</td>\n",
       "      <td>100</td>\n",
       "      <td>2239900</td>\n",
       "      <td>100</td>\n",
       "      <td>...</td>\n",
       "      <td>100</td>\n",
       "      <td>2230400</td>\n",
       "      <td>100</td>\n",
       "      <td>34200.189608</td>\n",
       "      <td>1</td>\n",
       "      <td>11534792</td>\n",
       "      <td>100</td>\n",
       "      <td>2237500</td>\n",
       "      <td>1</td>\n",
       "      <td>2012-06-21 09:30:00.189608</td>\n",
       "    </tr>\n",
       "    <tr>\n",
       "      <th>4</th>\n",
       "      <td>2239500</td>\n",
       "      <td>100</td>\n",
       "      <td>2238100</td>\n",
       "      <td>21</td>\n",
       "      <td>2239600</td>\n",
       "      <td>20</td>\n",
       "      <td>2237500</td>\n",
       "      <td>100</td>\n",
       "      <td>2239900</td>\n",
       "      <td>100</td>\n",
       "      <td>...</td>\n",
       "      <td>100</td>\n",
       "      <td>2230400</td>\n",
       "      <td>100</td>\n",
       "      <td>34200.189608</td>\n",
       "      <td>1</td>\n",
       "      <td>1365373</td>\n",
       "      <td>13</td>\n",
       "      <td>2240000</td>\n",
       "      <td>-1</td>\n",
       "      <td>2012-06-21 09:30:00.189608</td>\n",
       "    </tr>\n",
       "  </tbody>\n",
       "</table>\n",
       "<p>5 rows × 27 columns</p>\n",
       "</div>"
      ],
      "text/plain": [
       "   Ask Price 1  Ask Size 1  Bid Price 1  Bid Size 1  Ask Price 2  Ask Size 2  \\\n",
       "0      2239500         100      2231800         100      2239900         100   \n",
       "1      2239500         100      2238100          21      2239900         100   \n",
       "2      2239500         100      2238100          21      2239600          20   \n",
       "3      2239500         100      2238100          21      2239600          20   \n",
       "4      2239500         100      2238100          21      2239600          20   \n",
       "\n",
       "   Bid Price 2  Bid Size 2  Ask Price 3  Ask Size 3  \\\n",
       "0      2230700         200      2240000         220   \n",
       "1      2231800         100      2240000         220   \n",
       "2      2231800         100      2239900         100   \n",
       "3      2237500         100      2239900         100   \n",
       "4      2237500         100      2239900         100   \n",
       "\n",
       "             ...              Ask Size 5  Bid Price 5  Bid Size 5  \\\n",
       "0            ...                     547      2226200         100   \n",
       "1            ...                     547      2230000          10   \n",
       "2            ...                     100      2230000          10   \n",
       "3            ...                     100      2230400         100   \n",
       "4            ...                     100      2230400         100   \n",
       "\n",
       "     Time_stamp  Type   OrderID  Size    Price  Direction  \\\n",
       "0  34200.017460     5         0     1  2238200         -1   \n",
       "1  34200.189608     1  11885113    21  2238100          1   \n",
       "2  34200.189608     1   3911376    20  2239600         -1   \n",
       "3  34200.189608     1  11534792   100  2237500          1   \n",
       "4  34200.189608     1   1365373    13  2240000         -1   \n",
       "\n",
       "                        Time  \n",
       "0 2012-06-21 09:30:00.017460  \n",
       "1 2012-06-21 09:30:00.189608  \n",
       "2 2012-06-21 09:30:00.189608  \n",
       "3 2012-06-21 09:30:00.189608  \n",
       "4 2012-06-21 09:30:00.189608  \n",
       "\n",
       "[5 rows x 27 columns]"
      ]
     },
     "execution_count": 450,
     "metadata": {},
     "output_type": "execute_result"
    }
   ],
   "source": [
    "df.head(5)"
   ]
  },
  {
   "cell_type": "code",
   "execution_count": 451,
   "metadata": {
    "collapsed": true
   },
   "outputs": [],
   "source": [
    "df_OC = df.loc[df['OrderID'].isin(cancelledOrder_ID)]\n",
    "df_OC.drop(['Time_stamp'],axis=1,inplace=True)\n",
    "#df_NonOC = df.loc[~df['OrderID'].isin(cancelledOrder_ID)]"
   ]
  },
  {
   "cell_type": "code",
   "execution_count": 1,
   "metadata": {},
   "outputs": [
    {
     "ename": "NameError",
     "evalue": "name 'df_OC' is not defined",
     "output_type": "error",
     "traceback": [
      "\u001b[1;31m---------------------------------------------------------------------------\u001b[0m",
      "\u001b[1;31mNameError\u001b[0m                                 Traceback (most recent call last)",
      "\u001b[1;32m<ipython-input-1-dee21be84601>\u001b[0m in \u001b[0;36m<module>\u001b[1;34m()\u001b[0m\n\u001b[0;32m      1\u001b[0m \u001b[1;31m# Get parameters for orders at their submission time\u001b[0m\u001b[1;33m\u001b[0m\u001b[1;33m\u001b[0m\u001b[0m\n\u001b[1;32m----> 2\u001b[1;33m \u001b[0mdf_OC_submit\u001b[0m \u001b[1;33m=\u001b[0m \u001b[0mdf_OC\u001b[0m\u001b[1;33m[\u001b[0m\u001b[1;33m(\u001b[0m\u001b[0mdf_OC\u001b[0m\u001b[1;33m[\u001b[0m\u001b[1;34m'Type'\u001b[0m\u001b[1;33m]\u001b[0m\u001b[1;33m==\u001b[0m\u001b[1;36m2\u001b[0m\u001b[1;33m)\u001b[0m\u001b[1;33m]\u001b[0m\u001b[1;33m\u001b[0m\u001b[0m\n\u001b[0m\u001b[0;32m      3\u001b[0m \u001b[1;31m# renaming columns...\u001b[0m\u001b[1;33m\u001b[0m\u001b[1;33m\u001b[0m\u001b[0m\n\u001b[0;32m      4\u001b[0m \u001b[0mold_col\u001b[0m \u001b[1;33m=\u001b[0m \u001b[0mdf_OC_submit\u001b[0m\u001b[1;33m.\u001b[0m\u001b[0mcolumns\u001b[0m\u001b[1;33m.\u001b[0m\u001b[0mtolist\u001b[0m\u001b[1;33m(\u001b[0m\u001b[1;33m)\u001b[0m\u001b[1;33m\u001b[0m\u001b[0m\n\u001b[0;32m      5\u001b[0m \u001b[0mnew_col\u001b[0m \u001b[1;33m=\u001b[0m \u001b[1;33m[\u001b[0m\u001b[1;33m]\u001b[0m\u001b[1;33m\u001b[0m\u001b[0m\n",
      "\u001b[1;31mNameError\u001b[0m: name 'df_OC' is not defined"
     ]
    }
   ],
   "source": [
    "# Get parameters for orders at their submission time\n",
    "df_OC_submit = df_OC[(df_OC['Type']==2)]\n",
    "# renaming columns...\n",
    "old_col = df_OC_submit.columns.tolist()\n",
    "new_col = []\n",
    "text = ' Sumbisson'\n",
    "for col in old_col:\n",
    "    if ( (\"Bid\" in col) | (\"Ask\" in col) ):\n",
    "        new_col.append(col+text)\n",
    "    elif ((col == 'Size') | (col == 'Price')):\n",
    "        new_col.append(col+text)        \n",
    "    else:\n",
    "        new_col.append(col)\n",
    "columns = dict(zip(old_col,new_col))\n",
    "df_OC_submit.rename(columns=columns,inplace=True)\n",
    "df_OC_submit"
   ]
  },
  {
   "cell_type": "code",
   "execution_count": 2,
   "metadata": {},
   "outputs": [
    {
     "ename": "NameError",
     "evalue": "name 'df_OC' is not defined",
     "output_type": "error",
     "traceback": [
      "\u001b[1;31m---------------------------------------------------------------------------\u001b[0m",
      "\u001b[1;31mNameError\u001b[0m                                 Traceback (most recent call last)",
      "\u001b[1;32m<ipython-input-2-f556f061e96f>\u001b[0m in \u001b[0;36m<module>\u001b[1;34m()\u001b[0m\n\u001b[1;32m----> 1\u001b[1;33m \u001b[0mdf_OC_cancelled\u001b[0m \u001b[1;33m=\u001b[0m \u001b[0mdf_OC\u001b[0m\u001b[1;33m[\u001b[0m\u001b[1;33m(\u001b[0m\u001b[0mdf_OC\u001b[0m\u001b[1;33m[\u001b[0m\u001b[1;34m'Type'\u001b[0m\u001b[1;33m]\u001b[0m\u001b[1;33m==\u001b[0m\u001b[1;36m2\u001b[0m\u001b[1;33m)\u001b[0m\u001b[1;33m]\u001b[0m\u001b[1;33m\u001b[0m\u001b[0m\n\u001b[0m\u001b[0;32m      2\u001b[0m \u001b[0mdf_OC_deleted\u001b[0m \u001b[1;33m=\u001b[0m \u001b[0mdf_OC\u001b[0m\u001b[1;33m[\u001b[0m\u001b[1;33m(\u001b[0m\u001b[0mdf_OC\u001b[0m\u001b[1;33m[\u001b[0m\u001b[1;34m'Type'\u001b[0m\u001b[1;33m]\u001b[0m\u001b[1;33m==\u001b[0m\u001b[1;36m3\u001b[0m\u001b[1;33m)\u001b[0m\u001b[1;33m]\u001b[0m\u001b[1;33m\u001b[0m\u001b[0m\n",
      "\u001b[1;31mNameError\u001b[0m: name 'df_OC' is not defined"
     ]
    }
   ],
   "source": [
    "df_OC_cancelled = df_OC[(df_OC['Type']==2)]\n",
    "df_OC_deleted = df_OC[(df_OC['Type']==3)]"
   ]
  },
  {
   "cell_type": "code",
   "execution_count": 454,
   "metadata": {
    "collapsed": true
   },
   "outputs": [],
   "source": [
    "df_OC_merge = df_OC_submit.merge(df_OC_cancelled, left_on='OrderID', right_on='OrderID', how='outer')"
   ]
  },
  {
   "cell_type": "code",
   "execution_count": null,
   "metadata": {
    "collapsed": true
   },
   "outputs": [],
   "source": []
  },
  {
   "cell_type": "code",
   "execution_count": null,
   "metadata": {
    "collapsed": true
   },
   "outputs": [],
   "source": []
  }
 ],
 "metadata": {
  "kernelspec": {
   "display_name": "Python 3",
   "language": "python",
   "name": "python3"
  },
  "language_info": {
   "codemirror_mode": {
    "name": "ipython",
    "version": 3
   },
   "file_extension": ".py",
   "mimetype": "text/x-python",
   "name": "python",
   "nbconvert_exporter": "python",
   "pygments_lexer": "ipython3",
   "version": "3.6.3"
  }
 },
 "nbformat": 4,
 "nbformat_minor": 2
}

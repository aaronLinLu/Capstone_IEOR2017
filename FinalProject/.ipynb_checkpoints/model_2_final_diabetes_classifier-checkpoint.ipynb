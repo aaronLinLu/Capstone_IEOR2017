{
 "cells": [
  {
   "cell_type": "code",
   "execution_count": 1,
   "metadata": {
    "collapsed": true
   },
   "outputs": [],
   "source": [
    "# data analysis and wrangling\n",
    "import numpy as np\n",
    "import pandas as pd\n",
    "import seaborn as sns\n",
    "\n",
    "# visualization\n",
    "import matplotlib.pyplot as plt\n",
    "\n",
    "# machine learning\n",
    "from sklearn.linear_model import LogisticRegression, LogisticRegressionCV\n",
    "from sklearn.svm import SVC, LinearSVC\n",
    "from sklearn.ensemble import RandomForestClassifier\n",
    "from sklearn.neighbors import KNeighborsClassifier\n",
    "from sklearn.naive_bayes import GaussianNB # Gaussian Naive Bays\n",
    "from sklearn.linear_model import Perceptron\n",
    "from sklearn.linear_model import SGDClassifier #stochastic gradient descent\n",
    "from sklearn.tree import DecisionTreeClassifier\n",
    "from sklearn.ensemble import AdaBoostClassifier\n",
    "\n",
    "# evaluation\n",
    "from sklearn.metrics import confusion_matrix\n",
    "import matplotlib.pyplot as plt\n",
    "%matplotlib inline\n",
    "\n",
    "from sklearn.utils import shuffle\n",
    "from sklearn.model_selection import train_test_split\n",
    "\n",
    "from sklearn import preprocessing\n",
    "\n",
    "from sklearn.metrics import precision_recall_curve, precision_score, recall_score, accuracy_score, roc_curve, roc_auc_score, f1_score\n",
    "from sklearn.model_selection import GridSearchCV\n"
   ]
  },
  {
   "cell_type": "code",
   "execution_count": 2,
   "metadata": {
    "collapsed": true
   },
   "outputs": [],
   "source": [
    "# cleaned in script 'clean_features_demographic.ipynb'\n",
    "df_demo = pd.DataFrame.from_csv('data_clean/phase_2/demographic_features.csv').reset_index()\n",
    "\n",
    "# diabetes data\n",
    "df_d = pd.DataFrame.from_csv('data_clean/phase_2/diabetes_class.csv').reset_index()\n",
    "\n",
    "# body measures data\n",
    "# features: waist, height, weight, BMI\n",
    "df_bm = pd.DataFrame.from_csv('data_clean/phase_2/body_measure_features.csv').reset_index()\n",
    "\n",
    "# medical condition data\n",
    "# features: blood_relative_have_diabetes\n",
    "df_mc = pd.DataFrame.from_csv('data_clean/phase_2/mc_features.csv').reset_index()\n",
    "\n",
    "# exercise data\n",
    "df_ex = pd.DataFrame.from_csv('data_clean/phase_2/exercise_features_cluster_5.csv')\n",
    "\n",
    "# nutritional data\n",
    "df_n = pd.DataFrame.from_csv('data_clean/phase_2/nutrition_features.csv').reset_index()\n",
    "\n",
    "# blood pressure and cholesterol data\n",
    "df_bpc = pd.DataFrame.from_csv('data_clean/phase_2/bpc_features.csv').reset_index()\n",
    "\n",
    "# physical activity questionnaire data\n",
    "df_paq = pd.DataFrame.from_csv('data_clean/phase_2/paq_features.csv').reset_index()"
   ]
  },
  {
   "cell_type": "code",
   "execution_count": 3,
   "metadata": {
    "collapsed": true
   },
   "outputs": [],
   "source": [
    "# change 1.0 \"borderline\" to 0.0\n",
    "# create 'has_diabetes' column. 0 = not diabetic, 1 = diabetic\n",
    "# considered diabetic if either diagnosed or past glucose threshold\n",
    "\n",
    "df_d.loc[df_d['diabetes_known'] == 2.0, 'combined_diabetic'] = 1.0\n",
    "df_d.loc[df_d['diabetic'] == 2.0, 'combined_diabetic'] = 1.0\n",
    "df_d['combined_diabetic'].fillna(0.0, inplace = True);\n",
    "\n",
    "df_d = pd.get_dummies(df_d, columns=['combined_diabetic'])"
   ]
  },
  {
   "cell_type": "code",
   "execution_count": 4,
   "metadata": {},
   "outputs": [
    {
     "data": {
      "text/plain": [
       "(5340, 29)"
      ]
     },
     "execution_count": 4,
     "metadata": {},
     "output_type": "execute_result"
    }
   ],
   "source": [
    "df_c = pd.merge(df_d, df_demo, how='inner', on='respondent_id')  # inner join\n",
    "df_c = pd.merge(df_c, df_bm, how='inner', on='respondent_id')  # inner join\n",
    "#df_c = pd.merge(df_c, df_n, how='inner', on='respondent_id')  # inner join\n",
    "df_c = pd.merge(df_c, df_mc, how='inner', on='respondent_id')  # inner join\n",
    "df_c = pd.merge(df_c, df_paq, how='inner', on='respondent_id')  # inner join\n",
    "#df_c = pd.merge(df_c, df_bpc, how='inner', on='respondent_id')  # inner join\n",
    "#df_c = pd.merge(df_c, df_ex, how='inner', on='respondent_id') # inner join\n",
    "df_c.shape"
   ]
  },
  {
   "cell_type": "code",
   "execution_count": 5,
   "metadata": {
    "collapsed": true
   },
   "outputs": [],
   "source": [
    "# remove pregnant women, as hormones affect blood levels\n",
    "# remove people under age of 20\n",
    "pregnant_index = df_c[df_c['pregnancy_status_at_exam'] == 1.0].index.tolist()\n",
    "age_index = df_c[df_c['age_at_screening'] < 20.0].index.tolist()\n",
    "\n",
    "[pregnant_index.append(i) for i in age_index]\n",
    "drop_index = list(set(pregnant_index))\n",
    "\n",
    "df_c.drop(labels = drop_index, axis = 0, inplace = True)\n",
    "\n",
    "# fill non-respondents of binary questions as no\n",
    "\n",
    "df_c = df_c.fillna(0.0)"
   ]
  },
  {
   "cell_type": "code",
   "execution_count": 6,
   "metadata": {},
   "outputs": [
    {
     "data": {
      "text/plain": [
       "Index(['respondent_id', 'diabetes_known', 'diabetic', 'combined_diabetic_0.0',\n",
       "       'combined_diabetic_1.0', 'age_at_screening', 'annual_family_income',\n",
       "       'annual_household_income', 'pregnancy_status_at_exam',\n",
       "       'total_number_of_people_in_the_household', 'gender_1.0', 'gender_2.0',\n",
       "       'race_ethnicity_1.0', 'race_ethnicity_2.0', 'race_ethnicity_3.0',\n",
       "       'race_ethnicity_4.0', 'race_ethnicity_5.0', 'body_mass_index_kg_m**2',\n",
       "       'standing_height_cm', 'weight_kg', 'waist_circumference_cm',\n",
       "       'subscapular_skinfold_mm', 'upper_leg_length_cm',\n",
       "       'blood_relatives_have_diabetes_0.0',\n",
       "       'blood_relatives_have_diabetes_1.0',\n",
       "       'avg_level_of_physical_activity_each_day_1.0',\n",
       "       'avg_level_of_physical_activity_each_day_2.0',\n",
       "       'avg_level_of_physical_activity_each_day_3.0',\n",
       "       'avg_level_of_physical_activity_each_day_4.0'],\n",
       "      dtype='object')"
      ]
     },
     "execution_count": 6,
     "metadata": {},
     "output_type": "execute_result"
    }
   ],
   "source": [
    "df_c.columns"
   ]
  },
  {
   "cell_type": "code",
   "execution_count": 7,
   "metadata": {},
   "outputs": [
    {
     "data": {
      "text/plain": [
       "0    3436\n",
       "1     598\n",
       "Name: combined_diabetic_1.0, dtype: int64"
      ]
     },
     "execution_count": 7,
     "metadata": {},
     "output_type": "execute_result"
    }
   ],
   "source": [
    "df_c['combined_diabetic_1.0'].value_counts()"
   ]
  },
  {
   "cell_type": "code",
   "execution_count": 8,
   "metadata": {
    "collapsed": true
   },
   "outputs": [],
   "source": [
    "drop_col = list(df_d.columns.values)\n",
    "drop_col.append('pregnancy_status_at_exam')\n",
    "\n",
    "X = df_c.drop(drop_col, axis = 1)\n",
    "Y = df_c['combined_diabetic_1.0'].copy()"
   ]
  },
  {
   "cell_type": "code",
   "execution_count": 9,
   "metadata": {
    "collapsed": true
   },
   "outputs": [],
   "source": [
    "x_train_raw, x_test_raw, y_train, y_test = train_test_split(X, Y, test_size=0.2, random_state=1)\n",
    "\n",
    "scaler = preprocessing.MinMaxScaler(feature_range=(0,1))\n",
    "x_train = scaler.fit_transform(x_train_raw)\n",
    "x_test = scaler.fit_transform(x_test_raw)"
   ]
  },
  {
   "cell_type": "code",
   "execution_count": 10,
   "metadata": {
    "collapsed": true
   },
   "outputs": [],
   "source": [
    "def predict_threshold(model, x, threshold):\n",
    "    return (model.predict_proba(x)[:,1] > threshold).astype(int)    "
   ]
  },
  {
   "cell_type": "code",
   "execution_count": 11,
   "metadata": {
    "collapsed": true
   },
   "outputs": [],
   "source": [
    "def print_confusions(model, x, y, y_pred):\n",
    "    conf_train = pd.DataFrame(data=confusion_matrix(y, y_pred), \n",
    "                          columns=[0, 1],\n",
    "                          index=[0, 1]).iloc[::-1,::-1].T\n",
    "\n",
    "    print('Confusion (rows: pred, cols: actual)\\n{}'.format(conf_train))"
   ]
  },
  {
   "cell_type": "code",
   "execution_count": 12,
   "metadata": {
    "collapsed": true
   },
   "outputs": [],
   "source": [
    "def print_eval(model, x, y, threshold=None):\n",
    "    \"\"\"Prints some evaluation metrics\"\"\"\n",
    "    if threshold is not None:\n",
    "        y_pred = predict_threshold(model, x, threshold)\n",
    "    else:\n",
    "        y_pred = model.predict(x)\n",
    "    print('{:15} {:.5f}'.format('Accuracy:', accuracy_score(y, y_pred)))\n",
    "    print('{:15} {:.5f}'.format('Precision:', precision_score(y, y_pred)))\n",
    "    print('{:15} {:.5f}'.format('Recall:', recall_score(y, y_pred)))\n",
    "    print('{:15} {:.5f}'.format('AUC:', roc_auc_score(y, y_pred)))\n",
    "    print('{:15} {:.5f}'.format('F1 score:', f1_score(y, y_pred)))    \n",
    "    print('')\n",
    "    print_confusions(model, x, y, y_pred)"
   ]
  },
  {
   "cell_type": "code",
   "execution_count": 13,
   "metadata": {
    "collapsed": true
   },
   "outputs": [],
   "source": [
    "# print recall curves vs threshold and precision\n",
    "\n",
    "def plot_precision_recall_curve(model, x, y):\n",
    "    precision, recall, thresholds = precision_recall_curve(y_true = y, probas_pred = model.predict_proba(x)[:,1])\n",
    "    fpr, tpr, threshold = roc_curve(y_test, model.predict_proba(x)[:,1])\n",
    "    \n",
    "    # ROC curve\n",
    "    fig, ax = plt.subplots(1,2,figsize = (10,5))\n",
    "    ax[0].plot(fpr, tpr)\n",
    "    ax[0].set_xlabel('FPR')\n",
    "    ax[0].set_ylabel('TPR')\n",
    "    ax[0].set_title('ROC Curve')\n",
    "    \n",
    "    # recall vs precision curve\n",
    "    ax[1].plot(precision, recall)\n",
    "    ax[1].set_xlabel('precision')\n",
    "    ax[1].set_ylabel('recall')\n",
    "    ax[1].set_title('Recall vs Precision')\n",
    "\n",
    "    return precision, recall, thresholds"
   ]
  },
  {
   "cell_type": "code",
   "execution_count": 16,
   "metadata": {
    "collapsed": true
   },
   "outputs": [],
   "source": [
    "# print top hypertuned models\n",
    "\n",
    "def report(results, n_top=15):\n",
    "    for i in range(1, n_top + 1):\n",
    "        candidates = np.flatnonzero(results['rank_test_score'] == i)\n",
    "        for candidate in candidates:\n",
    "            print(\"Model with rank: {0}\".format(i))\n",
    "            print(\"Mean validation score: {0:.3f} (std: {1:.3f})\".format(\n",
    "                  results['mean_test_score'][candidate],\n",
    "                  results['std_test_score'][candidate]))\n",
    "            print(\"Parameters: {0}\".format(results['params'][candidate]))\n",
    "            print(\"\")\n",
    "            \n",
    "                        \n",
    "            # unpack parameters and evaluate all metrics for top 3 results\n",
    "            # rf_best = RandomForestClassifier(**results['params'][candidate]).fit(x_train, y_train)\n",
    "            # print_eval(rf_best, x_test, y_test)\n",
    "            print(\"\\n\")"
   ]
  },
  {
   "cell_type": "code",
   "execution_count": 15,
   "metadata": {},
   "outputs": [
    {
     "name": "stdout",
     "output_type": "stream",
     "text": [
      "\n",
      "TRAIN\n",
      "Accuracy:       0.78618\n",
      "Precision:      0.37590\n",
      "Recall:         0.64463\n",
      "AUC:            0.72789\n",
      "F1 score:       0.47489\n",
      "\n",
      "Confusion (rows: pred, cols: actual)\n",
      "     1     0\n",
      "1  312   518\n",
      "0  172  2225\n",
      "\n",
      "TEST\n",
      "Accuracy:       0.64064\n",
      "Precision:      0.26087\n",
      "Recall:         0.84211\n",
      "AUC:            0.72480\n",
      "F1 score:       0.39834\n",
      "\n",
      "Confusion (rows: pred, cols: actual)\n",
      "    1    0\n",
      "1  96  272\n",
      "0  18  421\n"
     ]
    },
    {
     "data": {
      "image/png": "[encoded data removed]",
      "text/plain": [
       "<matplotlib.figure.Figure at 0x130bf2e0ac8>"
      ]
     },
     "metadata": {},
     "output_type": "display_data"
    }
   ],
   "source": [
    "from sklearn import linear_model\n",
    "log_reg = linear_model.LogisticRegressionCV(Cs=[1e4], cv = 10, class_weight='balanced', penalty='l2')\n",
    "\n",
    "log_reg.fit(x_train, y_train)\n",
    "\n",
    "model = log_reg\n",
    "\n",
    "threshold = .6\n",
    "print('\\nTRAIN')\n",
    "print_eval(model, x_train, y_train, threshold)\n",
    "\n",
    "print('\\nTEST')\n",
    "print_eval(model, x_test, y_test,threshold)\n",
    "\n",
    "precision, recall, thresholds = plot_precision_recall_curve(model = log_reg, x= x_test, y = y_test)"
   ]
  },
  {
   "cell_type": "code",
   "execution_count": null,
   "metadata": {},
   "outputs": [
    {
     "name": "stdout",
     "output_type": "stream",
     "text": [
      "Training SVM...\n"
     ]
    }
   ],
   "source": [
    "svm = SVC(C=1e5, class_weight='balanced', kernel = 'linear')\n",
    "\n",
    "print('Training SVM...')\n",
    "svm.fit(x_train, y_train)\n",
    "\n",
    "model = svm\n",
    "print('\\nTRAIN')\n",
    "print_eval(model, x_train, y_train)\n",
    "\n",
    "print('\\nTEST')\n",
    "print_eval(model, x_test, y_test)"
   ]
  },
  {
   "cell_type": "code",
   "execution_count": 30,
   "metadata": {},
   "outputs": [
    {
     "name": "stdout",
     "output_type": "stream",
     "text": [
      "Hyperparameter tuning took 5377.633442401886 seconds\n"
     ]
    }
   ],
   "source": [
    "# svm hypertuning\n",
    "\n",
    "import time\n",
    "start_time = time.time()\n",
    "\n",
    "param_grid = {\n",
    "              \"C\": [1e-5,1e-4,1e-3,1e-2,1e-1,1,1e1,1e2,1e3,1e4,1e5],\n",
    "              \"kernel\": ['rbf', 'linear']\n",
    "             }\n",
    "# run grid search\n",
    "grid_search = GridSearchCV(SVC(), param_grid=param_grid, cv = 5, scoring = 'roc_auc')\n",
    "grid_search.fit(x_train, y_train)\n",
    "\n",
    "time = time.time() - start_time\n",
    "print(\"Hyperparameter tuning took {} seconds\".format(time))"
   ]
  },
  {
   "cell_type": "code",
   "execution_count": 45,
   "metadata": {},
   "outputs": [
    {
     "name": "stdout",
     "output_type": "stream",
     "text": [
      "Model with rank: 1\n",
      "Mean validation score: 0.810 (std: 0.023)\n",
      "Parameters: {'C': 100000.0, 'kernel': 'linear'}\n",
      "\n",
      "\n",
      "\n",
      "Model with rank: 2\n",
      "Mean validation score: 0.808 (std: 0.022)\n",
      "Parameters: {'C': 10000.0, 'kernel': 'linear'}\n",
      "\n",
      "\n",
      "\n",
      "Model with rank: 3\n",
      "Mean validation score: 0.808 (std: 0.023)\n",
      "Parameters: {'C': 1000.0, 'kernel': 'linear'}\n",
      "\n",
      "\n",
      "\n",
      "Model with rank: 4\n",
      "Mean validation score: 0.774 (std: 0.034)\n",
      "Parameters: {'C': 100.0, 'kernel': 'linear'}\n",
      "\n",
      "\n",
      "\n",
      "Model with rank: 5\n",
      "Mean validation score: 0.728 (std: 0.018)\n",
      "Parameters: {'C': 10.0, 'kernel': 'rbf'}\n",
      "\n",
      "\n",
      "\n",
      "Model with rank: 6\n",
      "Mean validation score: 0.725 (std: 0.020)\n",
      "Parameters: {'C': 100.0, 'kernel': 'rbf'}\n",
      "\n",
      "\n",
      "\n",
      "Model with rank: 7\n",
      "Mean validation score: 0.722 (std: 0.027)\n",
      "Parameters: {'C': 1000.0, 'kernel': 'rbf'}\n",
      "\n",
      "\n",
      "\n",
      "Model with rank: 8\n",
      "Mean validation score: 0.719 (std: 0.013)\n",
      "Parameters: {'C': 1, 'kernel': 'rbf'}\n",
      "\n",
      "\n",
      "\n",
      "Model with rank: 9\n",
      "Mean validation score: 0.718 (std: 0.032)\n",
      "Parameters: {'C': 10000.0, 'kernel': 'rbf'}\n",
      "\n",
      "\n",
      "\n",
      "Model with rank: 10\n",
      "Mean validation score: 0.709 (std: 0.033)\n",
      "Parameters: {'C': 0.1, 'kernel': 'rbf'}\n",
      "\n",
      "\n",
      "\n",
      "Model with rank: 11\n",
      "Mean validation score: 0.707 (std: 0.062)\n",
      "Parameters: {'C': 0.001, 'kernel': 'linear'}\n",
      "\n",
      "\n",
      "\n",
      "Model with rank: 12\n",
      "Mean validation score: 0.706 (std: 0.026)\n",
      "Parameters: {'C': 100000.0, 'kernel': 'rbf'}\n",
      "\n",
      "\n",
      "\n",
      "Model with rank: 13\n",
      "Mean validation score: 0.687 (std: 0.043)\n",
      "Parameters: {'C': 1e-05, 'kernel': 'rbf'}\n",
      "\n",
      "\n",
      "\n",
      "Model with rank: 14\n",
      "Mean validation score: 0.679 (std: 0.039)\n",
      "Parameters: {'C': 1, 'kernel': 'linear'}\n",
      "\n",
      "\n",
      "\n",
      "Model with rank: 15\n",
      "Mean validation score: 0.676 (std: 0.086)\n",
      "Parameters: {'C': 0.1, 'kernel': 'linear'}\n",
      "\n",
      "\n",
      "\n"
     ]
    }
   ],
   "source": [
    "report(grid_search.cv_results_)"
   ]
  },
  {
   "cell_type": "code",
   "execution_count": 18,
   "metadata": {},
   "outputs": [
    {
     "name": "stdout",
     "output_type": "stream",
     "text": [
      "\n",
      "TRAIN\n",
      "Accuracy:       0.85218\n",
      "Precision:      0.50462\n",
      "Recall:         0.78926\n",
      "AUC:            0.82627\n",
      "F1 score:       0.61563\n",
      "\n",
      "Confusion (rows: pred, cols: actual)\n",
      "     1     0\n",
      "1  382   375\n",
      "0  102  2368\n",
      "\n",
      "TEST\n",
      "Accuracy:       0.65180\n",
      "Precision:      0.25797\n",
      "Recall:         0.78070\n",
      "AUC:            0.70565\n",
      "F1 score:       0.38780\n",
      "\n",
      "Confusion (rows: pred, cols: actual)\n",
      "    1    0\n",
      "1  89  256\n",
      "0  25  437\n"
     ]
    },
    {
     "data": {
      "image/png": "[encoded data removed]",
      "text/plain": [
       "<matplotlib.figure.Figure at 0x130c1e6e2b0>"
      ]
     },
     "metadata": {},
     "output_type": "display_data"
    }
   ],
   "source": [
    "rf = RandomForestClassifier(bootstrap = True, criterion= 'entropy', max_depth= None, max_features= 5, min_samples_leaf= 15, min_samples_split= 10, n_estimators= 1000)\n",
    "rf.fit(x_train, y_train)\n",
    "\n",
    "threshold = .25\n",
    "model = rf\n",
    "print('\\nTRAIN')\n",
    "print_eval(model, x_train, y_train, threshold)\n",
    "\n",
    "print('\\nTEST')\n",
    "print_eval(model, x_test, y_test, threshold)\n",
    "\n",
    "precision, recall, thresholds = plot_precision_recall_curve(model = rf, x= x_test, y = y_test)"
   ]
  },
  {
   "cell_type": "code",
   "execution_count": 18,
   "metadata": {},
   "outputs": [
    {
     "name": "stdout",
     "output_type": "stream",
     "text": [
      "Hyperparameter tuning took 11554.118929624557 seconds\n"
     ]
    }
   ],
   "source": [
    "# random forest hypertuning\n",
    "\n",
    "import time\n",
    "start_time = time.time()\n",
    "\n",
    "param_grid = {\n",
    "              \"n_estimators\": [300],\n",
    "              \"max_depth\": [15, 10, 5, None],\n",
    "              \"max_features\": [1,5,9,13],\n",
    "              \"min_samples_split\": [2,4,6,8,10],\n",
    "              \"min_samples_leaf\": [5,10,15,20,25],\n",
    "              \"bootstrap\": [True, False],\n",
    "              \"criterion\": [\"gini\", \"entropy\"]\n",
    "             }\n",
    "# run grid search\n",
    "grid_search = GridSearchCV(rf, param_grid=param_grid, cv = 5, scoring = 'roc_auc')\n",
    "grid_search.fit(x_train, y_train)\n",
    "\n",
    "time = time.time() - start_time\n",
    "print(\"Hyperparameter tuning took {} seconds\".format(time))"
   ]
  },
  {
   "cell_type": "code",
   "execution_count": 59,
   "metadata": {
    "collapsed": true
   },
   "outputs": [],
   "source": [
    "def plot_model_var_imp( model , X , y , columns):\n",
    "    imp = pd.DataFrame( \n",
    "        model.feature_importances_  , \n",
    "        columns = [ 'Importance' ] , \n",
    "        index = columns.columns \n",
    "    )\n",
    "    imp = imp.sort_values( [ 'Importance' ] , ascending = True )\n",
    "    imp[ : 10 ].plot( kind = 'barh' )\n",
    "    print (model.score( X , y ))"
   ]
  },
  {
   "cell_type": "code",
   "execution_count": 60,
   "metadata": {},
   "outputs": [
    {
     "name": "stdout",
     "output_type": "stream",
     "text": [
      "0.861481251937\n"
     ]
    },
    {
     "data": {
      "image/png": "[encoded data removed]",
      "text/plain": [
       "<matplotlib.figure.Figure at 0x17c4922c5c0>"
      ]
     },
     "metadata": {},
     "output_type": "display_data"
    }
   ],
   "source": [
    "plot_model_var_imp(rf, x_train, y_train, x_train_raw)"
   ]
  },
  {
   "cell_type": "code",
   "execution_count": 60,
   "metadata": {},
   "outputs": [
    {
     "name": "stdout",
     "output_type": "stream",
     "text": [
      "\n",
      "TRAIN\n",
      "Accuracy:       0.86117\n",
      "Precision:      0.58108\n",
      "Recall:         0.26653\n",
      "AUC:            0.61631\n",
      "F1 score:       0.36544\n",
      "\n",
      "Confusion (rows: pred, cols: actual)\n",
      "     1     0\n",
      "1  129    93\n",
      "0  355  2650\n",
      "\n",
      "TEST\n",
      "Accuracy:       0.79430\n",
      "Precision:      0.28333\n",
      "Recall:         0.29825\n",
      "AUC:            0.58707\n",
      "F1 score:       0.29060\n",
      "\n",
      "Confusion (rows: pred, cols: actual)\n",
      "    1    0\n",
      "1  34   86\n",
      "0  80  607\n"
     ]
    },
    {
     "data": {
      "image/png": "[encoded data removed]",
      "text/plain": [
       "<matplotlib.figure.Figure at 0x203e2689f98>"
      ]
     },
     "metadata": {},
     "output_type": "display_data"
    }
   ],
   "source": [
    "ada = AdaBoostClassifier()\n",
    "ada.fit(x_train, y_train)\n",
    "\n",
    "threshold = .5\n",
    "\n",
    "model = ada\n",
    "print('\\nTRAIN')\n",
    "print_eval(model, x_train, y_train, threshold)\n",
    "\n",
    "print('\\nTEST')\n",
    "print_eval(model, x_test, y_test, threshold)\n",
    "\n",
    "precision, recall, thresholds = plot_precision_recall_curve(model = ada, x= x_test, y = y_test)"
   ]
  },
  {
   "cell_type": "code",
   "execution_count": 61,
   "metadata": {},
   "outputs": [
    {
     "name": "stdout",
     "output_type": "stream",
     "text": [
      "0.861171366594\n"
     ]
    },
    {
     "data": {
      "image/png": "[encoded data removed]",
      "text/plain": [
       "<matplotlib.figure.Figure at 0x203e2652be0>"
      ]
     },
     "metadata": {},
     "output_type": "display_data"
    }
   ],
   "source": [
    "plot_model_var_imp(ada, x_train, y_train, x_train_raw)"
   ]
  },
  {
   "cell_type": "code",
   "execution_count": null,
   "metadata": {
    "collapsed": true
   },
   "outputs": [],
   "source": []
  }
 ],
 "metadata": {
  "kernelspec": {
   "display_name": "Python 3",
   "language": "python",
   "name": "python3"
  },
  "language_info": {
   "codemirror_mode": {
    "name": "ipython",
    "version": 3
   },
   "file_extension": ".py",
   "mimetype": "text/x-python",
   "name": "python",
   "nbconvert_exporter": "python",
   "pygments_lexer": "ipython3",
   "version": "3.6.3"
  }
 },
 "nbformat": 4,
 "nbformat_minor": 2
}

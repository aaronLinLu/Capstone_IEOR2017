{
 "cells": [
  {
   "cell_type": "code",
   "execution_count": 2,
   "metadata": {
    "collapsed": true
   },
   "outputs": [],
   "source": [
    "import warnings\n",
    "warnings.filterwarnings('ignore') # Filter out warnings\n",
    "import numpy as np\n",
    "import pandas as pd\n",
    "import random as rnd\n",
    "import matplotlib.pyplot as plt\n",
    "%matplotlib inline\n",
    "from matplotlib.pylab import rcParams\n",
    "from scipy import stats\n",
    "import math\n",
    "from math import isnan\n",
    "# loading machine learning required packages\n",
    "from sklearn import svm\n",
    "from sklearn.model_selection import train_test_split\n",
    "from sklearn.model_selection import GridSearchCV\n",
    "from sklearn.metrics import classification_report\n",
    "from sklearn.utils import shuffle\n",
    "import time"
   ]
  },
  {
   "cell_type": "code",
   "execution_count": 3,
   "metadata": {
    "collapsed": true
   },
   "outputs": [],
   "source": [
    "## FOR STATISTICAL ANALYSIS\n",
    "# Create a Combined Dataframe from message csv and orderbook csv\n",
    "def Merge_MsgAndOrdb(msg_path, ordb_path):\n",
    "    # get the level of the LOBSTER dataset\n",
    "    level = int(msg_path.split(\".\")[0][-1])\n",
    "    # get the date\n",
    "    date = msg_path.split(\".\")[0].split(\"_\")[1]\n",
    "\n",
    "    # add header row for message csv\n",
    "    msg_names = [\"Time_stamp\", \"Type\", \"OrderID\", \"V\", \"P\", \"Dir\"]  # V: size; P: price; Dir: direction\n",
    "    df_msg = pd.read_csv(msg_path, names=msg_names)\n",
    "    # add header row for orderbook csv\n",
    "    default_ordb_names = ['P_ask', 'V_ask', 'P_bid', 'V_bid']\n",
    "    ordb_names = []\n",
    "    for i in range(level):\n",
    "        for item in default_ordb_names:\n",
    "            ordb_names.append(str(item) + str(\"_\") + str(i + 1))\n",
    "    df_ordb = pd.read_csv(ordb_path, names=ordb_names)\n",
    "\n",
    "    # adding a meaningful time column\n",
    "    df_msg['Time'] = pd.to_datetime(df_msg['Time_stamp'], unit=\"s\", origin=pd.Timestamp(date))\n",
    "\n",
    "    # combine two dataframes and return it\n",
    "    df = pd.concat([df_msg, df_ordb], axis=1)\n",
    "    return df\n",
    "\n",
    "# Renaming columns as to strip out redundnat words\n",
    "def RenameColumn(df,state_type):\n",
    "    old_col = df.columns.tolist()\n",
    "    new_col = []\n",
    "    for col in old_col:\n",
    "        if ( (\"bid\" in col) | (\"ask\" in col) ):\n",
    "            new_col.append(col+str(\" \")+state_type)\n",
    "        elif ((col == 'V') | (col == 'P')):\n",
    "            new_col.append(col+str(\" \")+state_type)\n",
    "        elif (col=='Time'):\n",
    "            new_col.append(col+str(\" \")+state_type)\n",
    "        else:\n",
    "            new_col.append(col)\n",
    "    columns = dict(zip(old_col,new_col))\n",
    "    df.rename(columns=columns,inplace=True)\n",
    "    return\n",
    "\n",
    "def GroupByOrderType(df,typeID):                        # for now, typeID should only be 2 or 3 or 4 or 5\n",
    "    # lookup dictionary\n",
    "    lookup = {1:'Sub', 2:'Can', 3:'Del', 4:'ExVis',5:'ExHid',7:'Halt'}\n",
    "    # getting all the orders of type typeID\n",
    "    orderID_set = set(df[(df['Type']==typeID)].OrderID.tolist())\n",
    "    df_subset = df.loc[df['OrderID'].isin(orderID_set)]\n",
    "    \n",
    "    # get initial states when orders of this type is submitted\n",
    "    df_init = df_subset[(df_subset['Type']==1)]\n",
    "    RenameColumn(df_init,state_type=lookup[1])\n",
    "    \n",
    "    # get the end states of type typeID\n",
    "    df_end = df_subset[(df_subset['Type']==typeID)]\n",
    "    RenameColumn(df_end,state_type=lookup[typeID])\n",
    "    \n",
    "    # merge these two dataframes\n",
    "    df = df_init.merge(df_end, left_on='OrderID', right_on='OrderID', how='outer')\n",
    "\n",
    "    return df"
   ]
  },
  {
   "cell_type": "code",
   "execution_count": 4,
   "metadata": {
    "collapsed": true
   },
   "outputs": [],
   "source": [
    "## FOR PAPER 462\n",
    "# Compute Time-insensitive variables\n",
    "def ComputeTimeInsenstiveSet(df_original, levels=5):\n",
    "    df = df_original.copy(deep=False)\n",
    "    for i in range(1,levels+1):\n",
    "        # compute bid-ask spreads and mid-prices (v2)\n",
    "        df[\"bid-ask spread {}\".format(i)] = df[\"P_ask_{}\".format(i)] - df[\"P_bid_{}\".format(i)]\n",
    "        df[\"mid-price {}\".format(i)] = (df[\"P_ask_{}\".format(i)] + df[\"P_bid_{}\".format(i)])/2\n",
    "        # compute price differences (v3)\n",
    "        df[\"d_P_ask_{}{}\".format(levels,1)] = df[\"P_ask_{}\".format(levels)] - df[\"P_ask_1\"]\n",
    "        df[\"d_P_bid_{}{}\".format(levels,1)] = df[\"P_bid_{}\".format(levels)] - df[\"P_bid_1\"]\n",
    "        for j in range(1,levels):\n",
    "            df[\"d_P_ask_{}{}\".format(j+1,j)] = np.abs(df[\"P_ask_{}\".format(j+1)] - df[\"P_ask_{}\".format(j)])\n",
    "            df[\"d_P_bid_{}{}\".format(j+1,j)] = np.abs(df[\"P_bid_{}\".format(j+1)] - df[\"P_bid_{}\".format(j)])\n",
    "        # compute mean prices and volumes (v4)\n",
    "        df[\"Mean_P_ask\"] = df[[\"P_ask_{}\".format(i) for i in range(1,levels+1)]].mean(axis=1)\n",
    "        df[\"Mean_P_bid\"] = df[[\"P_bid_{}\".format(i) for i in range(1,levels+1)]].mean(axis=1)\n",
    "        df[\"Mean_V_ask\"] = df[[\"V_ask_{}\".format(i) for i in range(1,levels+1)]].mean(axis=1)\n",
    "        df[\"Mean_V_bid\"] = df[[\"V_bid_{}\".format(i) for i in range(1,levels+1)]].mean(axis=1)\n",
    "        # compute accumulated differences (v5)\n",
    "        df[\"P_accu\"] = df[[\"P_ask_{}\".format(i) for i in range(1,levels+1)]].sum(axis=1) \\\n",
    "            - df[[\"P_bid_{}\".format(i) for i in range(1,levels+1)]].sum(axis=1)\n",
    "        df[\"V_accu\"] = df[[\"V_ask_{}\".format(i) for i in range(1,levels+1)]].sum(axis=1) \\\n",
    "            - df[[\"V_bid_{}\".format(i) for i in range(1,levels+1)]].sum(axis=1)\n",
    "    # returning...\n",
    "    return df\n",
    "\n",
    "# Compute Time-sensitive variables\n",
    "def ComputeTimeSensitiveSet(df_original,levels=5,dt_secs=1):\n",
    "    df = df_original.copy(deep=False)\n",
    "    #\n",
    "    for index, row in df.iterrows():\n",
    "        t = row['Time_stamp']\n",
    "        temp = df.loc[(df['Time_stamp']>t-dt_secs)&(df['Time_stamp']<=t)] # for v6\n",
    "        # Note: direction = 1 <--> buy/bid order;   direction = -1 <--> sell/ask order\n",
    "        temp_la = df.loc[(df['Time_stamp']>t-dt_secs)&(df['Time_stamp']<=t)&(df['Dir']==-1)] # limit ask order\n",
    "        temp_lb = df.loc[(df['Time_stamp']>t-dt_secs)&(df['Time_stamp']<=t)&(df['Dir']==1)]  # limit bid order\n",
    "        temp_ca = df.loc[(df['Time_stamp']>t-dt_secs)&(df['Time_stamp']<=t)\n",
    "                         &(df['Dir']==-1)&(df['Type']==2)] # cancelled limit ask order\n",
    "        temp_cb = df.loc[(df['Time_stamp']>t-dt_secs)&(df['Time_stamp']<=t)\n",
    "                         &(df['Dir']==1)&(df['Type']==2)]  # cancelled limit buy order\n",
    "        for i in range(1,levels+1):\n",
    "            # compute price and volume derivatives (v6)\n",
    "            df.set_value(index,'der_P_ask_{}'.format(i),\n",
    "                         (temp['P_ask_{}'.format(i)].iloc[-1]-temp['P_ask_{}'.format(i)].iloc[0])/dt_secs)\n",
    "            df.set_value(index,'der_P_bid_{}'.format(i),\n",
    "                         (temp['P_bid_{}'.format(i)].iloc[-1]-temp['P_bid_{}'.format(i)].iloc[0])/dt_secs)\n",
    "            df.set_value(index,'der_V_ask_{}'.format(i),\n",
    "                         (temp['V_ask_{}'.format(i)].iloc[-1]-temp['V_ask_{}'.format(i)].iloc[0])/dt_secs)\n",
    "            df.set_value(index,'der_V_bid_{}'.format(i),\n",
    "                         (temp['V_bid_{}'.format(i)].iloc[-1]-temp['V_bid_{}'.format(i)].iloc[0])/dt_secs)\n",
    "            # compute average intensity of each type (v7)\n",
    "            df.set_value(index,'lam_la',int(len(temp_la.index)/dt_secs))\n",
    "            df.set_value(index,'lam_lb',int(len(temp_lb.index)/dt_secs))\n",
    "            df.set_value(index,'lam_ca',int(len(temp_ca.index)/dt_secs))\n",
    "            df.set_value(index,'lam_cb',int(len(temp_cb.index)/dt_secs))\n",
    "            # compute relative intensity indicators (v8) ???\n",
    "            # compute accelerations (market/limit)  (v9) ???\n",
    "\n",
    "    return df"
   ]
  },
  {
   "cell_type": "code",
   "execution_count": 5,
   "metadata": {
    "collapsed": true
   },
   "outputs": [],
   "source": [
    "# Add Two Extra Columns: signs of mid-price and signs of spread crossing \n",
    "def AddMidPriceAndSpreadCrossing(df):   \n",
    "    df2 = df.copy(deep=False)\n",
    "    \n",
    "    # 1) add mid-price column first    # criterion: [0: upward;  1: downward;  2: stationary] \n",
    "    midprices = []\n",
    "    for index, row in df2.iterrows():\n",
    "        midprices.append((row['P_ask_1'] + row['P_bid_1'])/2)\n",
    "    df2['Mid_price'] = midprices\n",
    "    # decide if mid-price moves up or down, or stays stationary\n",
    "    midpriceMoves = [2]\n",
    "    for i in range(1,len(midprices)):\n",
    "        if (midprices[i] > midprices[i-1]):\n",
    "            midpriceMoves.append(0)\n",
    "        elif (midprices[i] < midprices[i-1]):\n",
    "            midpriceMoves.append(1)\n",
    "        else: \n",
    "            midpriceMoves.append(2)\n",
    "    # checking \n",
    "    if (len(midpriceMoves)!=len(df2.index)):\n",
    "        print('error! Lengths do not match.')\n",
    "        return\n",
    "    # good to go\n",
    "    df2['MidPrice_Moves'] = midpriceMoves\n",
    "    \n",
    "    \n",
    "    # 2) decide spread crossing movements   # criterion: [0: upward;  1: downward;  2: no spread crossing] \n",
    "    sprCros = [2]\n",
    "    bestBids = df2['P_bid_1']\n",
    "    bestAsks = df2['P_ask_1']\n",
    "    for i in range(1,len(bestBids)):\n",
    "        if (bestBids[i] > bestAsks[i-1]):\n",
    "            sprCros.append(0)\n",
    "        elif (bestAsks[i] < bestBids[i-1]):\n",
    "            sprCros.append(1)\n",
    "        elif ((bestAsks[i]>=bestBids[i-1])&(bestBids[i]<=bestAsks[i-1])):\n",
    "            sprCros.append(2)\n",
    "        else: \n",
    "            print(i,'error!')\n",
    "    # checking \n",
    "    if (len(midpriceMoves)!=len(df2.index)):\n",
    "        print('error! Lengths do not match.')\n",
    "        return   \n",
    "    # good to go\n",
    "    df2['SpdCros_Moves'] = sprCros\n",
    "    \n",
    "    return df2"
   ]
  },
  {
   "cell_type": "markdown",
   "metadata": {},
   "source": [
    "#### MERGING a LOB"
   ]
  },
  {
   "cell_type": "code",
   "execution_count": 6,
   "metadata": {
    "collapsed": true
   },
   "outputs": [],
   "source": [
    "df = Merge_MsgAndOrdb(msg_path='AMZN_2012-06-21_34200000_57600000_message_5.csv',\n",
    "                     ordb_path='AMZN_2012-06-21_34200000_57600000_orderbook_5.csv')\n",
    "#df.head(5)"
   ]
  },
  {
   "cell_type": "markdown",
   "metadata": {},
   "source": [
    "#### ADDING TIME IN-SENSITIVE INFORMATION"
   ]
  },
  {
   "cell_type": "code",
   "execution_count": 7,
   "metadata": {
    "collapsed": true
   },
   "outputs": [],
   "source": [
    "df_TimeInsens = ComputeTimeInsenstiveSet(df)"
   ]
  },
  {
   "cell_type": "markdown",
   "metadata": {},
   "source": [
    "#### ADD MID-PRICE INFO AND SPREAD CROSSING INFO"
   ]
  },
  {
   "cell_type": "code",
   "execution_count": 8,
   "metadata": {
    "collapsed": true
   },
   "outputs": [],
   "source": [
    "df_withY = AddMidPriceAndSpreadCrossing(df_TimeInsens)"
   ]
  },
  {
   "cell_type": "code",
   "execution_count": 9,
   "metadata": {},
   "outputs": [
    {
     "data": {
      "text/html": [
       "<div>\n",
       "<style scoped>\n",
       "    .dataframe tbody tr th:only-of-type {\n",
       "        vertical-align: middle;\n",
       "    }\n",
       "\n",
       "    .dataframe tbody tr th {\n",
       "        vertical-align: top;\n",
       "    }\n",
       "\n",
       "    .dataframe thead th {\n",
       "        text-align: right;\n",
       "    }\n",
       "</style>\n",
       "<table border=\"1\" class=\"dataframe\">\n",
       "  <thead>\n",
       "    <tr style=\"text-align: right;\">\n",
       "      <th></th>\n",
       "      <th>Time_stamp</th>\n",
       "      <th>Type</th>\n",
       "      <th>OrderID</th>\n",
       "      <th>V</th>\n",
       "      <th>P</th>\n",
       "      <th>Dir</th>\n",
       "      <th>Time</th>\n",
       "      <th>P_ask_1</th>\n",
       "      <th>V_ask_1</th>\n",
       "      <th>P_bid_1</th>\n",
       "      <th>...</th>\n",
       "      <th>mid-price 2</th>\n",
       "      <th>bid-ask spread 3</th>\n",
       "      <th>mid-price 3</th>\n",
       "      <th>bid-ask spread 4</th>\n",
       "      <th>mid-price 4</th>\n",
       "      <th>bid-ask spread 5</th>\n",
       "      <th>mid-price 5</th>\n",
       "      <th>Mid_price</th>\n",
       "      <th>MidPrice_Moves</th>\n",
       "      <th>SpdCros_Moves</th>\n",
       "    </tr>\n",
       "  </thead>\n",
       "  <tbody>\n",
       "    <tr>\n",
       "      <th>0</th>\n",
       "      <td>34200.017460</td>\n",
       "      <td>5</td>\n",
       "      <td>0</td>\n",
       "      <td>1</td>\n",
       "      <td>2238200</td>\n",
       "      <td>-1</td>\n",
       "      <td>2012-06-21 09:30:00.017460</td>\n",
       "      <td>2239500</td>\n",
       "      <td>100</td>\n",
       "      <td>2231800</td>\n",
       "      <td>...</td>\n",
       "      <td>2235300.0</td>\n",
       "      <td>9600</td>\n",
       "      <td>2235200.0</td>\n",
       "      <td>12500</td>\n",
       "      <td>2236250.0</td>\n",
       "      <td>17800</td>\n",
       "      <td>2235100.0</td>\n",
       "      <td>2235650.0</td>\n",
       "      <td>2</td>\n",
       "      <td>2</td>\n",
       "    </tr>\n",
       "    <tr>\n",
       "      <th>1</th>\n",
       "      <td>34200.189608</td>\n",
       "      <td>1</td>\n",
       "      <td>11885113</td>\n",
       "      <td>21</td>\n",
       "      <td>2238100</td>\n",
       "      <td>1</td>\n",
       "      <td>2012-06-21 09:30:00.189608</td>\n",
       "      <td>2239500</td>\n",
       "      <td>100</td>\n",
       "      <td>2238100</td>\n",
       "      <td>...</td>\n",
       "      <td>2235850.0</td>\n",
       "      <td>9300</td>\n",
       "      <td>2235350.0</td>\n",
       "      <td>12100</td>\n",
       "      <td>2236450.0</td>\n",
       "      <td>14000</td>\n",
       "      <td>2237000.0</td>\n",
       "      <td>2238800.0</td>\n",
       "      <td>0</td>\n",
       "      <td>2</td>\n",
       "    </tr>\n",
       "    <tr>\n",
       "      <th>2</th>\n",
       "      <td>34200.189608</td>\n",
       "      <td>1</td>\n",
       "      <td>3911376</td>\n",
       "      <td>20</td>\n",
       "      <td>2239600</td>\n",
       "      <td>-1</td>\n",
       "      <td>2012-06-21 09:30:00.189608</td>\n",
       "      <td>2239500</td>\n",
       "      <td>100</td>\n",
       "      <td>2238100</td>\n",
       "      <td>...</td>\n",
       "      <td>2235700.0</td>\n",
       "      <td>9200</td>\n",
       "      <td>2235300.0</td>\n",
       "      <td>9600</td>\n",
       "      <td>2235200.0</td>\n",
       "      <td>12500</td>\n",
       "      <td>2236250.0</td>\n",
       "      <td>2238800.0</td>\n",
       "      <td>2</td>\n",
       "      <td>2</td>\n",
       "    </tr>\n",
       "    <tr>\n",
       "      <th>3</th>\n",
       "      <td>34200.189608</td>\n",
       "      <td>1</td>\n",
       "      <td>11534792</td>\n",
       "      <td>100</td>\n",
       "      <td>2237500</td>\n",
       "      <td>1</td>\n",
       "      <td>2012-06-21 09:30:00.189608</td>\n",
       "      <td>2239500</td>\n",
       "      <td>100</td>\n",
       "      <td>2238100</td>\n",
       "      <td>...</td>\n",
       "      <td>2238550.0</td>\n",
       "      <td>8100</td>\n",
       "      <td>2235850.0</td>\n",
       "      <td>9300</td>\n",
       "      <td>2235350.0</td>\n",
       "      <td>12100</td>\n",
       "      <td>2236450.0</td>\n",
       "      <td>2238800.0</td>\n",
       "      <td>2</td>\n",
       "      <td>2</td>\n",
       "    </tr>\n",
       "    <tr>\n",
       "      <th>4</th>\n",
       "      <td>34200.189608</td>\n",
       "      <td>1</td>\n",
       "      <td>1365373</td>\n",
       "      <td>13</td>\n",
       "      <td>2240000</td>\n",
       "      <td>-1</td>\n",
       "      <td>2012-06-21 09:30:00.189608</td>\n",
       "      <td>2239500</td>\n",
       "      <td>100</td>\n",
       "      <td>2238100</td>\n",
       "      <td>...</td>\n",
       "      <td>2238550.0</td>\n",
       "      <td>8100</td>\n",
       "      <td>2235850.0</td>\n",
       "      <td>9300</td>\n",
       "      <td>2235350.0</td>\n",
       "      <td>12100</td>\n",
       "      <td>2236450.0</td>\n",
       "      <td>2238800.0</td>\n",
       "      <td>2</td>\n",
       "      <td>2</td>\n",
       "    </tr>\n",
       "  </tbody>\n",
       "</table>\n",
       "<p>5 rows × 56 columns</p>\n",
       "</div>"
      ],
      "text/plain": [
       "     Time_stamp  Type   OrderID    V        P  Dir                       Time  \\\n",
       "0  34200.017460     5         0    1  2238200   -1 2012-06-21 09:30:00.017460   \n",
       "1  34200.189608     1  11885113   21  2238100    1 2012-06-21 09:30:00.189608   \n",
       "2  34200.189608     1   3911376   20  2239600   -1 2012-06-21 09:30:00.189608   \n",
       "3  34200.189608     1  11534792  100  2237500    1 2012-06-21 09:30:00.189608   \n",
       "4  34200.189608     1   1365373   13  2240000   -1 2012-06-21 09:30:00.189608   \n",
       "\n",
       "   P_ask_1  V_ask_1  P_bid_1      ...        mid-price 2  bid-ask spread 3  \\\n",
       "0  2239500      100  2231800      ...          2235300.0              9600   \n",
       "1  2239500      100  2238100      ...          2235850.0              9300   \n",
       "2  2239500      100  2238100      ...          2235700.0              9200   \n",
       "3  2239500      100  2238100      ...          2238550.0              8100   \n",
       "4  2239500      100  2238100      ...          2238550.0              8100   \n",
       "\n",
       "   mid-price 3  bid-ask spread 4  mid-price 4  bid-ask spread 5  mid-price 5  \\\n",
       "0    2235200.0             12500    2236250.0             17800    2235100.0   \n",
       "1    2235350.0             12100    2236450.0             14000    2237000.0   \n",
       "2    2235300.0              9600    2235200.0             12500    2236250.0   \n",
       "3    2235850.0              9300    2235350.0             12100    2236450.0   \n",
       "4    2235850.0              9300    2235350.0             12100    2236450.0   \n",
       "\n",
       "   Mid_price  MidPrice_Moves  SpdCros_Moves  \n",
       "0  2235650.0               2              2  \n",
       "1  2238800.0               0              2  \n",
       "2  2238800.0               2              2  \n",
       "3  2238800.0               2              2  \n",
       "4  2238800.0               2              2  \n",
       "\n",
       "[5 rows x 56 columns]"
      ]
     },
     "execution_count": 9,
     "metadata": {},
     "output_type": "execute_result"
    }
   ],
   "source": [
    "df_withY.head(5)"
   ]
  },
  {
   "cell_type": "code",
   "execution_count": 10,
   "metadata": {},
   "outputs": [
    {
     "data": {
      "text/plain": [
       "Index(['Time_stamp', 'Type', 'OrderID', 'V', 'P', 'Dir', 'Time', 'P_ask_1',\n",
       "       'V_ask_1', 'P_bid_1', 'V_bid_1', 'P_ask_2', 'V_ask_2', 'P_bid_2',\n",
       "       'V_bid_2', 'P_ask_3', 'V_ask_3', 'P_bid_3', 'V_bid_3', 'P_ask_4',\n",
       "       'V_ask_4', 'P_bid_4', 'V_bid_4', 'P_ask_5', 'V_ask_5', 'P_bid_5',\n",
       "       'V_bid_5', 'bid-ask spread 1', 'mid-price 1', 'd_P_ask_51',\n",
       "       'd_P_bid_51', 'd_P_ask_21', 'd_P_bid_21', 'd_P_ask_32', 'd_P_bid_32',\n",
       "       'd_P_ask_43', 'd_P_bid_43', 'd_P_ask_54', 'd_P_bid_54', 'Mean_P_ask',\n",
       "       'Mean_P_bid', 'Mean_V_ask', 'Mean_V_bid', 'P_accu', 'V_accu',\n",
       "       'bid-ask spread 2', 'mid-price 2', 'bid-ask spread 3', 'mid-price 3',\n",
       "       'bid-ask spread 4', 'mid-price 4', 'bid-ask spread 5', 'mid-price 5',\n",
       "       'Mid_price', 'MidPrice_Moves', 'SpdCros_Moves'],\n",
       "      dtype='object')"
      ]
     },
     "execution_count": 10,
     "metadata": {},
     "output_type": "execute_result"
    }
   ],
   "source": [
    "#len(df_withY.columns.tolist())\n",
    "df_withY.columns"
   ]
  },
  {
   "cell_type": "markdown",
   "metadata": {},
   "source": [
    "### Test1: Predict Mid-Price Movement"
   ]
  },
  {
   "cell_type": "code",
   "execution_count": 11,
   "metadata": {},
   "outputs": [
    {
     "name": "stdout",
     "output_type": "stream",
     "text": [
      "[(2, 128378), (1, 13877), (0, 13680)]\n"
     ]
    }
   ],
   "source": [
    "## find distribution of each type\n",
    "from collections import Counter\n",
    "counts = Counter(df_withY[\"MidPrice_Moves\"])\n",
    "print(counts.most_common())"
   ]
  },
  {
   "cell_type": "code",
   "execution_count": 12,
   "metadata": {},
   "outputs": [
    {
     "name": "stdout",
     "output_type": "stream",
     "text": [
      "total minutes for our T is 390.0\n",
      "so for each minute, there are about 400.0 features\n"
     ]
    }
   ],
   "source": [
    "start = pd.to_datetime(df_withY['Time'].tolist()[0])\n",
    "end = pd.to_datetime(df_withY['Time'].tolist()[-1])\n",
    "timeT = end-start\n",
    "totalMins = np.round((timeT / pd.Timedelta('1 hour'))*60,2)\n",
    "print('total minutes for our T is {}'.format(totalMins))\n",
    "print('so for each minute, there are about {} features'.format(np.round(len(df_withY.index)/totalMins),0))"
   ]
  },
  {
   "cell_type": "code",
   "execution_count": null,
   "metadata": {
    "collapsed": true
   },
   "outputs": [],
   "source": [
    "# we would use the first 200 features to predict next 5; that is set delta_t = 5\n",
    "basicAndTimeInsensitiveSet= ['P_ask_1',\n",
    "       'V_ask_1', 'P_bid_1', 'V_bid_1', 'P_ask_2', 'V_ask_2', 'P_bid_2',\n",
    "       'V_bid_2', 'P_ask_3', 'V_ask_3', 'P_bid_3', 'V_bid_3', 'P_ask_4',\n",
    "       'V_ask_4', 'P_bid_4', 'V_bid_4', 'P_ask_5', 'V_ask_5', 'P_bid_5',\n",
    "       'V_bid_5', 'bid-ask spread 1', 'mid-price 1', 'd_P_ask_51',\n",
    "       'd_P_bid_51', 'd_P_ask_21', 'd_P_bid_21', 'd_P_ask_32', 'd_P_bid_32',\n",
    "       'd_P_ask_43', 'd_P_bid_43', 'd_P_ask_54', 'd_P_bid_54', 'Mean_P_ask',\n",
    "       'Mean_P_bid', 'Mean_V_ask', 'Mean_V_bid', 'P_accu', 'V_accu',\n",
    "       'bid-ask spread 2', 'mid-price 2', 'bid-ask spread 3', 'mid-price 3',\n",
    "       'bid-ask spread 4', 'mid-price 4', 'bid-ask spread 5', 'mid-price 5']\n",
    "\n",
    "first200 = df_withY[:200]\n",
    "x = first200[basicAndTimeInsensitiveSet]\n",
    "y = first200['MidPrice_Moves']"
   ]
  },
  {
   "cell_type": "code",
   "execution_count": null,
   "metadata": {},
   "outputs": [
    {
     "name": "stdout",
     "output_type": "stream",
     "text": [
      "# Tuning hyper-parameters\n",
      "\n"
     ]
    }
   ],
   "source": [
    "start_time = time.time()\n",
    "\n",
    "# shuffle the dataset\n",
    "x, y = shuffle(x, y, random_state=0)\n",
    "# Split the dataset in two equal parts\n",
    "x_train, x_test, y_train, y_test = train_test_split(\n",
    "    x, y, test_size=0.25, random_state=0)\n",
    "\n",
    "# tuning set 1) Set the parameters by cross-validation\n",
    "# parameters = [{'kernel': ['rbf'],\n",
    "#                'gamma': [1e-4, 1e-3, 0.01, 0.1, 0.2, 0.5],\n",
    "#                 'C': [1, 10, 100, 1000]},\n",
    "#               {'kernel': ['linear'], 'C': [1, 10, 100, 1000]}]\n",
    "# tuning set 2)\n",
    "parameters = [{'kernel': ['rbf'],\n",
    "               'gamma': [1e-4, 0.01, 0.1, 0.5],\n",
    "                'C': [1, 10]},\n",
    "              {'kernel': ['linear'], 'C': [1, 10]}]\n",
    "print(\"# Tuning hyper-parameters\")\n",
    "print()\n",
    "clf = GridSearchCV(svm.SVC(decision_function_shape='ovr'), parameters, cv=5)\n",
    "clf.fit(x_train, y_train)\n",
    "\n",
    "time = time.time() - start_time\n",
    "print(\"Hyperparameter tuning took {} seconds\".format(time))"
   ]
  },
  {
   "cell_type": "code",
   "execution_count": null,
   "metadata": {
    "collapsed": true
   },
   "outputs": [],
   "source": [
    "# df_sens = ComputeTimeInsenstiveSet(df)\n",
    "# df_sens.columns.values.tolist()"
   ]
  },
  {
   "cell_type": "code",
   "execution_count": null,
   "metadata": {
    "collapsed": true
   },
   "outputs": [],
   "source": [
    "# df_sensInsens = ComputeTimeSensitiveSet(df)"
   ]
  },
  {
   "cell_type": "code",
   "execution_count": null,
   "metadata": {
    "collapsed": true
   },
   "outputs": [],
   "source": [
    "# df_sensInsens.head(5)"
   ]
  },
  {
   "cell_type": "code",
   "execution_count": null,
   "metadata": {
    "collapsed": true
   },
   "outputs": [],
   "source": [
    "print('hello world')"
   ]
  },
  {
   "cell_type": "code",
   "execution_count": null,
   "metadata": {
    "collapsed": true
   },
   "outputs": [],
   "source": []
  }
 ],
 "metadata": {
  "kernelspec": {
   "display_name": "Python 3",
   "language": "python",
   "name": "python3"
  },
  "language_info": {
   "codemirror_mode": {
    "name": "ipython",
    "version": 3
   },
   "file_extension": ".py",
   "mimetype": "text/x-python",
   "name": "python",
   "nbconvert_exporter": "python",
   "pygments_lexer": "ipython3",
   "version": "3.6.3"
  }
 },
 "nbformat": 4,
 "nbformat_minor": 2
}

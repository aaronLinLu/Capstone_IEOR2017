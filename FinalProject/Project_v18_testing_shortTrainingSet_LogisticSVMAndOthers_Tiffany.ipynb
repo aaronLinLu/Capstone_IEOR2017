{
 "cells": [
  {
   "cell_type": "code",
   "execution_count": 1,
   "metadata": {
    "collapsed": true
   },
   "outputs": [],
   "source": [
    "import numpy as np\n",
    "import pandas as pd\n",
    "import matplotlib.pyplot as plt\n",
    "%matplotlib inline\n",
    "from sklearn import linear_model\n",
    "from sklearn.metrics import confusion_matrix\n",
    "import warnings\n",
    "warnings.filterwarnings('ignore')\n",
    "from sklearn.metrics import precision_recall_curve, precision_score, recall_score, accuracy_score, roc_curve, roc_auc_score, f1_score\n",
    "from sklearn.model_selection import GridSearchCV"
   ]
  },
  {
   "cell_type": "code",
   "execution_count": 2,
   "metadata": {
    "collapsed": true
   },
   "outputs": [],
   "source": [
    "df = pd.read_csv('Messages_allDay_AMZN_withY.csv')"
   ]
  },
  {
   "cell_type": "code",
   "execution_count": 3,
   "metadata": {},
   "outputs": [
    {
     "data": {
      "text/html": [
       "<div>\n",
       "<style>\n",
       "    .dataframe thead tr:only-child th {\n",
       "        text-align: right;\n",
       "    }\n",
       "\n",
       "    .dataframe thead th {\n",
       "        text-align: left;\n",
       "    }\n",
       "\n",
       "    .dataframe tbody tr th {\n",
       "        vertical-align: top;\n",
       "    }\n",
       "</style>\n",
       "<table border=\"1\" class=\"dataframe\">\n",
       "  <thead>\n",
       "    <tr style=\"text-align: right;\">\n",
       "      <th></th>\n",
       "      <th>Unnamed: 0</th>\n",
       "      <th>Time_stamp</th>\n",
       "      <th>Type</th>\n",
       "      <th>OrderID</th>\n",
       "      <th>V</th>\n",
       "      <th>P</th>\n",
       "      <th>Dir</th>\n",
       "      <th>Time</th>\n",
       "      <th>P_ask_1</th>\n",
       "      <th>V_ask_1</th>\n",
       "      <th>...</th>\n",
       "      <th>mid-price 2</th>\n",
       "      <th>bid-ask spread 3</th>\n",
       "      <th>mid-price 3</th>\n",
       "      <th>bid-ask spread 4</th>\n",
       "      <th>mid-price 4</th>\n",
       "      <th>bid-ask spread 5</th>\n",
       "      <th>mid-price 5</th>\n",
       "      <th>Mid_price</th>\n",
       "      <th>MidPrice_Moves</th>\n",
       "      <th>SpdCros_Moves</th>\n",
       "    </tr>\n",
       "  </thead>\n",
       "  <tbody>\n",
       "    <tr>\n",
       "      <th>0</th>\n",
       "      <td>0</td>\n",
       "      <td>34200.18961</td>\n",
       "      <td>1</td>\n",
       "      <td>11885113</td>\n",
       "      <td>21</td>\n",
       "      <td>2238100</td>\n",
       "      <td>1</td>\n",
       "      <td>30:00.2</td>\n",
       "      <td>2239500</td>\n",
       "      <td>100</td>\n",
       "      <td>...</td>\n",
       "      <td>2235850</td>\n",
       "      <td>9300</td>\n",
       "      <td>2235350</td>\n",
       "      <td>12100</td>\n",
       "      <td>2236450</td>\n",
       "      <td>14000</td>\n",
       "      <td>2237000</td>\n",
       "      <td>2238800.0</td>\n",
       "      <td>2</td>\n",
       "      <td>2</td>\n",
       "    </tr>\n",
       "    <tr>\n",
       "      <th>1</th>\n",
       "      <td>1</td>\n",
       "      <td>34200.18961</td>\n",
       "      <td>1</td>\n",
       "      <td>3911376</td>\n",
       "      <td>20</td>\n",
       "      <td>2239600</td>\n",
       "      <td>-1</td>\n",
       "      <td>30:00.2</td>\n",
       "      <td>2239500</td>\n",
       "      <td>100</td>\n",
       "      <td>...</td>\n",
       "      <td>2235700</td>\n",
       "      <td>9200</td>\n",
       "      <td>2235300</td>\n",
       "      <td>9600</td>\n",
       "      <td>2235200</td>\n",
       "      <td>12500</td>\n",
       "      <td>2236250</td>\n",
       "      <td>2238800.0</td>\n",
       "      <td>2</td>\n",
       "      <td>2</td>\n",
       "    </tr>\n",
       "    <tr>\n",
       "      <th>2</th>\n",
       "      <td>2</td>\n",
       "      <td>34200.18961</td>\n",
       "      <td>1</td>\n",
       "      <td>11534792</td>\n",
       "      <td>100</td>\n",
       "      <td>2237500</td>\n",
       "      <td>1</td>\n",
       "      <td>30:00.2</td>\n",
       "      <td>2239500</td>\n",
       "      <td>100</td>\n",
       "      <td>...</td>\n",
       "      <td>2238550</td>\n",
       "      <td>8100</td>\n",
       "      <td>2235850</td>\n",
       "      <td>9300</td>\n",
       "      <td>2235350</td>\n",
       "      <td>12100</td>\n",
       "      <td>2236450</td>\n",
       "      <td>2238800.0</td>\n",
       "      <td>2</td>\n",
       "      <td>2</td>\n",
       "    </tr>\n",
       "    <tr>\n",
       "      <th>3</th>\n",
       "      <td>3</td>\n",
       "      <td>34200.18961</td>\n",
       "      <td>1</td>\n",
       "      <td>1365373</td>\n",
       "      <td>13</td>\n",
       "      <td>2240000</td>\n",
       "      <td>-1</td>\n",
       "      <td>30:00.2</td>\n",
       "      <td>2239500</td>\n",
       "      <td>100</td>\n",
       "      <td>...</td>\n",
       "      <td>2238550</td>\n",
       "      <td>8100</td>\n",
       "      <td>2235850</td>\n",
       "      <td>9300</td>\n",
       "      <td>2235350</td>\n",
       "      <td>12100</td>\n",
       "      <td>2236450</td>\n",
       "      <td>2238800.0</td>\n",
       "      <td>2</td>\n",
       "      <td>2</td>\n",
       "    </tr>\n",
       "    <tr>\n",
       "      <th>4</th>\n",
       "      <td>4</td>\n",
       "      <td>34200.18961</td>\n",
       "      <td>1</td>\n",
       "      <td>11474176</td>\n",
       "      <td>2</td>\n",
       "      <td>2236500</td>\n",
       "      <td>1</td>\n",
       "      <td>30:00.2</td>\n",
       "      <td>2239500</td>\n",
       "      <td>100</td>\n",
       "      <td>...</td>\n",
       "      <td>2238550</td>\n",
       "      <td>3400</td>\n",
       "      <td>2238200</td>\n",
       "      <td>8200</td>\n",
       "      <td>2235900</td>\n",
       "      <td>11800</td>\n",
       "      <td>2236600</td>\n",
       "      <td>2238800.0</td>\n",
       "      <td>2</td>\n",
       "      <td>2</td>\n",
       "    </tr>\n",
       "  </tbody>\n",
       "</table>\n",
       "<p>5 rows × 59 columns</p>\n",
       "</div>"
      ],
      "text/plain": [
       "   Unnamed: 0   Time_stamp  Type   OrderID    V        P  Dir     Time  \\\n",
       "0           0  34200.18961     1  11885113   21  2238100    1  30:00.2   \n",
       "1           1  34200.18961     1   3911376   20  2239600   -1  30:00.2   \n",
       "2           2  34200.18961     1  11534792  100  2237500    1  30:00.2   \n",
       "3           3  34200.18961     1   1365373   13  2240000   -1  30:00.2   \n",
       "4           4  34200.18961     1  11474176    2  2236500    1  30:00.2   \n",
       "\n",
       "   P_ask_1  V_ask_1      ...        mid-price 2  bid-ask spread 3  \\\n",
       "0  2239500      100      ...            2235850              9300   \n",
       "1  2239500      100      ...            2235700              9200   \n",
       "2  2239500      100      ...            2238550              8100   \n",
       "3  2239500      100      ...            2238550              8100   \n",
       "4  2239500      100      ...            2238550              3400   \n",
       "\n",
       "   mid-price 3  bid-ask spread 4  mid-price 4  bid-ask spread 5  mid-price 5  \\\n",
       "0      2235350             12100      2236450             14000      2237000   \n",
       "1      2235300              9600      2235200             12500      2236250   \n",
       "2      2235850              9300      2235350             12100      2236450   \n",
       "3      2235850              9300      2235350             12100      2236450   \n",
       "4      2238200              8200      2235900             11800      2236600   \n",
       "\n",
       "   Mid_price  MidPrice_Moves  SpdCros_Moves  \n",
       "0  2238800.0               2              2  \n",
       "1  2238800.0               2              2  \n",
       "2  2238800.0               2              2  \n",
       "3  2238800.0               2              2  \n",
       "4  2238800.0               2              2  \n",
       "\n",
       "[5 rows x 59 columns]"
      ]
     },
     "execution_count": 3,
     "metadata": {},
     "output_type": "execute_result"
    }
   ],
   "source": [
    "df.head(5)"
   ]
  },
  {
   "cell_type": "code",
   "execution_count": 4,
   "metadata": {},
   "outputs": [
    {
     "data": {
      "text/plain": [
       "(153490, 59)"
      ]
     },
     "execution_count": 4,
     "metadata": {},
     "output_type": "execute_result"
    }
   ],
   "source": [
    "df.shape"
   ]
  },
  {
   "cell_type": "code",
   "execution_count": 5,
   "metadata": {},
   "outputs": [
    {
     "data": {
      "text/plain": [
       "Index(['Unnamed: 0', 'Time_stamp', 'Type', 'OrderID', 'V', 'P', 'Dir', 'Time',\n",
       "       'P_ask_1', 'V_ask_1', 'P_bid_1', 'V_bid_1', 'P_ask_2', 'V_ask_2',\n",
       "       'P_bid_2', 'V_bid_2', 'P_ask_3', 'V_ask_3', 'P_bid_3', 'V_bid_3',\n",
       "       'P_ask_4', 'V_ask_4', 'P_bid_4', 'V_bid_4', 'P_ask_5', 'V_ask_5',\n",
       "       'P_bid_5', 'V_bid_5', 'Label', 'Level', 'bid-ask spread 1',\n",
       "       'mid-price 1', 'd_P_ask_51', 'd_P_bid_51', 'd_P_ask_21', 'd_P_bid_21',\n",
       "       'd_P_ask_32', 'd_P_bid_32', 'd_P_ask_43', 'd_P_bid_43', 'd_P_ask_54',\n",
       "       'd_P_bid_54', 'Mean_P_ask', 'Mean_P_bid', 'Mean_V_ask', 'Mean_V_bid',\n",
       "       'P_accu', 'V_accu', 'bid-ask spread 2', 'mid-price 2',\n",
       "       'bid-ask spread 3', 'mid-price 3', 'bid-ask spread 4', 'mid-price 4',\n",
       "       'bid-ask spread 5', 'mid-price 5', 'Mid_price', 'MidPrice_Moves',\n",
       "       'SpdCros_Moves'],\n",
       "      dtype='object')"
      ]
     },
     "execution_count": 5,
     "metadata": {},
     "output_type": "execute_result"
    }
   ],
   "source": [
    "df.columns"
   ]
  },
  {
   "cell_type": "markdown",
   "metadata": {},
   "source": [
    "### Split training set and testing set"
   ]
  },
  {
   "cell_type": "code",
   "execution_count": 6,
   "metadata": {
    "collapsed": true
   },
   "outputs": [],
   "source": [
    "# Extract observations between 10:30~10:55\n",
    "df_simplify = df[(df['Time_stamp']>=37800)&(df['Time_stamp']<=39300)]"
   ]
  },
  {
   "cell_type": "code",
   "execution_count": 7,
   "metadata": {},
   "outputs": [
    {
     "data": {
      "text/plain": [
       "(12274, 59)"
      ]
     },
     "execution_count": 7,
     "metadata": {},
     "output_type": "execute_result"
    }
   ],
   "source": [
    "df_simplify.shape"
   ]
  },
  {
   "cell_type": "code",
   "execution_count": 8,
   "metadata": {
    "collapsed": true
   },
   "outputs": [],
   "source": [
    "# Original training set: 10:30~10:50\n",
    "df_train = df_simplify[(df_simplify['Time_stamp']>=37800)&(df_simplify['Time_stamp']<=39000)]"
   ]
  },
  {
   "cell_type": "code",
   "execution_count": 9,
   "metadata": {},
   "outputs": [
    {
     "data": {
      "text/plain": [
       "(8749, 59)"
      ]
     },
     "execution_count": 9,
     "metadata": {},
     "output_type": "execute_result"
    }
   ],
   "source": [
    "df_train.shape"
   ]
  },
  {
   "cell_type": "code",
   "execution_count": 10,
   "metadata": {
    "collapsed": true
   },
   "outputs": [],
   "source": [
    "# Orginal testing set: first 50 rows after 10:50\n",
    "df_test = df_simplify.iloc[8749:8799]"
   ]
  },
  {
   "cell_type": "code",
   "execution_count": 11,
   "metadata": {},
   "outputs": [
    {
     "data": {
      "text/plain": [
       "(50, 59)"
      ]
     },
     "execution_count": 11,
     "metadata": {},
     "output_type": "execute_result"
    }
   ],
   "source": [
    "df_test.shape"
   ]
  },
  {
   "cell_type": "code",
   "execution_count": 12,
   "metadata": {
    "collapsed": true
   },
   "outputs": [],
   "source": [
    "# Extract observations in the training set where y=0/1/2\n",
    "df_train_y_0 = df_train[df_train['MidPrice_Moves'] == 0]\n",
    "df_train_y_1 = df_train[df_train['MidPrice_Moves'] == 1]\n",
    "df_train_y_2 = df_train[df_train['MidPrice_Moves'] == 2]"
   ]
  },
  {
   "cell_type": "code",
   "execution_count": 13,
   "metadata": {},
   "outputs": [
    {
     "data": {
      "text/plain": [
       "(778, 59)"
      ]
     },
     "execution_count": 13,
     "metadata": {},
     "output_type": "execute_result"
    }
   ],
   "source": [
    "df_train_y_0.shape"
   ]
  },
  {
   "cell_type": "code",
   "execution_count": 14,
   "metadata": {},
   "outputs": [
    {
     "data": {
      "text/plain": [
       "(776, 59)"
      ]
     },
     "execution_count": 14,
     "metadata": {},
     "output_type": "execute_result"
    }
   ],
   "source": [
    "df_train_y_1.shape"
   ]
  },
  {
   "cell_type": "code",
   "execution_count": 15,
   "metadata": {},
   "outputs": [
    {
     "data": {
      "text/plain": [
       "(7195, 59)"
      ]
     },
     "execution_count": 15,
     "metadata": {},
     "output_type": "execute_result"
    }
   ],
   "source": [
    "df_train_y_2.shape"
   ]
  },
  {
   "cell_type": "code",
   "execution_count": 16,
   "metadata": {
    "collapsed": true
   },
   "outputs": [],
   "source": [
    "# Keep y=0:y=1:y=2 = 1:1:2\n",
    "df_train_y_2_new = df_train_y_2.sample(777*2)"
   ]
  },
  {
   "cell_type": "code",
   "execution_count": 17,
   "metadata": {},
   "outputs": [
    {
     "data": {
      "text/plain": [
       "(1554, 59)"
      ]
     },
     "execution_count": 17,
     "metadata": {},
     "output_type": "execute_result"
    }
   ],
   "source": [
    "df_train_y_2_new.shape"
   ]
  },
  {
   "cell_type": "code",
   "execution_count": 18,
   "metadata": {
    "collapsed": true
   },
   "outputs": [],
   "source": [
    "# Concat the dataframe to make a new training set\n",
    "df_train_new = pd.concat([df_train_y_0,df_train_y_1,df_train_y_2_new])"
   ]
  },
  {
   "cell_type": "code",
   "execution_count": 19,
   "metadata": {},
   "outputs": [
    {
     "data": {
      "text/plain": [
       "(3108, 59)"
      ]
     },
     "execution_count": 19,
     "metadata": {},
     "output_type": "execute_result"
    }
   ],
   "source": [
    "df_train_new.shape"
   ]
  },
  {
   "cell_type": "code",
   "execution_count": 20,
   "metadata": {
    "collapsed": true
   },
   "outputs": [],
   "source": [
    "# Extract x and y variable in the training set and testing set\n",
    "x_train = df_train_new.drop(['Unnamed: 0','Time_stamp','Time','OrderID','Label','MidPrice_Moves','SpdCros_Moves'],axis = 1)\n",
    "y_train = df_train_new['MidPrice_Moves']\n",
    "x_test = df_test.drop(['Unnamed: 0','Time_stamp','Time','OrderID','Label','MidPrice_Moves','SpdCros_Moves'],axis = 1)\n",
    "y_test = df_test['MidPrice_Moves']"
   ]
  },
  {
   "cell_type": "code",
   "execution_count": 21,
   "metadata": {},
   "outputs": [
    {
     "data": {
      "text/plain": [
       "(3108, 52)"
      ]
     },
     "execution_count": 21,
     "metadata": {},
     "output_type": "execute_result"
    }
   ],
   "source": [
    "x_train.shape"
   ]
  },
  {
   "cell_type": "code",
   "execution_count": 22,
   "metadata": {},
   "outputs": [
    {
     "data": {
      "text/plain": [
       "(3108,)"
      ]
     },
     "execution_count": 22,
     "metadata": {},
     "output_type": "execute_result"
    }
   ],
   "source": [
    "y_train.shape"
   ]
  },
  {
   "cell_type": "code",
   "execution_count": 23,
   "metadata": {},
   "outputs": [
    {
     "data": {
      "text/plain": [
       "(50, 52)"
      ]
     },
     "execution_count": 23,
     "metadata": {},
     "output_type": "execute_result"
    }
   ],
   "source": [
    "x_test.shape"
   ]
  },
  {
   "cell_type": "code",
   "execution_count": 24,
   "metadata": {},
   "outputs": [
    {
     "data": {
      "text/plain": [
       "(50,)"
      ]
     },
     "execution_count": 24,
     "metadata": {},
     "output_type": "execute_result"
    }
   ],
   "source": [
    "y_test.shape"
   ]
  },
  {
   "cell_type": "markdown",
   "metadata": {},
   "source": [
    "### Try logistic regression model"
   ]
  },
  {
   "cell_type": "code",
   "execution_count": 37,
   "metadata": {
    "collapsed": true
   },
   "outputs": [],
   "source": [
    "def print_eval(model, x, y):\n",
    "    \"\"\"Prints some evaluation metrics\"\"\"\n",
    "    y_pred = model.predict(x)\n",
    "    print('{:15} {:.5f}'.format('Accuracy:', accuracy_score(y, y_pred)))\n",
    "    print('{:15} {:.5f}'.format('Precision:', precision_score(y, y_pred,average='weighted')))\n",
    "    print('{:15} {:.5f}'.format('Recall:', recall_score(y, y_pred,average='weighted')))\n",
    "    print('{:15} {:.5f}'.format('F1 score:', f1_score(y, y_pred,average='weighted'))) "
   ]
  },
  {
   "cell_type": "code",
   "execution_count": 47,
   "metadata": {},
   "outputs": [
    {
     "name": "stdout",
     "output_type": "stream",
     "text": [
      "The training accuracy is: 0.586229086229\n",
      "The testing accuracy is 0.82\n",
      "The testing set confusion matrix is:\n"
     ]
    },
    {
     "data": {
      "text/html": [
       "<div>\n",
       "<style>\n",
       "    .dataframe thead tr:only-child th {\n",
       "        text-align: right;\n",
       "    }\n",
       "\n",
       "    .dataframe thead th {\n",
       "        text-align: left;\n",
       "    }\n",
       "\n",
       "    .dataframe tbody tr th {\n",
       "        vertical-align: top;\n",
       "    }\n",
       "</style>\n",
       "<table border=\"1\" class=\"dataframe\">\n",
       "  <thead>\n",
       "    <tr style=\"text-align: right;\">\n",
       "      <th></th>\n",
       "      <th>Predicted 0</th>\n",
       "      <th>Predicted 1</th>\n",
       "      <th>Predicted 2</th>\n",
       "    </tr>\n",
       "  </thead>\n",
       "  <tbody>\n",
       "    <tr>\n",
       "      <th>Actual 0</th>\n",
       "      <td>0</td>\n",
       "      <td>1</td>\n",
       "      <td>1</td>\n",
       "    </tr>\n",
       "    <tr>\n",
       "      <th>Actual 1</th>\n",
       "      <td>0</td>\n",
       "      <td>1</td>\n",
       "      <td>7</td>\n",
       "    </tr>\n",
       "    <tr>\n",
       "      <th>Actual 2</th>\n",
       "      <td>0</td>\n",
       "      <td>0</td>\n",
       "      <td>40</td>\n",
       "    </tr>\n",
       "  </tbody>\n",
       "</table>\n",
       "</div>"
      ],
      "text/plain": [
       "          Predicted 0  Predicted 1  Predicted 2\n",
       "Actual 0            0            1            1\n",
       "Actual 1            0            1            7\n",
       "Actual 2            0            0           40"
      ]
     },
     "execution_count": 47,
     "metadata": {},
     "output_type": "execute_result"
    }
   ],
   "source": [
    "# Train Logistic Regression Model\n",
    "LRM = linear_model.LogisticRegression(C=0.1, penalty='l2')\n",
    "LRM.fit(x_train, y_train)\n",
    "\n",
    "# Report training accuracy, testing accuracy\n",
    "training_accuracy=LRM.score(x_train,y_train)\n",
    "print('The training accuracy is:', training_accuracy)\n",
    "testing_accuracy=LRM.score(x_test,y_test)\n",
    "print('The testing accuracy is', testing_accuracy)\n",
    "\n",
    "# Report testing set confusion matrix\n",
    "y_true = y_test\n",
    "y_pred = LRM.predict(x_test)\n",
    "ConfusionMatrix = pd.DataFrame(confusion_matrix(y_true, y_pred),\n",
    "                               columns=['Predicted 0','Predicted 1','Predicted 2'], \n",
    "                               index=['Actual 0','Actual 1','Actual 2']) \n",
    "print(\"The testing set confusion matrix is:\")\n",
    "ConfusionMatrix"
   ]
  },
  {
   "cell_type": "code",
   "execution_count": 39,
   "metadata": {},
   "outputs": [
    {
     "name": "stdout",
     "output_type": "stream",
     "text": [
      "Accuracy:       0.82000\n",
      "Precision:      0.74667\n",
      "Recall:         0.82000\n",
      "F1 score:       0.75927\n"
     ]
    }
   ],
   "source": [
    "# Report testing set performance\n",
    "print_eval(model=LRM, x=x_test,y=y_test)"
   ]
  },
  {
   "cell_type": "code",
   "execution_count": 51,
   "metadata": {},
   "outputs": [
    {
     "data": {
      "text/html": [
       "<div>\n",
       "<style>\n",
       "    .dataframe thead tr:only-child th {\n",
       "        text-align: right;\n",
       "    }\n",
       "\n",
       "    .dataframe thead th {\n",
       "        text-align: left;\n",
       "    }\n",
       "\n",
       "    .dataframe tbody tr th {\n",
       "        vertical-align: top;\n",
       "    }\n",
       "</style>\n",
       "<table border=\"1\" class=\"dataframe\">\n",
       "  <thead>\n",
       "    <tr style=\"text-align: right;\">\n",
       "      <th></th>\n",
       "      <th>Predicted 0</th>\n",
       "      <th>Predicted 1</th>\n",
       "      <th>Predicted 2</th>\n",
       "    </tr>\n",
       "  </thead>\n",
       "  <tbody>\n",
       "    <tr>\n",
       "      <th>Actual 0</th>\n",
       "      <td>200</td>\n",
       "      <td>114</td>\n",
       "      <td>464</td>\n",
       "    </tr>\n",
       "    <tr>\n",
       "      <th>Actual 1</th>\n",
       "      <td>160</td>\n",
       "      <td>149</td>\n",
       "      <td>467</td>\n",
       "    </tr>\n",
       "    <tr>\n",
       "      <th>Actual 2</th>\n",
       "      <td>54</td>\n",
       "      <td>27</td>\n",
       "      <td>1473</td>\n",
       "    </tr>\n",
       "  </tbody>\n",
       "</table>\n",
       "</div>"
      ],
      "text/plain": [
       "          Predicted 0  Predicted 1  Predicted 2\n",
       "Actual 0          200          114          464\n",
       "Actual 1          160          149          467\n",
       "Actual 2           54           27         1473"
      ]
     },
     "execution_count": 51,
     "metadata": {},
     "output_type": "execute_result"
    }
   ],
   "source": [
    "# Report training set confusion matrix\n",
    "y_true = y_train\n",
    "y_pred = LRM.predict(x_train)\n",
    "ConfusionMatrix = pd.DataFrame(confusion_matrix(y_true, y_pred),\n",
    "                               columns=['Predicted 0','Predicted 1','Predicted 2'], \n",
    "                               index=['Actual 0','Actual 1','Actual 2']) \n",
    "ConfusionMatrix"
   ]
  },
  {
   "cell_type": "code",
   "execution_count": 52,
   "metadata": {},
   "outputs": [
    {
     "name": "stdout",
     "output_type": "stream",
     "text": [
      "Accuracy:       0.58623\n",
      "Precision:      0.55558\n",
      "Recall:         0.58623\n",
      "F1 score:       0.52596\n"
     ]
    }
   ],
   "source": [
    "# Report training set performance\n",
    "print_eval(model=LRM, x=x_train,y=y_train)"
   ]
  },
  {
   "cell_type": "markdown",
   "metadata": {},
   "source": [
    "### Try SVM Model"
   ]
  },
  {
   "cell_type": "code",
   "execution_count": 53,
   "metadata": {},
   "outputs": [
    {
     "name": "stdout",
     "output_type": "stream",
     "text": [
      "The training accuracy of SVM model is: 0.999356499356\n",
      "The test accuracy of SVM model is 0.8\n"
     ]
    }
   ],
   "source": [
    "# Train SVM Model\n",
    "from sklearn.svm import SVC\n",
    "\n",
    "SVM = SVC()\n",
    "SVM.fit(x_train, y_train)\n",
    "\n",
    "training_accuracy_SVM=SVM.score(x_train,y_train)\n",
    "print('The training accuracy of SVM model is:', training_accuracy_SVM)\n",
    "\n",
    "test_accuracy_SVM=SVM.score(x_test,y_test)\n",
    "print('The test accuracy of SVM model is', test_accuracy_SVM)"
   ]
  },
  {
   "cell_type": "code",
   "execution_count": 54,
   "metadata": {},
   "outputs": [
    {
     "name": "stdout",
     "output_type": "stream",
     "text": [
      "The testing set confusion matrix is:\n"
     ]
    },
    {
     "data": {
      "text/html": [
       "<div>\n",
       "<style>\n",
       "    .dataframe thead tr:only-child th {\n",
       "        text-align: right;\n",
       "    }\n",
       "\n",
       "    .dataframe thead th {\n",
       "        text-align: left;\n",
       "    }\n",
       "\n",
       "    .dataframe tbody tr th {\n",
       "        vertical-align: top;\n",
       "    }\n",
       "</style>\n",
       "<table border=\"1\" class=\"dataframe\">\n",
       "  <thead>\n",
       "    <tr style=\"text-align: right;\">\n",
       "      <th></th>\n",
       "      <th>Predicted 0</th>\n",
       "      <th>Predicted 1</th>\n",
       "      <th>Predicted 2</th>\n",
       "    </tr>\n",
       "  </thead>\n",
       "  <tbody>\n",
       "    <tr>\n",
       "      <th>Actual 0</th>\n",
       "      <td>0</td>\n",
       "      <td>0</td>\n",
       "      <td>2</td>\n",
       "    </tr>\n",
       "    <tr>\n",
       "      <th>Actual 1</th>\n",
       "      <td>0</td>\n",
       "      <td>0</td>\n",
       "      <td>8</td>\n",
       "    </tr>\n",
       "    <tr>\n",
       "      <th>Actual 2</th>\n",
       "      <td>0</td>\n",
       "      <td>0</td>\n",
       "      <td>40</td>\n",
       "    </tr>\n",
       "  </tbody>\n",
       "</table>\n",
       "</div>"
      ],
      "text/plain": [
       "          Predicted 0  Predicted 1  Predicted 2\n",
       "Actual 0            0            0            2\n",
       "Actual 1            0            0            8\n",
       "Actual 2            0            0           40"
      ]
     },
     "execution_count": 54,
     "metadata": {},
     "output_type": "execute_result"
    }
   ],
   "source": [
    "# Report testing set confusion matrix\n",
    "y_true = y_test\n",
    "y_pred = SVM.predict(x_test)\n",
    "ConfusionMatrix = pd.DataFrame(confusion_matrix(y_true, y_pred),\n",
    "                               columns=['Predicted 0','Predicted 1','Predicted 2'], \n",
    "                               index=['Actual 0','Actual 1','Actual 2']) \n",
    "print('The testing set confusion matrix is:')\n",
    "ConfusionMatrix"
   ]
  },
  {
   "cell_type": "code",
   "execution_count": 44,
   "metadata": {},
   "outputs": [
    {
     "name": "stdout",
     "output_type": "stream",
     "text": [
      "Accuracy:       0.80000\n",
      "Precision:      0.64000\n",
      "Recall:         0.80000\n",
      "F1 score:       0.71111\n"
     ]
    }
   ],
   "source": [
    "# Report testing set performance\n",
    "print_eval(model=SVM, x=x_test,y=y_test)"
   ]
  },
  {
   "cell_type": "code",
   "execution_count": 55,
   "metadata": {
    "scrolled": true
   },
   "outputs": [
    {
     "name": "stdout",
     "output_type": "stream",
     "text": [
      "The training set confusion matrix is:\n"
     ]
    },
    {
     "data": {
      "text/html": [
       "<div>\n",
       "<style>\n",
       "    .dataframe thead tr:only-child th {\n",
       "        text-align: right;\n",
       "    }\n",
       "\n",
       "    .dataframe thead th {\n",
       "        text-align: left;\n",
       "    }\n",
       "\n",
       "    .dataframe tbody tr th {\n",
       "        vertical-align: top;\n",
       "    }\n",
       "</style>\n",
       "<table border=\"1\" class=\"dataframe\">\n",
       "  <thead>\n",
       "    <tr style=\"text-align: right;\">\n",
       "      <th></th>\n",
       "      <th>Predicted 0</th>\n",
       "      <th>Predicted 1</th>\n",
       "      <th>Predicted 2</th>\n",
       "    </tr>\n",
       "  </thead>\n",
       "  <tbody>\n",
       "    <tr>\n",
       "      <th>Actual 0</th>\n",
       "      <td>776</td>\n",
       "      <td>0</td>\n",
       "      <td>2</td>\n",
       "    </tr>\n",
       "    <tr>\n",
       "      <th>Actual 1</th>\n",
       "      <td>0</td>\n",
       "      <td>776</td>\n",
       "      <td>0</td>\n",
       "    </tr>\n",
       "    <tr>\n",
       "      <th>Actual 2</th>\n",
       "      <td>0</td>\n",
       "      <td>0</td>\n",
       "      <td>1554</td>\n",
       "    </tr>\n",
       "  </tbody>\n",
       "</table>\n",
       "</div>"
      ],
      "text/plain": [
       "          Predicted 0  Predicted 1  Predicted 2\n",
       "Actual 0          776            0            2\n",
       "Actual 1            0          776            0\n",
       "Actual 2            0            0         1554"
      ]
     },
     "execution_count": 55,
     "metadata": {},
     "output_type": "execute_result"
    }
   ],
   "source": [
    "# Report trainig set confusion matrix\n",
    "y_true = y_train\n",
    "y_pred = SVM.predict(x_train)\n",
    "ConfusionMatrix = pd.DataFrame(confusion_matrix(y_true, y_pred),\n",
    "                               columns=['Predicted 0','Predicted 1','Predicted 2'], \n",
    "                               index=['Actual 0','Actual 1','Actual 2']) \n",
    "print('The training set confusion matrix is:')\n",
    "ConfusionMatrix"
   ]
  },
  {
   "cell_type": "code",
   "execution_count": 46,
   "metadata": {},
   "outputs": [
    {
     "name": "stdout",
     "output_type": "stream",
     "text": [
      "Accuracy:       0.99936\n",
      "Precision:      0.99936\n",
      "Recall:         0.99936\n",
      "F1 score:       0.99936\n"
     ]
    }
   ],
   "source": [
    "# Report training set performance\n",
    "print_eval(model=SVM, x=x_train,y=y_train)"
   ]
  },
  {
   "cell_type": "markdown",
   "metadata": {},
   "source": [
    "### Try Random Forest Model"
   ]
  },
  {
   "cell_type": "code",
   "execution_count": 56,
   "metadata": {},
   "outputs": [
    {
     "name": "stdout",
     "output_type": "stream",
     "text": [
      "The training accuracy of random_forest model is: 1.0\n",
      "The test accuracy of random_forest model is 0.88\n"
     ]
    }
   ],
   "source": [
    "from sklearn.ensemble import RandomForestClassifier\n",
    "# Train a random forest model\n",
    "random_forest = RandomForestClassifier(n_estimators=1000)\n",
    "## Train the random forest model using the training set\n",
    "random_forest.fit(x_train, y_train)\n",
    "## Report training accuracy\n",
    "training_accuracy_random_forest=random_forest.score(x_train,y_train)\n",
    "print('The training accuracy of random_forest model is:', training_accuracy_random_forest)\n",
    "## Report test accuracy\n",
    "test_accuracy_random_forest=random_forest.score(x_test,y_test)\n",
    "print('The test accuracy of random_forest model is', test_accuracy_random_forest)"
   ]
  },
  {
   "cell_type": "code",
   "execution_count": 57,
   "metadata": {},
   "outputs": [
    {
     "name": "stdout",
     "output_type": "stream",
     "text": [
      "The testing set confusion matrix is:\n"
     ]
    },
    {
     "data": {
      "text/html": [
       "<div>\n",
       "<style>\n",
       "    .dataframe thead tr:only-child th {\n",
       "        text-align: right;\n",
       "    }\n",
       "\n",
       "    .dataframe thead th {\n",
       "        text-align: left;\n",
       "    }\n",
       "\n",
       "    .dataframe tbody tr th {\n",
       "        vertical-align: top;\n",
       "    }\n",
       "</style>\n",
       "<table border=\"1\" class=\"dataframe\">\n",
       "  <thead>\n",
       "    <tr style=\"text-align: right;\">\n",
       "      <th></th>\n",
       "      <th>Predicted 0</th>\n",
       "      <th>Predicted 1</th>\n",
       "      <th>Predicted 2</th>\n",
       "    </tr>\n",
       "  </thead>\n",
       "  <tbody>\n",
       "    <tr>\n",
       "      <th>Actual 0</th>\n",
       "      <td>2</td>\n",
       "      <td>0</td>\n",
       "      <td>0</td>\n",
       "    </tr>\n",
       "    <tr>\n",
       "      <th>Actual 1</th>\n",
       "      <td>0</td>\n",
       "      <td>8</td>\n",
       "      <td>0</td>\n",
       "    </tr>\n",
       "    <tr>\n",
       "      <th>Actual 2</th>\n",
       "      <td>1</td>\n",
       "      <td>5</td>\n",
       "      <td>34</td>\n",
       "    </tr>\n",
       "  </tbody>\n",
       "</table>\n",
       "</div>"
      ],
      "text/plain": [
       "          Predicted 0  Predicted 1  Predicted 2\n",
       "Actual 0            2            0            0\n",
       "Actual 1            0            8            0\n",
       "Actual 2            1            5           34"
      ]
     },
     "execution_count": 57,
     "metadata": {},
     "output_type": "execute_result"
    }
   ],
   "source": [
    "# Report testing set confusion matrix\n",
    "y_true = y_test\n",
    "y_pred = random_forest.predict(x_test)\n",
    "ConfusionMatrix = pd.DataFrame(confusion_matrix(y_true, y_pred),\n",
    "                               columns=['Predicted 0','Predicted 1','Predicted 2'], \n",
    "                               index=['Actual 0','Actual 1','Actual 2']) \n",
    "print('The testing set confusion matrix is:')\n",
    "ConfusionMatrix"
   ]
  },
  {
   "cell_type": "code",
   "execution_count": 58,
   "metadata": {},
   "outputs": [
    {
     "name": "stdout",
     "output_type": "stream",
     "text": [
      "Accuracy:       0.88000\n",
      "Precision:      0.92513\n",
      "Recall:         0.88000\n",
      "F1 score:       0.88904\n"
     ]
    }
   ],
   "source": [
    "# Report testing set performance\n",
    "print_eval(model=random_forest, x=x_test,y=y_test)"
   ]
  },
  {
   "cell_type": "code",
   "execution_count": 59,
   "metadata": {},
   "outputs": [
    {
     "name": "stdout",
     "output_type": "stream",
     "text": [
      "The training set confusion matrix is:\n"
     ]
    },
    {
     "data": {
      "text/html": [
       "<div>\n",
       "<style>\n",
       "    .dataframe thead tr:only-child th {\n",
       "        text-align: right;\n",
       "    }\n",
       "\n",
       "    .dataframe thead th {\n",
       "        text-align: left;\n",
       "    }\n",
       "\n",
       "    .dataframe tbody tr th {\n",
       "        vertical-align: top;\n",
       "    }\n",
       "</style>\n",
       "<table border=\"1\" class=\"dataframe\">\n",
       "  <thead>\n",
       "    <tr style=\"text-align: right;\">\n",
       "      <th></th>\n",
       "      <th>Predicted 0</th>\n",
       "      <th>Predicted 1</th>\n",
       "      <th>Predicted 2</th>\n",
       "    </tr>\n",
       "  </thead>\n",
       "  <tbody>\n",
       "    <tr>\n",
       "      <th>Actual 0</th>\n",
       "      <td>778</td>\n",
       "      <td>0</td>\n",
       "      <td>0</td>\n",
       "    </tr>\n",
       "    <tr>\n",
       "      <th>Actual 1</th>\n",
       "      <td>0</td>\n",
       "      <td>776</td>\n",
       "      <td>0</td>\n",
       "    </tr>\n",
       "    <tr>\n",
       "      <th>Actual 2</th>\n",
       "      <td>0</td>\n",
       "      <td>0</td>\n",
       "      <td>1554</td>\n",
       "    </tr>\n",
       "  </tbody>\n",
       "</table>\n",
       "</div>"
      ],
      "text/plain": [
       "          Predicted 0  Predicted 1  Predicted 2\n",
       "Actual 0          778            0            0\n",
       "Actual 1            0          776            0\n",
       "Actual 2            0            0         1554"
      ]
     },
     "execution_count": 59,
     "metadata": {},
     "output_type": "execute_result"
    }
   ],
   "source": [
    "# Report trainig set confusion matrix\n",
    "y_true = y_train\n",
    "y_pred = random_forest.predict(x_train)\n",
    "ConfusionMatrix = pd.DataFrame(confusion_matrix(y_true, y_pred),\n",
    "                               columns=['Predicted 0','Predicted 1','Predicted 2'], \n",
    "                               index=['Actual 0','Actual 1','Actual 2']) \n",
    "print('The training set confusion matrix is:')\n",
    "ConfusionMatrix"
   ]
  },
  {
   "cell_type": "code",
   "execution_count": 60,
   "metadata": {},
   "outputs": [
    {
     "name": "stdout",
     "output_type": "stream",
     "text": [
      "Accuracy:       1.00000\n",
      "Precision:      1.00000\n",
      "Recall:         1.00000\n",
      "F1 score:       1.00000\n"
     ]
    }
   ],
   "source": [
    "# Report training set performance\n",
    "print_eval(model=random_forest, x=x_train,y=y_train)"
   ]
  },
  {
   "cell_type": "markdown",
   "metadata": {},
   "source": [
    "### Try Boosting Model"
   ]
  },
  {
   "cell_type": "code",
   "execution_count": 61,
   "metadata": {},
   "outputs": [
    {
     "name": "stdout",
     "output_type": "stream",
     "text": [
      "The training accuracy of xgboost model is: 1.0\n",
      "The test accuracy of xgboost model is 0.88\n"
     ]
    }
   ],
   "source": [
    "import xgboost as xgb\n",
    "# Train a xgboost model\n",
    "## Create xgboost object\n",
    "xgboost = xgb.XGBClassifier(n_estimators=1000)\n",
    "## Train the xgboost model using the training set\n",
    "xgboost.fit(x_train, y_train)\n",
    "## Report training accuracy\n",
    "training_accuracy_xgboost=xgboost.score(x_train,y_train)\n",
    "print('The training accuracy of xgboost model is:', training_accuracy_xgboost)\n",
    "## Report test accuracy\n",
    "test_accuracy_xgboost=xgboost.score(x_test,y_test)\n",
    "print('The test accuracy of xgboost model is', test_accuracy_xgboost)"
   ]
  },
  {
   "cell_type": "code",
   "execution_count": 62,
   "metadata": {},
   "outputs": [
    {
     "name": "stdout",
     "output_type": "stream",
     "text": [
      "The testing set confusion matrix is:\n"
     ]
    },
    {
     "data": {
      "text/html": [
       "<div>\n",
       "<style>\n",
       "    .dataframe thead tr:only-child th {\n",
       "        text-align: right;\n",
       "    }\n",
       "\n",
       "    .dataframe thead th {\n",
       "        text-align: left;\n",
       "    }\n",
       "\n",
       "    .dataframe tbody tr th {\n",
       "        vertical-align: top;\n",
       "    }\n",
       "</style>\n",
       "<table border=\"1\" class=\"dataframe\">\n",
       "  <thead>\n",
       "    <tr style=\"text-align: right;\">\n",
       "      <th></th>\n",
       "      <th>Predicted 0</th>\n",
       "      <th>Predicted 1</th>\n",
       "      <th>Predicted 2</th>\n",
       "    </tr>\n",
       "  </thead>\n",
       "  <tbody>\n",
       "    <tr>\n",
       "      <th>Actual 0</th>\n",
       "      <td>2</td>\n",
       "      <td>0</td>\n",
       "      <td>0</td>\n",
       "    </tr>\n",
       "    <tr>\n",
       "      <th>Actual 1</th>\n",
       "      <td>0</td>\n",
       "      <td>8</td>\n",
       "      <td>0</td>\n",
       "    </tr>\n",
       "    <tr>\n",
       "      <th>Actual 2</th>\n",
       "      <td>2</td>\n",
       "      <td>4</td>\n",
       "      <td>34</td>\n",
       "    </tr>\n",
       "  </tbody>\n",
       "</table>\n",
       "</div>"
      ],
      "text/plain": [
       "          Predicted 0  Predicted 1  Predicted 2\n",
       "Actual 0            2            0            0\n",
       "Actual 1            0            8            0\n",
       "Actual 2            2            4           34"
      ]
     },
     "execution_count": 62,
     "metadata": {},
     "output_type": "execute_result"
    }
   ],
   "source": [
    "# Report testing set confusion matrix\n",
    "y_true = y_test\n",
    "y_pred = xgboost.predict(x_test)\n",
    "ConfusionMatrix = pd.DataFrame(confusion_matrix(y_true, y_pred),\n",
    "                               columns=['Predicted 0','Predicted 1','Predicted 2'], \n",
    "                               index=['Actual 0','Actual 1','Actual 2']) \n",
    "print('The testing set confusion matrix is:')\n",
    "ConfusionMatrix"
   ]
  },
  {
   "cell_type": "code",
   "execution_count": 63,
   "metadata": {},
   "outputs": [
    {
     "name": "stdout",
     "output_type": "stream",
     "text": [
      "Accuracy:       0.88000\n",
      "Precision:      0.92667\n",
      "Recall:         0.88000\n",
      "F1 score:       0.88980\n"
     ]
    }
   ],
   "source": [
    "# Report testing set performance\n",
    "print_eval(model=xgboost, x=x_test,y=y_test)"
   ]
  },
  {
   "cell_type": "code",
   "execution_count": 64,
   "metadata": {},
   "outputs": [
    {
     "name": "stdout",
     "output_type": "stream",
     "text": [
      "The training set confusion matrix is:\n"
     ]
    },
    {
     "data": {
      "text/html": [
       "<div>\n",
       "<style>\n",
       "    .dataframe thead tr:only-child th {\n",
       "        text-align: right;\n",
       "    }\n",
       "\n",
       "    .dataframe thead th {\n",
       "        text-align: left;\n",
       "    }\n",
       "\n",
       "    .dataframe tbody tr th {\n",
       "        vertical-align: top;\n",
       "    }\n",
       "</style>\n",
       "<table border=\"1\" class=\"dataframe\">\n",
       "  <thead>\n",
       "    <tr style=\"text-align: right;\">\n",
       "      <th></th>\n",
       "      <th>Predicted 0</th>\n",
       "      <th>Predicted 1</th>\n",
       "      <th>Predicted 2</th>\n",
       "    </tr>\n",
       "  </thead>\n",
       "  <tbody>\n",
       "    <tr>\n",
       "      <th>Actual 0</th>\n",
       "      <td>778</td>\n",
       "      <td>0</td>\n",
       "      <td>0</td>\n",
       "    </tr>\n",
       "    <tr>\n",
       "      <th>Actual 1</th>\n",
       "      <td>0</td>\n",
       "      <td>776</td>\n",
       "      <td>0</td>\n",
       "    </tr>\n",
       "    <tr>\n",
       "      <th>Actual 2</th>\n",
       "      <td>0</td>\n",
       "      <td>0</td>\n",
       "      <td>1554</td>\n",
       "    </tr>\n",
       "  </tbody>\n",
       "</table>\n",
       "</div>"
      ],
      "text/plain": [
       "          Predicted 0  Predicted 1  Predicted 2\n",
       "Actual 0          778            0            0\n",
       "Actual 1            0          776            0\n",
       "Actual 2            0            0         1554"
      ]
     },
     "execution_count": 64,
     "metadata": {},
     "output_type": "execute_result"
    }
   ],
   "source": [
    "# Report trainig set confusion matrix\n",
    "y_true = y_train\n",
    "y_pred = xgboost.predict(x_train)\n",
    "ConfusionMatrix = pd.DataFrame(confusion_matrix(y_true, y_pred),\n",
    "                               columns=['Predicted 0','Predicted 1','Predicted 2'], \n",
    "                               index=['Actual 0','Actual 1','Actual 2']) \n",
    "print('The training set confusion matrix is:')\n",
    "ConfusionMatrix"
   ]
  },
  {
   "cell_type": "code",
   "execution_count": 65,
   "metadata": {},
   "outputs": [
    {
     "name": "stdout",
     "output_type": "stream",
     "text": [
      "Accuracy:       1.00000\n",
      "Precision:      1.00000\n",
      "Recall:         1.00000\n",
      "F1 score:       1.00000\n"
     ]
    }
   ],
   "source": [
    "# Report training set performance\n",
    "print_eval(model=xgboost, x=x_train,y=y_train)"
   ]
  },
  {
   "cell_type": "code",
   "execution_count": null,
   "metadata": {
    "collapsed": true
   },
   "outputs": [],
   "source": []
  }
 ],
 "metadata": {
  "kernelspec": {
   "display_name": "Python 3",
   "language": "python",
   "name": "python3"
  },
  "language_info": {
   "codemirror_mode": {
    "name": "ipython",
    "version": 3
   },
   "file_extension": ".py",
   "mimetype": "text/x-python",
   "name": "python",
   "nbconvert_exporter": "python",
   "pygments_lexer": "ipython3",
   "version": "3.6.3"
  }
 },
 "nbformat": 4,
 "nbformat_minor": 2
}

{
 "cells": [
  {
   "cell_type": "code",
   "execution_count": 1,
   "metadata": {
    "collapsed": true
   },
   "outputs": [],
   "source": [
    "import warnings\n",
    "warnings.filterwarnings('ignore') # Filter out warnings\n",
    "import numpy as np\n",
    "import pandas as pd\n",
    "import random as rnd\n",
    "import matplotlib.pyplot as plt\n",
    "%matplotlib inline\n",
    "from matplotlib.pylab import rcParams\n",
    "from scipy import stats\n",
    "import math\n",
    "from math import isnan\n",
    "import time\n",
    "from collections import Counter"
   ]
  },
  {
   "cell_type": "markdown",
   "metadata": {},
   "source": [
    "## Helper function"
   ]
  },
  {
   "cell_type": "code",
   "execution_count": 2,
   "metadata": {
    "collapsed": true
   },
   "outputs": [],
   "source": [
    "## FOR STATISTICAL ANALYSIS\n",
    "# Create a Combined Dataframe from message csv and orderbook csv\n",
    "def Merge_MsgAndOrdb(msg_path, ordb_path):\n",
    "    t = time.time()\n",
    "    # get the level of the LOBSTER dataset\n",
    "    level = int(msg_path.split(\".\")[0][-1])\n",
    "    # get the date\n",
    "    date = msg_path.split(\".\")[0].split(\"_\")[1]\n",
    "    # add header row for message csv\n",
    "    msg_names = [\"Time_stamp\", \"Type\", \"OrderID\", \"V\", \"P\", \"Dir\"]  # V: size; P: price; Dir: direction\n",
    "    df_msg = pd.read_csv(msg_path, names=msg_names)\n",
    "    # add header row for orderbook csv\n",
    "    default_ordb_names = ['P_ask', 'V_ask', 'P_bid', 'V_bid']\n",
    "    ordb_names = []\n",
    "    for i in range(level):\n",
    "        for item in default_ordb_names:\n",
    "            ordb_names.append(str(item) + str(\"_\") + str(i + 1))\n",
    "    df_ordb = pd.read_csv(ordb_path, names=ordb_names)\n",
    "    # adding a meaningful time column\n",
    "    df_msg['Time'] = pd.to_datetime(df_msg['Time_stamp'], unit=\"s\", origin=pd.Timestamp(date))\n",
    "    # combine two dataframes and return it\n",
    "    df = pd.concat([df_msg, df_ordb], axis=1)\n",
    "    print(\"Completed. It takes about {0:.2f} minutes.\".format((time.time()-t)/60))\n",
    "    return df\n",
    "\n",
    "# Renaming columns as to strip out redundnat words\n",
    "def RenameColumn(df,state_type):\n",
    "    old_col = df.columns.tolist()\n",
    "    new_col = []\n",
    "    for col in old_col:\n",
    "        if ( (\"bid\" in col) | (\"ask\" in col) ):\n",
    "            new_col.append(col+str(\" \")+state_type)\n",
    "        elif ((col == 'V') | (col == 'P')):\n",
    "            new_col.append(col+str(\" \")+state_type)\n",
    "        elif (col=='Time'):\n",
    "            new_col.append(col+str(\" \")+state_type)\n",
    "        else:\n",
    "            new_col.append(col)\n",
    "    columns = dict(zip(old_col,new_col))\n",
    "    df.rename(columns=columns,inplace=True)\n",
    "    return\n",
    "\n",
    "def GroupByOrderType(df,typeID):                        # for now, typeID should only be 2 or 3 or 4 or 5\n",
    "    t = time.time()\n",
    "    # lookup dictionary\n",
    "    lookup = {1:'Sub', 2:'Can', 3:'Del', 4:'ExVis',5:'ExHid',7:'Halt'}\n",
    "    # getting all the orders of type typeID\n",
    "    orderID_set = set(df[(df['Type']==typeID)].OrderID.tolist())\n",
    "    df_subset = df.loc[df['OrderID'].isin(orderID_set)]\n",
    "    \n",
    "    # get initial states when orders of this type is submitted\n",
    "    df_init = df_subset[(df_subset['Type']==1)]\n",
    "    RenameColumn(df_init,state_type=lookup[1])\n",
    "    \n",
    "    # get the end states of type typeID\n",
    "    df_end = df_subset[(df_subset['Type']==typeID)]\n",
    "    RenameColumn(df_end,state_type=lookup[typeID])\n",
    "    \n",
    "    # merge these two dataframes\n",
    "    df = df_init.merge(df_end, left_on='OrderID', right_on='OrderID', how='outer')\n",
    "    print(\"Completed. It takes about {0:.2f} minutes.\".format((time.time()-t)/60))\n",
    "    return df"
   ]
  },
  {
   "cell_type": "code",
   "execution_count": 3,
   "metadata": {
    "collapsed": true
   },
   "outputs": [],
   "source": [
    "## FOR PAPER 462\n",
    "# Compute Time-insensitive variables\n",
    "def ComputeTimeInsenstiveSet(df_original, levels=5):\n",
    "    df = df_original.copy(deep=False)\n",
    "    t = time.time()\n",
    "    for i in range(1,levels+1):\n",
    "        # compute bid-ask spreads and mid-prices (v2)\n",
    "        df[\"bid-ask spread {}\".format(i)] = df[\"P_ask_{}\".format(i)] - df[\"P_bid_{}\".format(i)]\n",
    "        df[\"mid-price {}\".format(i)] = (df[\"P_ask_{}\".format(i)] + df[\"P_bid_{}\".format(i)])/2\n",
    "        # compute price differences (v3)\n",
    "        df[\"d_P_ask_{}{}\".format(levels,1)] = df[\"P_ask_{}\".format(levels)] - df[\"P_ask_1\"]\n",
    "        df[\"d_P_bid_{}{}\".format(levels,1)] = df[\"P_bid_{}\".format(levels)] - df[\"P_bid_1\"]\n",
    "        for j in range(1,levels):\n",
    "            df[\"d_P_ask_{}{}\".format(j+1,j)] = np.abs(df[\"P_ask_{}\".format(j+1)] - df[\"P_ask_{}\".format(j)])\n",
    "            df[\"d_P_bid_{}{}\".format(j+1,j)] = np.abs(df[\"P_bid_{}\".format(j+1)] - df[\"P_bid_{}\".format(j)])\n",
    "        # compute mean prices and volumes (v4)\n",
    "        df[\"Mean_P_ask\"] = df[[\"P_ask_{}\".format(i) for i in range(1,levels+1)]].mean(axis=1)\n",
    "        df[\"Mean_P_bid\"] = df[[\"P_bid_{}\".format(i) for i in range(1,levels+1)]].mean(axis=1)\n",
    "        df[\"Mean_V_ask\"] = df[[\"V_ask_{}\".format(i) for i in range(1,levels+1)]].mean(axis=1)\n",
    "        df[\"Mean_V_bid\"] = df[[\"V_bid_{}\".format(i) for i in range(1,levels+1)]].mean(axis=1)\n",
    "        # compute accumulated differences (v5)\n",
    "        df[\"P_accu\"] = df[[\"P_ask_{}\".format(i) for i in range(1,levels+1)]].sum(axis=1) \\\n",
    "            - df[[\"P_bid_{}\".format(i) for i in range(1,levels+1)]].sum(axis=1)\n",
    "        df[\"V_accu\"] = df[[\"V_ask_{}\".format(i) for i in range(1,levels+1)]].sum(axis=1) \\\n",
    "            - df[[\"V_bid_{}\".format(i) for i in range(1,levels+1)]].sum(axis=1)\n",
    "    # returning...\n",
    "    print(\"Completed. It takes about {0:.2f} minutes.\".format((time.time()-t)/60))\n",
    "    return df\n",
    "\n",
    "# Compute Time-sensitive variables\n",
    "def ComputeTimeSensitiveSet(df_original,levels=5,dt_secs=1):\n",
    "    df = df_original.copy(deep=False)\n",
    "    t = time.time()\n",
    "    for index, row in df.iterrows():\n",
    "        t = row['Time_stamp']\n",
    "        temp = df.loc[(df['Time_stamp']>t-dt_secs)&(df['Time_stamp']<=t)] # for v6\n",
    "        # Note: direction = 1 <--> buy/bid order;   direction = -1 <--> sell/ask order\n",
    "        temp_la = df.loc[(df['Time_stamp']>t-dt_secs)&(df['Time_stamp']<=t)&(df['Dir']==-1)] # limit ask order\n",
    "        temp_lb = df.loc[(df['Time_stamp']>t-dt_secs)&(df['Time_stamp']<=t)&(df['Dir']==1)]  # limit bid order\n",
    "        temp_ca = df.loc[(df['Time_stamp']>t-dt_secs)&(df['Time_stamp']<=t)\n",
    "                         &(df['Dir']==-1)&(df['Type']==2)] # cancelled limit ask order\n",
    "        temp_cb = df.loc[(df['Time_stamp']>t-dt_secs)&(df['Time_stamp']<=t)\n",
    "                         &(df['Dir']==1)&(df['Type']==2)]  # cancelled limit buy order\n",
    "        for i in range(1,levels+1):\n",
    "            # compute price and volume derivatives (v6)\n",
    "            df.set_value(index,'der_P_ask_{}'.format(i),\n",
    "                         (temp['P_ask_{}'.format(i)].iloc[-1]-temp['P_ask_{}'.format(i)].iloc[0])/dt_secs)\n",
    "            df.set_value(index,'der_P_bid_{}'.format(i),\n",
    "                         (temp['P_bid_{}'.format(i)].iloc[-1]-temp['P_bid_{}'.format(i)].iloc[0])/dt_secs)\n",
    "            df.set_value(index,'der_V_ask_{}'.format(i),\n",
    "                         (temp['V_ask_{}'.format(i)].iloc[-1]-temp['V_ask_{}'.format(i)].iloc[0])/dt_secs)\n",
    "            df.set_value(index,'der_V_bid_{}'.format(i),\n",
    "                         (temp['V_bid_{}'.format(i)].iloc[-1]-temp['V_bid_{}'.format(i)].iloc[0])/dt_secs)\n",
    "            # compute average intensity of each type (v7)\n",
    "            df.set_value(index,'lam_la',int(len(temp_la.index)/dt_secs))\n",
    "            df.set_value(index,'lam_lb',int(len(temp_lb.index)/dt_secs))\n",
    "            df.set_value(index,'lam_ca',int(len(temp_ca.index)/dt_secs))\n",
    "            df.set_value(index,'lam_cb',int(len(temp_cb.index)/dt_secs))\n",
    "            # compute relative intensity indicators (v8) ???\n",
    "            # compute accelerations (market/limit)  (v9) ???\n",
    "    print(\"Completed. It takes about {0:.2f} minutes.\".format((time.time()-t)/60))\n",
    "    return df"
   ]
  },
  {
   "cell_type": "code",
   "execution_count": 4,
   "metadata": {
    "collapsed": true
   },
   "outputs": [],
   "source": [
    "# Function of Adding the labels (lb, la, mb, ma) to classify all of the order\n",
    "def AddLabels(df_original):\n",
    "    df = df_original.copy(deep=False)\n",
    "    t = time.time()\n",
    "    labels = []\n",
    "    for index, row in df.iterrows():\n",
    "        if (row['Type']==1):\n",
    "            if (row['Dir']==-1):\n",
    "                labels.append('la')\n",
    "            elif (row['Dir']==1):\n",
    "                labels.append('lb')\n",
    "        elif (row['Type'] in [4,5]):  # -1: sell limit order; 1: buy limit order; \n",
    "            if (row['Dir']==-1):      # But execution of buy/sell is initiated by a market sell/buy trade                    \n",
    "                labels.append('mb')\n",
    "            elif (row['Dir']==1):\n",
    "                labels.append('ma')\n",
    "        elif (row['Type']==2):\n",
    "            labels.append('pc')\n",
    "        elif (row['Type']==3):\n",
    "            labels.append('c')\n",
    "        else:\n",
    "            labels.append(None)\n",
    "            print('error! index {} has unknown order type.'.format(index))\n",
    "    ## \n",
    "    df['Label'] = labels\n",
    "    print(\"Completed. It takes about {0:.2f} minutes.\".format((time.time()-t)/60))\n",
    "    return df"
   ]
  },
  {
   "cell_type": "code",
   "execution_count": 5,
   "metadata": {
    "collapsed": true
   },
   "outputs": [],
   "source": [
    "# Function of Classifying the level where action takes\n",
    "def AddPriceLevels(df_original):\n",
    "    df = df_original.copy(deep=False)  \n",
    "    t = time.time()\n",
    "    if ('Label' not in df.columns):\n",
    "        print(\"You haven't appended labels to messages.\")\n",
    "        return\n",
    "    nlevels = 5\n",
    "    levels = [None]\n",
    "    for index, row in df.iterrows():   # 1: buy   -1: sell\n",
    "        if (index > 0):\n",
    "            bid_levels = np.array(df.iloc[index-1][[\"P_bid_{}\".format(i) for i in range(1,nlevels+1)]])\n",
    "            ask_levels = np.array(df.iloc[index-1][[\"P_ask_{}\".format(i) for i in range(1,nlevels+1)]])\n",
    "            price = row['P']\n",
    "            # for label 'la', 'lb'\n",
    "            if (row[\"Label\"] in ['la','lb']):\n",
    "                if (row['Dir']==-1):\n",
    "                    if (price > max(ask_levels)):\n",
    "                        i = \"out-of-bounds\"\n",
    "                    else:\n",
    "                        i = np.argmax(price<=ask_levels)\n",
    "                    levels.append(int(i+1))\n",
    "                elif (row['Dir']==1):\n",
    "                    if (price < min(bid_levels)):\n",
    "                        i = \"out-of_bounds\"\n",
    "                    else:\n",
    "                        i = np.argmax(price>=bid_levels)\n",
    "                    levels.append(int(i+1))\n",
    "            # for 'c', 'pc'\n",
    "            elif (row[\"Label\"] in ['c','pc']):\n",
    "                if (row['Dir']==-1):\n",
    "                    i = np.where(price==ask_levels)[0]\n",
    "                    levels.append(int(i+1))\n",
    "                elif (row['Dir']==1):\n",
    "                    i = np.where(price==bid_levels)[0]\n",
    "                    levels.append(int(i+1))\n",
    "            # for 'mb', 'ma', always happen at the best level\n",
    "            elif (row[\"Label\"] in ['mb','ma']):\n",
    "                levels.append(int(1))\n",
    "            else:\n",
    "                levels.append(None)     \n",
    "    if (len(df.index)!=len(levels)):\n",
    "        print('Error. Lengths don\\'t match.')\n",
    "        return\n",
    "    df['Level'] = levels\n",
    "    print(\"Completed. It takes about {0:.2f} minutes.\".format((time.time()-t)/60))\n",
    "    return df"
   ]
  },
  {
   "cell_type": "code",
   "execution_count": 6,
   "metadata": {
    "collapsed": true
   },
   "outputs": [],
   "source": [
    "# Function of getting history for all orders\n",
    "def GetOrderHistory(df_original):\n",
    "    df = df_original.copy(deep=False) \n",
    "    t = time.time()\n",
    "    table = {}\n",
    "    for index, row in df.iterrows():\n",
    "        if (row['OrderID']!=0):   # don't need records where orderID==0; remove 'Type' and 'Dir' is okay?\n",
    "            d = {row['Time_stamp']: [row['Type'],row['Dir'],row['V'],row['P'],row['Label'],row['Level']]}\n",
    "            if (row['OrderID'] not in table.keys()):\n",
    "                li = []\n",
    "                li.append(d)\n",
    "                table[row['OrderID']] = li\n",
    "            else:\n",
    "                table[row['OrderID']].append(d)\n",
    "    print(\"Completed. It takes about {0:.2f} minutes.\".format((time.time()-t)/60))        \n",
    "    return table"
   ]
  },
  {
   "cell_type": "code",
   "execution_count": 7,
   "metadata": {
    "collapsed": true
   },
   "outputs": [],
   "source": [
    "def ReturnTwoStates_orders(df_original,type_list,orderhistory):\n",
    "    df = df_original.copy(deep=False)\n",
    "    t = time.time()\n",
    "    TwoStates = {}\n",
    "    # only want records that are of those types, and OrderID != 0\n",
    "    df = df.loc[df['Type'].isin(type_list)]\n",
    "    Ids = set(df['OrderID'].tolist())\n",
    "    Ids.discard(0)\n",
    "    # look through all order ids in the dictionary\n",
    "    for k, v in orderhistory.items():\n",
    "        if k in Ids:\n",
    "            temp_v = orderhistory[k]\n",
    "            # avoid cases where there is only one event happened to a single order\n",
    "            if (len(temp_v)>=2):\n",
    "                # get first event and the very last event\n",
    "                st_ed = temp_v[::len(temp_v)-1]\n",
    "                TwoStates[k] = st_ed\n",
    "    print(\"Completed. It takes about {0:.2f} minutes.\".format((time.time()-t)/60))  \n",
    "    return TwoStates"
   ]
  },
  {
   "cell_type": "code",
   "execution_count": 8,
   "metadata": {
    "collapsed": true
   },
   "outputs": [],
   "source": [
    "def HistoryToDF(history):\n",
    "    t = time.time()\n",
    "    df = pd.DataFrame(columns=['OrderID','Time_st','V_st','P_st','Label_st','Level_st',\\\n",
    "                                         'Time_ed','V_ed','P_ed','Label_ed','Level_ed'])\n",
    "    orders, time_st,v_st,p_st,label_st,level_st,time_ed,v_ed,p_ed,label_ed,level_ed = [],[],[],[],[],[],[],[],[],[],[]\n",
    "    # traverse through every single orderID\n",
    "    for k, v in history.items():\n",
    "        orders.append(k)\n",
    "        # start stage\n",
    "        time_st.append(list(v[0].keys())[0]) # #type_st.append(list(v[0].values())[0][0]), dir_st.append(list(v[0].values())[0][1])\n",
    "        v_st.append(list(v[0].values())[0][2])\n",
    "        p_st.append(list(v[0].values())[0][3])\n",
    "        label_st.append(list(v[0].values())[0][4])\n",
    "        level_st.append(list(v[0].values())[0][5])\n",
    "        # end stage\n",
    "        time_ed.append(list(v[-1].keys())[0]) # type_ed.append(list(v[-1].values())[0][0]),dir_ed.append(list(v[-1].values())[0][1])\n",
    "        v_ed.append(list(v[-1].values())[0][2])\n",
    "        p_ed.append(list(v[-1].values())[0][3])\n",
    "        label_ed.append(list(v[-1].values())[0][4])\n",
    "        level_ed.append(list(v[-1].values())[0][5])\n",
    "    # append them to our dataframe\n",
    "    df['OrderID'] = orders \n",
    "    df['Time_st'] = time_st\n",
    "    df['V_st'] = v_st\n",
    "    df['P_st'] = p_st\n",
    "    df['Label_st'] = label_st\n",
    "    df['Level_st'] = level_st\n",
    "    df['Time_ed'] = time_ed\n",
    "    df['V_ed'] = v_ed\n",
    "    df['P_ed'] = p_ed\n",
    "    df['Label_ed'] = label_ed\n",
    "    df['Level_ed'] = level_ed\n",
    "#   Note: other methods: easier to read, but takes longer time\n",
    "#         l = [k]\n",
    "#         l.append(list(v[0].keys())[0]) \n",
    "#         l.extend(list(v[0].values())[0])\n",
    "#         l.append(list(v[-1].keys())[0])\n",
    "#         l.extend(list(v[-1].values())[0])\n",
    "#         df.loc[index] = l\n",
    "#         index += 1\n",
    "    print(\"Completed. It takes about {0:.2f} minutes.\".format((time.time()-t)/60)) \n",
    "    return df"
   ]
  },
  {
   "cell_type": "markdown",
   "metadata": {},
   "source": [
    "### Processing starts from here"
   ]
  },
  {
   "cell_type": "markdown",
   "metadata": {},
   "source": [
    "#### 1) MERGING MESSAGE FILE AND ORDERBOOK FILE"
   ]
  },
  {
   "cell_type": "code",
   "execution_count": 9,
   "metadata": {},
   "outputs": [
    {
     "name": "stdout",
     "output_type": "stream",
     "text": [
      "Completed. It takes about 0.04 minutes.\n"
     ]
    }
   ],
   "source": [
    "df = Merge_MsgAndOrdb(msg_path='AMZN_2012-06-21_34200000_57600000_message_5.csv',\n",
    "                     ordb_path='AMZN_2012-06-21_34200000_57600000_orderbook_5.csv')\n",
    "#df.head(5)"
   ]
  },
  {
   "cell_type": "markdown",
   "metadata": {},
   "source": [
    "#### 2) ADDING LABELS"
   ]
  },
  {
   "cell_type": "code",
   "execution_count": 10,
   "metadata": {},
   "outputs": [
    {
     "name": "stdout",
     "output_type": "stream",
     "text": [
      "Completed. It takes about 0.31 minutes.\n"
     ]
    }
   ],
   "source": [
    "df = AddLabels(df)"
   ]
  },
  {
   "cell_type": "code",
   "execution_count": 11,
   "metadata": {
    "collapsed": true
   },
   "outputs": [],
   "source": [
    "#df.columns"
   ]
  },
  {
   "cell_type": "markdown",
   "metadata": {},
   "source": [
    "#### 3) ADDING PRICE LEVEL INFORMATION"
   ]
  },
  {
   "cell_type": "code",
   "execution_count": 12,
   "metadata": {},
   "outputs": [
    {
     "name": "stdout",
     "output_type": "stream",
     "text": [
      "Completed. It takes about 6.08 minutes.\n"
     ]
    }
   ],
   "source": [
    "df = AddPriceLevels(df)"
   ]
  },
  {
   "cell_type": "code",
   "execution_count": 13,
   "metadata": {},
   "outputs": [
    {
     "name": "stdout",
     "output_type": "stream",
     "text": [
      "after adding labels and price levels, dataset looks like: \n"
     ]
    },
    {
     "data": {
      "text/html": [
       "<div>\n",
       "<style scoped>\n",
       "    .dataframe tbody tr th:only-of-type {\n",
       "        vertical-align: middle;\n",
       "    }\n",
       "\n",
       "    .dataframe tbody tr th {\n",
       "        vertical-align: top;\n",
       "    }\n",
       "\n",
       "    .dataframe thead th {\n",
       "        text-align: right;\n",
       "    }\n",
       "</style>\n",
       "<table border=\"1\" class=\"dataframe\">\n",
       "  <thead>\n",
       "    <tr style=\"text-align: right;\">\n",
       "      <th></th>\n",
       "      <th>Time_stamp</th>\n",
       "      <th>Type</th>\n",
       "      <th>OrderID</th>\n",
       "      <th>V</th>\n",
       "      <th>P</th>\n",
       "      <th>Dir</th>\n",
       "      <th>Time</th>\n",
       "      <th>P_ask_1</th>\n",
       "      <th>V_ask_1</th>\n",
       "      <th>P_bid_1</th>\n",
       "      <th>...</th>\n",
       "      <th>P_ask_4</th>\n",
       "      <th>V_ask_4</th>\n",
       "      <th>P_bid_4</th>\n",
       "      <th>V_bid_4</th>\n",
       "      <th>P_ask_5</th>\n",
       "      <th>V_ask_5</th>\n",
       "      <th>P_bid_5</th>\n",
       "      <th>V_bid_5</th>\n",
       "      <th>Label</th>\n",
       "      <th>Level</th>\n",
       "    </tr>\n",
       "  </thead>\n",
       "  <tbody>\n",
       "    <tr>\n",
       "      <th>0</th>\n",
       "      <td>34200.017460</td>\n",
       "      <td>5</td>\n",
       "      <td>0</td>\n",
       "      <td>1</td>\n",
       "      <td>2238200</td>\n",
       "      <td>-1</td>\n",
       "      <td>2012-06-21 09:30:00.017460</td>\n",
       "      <td>2239500</td>\n",
       "      <td>100</td>\n",
       "      <td>2231800</td>\n",
       "      <td>...</td>\n",
       "      <td>2242500</td>\n",
       "      <td>100</td>\n",
       "      <td>2230000</td>\n",
       "      <td>10</td>\n",
       "      <td>2244000</td>\n",
       "      <td>547</td>\n",
       "      <td>2226200</td>\n",
       "      <td>100</td>\n",
       "      <td>mb</td>\n",
       "      <td>NaN</td>\n",
       "    </tr>\n",
       "    <tr>\n",
       "      <th>1</th>\n",
       "      <td>34200.189608</td>\n",
       "      <td>1</td>\n",
       "      <td>11885113</td>\n",
       "      <td>21</td>\n",
       "      <td>2238100</td>\n",
       "      <td>1</td>\n",
       "      <td>2012-06-21 09:30:00.189608</td>\n",
       "      <td>2239500</td>\n",
       "      <td>100</td>\n",
       "      <td>2238100</td>\n",
       "      <td>...</td>\n",
       "      <td>2242500</td>\n",
       "      <td>100</td>\n",
       "      <td>2230400</td>\n",
       "      <td>100</td>\n",
       "      <td>2244000</td>\n",
       "      <td>547</td>\n",
       "      <td>2230000</td>\n",
       "      <td>10</td>\n",
       "      <td>lb</td>\n",
       "      <td>1.0</td>\n",
       "    </tr>\n",
       "    <tr>\n",
       "      <th>2</th>\n",
       "      <td>34200.189608</td>\n",
       "      <td>1</td>\n",
       "      <td>3911376</td>\n",
       "      <td>20</td>\n",
       "      <td>2239600</td>\n",
       "      <td>-1</td>\n",
       "      <td>2012-06-21 09:30:00.189608</td>\n",
       "      <td>2239500</td>\n",
       "      <td>100</td>\n",
       "      <td>2238100</td>\n",
       "      <td>...</td>\n",
       "      <td>2240000</td>\n",
       "      <td>220</td>\n",
       "      <td>2230400</td>\n",
       "      <td>100</td>\n",
       "      <td>2242500</td>\n",
       "      <td>100</td>\n",
       "      <td>2230000</td>\n",
       "      <td>10</td>\n",
       "      <td>la</td>\n",
       "      <td>2.0</td>\n",
       "    </tr>\n",
       "  </tbody>\n",
       "</table>\n",
       "<p>3 rows × 29 columns</p>\n",
       "</div>"
      ],
      "text/plain": [
       "     Time_stamp  Type   OrderID   V        P  Dir                       Time  \\\n",
       "0  34200.017460     5         0   1  2238200   -1 2012-06-21 09:30:00.017460   \n",
       "1  34200.189608     1  11885113  21  2238100    1 2012-06-21 09:30:00.189608   \n",
       "2  34200.189608     1   3911376  20  2239600   -1 2012-06-21 09:30:00.189608   \n",
       "\n",
       "   P_ask_1  V_ask_1  P_bid_1  ...    P_ask_4  V_ask_4  P_bid_4  V_bid_4  \\\n",
       "0  2239500      100  2231800  ...    2242500      100  2230000       10   \n",
       "1  2239500      100  2238100  ...    2242500      100  2230400      100   \n",
       "2  2239500      100  2238100  ...    2240000      220  2230400      100   \n",
       "\n",
       "   P_ask_5  V_ask_5  P_bid_5  V_bid_5  Label  Level  \n",
       "0  2244000      547  2226200      100     mb    NaN  \n",
       "1  2244000      547  2230000       10     lb    1.0  \n",
       "2  2242500      100  2230000       10     la    2.0  \n",
       "\n",
       "[3 rows x 29 columns]"
      ]
     },
     "execution_count": 13,
     "metadata": {},
     "output_type": "execute_result"
    }
   ],
   "source": [
    "print('after adding labels and price levels, dataset looks like: ')\n",
    "df.head(3)"
   ]
  },
  {
   "cell_type": "markdown",
   "metadata": {},
   "source": [
    "#### 4) ADD VOLATILITY AND NUMBER OF LIMIT ORDERS SUBMITTED"
   ]
  },
  {
   "cell_type": "code",
   "execution_count": 23,
   "metadata": {
    "collapsed": true
   },
   "outputs": [],
   "source": [
    "def AddVolatilityAndNOB(df_original,dt_mins):\n",
    "    df = df_original.copy(deep=False)\n",
    "    t2 = time.time()\n",
    "    dt = dt_mins * 60 # convert minutes to seconds\n",
    "    norders, volts = [],[]\n",
    "    for index, row in df.iterrows():\n",
    "        t = row['Time_stamp']\n",
    "        subset = df[(df['Time_stamp']>t-dt)&(df['Time_stamp']<=t)]\n",
    "        # computing...\n",
    "        norder = len(subset[(subset['Type']==1)].index) # type 1: limit order submitted\n",
    "        volt = np.std(subset[(subset['Type']==4)|(subset['Type']==5)]['P']) # type 4 and 5: execution\n",
    "        # appending\n",
    "        norders.append(norder)\n",
    "        volts.append(volt)\n",
    "        \n",
    "        if (len(volts)% 12000 == 0):\n",
    "            print(\"{0:.2f}%..\".format(len(volts)*100/len(df.index)))\n",
    "    df['Volts'] = volts\n",
    "    df['N_OrderSubmit'] = norders\n",
    "    print(\"Completed. It takes about {0:.2f} minutes.\".format((time.time()-t2)/60))\n",
    "    return df"
   ]
  },
  {
   "cell_type": "code",
   "execution_count": 24,
   "metadata": {},
   "outputs": [],
   "source": [
    "#volts, norders = AddVolatilityAndNOB(df_original=df,dt_mins=10)"
   ]
  },
  {
   "cell_type": "code",
   "execution_count": 25,
   "metadata": {},
   "outputs": [
    {
     "name": "stdout",
     "output_type": "stream",
     "text": [
      "7.70%..\n",
      "15.39%..\n",
      "23.09%..\n",
      "30.78%..\n",
      "38.48%..\n",
      "46.17%..\n",
      "53.87%..\n",
      "61.56%..\n",
      "69.26%..\n",
      "76.96%..\n",
      "84.65%..\n",
      "92.35%..\n",
      "Completed. It takes about 16.94 minutes.\n"
     ]
    }
   ],
   "source": [
    "df = AddVolatilityAndNOB(df_original=df,dt_mins=10)"
   ]
  },
  {
   "cell_type": "code",
   "execution_count": 34,
   "metadata": {},
   "outputs": [
    {
     "name": "stdout",
     "output_type": "stream",
     "text": [
      "after adding volatility and # of orders submitted: \n"
     ]
    },
    {
     "data": {
      "text/html": [
       "<div>\n",
       "<style scoped>\n",
       "    .dataframe tbody tr th:only-of-type {\n",
       "        vertical-align: middle;\n",
       "    }\n",
       "\n",
       "    .dataframe tbody tr th {\n",
       "        vertical-align: top;\n",
       "    }\n",
       "\n",
       "    .dataframe thead th {\n",
       "        text-align: right;\n",
       "    }\n",
       "</style>\n",
       "<table border=\"1\" class=\"dataframe\">\n",
       "  <thead>\n",
       "    <tr style=\"text-align: right;\">\n",
       "      <th></th>\n",
       "      <th>Time_stamp</th>\n",
       "      <th>Type</th>\n",
       "      <th>OrderID</th>\n",
       "      <th>V</th>\n",
       "      <th>P</th>\n",
       "      <th>Dir</th>\n",
       "      <th>Time</th>\n",
       "      <th>P_ask_1</th>\n",
       "      <th>V_ask_1</th>\n",
       "      <th>P_bid_1</th>\n",
       "      <th>...</th>\n",
       "      <th>P_accu</th>\n",
       "      <th>V_accu</th>\n",
       "      <th>bid-ask spread 2</th>\n",
       "      <th>mid-price 2</th>\n",
       "      <th>bid-ask spread 3</th>\n",
       "      <th>mid-price 3</th>\n",
       "      <th>bid-ask spread 4</th>\n",
       "      <th>mid-price 4</th>\n",
       "      <th>bid-ask spread 5</th>\n",
       "      <th>mid-price 5</th>\n",
       "    </tr>\n",
       "  </thead>\n",
       "  <tbody>\n",
       "    <tr>\n",
       "      <th>0</th>\n",
       "      <td>34200.017460</td>\n",
       "      <td>5</td>\n",
       "      <td>0</td>\n",
       "      <td>1</td>\n",
       "      <td>2238200</td>\n",
       "      <td>-1</td>\n",
       "      <td>2012-06-21 09:30:00.017460</td>\n",
       "      <td>2239500</td>\n",
       "      <td>100</td>\n",
       "      <td>2231800</td>\n",
       "      <td>...</td>\n",
       "      <td>56800</td>\n",
       "      <td>557</td>\n",
       "      <td>9200</td>\n",
       "      <td>2235300.0</td>\n",
       "      <td>9600</td>\n",
       "      <td>2235200.0</td>\n",
       "      <td>12500</td>\n",
       "      <td>2236250.0</td>\n",
       "      <td>17800</td>\n",
       "      <td>2235100.0</td>\n",
       "    </tr>\n",
       "    <tr>\n",
       "      <th>1</th>\n",
       "      <td>34200.189608</td>\n",
       "      <td>1</td>\n",
       "      <td>11885113</td>\n",
       "      <td>21</td>\n",
       "      <td>2238100</td>\n",
       "      <td>1</td>\n",
       "      <td>2012-06-21 09:30:00.189608</td>\n",
       "      <td>2239500</td>\n",
       "      <td>100</td>\n",
       "      <td>2238100</td>\n",
       "      <td>...</td>\n",
       "      <td>44900</td>\n",
       "      <td>636</td>\n",
       "      <td>8100</td>\n",
       "      <td>2235850.0</td>\n",
       "      <td>9300</td>\n",
       "      <td>2235350.0</td>\n",
       "      <td>12100</td>\n",
       "      <td>2236450.0</td>\n",
       "      <td>14000</td>\n",
       "      <td>2237000.0</td>\n",
       "    </tr>\n",
       "    <tr>\n",
       "      <th>2</th>\n",
       "      <td>34200.189608</td>\n",
       "      <td>1</td>\n",
       "      <td>3911376</td>\n",
       "      <td>20</td>\n",
       "      <td>2239600</td>\n",
       "      <td>-1</td>\n",
       "      <td>2012-06-21 09:30:00.189608</td>\n",
       "      <td>2239500</td>\n",
       "      <td>100</td>\n",
       "      <td>2238100</td>\n",
       "      <td>...</td>\n",
       "      <td>40500</td>\n",
       "      <td>109</td>\n",
       "      <td>7800</td>\n",
       "      <td>2235700.0</td>\n",
       "      <td>9200</td>\n",
       "      <td>2235300.0</td>\n",
       "      <td>9600</td>\n",
       "      <td>2235200.0</td>\n",
       "      <td>12500</td>\n",
       "      <td>2236250.0</td>\n",
       "    </tr>\n",
       "    <tr>\n",
       "      <th>3</th>\n",
       "      <td>34200.189608</td>\n",
       "      <td>1</td>\n",
       "      <td>11534792</td>\n",
       "      <td>100</td>\n",
       "      <td>2237500</td>\n",
       "      <td>1</td>\n",
       "      <td>2012-06-21 09:30:00.189608</td>\n",
       "      <td>2239500</td>\n",
       "      <td>100</td>\n",
       "      <td>2238100</td>\n",
       "      <td>...</td>\n",
       "      <td>33000</td>\n",
       "      <td>19</td>\n",
       "      <td>2100</td>\n",
       "      <td>2238550.0</td>\n",
       "      <td>8100</td>\n",
       "      <td>2235850.0</td>\n",
       "      <td>9300</td>\n",
       "      <td>2235350.0</td>\n",
       "      <td>12100</td>\n",
       "      <td>2236450.0</td>\n",
       "    </tr>\n",
       "    <tr>\n",
       "      <th>4</th>\n",
       "      <td>34200.189608</td>\n",
       "      <td>1</td>\n",
       "      <td>1365373</td>\n",
       "      <td>13</td>\n",
       "      <td>2240000</td>\n",
       "      <td>-1</td>\n",
       "      <td>2012-06-21 09:30:00.189608</td>\n",
       "      <td>2239500</td>\n",
       "      <td>100</td>\n",
       "      <td>2238100</td>\n",
       "      <td>...</td>\n",
       "      <td>33000</td>\n",
       "      <td>32</td>\n",
       "      <td>2100</td>\n",
       "      <td>2238550.0</td>\n",
       "      <td>8100</td>\n",
       "      <td>2235850.0</td>\n",
       "      <td>9300</td>\n",
       "      <td>2235350.0</td>\n",
       "      <td>12100</td>\n",
       "      <td>2236450.0</td>\n",
       "    </tr>\n",
       "  </tbody>\n",
       "</table>\n",
       "<p>5 rows × 57 columns</p>\n",
       "</div>"
      ],
      "text/plain": [
       "     Time_stamp  Type   OrderID    V        P  Dir                       Time  \\\n",
       "0  34200.017460     5         0    1  2238200   -1 2012-06-21 09:30:00.017460   \n",
       "1  34200.189608     1  11885113   21  2238100    1 2012-06-21 09:30:00.189608   \n",
       "2  34200.189608     1   3911376   20  2239600   -1 2012-06-21 09:30:00.189608   \n",
       "3  34200.189608     1  11534792  100  2237500    1 2012-06-21 09:30:00.189608   \n",
       "4  34200.189608     1   1365373   13  2240000   -1 2012-06-21 09:30:00.189608   \n",
       "\n",
       "   P_ask_1  V_ask_1  P_bid_1     ...       P_accu  V_accu  bid-ask spread 2  \\\n",
       "0  2239500      100  2231800     ...        56800     557              9200   \n",
       "1  2239500      100  2238100     ...        44900     636              8100   \n",
       "2  2239500      100  2238100     ...        40500     109              7800   \n",
       "3  2239500      100  2238100     ...        33000      19              2100   \n",
       "4  2239500      100  2238100     ...        33000      32              2100   \n",
       "\n",
       "   mid-price 2  bid-ask spread 3  mid-price 3  bid-ask spread 4  mid-price 4  \\\n",
       "0    2235300.0              9600    2235200.0             12500    2236250.0   \n",
       "1    2235850.0              9300    2235350.0             12100    2236450.0   \n",
       "2    2235700.0              9200    2235300.0              9600    2235200.0   \n",
       "3    2238550.0              8100    2235850.0              9300    2235350.0   \n",
       "4    2238550.0              8100    2235850.0              9300    2235350.0   \n",
       "\n",
       "   bid-ask spread 5  mid-price 5  \n",
       "0             17800    2235100.0  \n",
       "1             14000    2237000.0  \n",
       "2             12500    2236250.0  \n",
       "3             12100    2236450.0  \n",
       "4             12100    2236450.0  \n",
       "\n",
       "[5 rows x 57 columns]"
      ]
     },
     "execution_count": 34,
     "metadata": {},
     "output_type": "execute_result"
    }
   ],
   "source": [
    "print('after adding volatility and # of orders submitted: ')\n",
    "df.head(3)"
   ]
  },
  {
   "cell_type": "markdown",
   "metadata": {},
   "source": [
    "#### 5) ADDING TIME-INSENSITIVE FEATURES"
   ]
  },
  {
   "cell_type": "code",
   "execution_count": 28,
   "metadata": {},
   "outputs": [
    {
     "name": "stdout",
     "output_type": "stream",
     "text": [
      "Completed. It takes about 0.02 minutes.\n"
     ]
    }
   ],
   "source": [
    "df = ComputeTimeInsenstiveSet(df)"
   ]
  },
  {
   "cell_type": "code",
   "execution_count": 30,
   "metadata": {},
   "outputs": [
    {
     "name": "stdout",
     "output_type": "stream",
     "text": [
      "after appending time-insensitive information:\n"
     ]
    },
    {
     "data": {
      "text/html": [
       "<div>\n",
       "<style scoped>\n",
       "    .dataframe tbody tr th:only-of-type {\n",
       "        vertical-align: middle;\n",
       "    }\n",
       "\n",
       "    .dataframe tbody tr th {\n",
       "        vertical-align: top;\n",
       "    }\n",
       "\n",
       "    .dataframe thead th {\n",
       "        text-align: right;\n",
       "    }\n",
       "</style>\n",
       "<table border=\"1\" class=\"dataframe\">\n",
       "  <thead>\n",
       "    <tr style=\"text-align: right;\">\n",
       "      <th></th>\n",
       "      <th>Time_stamp</th>\n",
       "      <th>Type</th>\n",
       "      <th>OrderID</th>\n",
       "      <th>V</th>\n",
       "      <th>P</th>\n",
       "      <th>Dir</th>\n",
       "      <th>Time</th>\n",
       "      <th>P_ask_1</th>\n",
       "      <th>V_ask_1</th>\n",
       "      <th>P_bid_1</th>\n",
       "      <th>...</th>\n",
       "      <th>P_accu</th>\n",
       "      <th>V_accu</th>\n",
       "      <th>bid-ask spread 2</th>\n",
       "      <th>mid-price 2</th>\n",
       "      <th>bid-ask spread 3</th>\n",
       "      <th>mid-price 3</th>\n",
       "      <th>bid-ask spread 4</th>\n",
       "      <th>mid-price 4</th>\n",
       "      <th>bid-ask spread 5</th>\n",
       "      <th>mid-price 5</th>\n",
       "    </tr>\n",
       "  </thead>\n",
       "  <tbody>\n",
       "    <tr>\n",
       "      <th>0</th>\n",
       "      <td>34200.017460</td>\n",
       "      <td>5</td>\n",
       "      <td>0</td>\n",
       "      <td>1</td>\n",
       "      <td>2238200</td>\n",
       "      <td>-1</td>\n",
       "      <td>2012-06-21 09:30:00.017460</td>\n",
       "      <td>2239500</td>\n",
       "      <td>100</td>\n",
       "      <td>2231800</td>\n",
       "      <td>...</td>\n",
       "      <td>56800</td>\n",
       "      <td>557</td>\n",
       "      <td>9200</td>\n",
       "      <td>2235300.0</td>\n",
       "      <td>9600</td>\n",
       "      <td>2235200.0</td>\n",
       "      <td>12500</td>\n",
       "      <td>2236250.0</td>\n",
       "      <td>17800</td>\n",
       "      <td>2235100.0</td>\n",
       "    </tr>\n",
       "    <tr>\n",
       "      <th>1</th>\n",
       "      <td>34200.189608</td>\n",
       "      <td>1</td>\n",
       "      <td>11885113</td>\n",
       "      <td>21</td>\n",
       "      <td>2238100</td>\n",
       "      <td>1</td>\n",
       "      <td>2012-06-21 09:30:00.189608</td>\n",
       "      <td>2239500</td>\n",
       "      <td>100</td>\n",
       "      <td>2238100</td>\n",
       "      <td>...</td>\n",
       "      <td>44900</td>\n",
       "      <td>636</td>\n",
       "      <td>8100</td>\n",
       "      <td>2235850.0</td>\n",
       "      <td>9300</td>\n",
       "      <td>2235350.0</td>\n",
       "      <td>12100</td>\n",
       "      <td>2236450.0</td>\n",
       "      <td>14000</td>\n",
       "      <td>2237000.0</td>\n",
       "    </tr>\n",
       "    <tr>\n",
       "      <th>2</th>\n",
       "      <td>34200.189608</td>\n",
       "      <td>1</td>\n",
       "      <td>3911376</td>\n",
       "      <td>20</td>\n",
       "      <td>2239600</td>\n",
       "      <td>-1</td>\n",
       "      <td>2012-06-21 09:30:00.189608</td>\n",
       "      <td>2239500</td>\n",
       "      <td>100</td>\n",
       "      <td>2238100</td>\n",
       "      <td>...</td>\n",
       "      <td>40500</td>\n",
       "      <td>109</td>\n",
       "      <td>7800</td>\n",
       "      <td>2235700.0</td>\n",
       "      <td>9200</td>\n",
       "      <td>2235300.0</td>\n",
       "      <td>9600</td>\n",
       "      <td>2235200.0</td>\n",
       "      <td>12500</td>\n",
       "      <td>2236250.0</td>\n",
       "    </tr>\n",
       "  </tbody>\n",
       "</table>\n",
       "<p>3 rows × 57 columns</p>\n",
       "</div>"
      ],
      "text/plain": [
       "     Time_stamp  Type   OrderID   V        P  Dir                       Time  \\\n",
       "0  34200.017460     5         0   1  2238200   -1 2012-06-21 09:30:00.017460   \n",
       "1  34200.189608     1  11885113  21  2238100    1 2012-06-21 09:30:00.189608   \n",
       "2  34200.189608     1   3911376  20  2239600   -1 2012-06-21 09:30:00.189608   \n",
       "\n",
       "   P_ask_1  V_ask_1  P_bid_1     ...       P_accu  V_accu  bid-ask spread 2  \\\n",
       "0  2239500      100  2231800     ...        56800     557              9200   \n",
       "1  2239500      100  2238100     ...        44900     636              8100   \n",
       "2  2239500      100  2238100     ...        40500     109              7800   \n",
       "\n",
       "   mid-price 2  bid-ask spread 3  mid-price 3  bid-ask spread 4  mid-price 4  \\\n",
       "0    2235300.0              9600    2235200.0             12500    2236250.0   \n",
       "1    2235850.0              9300    2235350.0             12100    2236450.0   \n",
       "2    2235700.0              9200    2235300.0              9600    2235200.0   \n",
       "\n",
       "   bid-ask spread 5  mid-price 5  \n",
       "0             17800    2235100.0  \n",
       "1             14000    2237000.0  \n",
       "2             12500    2236250.0  \n",
       "\n",
       "[3 rows x 57 columns]"
      ]
     },
     "execution_count": 30,
     "metadata": {},
     "output_type": "execute_result"
    }
   ],
   "source": [
    "print('after appending time-insensitive information:')\n",
    "df.head(3)"
   ]
  },
  {
   "cell_type": "code",
   "execution_count": 31,
   "metadata": {},
   "outputs": [
    {
     "data": {
      "text/plain": [
       "Index(['Time_stamp', 'Type', 'OrderID', 'V', 'P', 'Dir', 'Time', 'P_ask_1',\n",
       "       'V_ask_1', 'P_bid_1', 'V_bid_1', 'P_ask_2', 'V_ask_2', 'P_bid_2',\n",
       "       'V_bid_2', 'P_ask_3', 'V_ask_3', 'P_bid_3', 'V_bid_3', 'P_ask_4',\n",
       "       'V_ask_4', 'P_bid_4', 'V_bid_4', 'P_ask_5', 'V_ask_5', 'P_bid_5',\n",
       "       'V_bid_5', 'Label', 'Level', 'Volts', 'N_OrderSubmit',\n",
       "       'bid-ask spread 1', 'mid-price 1', 'd_P_ask_51', 'd_P_bid_51',\n",
       "       'd_P_ask_21', 'd_P_bid_21', 'd_P_ask_32', 'd_P_bid_32', 'd_P_ask_43',\n",
       "       'd_P_bid_43', 'd_P_ask_54', 'd_P_bid_54', 'Mean_P_ask', 'Mean_P_bid',\n",
       "       'Mean_V_ask', 'Mean_V_bid', 'P_accu', 'V_accu', 'bid-ask spread 2',\n",
       "       'mid-price 2', 'bid-ask spread 3', 'mid-price 3', 'bid-ask spread 4',\n",
       "       'mid-price 4', 'bid-ask spread 5', 'mid-price 5'],\n",
       "      dtype='object')"
      ]
     },
     "execution_count": 31,
     "metadata": {},
     "output_type": "execute_result"
    }
   ],
   "source": [
    "df.columns"
   ]
  },
  {
   "cell_type": "markdown",
   "metadata": {},
   "source": [
    "####  6) OUTPUT IT TO A CSV"
   ]
  },
  {
   "cell_type": "code",
   "execution_count": 41,
   "metadata": {
    "collapsed": true
   },
   "outputs": [],
   "source": [
    "df.to_csv(\"MsgAndOrders_withNewColumns.csv\")"
   ]
  },
  {
   "cell_type": "code",
   "execution_count": null,
   "metadata": {
    "collapsed": true
   },
   "outputs": [],
   "source": []
  },
  {
   "cell_type": "code",
   "execution_count": null,
   "metadata": {
    "collapsed": true
   },
   "outputs": [],
   "source": []
  },
  {
   "cell_type": "code",
   "execution_count": null,
   "metadata": {
    "collapsed": true
   },
   "outputs": [],
   "source": []
  },
  {
   "cell_type": "markdown",
   "metadata": {},
   "source": [
    "#### 4) GROUPING ALL MESSAGES BY ORDER IDS"
   ]
  },
  {
   "cell_type": "code",
   "execution_count": 99,
   "metadata": {},
   "outputs": [
    {
     "name": "stdout",
     "output_type": "stream",
     "text": [
      "running...\n",
      "Completed. It takes about 0.28 minutes.\n"
     ]
    }
   ],
   "source": [
    "OrderHistory = GetOrderHistory(df)"
   ]
  },
  {
   "cell_type": "code",
   "execution_count": 246,
   "metadata": {},
   "outputs": [
    {
     "name": "stdout",
     "output_type": "stream",
     "text": [
      "total number of orders is 85402\n",
      "orders with 2 events is about 74.60%.\n"
     ]
    }
   ],
   "source": [
    "his_list = []\n",
    "ct_items = 0\n",
    "for k,v in OrderHistory.items():\n",
    "    ct_items += 1\n",
    "    his_list.append(len(v))\n",
    "\n",
    "print(\"total number of orders is\",int(ct_items))    \n",
    "print(\"orders with 2 events is about {0:.2f}%.\".format(63712*100/85402))"
   ]
  },
  {
   "cell_type": "code",
   "execution_count": 243,
   "metadata": {},
   "outputs": [
    {
     "data": {
      "text/plain": [
       "Counter({1: 19853,\n",
       "         2: 63712,\n",
       "         3: 1477,\n",
       "         4: 214,\n",
       "         5: 83,\n",
       "         6: 26,\n",
       "         7: 13,\n",
       "         8: 6,\n",
       "         9: 4,\n",
       "         10: 3,\n",
       "         11: 4,\n",
       "         13: 1,\n",
       "         14: 1,\n",
       "         15: 3,\n",
       "         16: 1,\n",
       "         18: 1})"
      ]
     },
     "execution_count": 243,
     "metadata": {},
     "output_type": "execute_result"
    }
   ],
   "source": [
    "counts_allHistories = Counter(his_list)\n",
    "counts_allHistories"
   ]
  },
  {
   "cell_type": "code",
   "execution_count": 238,
   "metadata": {},
   "outputs": [
    {
     "name": "stdout",
     "output_type": "stream",
     "text": [
      "average number of event for an ordedr is 1.797\n"
     ]
    }
   ],
   "source": [
    "ct = 0\n",
    "for k, v in OrderHistory.items():\n",
    "    ct += len(v)\n",
    "print('average number of event for an order is {0:.3f}'.format(ct/len(OrderHistory.keys())))"
   ]
  },
  {
   "cell_type": "markdown",
   "metadata": {
    "collapsed": true
   },
   "source": [
    "#### 5) GETTING START AND END STATES FOR SELECTED ORDER TYPES, STORE IN DICTIONARIES"
   ]
  },
  {
   "cell_type": "code",
   "execution_count": 184,
   "metadata": {},
   "outputs": [
    {
     "name": "stdout",
     "output_type": "stream",
     "text": [
      "running...\n",
      "Completed. It takes about 0.00 minutes.\n"
     ]
    }
   ],
   "source": [
    "OE_history = ReturnTwoStates_orders(df_original=df,type_list=[4,5],orderhistory=OrderHistory)"
   ]
  },
  {
   "cell_type": "code",
   "execution_count": 185,
   "metadata": {},
   "outputs": [
    {
     "name": "stdout",
     "output_type": "stream",
     "text": [
      "running...\n",
      "Completed. It takes about 0.01 minutes.\n"
     ]
    }
   ],
   "source": [
    "OC_history = ReturnTwoStates_orders(df_original=df,type_list=[2,3],orderhistory=OrderHistory)"
   ]
  },
  {
   "cell_type": "code",
   "execution_count": 187,
   "metadata": {
    "collapsed": true
   },
   "outputs": [],
   "source": [
    "#OC_history"
   ]
  },
  {
   "cell_type": "markdown",
   "metadata": {
    "collapsed": true
   },
   "source": [
    "#### 6) FORMAT ORDER HISTORIES INTO DATAFRAMES"
   ]
  },
  {
   "cell_type": "code",
   "execution_count": 221,
   "metadata": {},
   "outputs": [
    {
     "name": "stdout",
     "output_type": "stream",
     "text": [
      "running now....\n",
      "Completed. It takes about 0.01 minutes.\n"
     ]
    }
   ],
   "source": [
    "OC_df = HistoryToDF(OC_history)"
   ]
  },
  {
   "cell_type": "code",
   "execution_count": 222,
   "metadata": {},
   "outputs": [
    {
     "name": "stdout",
     "output_type": "stream",
     "text": [
      "running now....\n",
      "Completed. It takes about 0.00 minutes.\n"
     ]
    }
   ],
   "source": [
    "OE_df = HistoryToDF(OE_history)"
   ]
  },
  {
   "cell_type": "code",
   "execution_count": 241,
   "metadata": {},
   "outputs": [
    {
     "data": {
      "text/html": [
       "<div>\n",
       "<style scoped>\n",
       "    .dataframe tbody tr th:only-of-type {\n",
       "        vertical-align: middle;\n",
       "    }\n",
       "\n",
       "    .dataframe tbody tr th {\n",
       "        vertical-align: top;\n",
       "    }\n",
       "\n",
       "    .dataframe thead th {\n",
       "        text-align: right;\n",
       "    }\n",
       "</style>\n",
       "<table border=\"1\" class=\"dataframe\">\n",
       "  <thead>\n",
       "    <tr style=\"text-align: right;\">\n",
       "      <th></th>\n",
       "      <th>OrderID</th>\n",
       "      <th>Time_st</th>\n",
       "      <th>V_st</th>\n",
       "      <th>P_st</th>\n",
       "      <th>Label_st</th>\n",
       "      <th>Level_st</th>\n",
       "      <th>Time_ed</th>\n",
       "      <th>V_ed</th>\n",
       "      <th>P_ed</th>\n",
       "      <th>Label_ed</th>\n",
       "      <th>Level_ed</th>\n",
       "    </tr>\n",
       "  </thead>\n",
       "  <tbody>\n",
       "    <tr>\n",
       "      <th>0</th>\n",
       "      <td>11885113</td>\n",
       "      <td>34200.189608</td>\n",
       "      <td>21</td>\n",
       "      <td>2238100</td>\n",
       "      <td>lb</td>\n",
       "      <td>1.0</td>\n",
       "      <td>34200.190226</td>\n",
       "      <td>21</td>\n",
       "      <td>2238100</td>\n",
       "      <td>ma</td>\n",
       "      <td>1.0</td>\n",
       "    </tr>\n",
       "    <tr>\n",
       "      <th>1</th>\n",
       "      <td>3911376</td>\n",
       "      <td>34200.189608</td>\n",
       "      <td>20</td>\n",
       "      <td>2239600</td>\n",
       "      <td>la</td>\n",
       "      <td>2.0</td>\n",
       "      <td>34200.391413</td>\n",
       "      <td>20</td>\n",
       "      <td>2239600</td>\n",
       "      <td>mb</td>\n",
       "      <td>1.0</td>\n",
       "    </tr>\n",
       "    <tr>\n",
       "      <th>2</th>\n",
       "      <td>11534792</td>\n",
       "      <td>34200.189608</td>\n",
       "      <td>100</td>\n",
       "      <td>2237500</td>\n",
       "      <td>lb</td>\n",
       "      <td>2.0</td>\n",
       "      <td>34230.013300</td>\n",
       "      <td>74</td>\n",
       "      <td>2237500</td>\n",
       "      <td>c</td>\n",
       "      <td>5.0</td>\n",
       "    </tr>\n",
       "    <tr>\n",
       "      <th>3</th>\n",
       "      <td>1365373</td>\n",
       "      <td>34200.189608</td>\n",
       "      <td>13</td>\n",
       "      <td>2240000</td>\n",
       "      <td>la</td>\n",
       "      <td>4.0</td>\n",
       "      <td>34200.403006</td>\n",
       "      <td>13</td>\n",
       "      <td>2240000</td>\n",
       "      <td>mb</td>\n",
       "      <td>1.0</td>\n",
       "    </tr>\n",
       "    <tr>\n",
       "      <th>4</th>\n",
       "      <td>11474176</td>\n",
       "      <td>34200.189608</td>\n",
       "      <td>2</td>\n",
       "      <td>2236500</td>\n",
       "      <td>lb</td>\n",
       "      <td>3.0</td>\n",
       "      <td>34309.903928</td>\n",
       "      <td>2</td>\n",
       "      <td>2236500</td>\n",
       "      <td>ma</td>\n",
       "      <td>1.0</td>\n",
       "    </tr>\n",
       "  </tbody>\n",
       "</table>\n",
       "</div>"
      ],
      "text/plain": [
       "    OrderID       Time_st  V_st     P_st Label_st  Level_st       Time_ed  \\\n",
       "0  11885113  34200.189608    21  2238100       lb       1.0  34200.190226   \n",
       "1   3911376  34200.189608    20  2239600       la       2.0  34200.391413   \n",
       "2  11534792  34200.189608   100  2237500       lb       2.0  34230.013300   \n",
       "3   1365373  34200.189608    13  2240000       la       4.0  34200.403006   \n",
       "4  11474176  34200.189608     2  2236500       lb       3.0  34309.903928   \n",
       "\n",
       "   V_ed     P_ed Label_ed  Level_ed  \n",
       "0    21  2238100       ma       1.0  \n",
       "1    20  2239600       mb       1.0  \n",
       "2    74  2237500        c       5.0  \n",
       "3    13  2240000       mb       1.0  \n",
       "4     2  2236500       ma       1.0  "
      ]
     },
     "execution_count": 241,
     "metadata": {},
     "output_type": "execute_result"
    }
   ],
   "source": [
    "OE_df.head(5)"
   ]
  },
  {
   "cell_type": "code",
   "execution_count": 247,
   "metadata": {},
   "outputs": [
    {
     "data": {
      "text/html": [
       "<div>\n",
       "<style scoped>\n",
       "    .dataframe tbody tr th:only-of-type {\n",
       "        vertical-align: middle;\n",
       "    }\n",
       "\n",
       "    .dataframe tbody tr th {\n",
       "        vertical-align: top;\n",
       "    }\n",
       "\n",
       "    .dataframe thead th {\n",
       "        text-align: right;\n",
       "    }\n",
       "</style>\n",
       "<table border=\"1\" class=\"dataframe\">\n",
       "  <thead>\n",
       "    <tr style=\"text-align: right;\">\n",
       "      <th></th>\n",
       "      <th>OrderID</th>\n",
       "      <th>Time_st</th>\n",
       "      <th>V_st</th>\n",
       "      <th>P_st</th>\n",
       "      <th>Label_st</th>\n",
       "      <th>Level_st</th>\n",
       "      <th>Time_ed</th>\n",
       "      <th>V_ed</th>\n",
       "      <th>P_ed</th>\n",
       "      <th>Label_ed</th>\n",
       "      <th>Level_ed</th>\n",
       "    </tr>\n",
       "  </thead>\n",
       "  <tbody>\n",
       "    <tr>\n",
       "      <th>0</th>\n",
       "      <td>11534792</td>\n",
       "      <td>34200.189608</td>\n",
       "      <td>100</td>\n",
       "      <td>2237500</td>\n",
       "      <td>lb</td>\n",
       "      <td>2.0</td>\n",
       "      <td>34230.013300</td>\n",
       "      <td>74</td>\n",
       "      <td>2237500</td>\n",
       "      <td>c</td>\n",
       "      <td>5.0</td>\n",
       "    </tr>\n",
       "    <tr>\n",
       "      <th>1</th>\n",
       "      <td>4632045</td>\n",
       "      <td>34200.189608</td>\n",
       "      <td>100</td>\n",
       "      <td>2235000</td>\n",
       "      <td>lb</td>\n",
       "      <td>5.0</td>\n",
       "      <td>34318.955212</td>\n",
       "      <td>100</td>\n",
       "      <td>2235000</td>\n",
       "      <td>c</td>\n",
       "      <td>1.0</td>\n",
       "    </tr>\n",
       "    <tr>\n",
       "      <th>2</th>\n",
       "      <td>16206910</td>\n",
       "      <td>34200.393040</td>\n",
       "      <td>286</td>\n",
       "      <td>2236200</td>\n",
       "      <td>lb</td>\n",
       "      <td>3.0</td>\n",
       "      <td>34200.510747</td>\n",
       "      <td>286</td>\n",
       "      <td>2236200</td>\n",
       "      <td>c</td>\n",
       "      <td>3.0</td>\n",
       "    </tr>\n",
       "    <tr>\n",
       "      <th>3</th>\n",
       "      <td>16229815</td>\n",
       "      <td>34200.510832</td>\n",
       "      <td>286</td>\n",
       "      <td>2236300</td>\n",
       "      <td>lb</td>\n",
       "      <td>3.0</td>\n",
       "      <td>34200.516096</td>\n",
       "      <td>286</td>\n",
       "      <td>2236300</td>\n",
       "      <td>c</td>\n",
       "      <td>3.0</td>\n",
       "    </tr>\n",
       "    <tr>\n",
       "      <th>4</th>\n",
       "      <td>16230863</td>\n",
       "      <td>34200.516304</td>\n",
       "      <td>286</td>\n",
       "      <td>2236900</td>\n",
       "      <td>lb</td>\n",
       "      <td>2.0</td>\n",
       "      <td>34200.542125</td>\n",
       "      <td>286</td>\n",
       "      <td>2236900</td>\n",
       "      <td>c</td>\n",
       "      <td>2.0</td>\n",
       "    </tr>\n",
       "  </tbody>\n",
       "</table>\n",
       "</div>"
      ],
      "text/plain": [
       "    OrderID       Time_st  V_st     P_st Label_st  Level_st       Time_ed  \\\n",
       "0  11534792  34200.189608   100  2237500       lb       2.0  34230.013300   \n",
       "1   4632045  34200.189608   100  2235000       lb       5.0  34318.955212   \n",
       "2  16206910  34200.393040   286  2236200       lb       3.0  34200.510747   \n",
       "3  16229815  34200.510832   286  2236300       lb       3.0  34200.516096   \n",
       "4  16230863  34200.516304   286  2236900       lb       2.0  34200.542125   \n",
       "\n",
       "   V_ed     P_ed Label_ed  Level_ed  \n",
       "0    74  2237500        c       5.0  \n",
       "1   100  2235000        c       1.0  \n",
       "2   286  2236200        c       3.0  \n",
       "3   286  2236300        c       3.0  \n",
       "4   286  2236900        c       2.0  "
      ]
     },
     "execution_count": 247,
     "metadata": {},
     "output_type": "execute_result"
    }
   ],
   "source": [
    "OC_df.head(5)"
   ]
  },
  {
   "cell_type": "code",
   "execution_count": 225,
   "metadata": {},
   "outputs": [
    {
     "data": {
      "text/plain": [
       "Counter({'c': 59500, 'pc': 25})"
      ]
     },
     "execution_count": 225,
     "metadata": {},
     "output_type": "execute_result"
    }
   ],
   "source": [
    "counts_OC = Counter(OC_df['Label_ed'])\n",
    "counts_OC"
   ]
  },
  {
   "cell_type": "code",
   "execution_count": 226,
   "metadata": {},
   "outputs": [
    {
     "data": {
      "text/plain": [
       "Counter({'c': 461, 'ma': 2530, 'mb': 3494})"
      ]
     },
     "execution_count": 226,
     "metadata": {},
     "output_type": "execute_result"
    }
   ],
   "source": [
    "counts_OE = Counter(OE_df['Label_ed'])\n",
    "counts_OE"
   ]
  },
  {
   "cell_type": "code",
   "execution_count": 249,
   "metadata": {
    "collapsed": true
   },
   "outputs": [],
   "source": [
    "# OrderHistory"
   ]
  },
  {
   "cell_type": "code",
   "execution_count": null,
   "metadata": {
    "collapsed": true
   },
   "outputs": [],
   "source": []
  },
  {
   "cell_type": "code",
   "execution_count": null,
   "metadata": {
    "collapsed": true
   },
   "outputs": [],
   "source": []
  },
  {
   "cell_type": "code",
   "execution_count": null,
   "metadata": {
    "collapsed": true
   },
   "outputs": [],
   "source": []
  },
  {
   "cell_type": "code",
   "execution_count": null,
   "metadata": {
    "collapsed": true
   },
   "outputs": [],
   "source": []
  },
  {
   "cell_type": "code",
   "execution_count": null,
   "metadata": {
    "collapsed": true
   },
   "outputs": [],
   "source": []
  },
  {
   "cell_type": "code",
   "execution_count": null,
   "metadata": {
    "collapsed": true
   },
   "outputs": [],
   "source": []
  },
  {
   "cell_type": "code",
   "execution_count": null,
   "metadata": {
    "collapsed": true
   },
   "outputs": [],
   "source": []
  },
  {
   "cell_type": "code",
   "execution_count": null,
   "metadata": {
    "collapsed": true
   },
   "outputs": [],
   "source": []
  },
  {
   "cell_type": "markdown",
   "metadata": {},
   "source": [
    "## TESTING.... "
   ]
  },
  {
   "cell_type": "code",
   "execution_count": 196,
   "metadata": {},
   "outputs": [
    {
     "data": {
      "text/html": [
       "<div>\n",
       "<style scoped>\n",
       "    .dataframe tbody tr th:only-of-type {\n",
       "        vertical-align: middle;\n",
       "    }\n",
       "\n",
       "    .dataframe tbody tr th {\n",
       "        vertical-align: top;\n",
       "    }\n",
       "\n",
       "    .dataframe thead th {\n",
       "        text-align: right;\n",
       "    }\n",
       "</style>\n",
       "<table border=\"1\" class=\"dataframe\">\n",
       "  <thead>\n",
       "    <tr style=\"text-align: right;\">\n",
       "      <th></th>\n",
       "      <th>Name</th>\n",
       "      <th>Age</th>\n",
       "    </tr>\n",
       "  </thead>\n",
       "  <tbody>\n",
       "    <tr>\n",
       "      <th>0</th>\n",
       "      <td>Aaron</td>\n",
       "      <td>23</td>\n",
       "    </tr>\n",
       "    <tr>\n",
       "      <th>1</th>\n",
       "      <td>Ben</td>\n",
       "      <td>26</td>\n",
       "    </tr>\n",
       "  </tbody>\n",
       "</table>\n",
       "</div>"
      ],
      "text/plain": [
       "    Name Age\n",
       "0  Aaron  23\n",
       "1    Ben  26"
      ]
     },
     "execution_count": 196,
     "metadata": {},
     "output_type": "execute_result"
    }
   ],
   "source": [
    "d = pd.DataFrame(columns=['Name','Age'])\n",
    "ind = 0\n",
    "d.loc[ind] = ['Aaron',23]\n",
    "ind += 1\n",
    "d.loc[ind] = ['Ben',26]\n",
    "d"
   ]
  },
  {
   "cell_type": "code",
   "execution_count": 202,
   "metadata": {},
   "outputs": [
    {
     "name": "stdout",
     "output_type": "stream",
     "text": [
      "23405153\n",
      "34507.149459957\n",
      "[1, 1, 200, 2237400, 'lb', 3.0]\n",
      "34510.033355939\n",
      "[3, 1, 200, 2237400, 'c', 2.0]\n",
      "\n",
      "\n",
      "23405159\n",
      "34507.149553915\n",
      "[1, -1, 2, 2240900, 'la', 1.0]\n",
      "34507.149742697\n",
      "[3, -1, 2, 2240900, 'c', 1.0]\n",
      "\n",
      "\n"
     ]
    }
   ],
   "source": [
    "test_dict = {23405153: [{34507.149459957: [1, 1, 200, 2237400, 'lb', 3.0]},\n",
    "  {34510.033355939: [3, 1, 200, 2237400, 'c', 2.0]}],\n",
    " 23405159: [{34507.149553915: [1, -1, 2, 2240900, 'la', 1.0]},\n",
    "  {34507.149742697: [3, -1, 2, 2240900, 'c', 1.0]}]}\n",
    "\n",
    "for k, v in test_dict.items():\n",
    "    l = [k]\n",
    "    \n",
    "    print(k)\n",
    "    print(list(v[0].keys())[0])\n",
    "    print(list(v[0].values())[0])\n",
    "    print(list(v[-1].keys())[0])\n",
    "    print(list(v[-1].values())[0])\n",
    "    print('\\n')\n",
    "    \n",
    "    l.append(list(v[0].keys())[0]) \n",
    "    l.extend(list(v[0].values())[0])\n",
    "    l.append(list(v[-1].keys())[0])\n",
    "    l.extend(list(v[-1].values())[0])\n",
    "#     print(l)\n",
    "#     print(len(l))"
   ]
  },
  {
   "cell_type": "code",
   "execution_count": null,
   "metadata": {
    "collapsed": true
   },
   "outputs": [],
   "source": []
  },
  {
   "cell_type": "code",
   "execution_count": null,
   "metadata": {
    "collapsed": true
   },
   "outputs": [],
   "source": []
  },
  {
   "cell_type": "code",
   "execution_count": null,
   "metadata": {
    "collapsed": true
   },
   "outputs": [],
   "source": []
  },
  {
   "cell_type": "markdown",
   "metadata": {},
   "source": [
    "### Testing"
   ]
  },
  {
   "cell_type": "code",
   "execution_count": 131,
   "metadata": {},
   "outputs": [
    {
     "data": {
      "text/plain": [
       "[1, 900]"
      ]
     },
     "execution_count": 131,
     "metadata": {},
     "output_type": "execute_result"
    }
   ],
   "source": [
    "L = [1,900]\n",
    "M = L[::len(L)-1]\n",
    "M"
   ]
  },
  {
   "cell_type": "code",
   "execution_count": null,
   "metadata": {
    "collapsed": true
   },
   "outputs": [],
   "source": []
  }
 ],
 "metadata": {
  "kernelspec": {
   "display_name": "Python 3",
   "language": "python",
   "name": "python3"
  },
  "language_info": {
   "codemirror_mode": {
    "name": "ipython",
    "version": 3
   },
   "file_extension": ".py",
   "mimetype": "text/x-python",
   "name": "python",
   "nbconvert_exporter": "python",
   "pygments_lexer": "ipython3",
   "version": "3.6.3"
  }
 },
 "nbformat": 4,
 "nbformat_minor": 2
}

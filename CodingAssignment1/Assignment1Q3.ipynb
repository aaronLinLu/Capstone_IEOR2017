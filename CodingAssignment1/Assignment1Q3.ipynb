{
 "cells": [
  {
   "cell_type": "code",
   "execution_count": 27,
   "metadata": {
    "collapsed": true
   },
   "outputs": [],
   "source": [
    "import warnings\n",
    "warnings.filterwarnings('ignore') # Filter out warnings\n",
    "import numpy as np\n",
    "import pandas as pd\n",
    "import numpy as np\n",
    "import pandas as pd\n",
    "import random as rnd\n",
    "import matplotlib.pyplot as plt\n",
    "%matplotlib inline\n",
    "from matplotlib.pylab import rcParams\n",
    "from scipy import stats\n",
    "import math"
   ]
  },
  {
   "cell_type": "code",
   "execution_count": 28,
   "metadata": {
    "collapsed": true
   },
   "outputs": [],
   "source": [
    "trade_path = 'trade.csv'\n",
    "quote_path = 'quote.csv'\n",
    "df_quote = pd.read_csv(quote_path)\n",
    "df_trade = pd.read_csv(trade_path) "
   ]
  },
  {
   "cell_type": "code",
   "execution_count": 29,
   "metadata": {
    "collapsed": true
   },
   "outputs": [],
   "source": [
    "df_trade['NEW_TIME'] = df_trade['DATE'].map(str) + str(\"  \")+ df_trade['TIME_M'].map(str)\n",
    "#df_trade.head(5)"
   ]
  },
  {
   "cell_type": "code",
   "execution_count": 30,
   "metadata": {
    "collapsed": true
   },
   "outputs": [],
   "source": [
    "df_quote['NEW_TIME'] = df_quote['DATE'].map(str) + str(\"  \")+ df_quote['TIME_M'].map(str)\n",
    "#df_quote.head(5)"
   ]
  },
  {
   "cell_type": "code",
   "execution_count": 31,
   "metadata": {
    "collapsed": true
   },
   "outputs": [],
   "source": [
    "#df_trade.columns.values\n",
    "#df_quote.columns.values"
   ]
  },
  {
   "cell_type": "code",
   "execution_count": 32,
   "metadata": {},
   "outputs": [
    {
     "name": "stdout",
     "output_type": "stream",
     "text": [
      "Originally, quote and trade csv each has 173887, 5875 rows.\n"
     ]
    }
   ],
   "source": [
    "print(\"Originally, quote and trade csv each has {}, {} rows.\".format(len(df_quote.index),len(df_trade.index)))"
   ]
  },
  {
   "cell_type": "code",
   "execution_count": 33,
   "metadata": {},
   "outputs": [
    {
     "name": "stdout",
     "output_type": "stream",
     "text": [
      "after cleaning, now quote csv has 172115 rows.\n"
     ]
    }
   ],
   "source": [
    "# remove rows in the quote data where ASK=0 or BID=0 \n",
    "df_quote = df_quote[df_quote['ASK']>0][df_quote['BID']>0][df_quote['BIDSIZ']>0][df_quote['ASKSIZ']>0]\n",
    "# add a new time column\n",
    "df_quote['Time'] = pd.to_datetime(df_quote['NEW_TIME'])\n",
    "df_quote = df_quote.sort_values(by='Time').reset_index()\n",
    "# add a spread column\n",
    "df_quote['Spread'] = df_quote['ASK']-df_quote['BID']\n",
    "print(\"after cleaning, now quote csv has {} rows.\".format(len(df_quote.index)))"
   ]
  },
  {
   "cell_type": "code",
   "execution_count": 34,
   "metadata": {
    "collapsed": true
   },
   "outputs": [],
   "source": [
    "# df_trade = df_trade.loc[df_trade['DATE']==20160104]\n",
    "# add a new time column\n",
    "df_trade['Time'] = pd.to_datetime(df_trade['NEW_TIME'])\n",
    "df_trade = df_trade.sort_values(by='Time').reset_index()"
   ]
  },
  {
   "cell_type": "markdown",
   "metadata": {},
   "source": [
    "## Problem 3: 1) design a statistical test for Roll's model"
   ]
  },
  {
   "cell_type": "markdown",
   "metadata": {},
   "source": [
    "#### We are only looking at transcation happening between 9：30 and 12:30 on Jan.4th, 2016."
   ]
  },
  {
   "cell_type": "code",
   "execution_count": 35,
   "metadata": {},
   "outputs": [
    {
     "name": "stdout",
     "output_type": "stream",
     "text": [
      "there are 61 intervals.\n"
     ]
    }
   ],
   "source": [
    "# specify a timeframe\n",
    "time_range = pd.date_range(start='2016-01-04 09:30',end='2016-01-04 15:30',periods=None,freq='0.1H')\n",
    "print(\"there are {} intervals.\".format(len(time_range.tolist())))"
   ]
  },
  {
   "cell_type": "code",
   "execution_count": 36,
   "metadata": {
    "collapsed": true
   },
   "outputs": [],
   "source": [
    "Spread_list, Cov_list = [], []\n",
    "for i in range(len(time_range)-1):\n",
    "    s = df_quote[(df_quote['Time']>time_range[i])&(df_quote['Time']<time_range[i+1])].Spread.mean()\n",
    "    Spread_list.append(s)\n",
    "    \n",
    "    p_diff = df_trade[(df_trade['Time']>time_range[i])&(df_trade['Time']<time_range[i+1])].PRICE.diff().values\n",
    "    Cov = np.corrcoef(p_diff[1:len(p_diff)-1],p_diff[2:len(p_diff)])[0,1]\n",
    "    Cov_list.append(2*np.sqrt(np.abs(Cov)))"
   ]
  },
  {
   "cell_type": "code",
   "execution_count": 80,
   "metadata": {},
   "outputs": [
    {
     "name": "stdout",
     "output_type": "stream",
     "text": [
      "the p-value of the t test result is 1.1528482086579586e-11 .\n"
     ]
    }
   ],
   "source": [
    "# run the t-test\n",
    "Result = stats.ttest_ind(Spread_list,Cov_list)\n",
    "print(\"the p-value of the t test result is {} .\".format(Result[1]))"
   ]
  },
  {
   "cell_type": "markdown",
   "metadata": {},
   "source": [
    "### Conclusion: Because the p-value is very close to 0 (way smaller than 0.05), we conclude that Roll's model doesn't fit with the data we used."
   ]
  },
  {
   "cell_type": "markdown",
   "metadata": {},
   "source": [
    "##  2) design a statistical test for the generalized Roll's model"
   ]
  },
  {
   "cell_type": "markdown",
   "metadata": {},
   "source": [
    "#### cov(d_i,d_i-1) = -(s/2)*(lambda+s/2) ....[1] and var(d) = (s/2)^2 + (s/2+lambda)^2 + var(u)....[2]\n",
    "#### where u: variance of non-trade information term; lambda: info content about trade"
   ]
  },
  {
   "cell_type": "code",
   "execution_count": 81,
   "metadata": {
    "collapsed": true
   },
   "outputs": [],
   "source": [
    "start = '2016-01-04 09:30'\n",
    "end = '2016-01-04 15:30'\n",
    "new_trade = df_trade[(df_trade['Time']>=start)&(df_trade['Time']<=end)]"
   ]
  },
  {
   "cell_type": "markdown",
   "metadata": {},
   "source": [
    "#### suppose we know var(u), then plug equation [1] into [2],\n",
    "#### then var(d)=(s/2)^2 + (cov(d_i,d_i-1)/(-s/2))^2 + var(u) ... [3], and we can get estimated s from [3]\n",
    "#### which is estimated_s = sqrt( 2*(var(d)-var(u)) +/- 2*sqrt( (var(d)-var(u))^2 - 4*cov(d_i,d_i-1)  ) )"
   ]
  },
  {
   "cell_type": "markdown",
   "metadata": {},
   "source": [
    "### Reasoning: for a couple of assumed var_u, calculate estimated_spread for each var_u, find the best fit to the real spread (by running statistical test), then the best var_u will give us the best lambda"
   ]
  },
  {
   "cell_type": "code",
   "execution_count": 112,
   "metadata": {
    "collapsed": true
   },
   "outputs": [],
   "source": [
    "var_u_list = [0.6,0.4,0.3,0.1,0.05,0.01,0.005,0.001,0.0005,0.0001,0]\n",
    "Result_dict = dict()  # {var_u: p_value}\n",
    "\n",
    "for var_u in var_u_list:\n",
    "    s_hat_list = []\n",
    "    \n",
    "    # Get estimated spread\n",
    "    for i in range(len(time_range)-1):\n",
    "        # compute cov(d_i,d_i-1) term\n",
    "        p_diff = df_trade[(df_trade['Time']>time_range[i])&(df_trade['Time']<time_range[i+1])].PRICE.diff().values  \n",
    "        cov = np.corrcoef(p_diff[1:len(p_diff)-1],p_diff[2:len(p_diff)])[0,1]\n",
    "        # compute var(d) term\n",
    "        var_d = np.var(p_diff[1:])\n",
    "        # compute estimated_s\n",
    "        s_hat = math.sqrt(2*(var_d-var_u)+2*np.sqrt((var_d-var_u)**2-4*cov))\n",
    "        s_hat_list.append(s_hat)\n",
    "        # compute the corresponding lambda_hat\n",
    "        lambda_hat = ((-cov)/(s_hat/2))-(s_hat/2)  \n",
    "        #lambda_hat = np.sqrt(var_d - var_u - (s_hat/2)**2)-s_hat/2\n",
    "    \n",
    "    # replace nan with 0! \n",
    "    for (i, item) in enumerate(s_hat_list):\n",
    "        if math.isnan(item):\n",
    "            s_hat_list[i] = 0.00\n",
    "    \n",
    "    # compare it with real spread\n",
    "    r = stats.ttest_ind(Spread_list,s_hat_list)\n",
    "    Result_dict[var_u] = r[1],lambda_hat"
   ]
  },
  {
   "cell_type": "code",
   "execution_count": 114,
   "metadata": {},
   "outputs": [
    {
     "name": "stdout",
     "output_type": "stream",
     "text": [
      "var_u: 0.6, (p_value,lambda_hat): (3.3820165292057212e-11, -0.08651616646006477)\n",
      "var_u: 0.4, (p_value,lambda_hat): (7.5418399739238733e-09, -0.17324839204442416)\n",
      "var_u: 0.3, (p_value,lambda_hat): (1.3234439784712371e-07, -0.22059808216624305)\n",
      "var_u: 0.1, (p_value,lambda_hat): (4.3876928359647279e-05, -0.32273730757483637)\n",
      "var_u: 0.05, (p_value,lambda_hat): (0.00017857558644884277, -0.34959407265208725)\n",
      "var_u: 0.01, (p_value,lambda_hat): (0.00053069155772554079, -0.37137966221697738)\n",
      "var_u: 0.005, (p_value,lambda_hat): (0.00060651927752655623, -0.37411963081237543)\n",
      "var_u: 0.001, (p_value,lambda_hat): (0.00067460360106771141, -0.37631411743500182)\n",
      "var_u: 0.0005, (p_value,lambda_hat): (0.00068361498323359408, -0.37658858313263438)\n",
      "var_u: 0.0001, (p_value,lambda_hat): (0.00069090744863192733, -0.37680818029486335)\n",
      "var_u: 0, (p_value,lambda_hat): (0.00069274223673362412, -0.3768630829976905)\n"
     ]
    }
   ],
   "source": [
    "# visualize our result\n",
    "for k,v in Result_dict.items():\n",
    "    print(\"var_u: {}, (p_value,lambda_hat): {}\".format(k,v))"
   ]
  },
  {
   "cell_type": "markdown",
   "metadata": {},
   "source": [
    "### Conclusion: When lambda=-0.3768, var_u=0.0001, Generalized Roll's model fits the best. In general, it fits a lot better than the Roll's model."
   ]
  },
  {
   "cell_type": "markdown",
   "metadata": {},
   "source": [
    "## 3) test for Markov Chain"
   ]
  },
  {
   "cell_type": "code",
   "execution_count": null,
   "metadata": {
    "collapsed": true
   },
   "outputs": [],
   "source": []
  }
 ],
 "metadata": {
  "kernelspec": {
   "display_name": "Python 3",
   "language": "python",
   "name": "python3"
  },
  "language_info": {
   "codemirror_mode": {
    "name": "ipython",
    "version": 3
   },
   "file_extension": ".py",
   "mimetype": "text/x-python",
   "name": "python",
   "nbconvert_exporter": "python",
   "pygments_lexer": "ipython3",
   "version": "3.6.3"
  }
 },
 "nbformat": 4,
 "nbformat_minor": 2
}
